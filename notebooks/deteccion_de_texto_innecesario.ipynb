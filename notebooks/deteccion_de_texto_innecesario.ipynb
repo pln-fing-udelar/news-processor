{
  "cells": [
    {
      "cell_type": "markdown",
      "metadata": {
        "id": "-1XkQmRMelQm"
      },
      "source": [
        "# Deteccion de texto innecesario\n",
        "\n",
        "Este archivo busca ir mostrando noticias con ciertas palabras. frases o caracteres no deseados. y la logica implementada para su eliminacion\n"
      ]
    },
    {
      "cell_type": "markdown",
      "metadata": {
        "id": "TBOeUDNKfOQs"
      },
      "source": [
        "## elpais20140911184708Noticias.txt"
      ]
    },
    {
      "cell_type": "code",
      "execution_count": 1,
      "metadata": {
        "colab": {
          "base_uri": "https://localhost:8080/"
        },
        "id": "pQZM_OXDedXV",
        "outputId": "051d320e-92f2-4596-96c5-67123b3d0c38"
      },
      "outputs": [],
      "source": [
        "# Estos archivos estan en la raiz del repositorio, NO ESTAN SUBIDOS.\n",
        "# Son el resultado de una primera extraccion de los textos y alguna correccion.\n",
        "archivo_el_pais_1 = '../elpais20140911184708Noticias-ORIGINAL.txt'"
      ]
    },
    {
      "cell_type": "code",
      "execution_count": 2,
      "metadata": {},
      "outputs": [
        {
          "name": "stdout",
          "output_type": "stream",
          "text": [
            "Defaulting to user installation because normal site-packages is not writeable\n",
            "Requirement already satisfied: Unidecode in /home/mago/.local/lib/python3.10/site-packages (1.3.6)\n"
          ]
        }
      ],
      "source": [
        "! pip install Unidecode"
      ]
    },
    {
      "cell_type": "code",
      "execution_count": 3,
      "metadata": {},
      "outputs": [],
      "source": [
        "import re\n",
        "from unidecode import unidecode"
      ]
    },
    {
      "cell_type": "code",
      "execution_count": 4,
      "metadata": {
        "colab": {
          "base_uri": "https://localhost:8080/"
        },
        "id": "nn2Frn_C3eic",
        "outputId": "b711179b-53a5-4005-cc38-ddc169211067"
      },
      "outputs": [],
      "source": [
        "def sanitice_text(txt):\n",
        "\n",
        "  # estoy interesado en obtener todos los caracteres que no sean:\n",
        "\n",
        "  # 1. ASCII\n",
        "  whiteList = '\\x00-\\x7F'\n",
        "\n",
        "  # 2. ¿ ¡ tildes y enies\n",
        "  whiteList += '¿¡À-ÿñÑ'\n",
        "\n",
        "  regex = r'[^{}]'.format(whiteList)\n",
        "  patt = re.compile(regex)\n",
        "\n",
        "  sanitice_char = lambda c: unidecode(c) if patt.match(c) else c\n",
        "  \n",
        "  return \"\".join([sanitice_char(c) for c in txt])"
      ]
    },
    {
      "cell_type": "markdown",
      "metadata": {
        "id": "o1FeBki_3x77"
      },
      "source": [
        "Ejemplo de sanitizacion\n"
      ]
    },
    {
      "cell_type": "code",
      "execution_count": 5,
      "metadata": {
        "colab": {
          "base_uri": "https://localhost:8080/"
        },
        "id": "gXVEGEh931TX",
        "outputId": "cd99bf53-d3d3-4d48-a77f-02625b241c25"
      },
      "outputs": [
        {
          "name": "stdout",
          "output_type": "stream",
          "text": [
            "Hola, este es un texto multilinea.\n",
            "\n",
            "\"¡¿había 'existido' `<dudas>`?!\" François 85deg ----EUR-$-Y=\n",
            "\n",
            "Saludos,\n",
            "  JP.\n",
            "\n"
          ]
        }
      ],
      "source": [
        "txt = \"\"\"Hola, este es un texto multilinea.\n",
        "\n",
        "“¡¿había ‘existido’ `<dudas>`?!” François 85° ✔️-❤️-💲-😎-€-$-¥\n",
        "\n",
        "Saludos,\n",
        "  JP.\n",
        "\"\"\"\n",
        "\n",
        "print(sanitice_text(txt))"
      ]
    },
    {
      "cell_type": "code",
      "execution_count": 6,
      "metadata": {
        "colab": {
          "base_uri": "https://localhost:8080/"
        },
        "id": "wSfPAWiafR9i",
        "outputId": "610182e8-a9b2-4068-ecca-cbb373c54487"
      },
      "outputs": [
        {
          "name": "stdout",
          "output_type": "stream",
          "text": [
            "120692\n"
          ]
        }
      ],
      "source": [
        "reader = open(archivo_el_pais_1, \"r+\")\n",
        "lines = reader.readlines()\n",
        "print(len(lines))"
      ]
    },
    {
      "cell_type": "code",
      "execution_count": 7,
      "metadata": {},
      "outputs": [
        {
          "data": {
            "text/plain": [
              "'- Nacional La formación de docentes en la región es \"deficiente\" Un estudio internacional que incluye a Uruguay, asegura que son escasos los maestros que demuestran talento Personas poco talentosas, con falta de preparación y pertenecientes a sectores carenciados. Esas características se atribuyen a los docentes latinoamericanos en un estudio internacional, en el que se establece que la enseñanza que imparten \"ha empeorado\" y que además perjudica especialmente a los sectores de menores rec'"
            ]
          },
          "execution_count": 7,
          "metadata": {},
          "output_type": "execute_result"
        }
      ],
      "source": [
        "lines[0][:500]"
      ]
    },
    {
      "cell_type": "markdown",
      "metadata": {},
      "source": [
        "### Chequeo caracteres con codificacion incorrecta: eñes y tildes"
      ]
    },
    {
      "cell_type": "code",
      "execution_count": 8,
      "metadata": {},
      "outputs": [
        {
          "name": "stdout",
          "output_type": "stream",
          "text": [
            "False\n",
            "False\n"
          ]
        }
      ],
      "source": [
        "print('además' == 'además')\n",
        "print('á' == 'á')"
      ]
    },
    {
      "cell_type": "code",
      "execution_count": 9,
      "metadata": {},
      "outputs": [
        {
          "name": "stdout",
          "output_type": "stream",
          "text": [
            "False\n",
            "False\n"
          ]
        }
      ],
      "source": [
        "print('Varieté' == 'Varieté')\n",
        "print('é' == 'é')"
      ]
    },
    {
      "cell_type": "code",
      "execution_count": 10,
      "metadata": {},
      "outputs": [
        {
          "name": "stdout",
          "output_type": "stream",
          "text": [
            "False\n",
            "False\n"
          ]
        }
      ],
      "source": [
        "print('características' == 'características')\n",
        "print('í' == 'í')"
      ]
    },
    {
      "cell_type": "code",
      "execution_count": 11,
      "metadata": {},
      "outputs": [
        {
          "name": "stdout",
          "output_type": "stream",
          "text": [
            "False\n",
            "False\n"
          ]
        }
      ],
      "source": [
        "print('formación' == 'formación')\n",
        "print('ó' == 'ó')"
      ]
    },
    {
      "cell_type": "code",
      "execution_count": 12,
      "metadata": {},
      "outputs": [
        {
          "name": "stdout",
          "output_type": "stream",
          "text": [
            "False\n",
            "False\n"
          ]
        }
      ],
      "source": [
        "print('según' == 'según')\n",
        "print('ú' == 'ú')"
      ]
    },
    {
      "cell_type": "code",
      "execution_count": 13,
      "metadata": {},
      "outputs": [
        {
          "name": "stdout",
          "output_type": "stream",
          "text": [
            "False\n",
            "False\n"
          ]
        }
      ],
      "source": [
        "print('enseñanza' == 'enseñanza')\n",
        "print('ñ' == 'ñ')"
      ]
    },
    {
      "cell_type": "code",
      "execution_count": 14,
      "metadata": {},
      "outputs": [
        {
          "data": {
            "text/plain": [
              "False"
            ]
          },
          "execution_count": 14,
          "metadata": {},
          "output_type": "execute_result"
        }
      ],
      "source": [
        "'ñ'.upper() == 'Ñ'"
      ]
    },
    {
      "cell_type": "markdown",
      "metadata": {},
      "source": [
        "#### Aplico correcciones"
      ]
    },
    {
      "cell_type": "code",
      "execution_count": 15,
      "metadata": {},
      "outputs": [
        {
          "data": {
            "text/plain": [
              "{'á': 'á',\n",
              " 'é': 'é',\n",
              " 'í': 'í',\n",
              " 'ó': 'ó',\n",
              " 'ú': 'ú',\n",
              " 'ñ': 'ñ',\n",
              " 'Á': 'Á',\n",
              " 'É': 'É',\n",
              " 'Í': 'Í',\n",
              " 'Ó': 'Ó',\n",
              " 'Ú': 'Ú',\n",
              " 'Ñ': 'Ñ'}"
            ]
          },
          "execution_count": 15,
          "metadata": {},
          "output_type": "execute_result"
        }
      ],
      "source": [
        "replace_dict = {\n",
        "        'á': 'á',\n",
        "        'é': 'é',\n",
        "        'í': 'í',\n",
        "        'ó': 'ó',\n",
        "        'ú': 'ú',\n",
        "        'ñ': 'ñ',\n",
        "        'Á': 'Á',\n",
        "        'É': 'É',\n",
        "        'Í': 'Í',\n",
        "        'Ó': 'Ó',\n",
        "        'Ú': 'Ú',\n",
        "        'Ñ': 'Ñ'\n",
        "        }\n",
        "replace_dict"
      ]
    },
    {
      "cell_type": "code",
      "execution_count": 16,
      "metadata": {},
      "outputs": [
        {
          "data": {
            "text/plain": [
              "'- Nacional La formación de docentes en la región es \"deficiente\" Un estudio internacional que incluye a Uruguay, asegura que son escasos los maestros que demuestran talento Personas poco talentosas, con falta de preparación y pertenecientes a sectores carenciados. Esas características se atribuyen a los docentes latinoamericanos en un estudio internacional, en el que se establece que la enseñanza que imparten \"ha empeorado\" y que además perjudica especialmente a los sectores de menores rec'"
            ]
          },
          "execution_count": 16,
          "metadata": {},
          "output_type": "execute_result"
        }
      ],
      "source": [
        "str_example = lines[0][:500]\n",
        "for original, replacement in replace_dict.items():\n",
        "  str_example = str_example.replace(original, replacement)\n",
        "str_example"
      ]
    },
    {
      "cell_type": "code",
      "execution_count": 17,
      "metadata": {},
      "outputs": [
        {
          "data": {
            "text/plain": [
              "True"
            ]
          },
          "execution_count": 17,
          "metadata": {},
          "output_type": "execute_result"
        }
      ],
      "source": [
        "# chequeo\n",
        "str_example[:23] == '- Nacional La formación'"
      ]
    },
    {
      "cell_type": "code",
      "execution_count": 18,
      "metadata": {
        "id": "yBUjUGd87Xzf"
      },
      "outputs": [
        {
          "name": "stdout",
          "output_type": "stream",
          "text": [
            "á\n",
            "é\n",
            "í\n",
            "ó\n",
            "ú\n",
            "ñ\n",
            "Á\n",
            "É\n",
            "Í\n",
            "Ó\n",
            "Ú\n",
            "Ñ\n",
            "saniticing\n"
          ]
        }
      ],
      "source": [
        "auxiliar_full_lines = ''.join(lines)\n",
        "# reemplazo tildes\n",
        "\n",
        "replace_dict = {\n",
        "        'á': 'á',\n",
        "        'é': 'é',\n",
        "        'í': 'í',\n",
        "        'ó': 'ó',\n",
        "        'ú': 'ú',\n",
        "        'ñ': 'ñ',\n",
        "        'Á': 'Á',\n",
        "        'É': 'É',\n",
        "        'Í': 'Í',\n",
        "        'Ó': 'Ó',\n",
        "        'Ú': 'Ú',\n",
        "        'Ñ': 'Ñ'\n",
        "        }\n",
        "\n",
        "for original, replacement in replace_dict.items():\n",
        "  print(replacement)\n",
        "  auxiliar_full_lines = auxiliar_full_lines.replace(original, replacement)\n",
        "\n",
        "#sanitizo\n",
        "print('saniticing')\n",
        "auxiliar_full_lines = sanitice_text(auxiliar_full_lines)"
      ]
    },
    {
      "cell_type": "code",
      "execution_count": 21,
      "metadata": {
        "colab": {
          "base_uri": "https://localhost:8080/",
          "height": 110
        },
        "id": "vwXFe5IB7kfG",
        "outputId": "48a5f959-44af-4133-e5bc-aa40aa5ebc4a"
      },
      "outputs": [
        {
          "data": {
            "text/plain": [
              "'- Nacional La formación de docentes en la región es \"deficiente\" Un estudio internacional que incluye a Uruguay, asegura que son escasos los maestros que demuestran talento Personas poco talentosas, con falta de preparación y pertenecientes a sectores carenciados. Esas características se atribuyen a los docentes latinoamericanos en un estudio internacional, en el que se establece que la enseñanza que imparten \"ha empeorado\" y que además perjudica especialmente a los sectores de menores recursos. El diagnóstico, que abarca a países de América Latina -entre ellos a Uruguay- coincide con la apreciación que el año pasado realizó el vicepresidente del Consejo Directivo Central (Codicen), José Pedro Barrán, sobre la realidad de los docentes del país. El 29 de setiembre del año pasado en el Parlamento, Barrán aseguró que en Uruguay es \"muy difícil conseguir un docente de calidad\" porque \"los candidatos que se presentan son los menos calificados académicamente\". Además, indicó que \"como los s'"
            ]
          },
          "execution_count": 21,
          "metadata": {},
          "output_type": "execute_result"
        }
      ],
      "source": [
        "auxiliar_full_lines[:999]"
      ]
    },
    {
      "cell_type": "markdown",
      "metadata": {
        "id": "79Z-uHCbgpxP"
      },
      "source": [
        "### Texto \"Utilidades\" al final"
      ]
    },
    {
      "cell_type": "code",
      "execution_count": 22,
      "metadata": {
        "colab": {
          "base_uri": "https://localhost:8080/"
        },
        "id": "-hSpq1yCfd6c",
        "outputId": "58e596f1-cb6a-495a-c32f-9b548a9cebca"
      },
      "outputs": [
        {
          "name": "stdout",
          "output_type": "stream",
          "text": [
            "Encuesta de popularidad de equipos NANDO PARRADO Como se preveía, en la encuesta realizada por la FIA, sobre la popularidad de los equipos de F1, Ferrari está indiscutiblemente al tope. En segundo lugar y no demasiado lejos, está McLaren, en tercer lugar está Renault, cuarto está Williams y en quinto lugar está Honda. Lo que más me ha llamado la atención, es la baja popularidad de equipos como el Red Bull y Toyota, que con sus inversiones multimillonarias, apenas logran un 1% y 2% de los votos respectivamente. No sé si estas inversiones realmente se justifican, si frente a la recordación de los aficionados, solamente logran ese pequeño porcentaje. No debemos olvidar que la fascinación de las grandes marcas en F1, se ha contraído a lo largo de varias décadas, con grandes carreras, estupendos triunfos y la colaboración de inolvidables pilotos en cada una de ellas. Grandes constructores, siempre han tenido grandes motores y grandes pilotos, para lograr ese aura de leyendas. Tal vez dentro de unos cuantos años, Red Bull de F1, pueda erizar los pelos de un aficionado, si ha logrado varios campeonatos del mundo y haya tenido asociaciones como Fangio-Ferrari, Senna-McLaren, Lauda-Ferrari, Stewart-Tyrrel, Prost-McLaren, Clark-Lotus... No le suenan mejor que Liuzzi-Red Bull?  Utilidades\n",
            "\n"
          ]
        }
      ],
      "source": [
        "print(lines[91063])"
      ]
    },
    {
      "cell_type": "markdown",
      "metadata": {
        "id": "y2v401mzgYID"
      },
      "source": [
        "Encuesta de popularidad de equipos NANDO PARRADO Como se preveía, en la encuesta realizada por la FIA, sobre la popularidad de los equipos de F1, Ferrari está indiscutiblemente al tope. En segundo lugar y no demasiado lejos, está McLaren, en tercer lugar está Renault, cuarto está Williams y en quinto lugar está Honda. Lo que más me ha llamado la atención, es la baja popularidad de equipos como el Red Bull y Toyota, que con sus inversiones multimillonarias, apenas logran un 1% y 2% de los votos respectivamente. No sé si estas inversiones realmente se justifican, si frente a la recordación de los aficionados, solamente logran ese pequeño porcentaje. No debemos olvidar que la fascinación de las grandes marcas en F1, se ha contraído a lo largo de varias décadas, con grandes carreras, estupendos triunfos y la colaboración de inolvidables pilotos en cada una de ellas. Grandes constructores, siempre han tenido grandes motores y grandes pilotos, para lograr ese aura de leyendas. Tal vez dentro de unos cuantos años, Red Bull de F1, pueda erizar los pelos de un aficionado, si ha logrado varios campeonatos del mundo y haya tenido asociaciones como Fangio-Ferrari, Senna-McLaren, Lauda-Ferrari, Stewart-Tyrrel, Prost-McLaren, Clark-Lotus... No le suenan mejor que Liuzzi-Red Bull?  **Utilidades**\n"
      ]
    },
    {
      "cell_type": "markdown",
      "metadata": {
        "id": "nGMF3fPuEyVH"
      },
      "source": [
        "#### Solucion"
      ]
    },
    {
      "cell_type": "code",
      "execution_count": 23,
      "metadata": {
        "colab": {
          "base_uri": "https://localhost:8080/"
        },
        "id": "nbFhRHP-oiSA",
        "outputId": "b6c75106-e832-4f91-b83d-b74e244ffd21"
      },
      "outputs": [
        {
          "name": "stdout",
          "output_type": "stream",
          "text": [
            "21611\n",
            "21607\n",
            "4\n",
            "['Utilidades del estu', 'Utilidades garantiz', 'Utilidades de El Pa', 'Utilidades, Arudur,']\n"
          ]
        }
      ],
      "source": [
        "str_text = auxiliar_full_lines\n",
        "# cantidad de ocurrencias con texto Utilidades\n",
        "pattern = r\"Utilidades\"\n",
        "results = re.findall(pattern, str_text)\n",
        "print(len(results))\n",
        "\n",
        "# cantidad de ocurrencias con texto Utilidades y salto de linea\n",
        "pattern_1 = r\"Utilidades\\n\"\n",
        "results_1 = re.findall(pattern_1, str_text)\n",
        "print(len(results_1))\n",
        "\n",
        "# Analizo la diferencia y si tendria que tenerlo en cuenta\n",
        "pattern_difference = r\"Utilidades.........\"\n",
        "results_d = re.findall(pattern_difference, str_text)\n",
        "print(len(results_d))\n",
        "print(results_d)"
      ]
    },
    {
      "cell_type": "code",
      "execution_count": 24,
      "metadata": {
        "colab": {
          "base_uri": "https://localhost:8080/"
        },
        "id": "mi2DJAqc9xdu",
        "outputId": "a6b50048-cfe2-4d39-9dc6-f3c30b5ba548"
      },
      "outputs": [
        {
          "name": "stdout",
          "output_type": "stream",
          "text": [
            "Encuesta de popularidad de equipos NANDO PARRADO Como se preveía, en la encuesta realizada por la FIA, sobre la popularidad de los equipos de F1, Ferrari está indiscutiblemente al tope. En segundo lugar y no demasiado lejos, está McLaren, en tercer lugar está Renault, cuarto está Williams y en quinto lugar está Honda. Lo que más me ha llamado la atención, es la baja popularidad de equipos como el Red Bull y Toyota, que con sus inversiones multimillonarias, apenas logran un 1% y 2% de los votos respectivamente. No sé si estas inversiones realmente se justifican, si frente a la recordación de los aficionados, solamente logran ese pequeño porcentaje. No debemos olvidar que la fascinación de las grandes marcas en F1, se ha contraído a lo largo de varias décadas, con grandes carreras, estupendos triunfos y la colaboración de inolvidables pilotos en cada una de ellas. Grandes constructores, siempre han tenido grandes motores y grandes pilotos, para lograr ese aura de leyendas. Tal vez dentro de unos cuantos años, Red Bull de F1, pueda erizar los pelos de un aficionado, si ha logrado varios campeonatos del mundo y haya tenido asociaciones como Fangio-Ferrari, Senna-McLaren, Lauda-Ferrari, Stewart-Tyrrel, Prost-McLaren, Clark-Lotus... No le suenan mejor que Liuzzi-Red Bull?  \n"
          ]
        }
      ],
      "source": [
        "replace_pattern = r\"Utilidades\\n\"\n",
        "result = re.sub(replace_pattern, '', lines[91063])  \n",
        "print(result)"
      ]
    },
    {
      "cell_type": "code",
      "execution_count": 25,
      "metadata": {
        "colab": {
          "base_uri": "https://localhost:8080/"
        },
        "id": "UFgZ7yfDSIM-",
        "outputId": "68856a41-7cb8-42e4-bc65-fd9bc4d8caaa"
      },
      "outputs": [
        {
          "name": "stdout",
          "output_type": "stream",
          "text": [
            "4\n",
            "0\n"
          ]
        }
      ],
      "source": [
        "# analisis de recorrer todo el texto\n",
        "replace_pattern = r\"Utilidades\\n\"\n",
        "total_result = re.sub(replace_pattern, '', str_text)  \n",
        "\n",
        "# cantidad de ocurrencias con texto Utilidades\n",
        "pattern = r\"Utilidades\"\n",
        "results = re.findall(pattern, total_result)\n",
        "print(len(results))\n",
        "\n",
        "# cantidad de ocurrencias con texto Utilidades y salto de linea\n",
        "pattern_1 = r\"Utilidades\\n\"\n",
        "results_1 = re.findall(pattern_1, total_result)\n",
        "print(len(results_1))\n"
      ]
    },
    {
      "cell_type": "markdown",
      "metadata": {
        "id": "zvyvTFP8h-rl"
      },
      "source": [
        "### Caracteres extranios"
      ]
    },
    {
      "cell_type": "markdown",
      "metadata": {},
      "source": [
        "Los casos con el texto extranio se van a eliminar"
      ]
    },
    {
      "cell_type": "code",
      "execution_count": 26,
      "metadata": {
        "colab": {
          "base_uri": "https://localhost:8080/"
        },
        "id": "y-IKCmayh3UN",
        "outputId": "d721e5d7-e6c0-42f0-930c-65da54c21915"
      },
      "outputs": [
        {
          "name": "stdout",
          "output_type": "stream",
          "text": [
            "delincuencia | En Col�n cacerolearon vecinos y comerciantes | Medidas de seguridad en Casab� donde fue asesinado un chofer de �mnibus | Reclamos desde Salto y Artigas Inseguridad genera m�ltiples reclamos GUSTAVO TRINIDAD El Ministerio del Interior enfrenta varios reclamos de seguridad por parte de vecinos de distintas zonas de Montevideo �como el Cerro, Col�n, Casab� y Sayago�, as� como del interior del pa�s, donde se realizaron movilizaciones en Artigas, Salto y Rocha. La situaci�n en algunos barrios es insostenible y en varias zonas de Montevideo los vecinos se est�n organizando para protegerse de los delincuentes. Ayer los vecinos y comerciantes de Col�n y otros barrios cercanos hicieron una protesta en la avenida Garz�n. \"No m�s impunidad en la delincuencia juvenil\", exig�an en sus pancartas y ped�an que se revise el C�digo de la Ni�ez y la Adolescencia que, seg�n dicen, \"protege a los delincuentes juveniles\". Jorge Ruglio, integrante de la Asociaci�n de Comerciantes de Col�n, dijo a El Pa�s que los vecinos y comerciantes son v�ctimas permanentes de robos en la zona, donde los menores son siempre protagonistas. \"Si hacemos una encuesta entre los que estamos en esta movilizaci�n, a nueve de cada diez los asaltaron\", dijo el comerciante. En la protesta hubo entre 100 y 150 personas. Se repartieron volantes y se escuch� una caceroleada. Muchos conductores que pasaron por el lugar se sumaron al reclamo haciendo sonar la bocina de sus coches. \"Trabajador agobiado. Delincuente impune\", dec�a uno de los carteles. La movilizaci�n fue convocada por la \"comisi�n de inseguridad\", creada en el barrio Col�n, para ocuparse de estos problemas. Ruglio agreg� que la intenci�n de la movilizaci�n es \"sensibilizar a las autoridades\" y que \"el parlamento haga un cambio urgente de la ley que protege a los delincuentes juveniles, que incluso est� siendo explotada por los mayores\". Juan Faroppa, subsecretario del Ministerio del Interior, plante� los reclamos de seguridad en el Consejo de Ministros de ayer de ma�ana y dijo estar preocupado por la lentitud con que ingresan funcionarios a la fuerza policial. Afirm� que solo en el departamento de Montevideo hay 300 vacantes. TRANSPORTE. Adem�s de las protestas barriales, el gremio que re�ne a los trabajadores del transporte contin�a reclamando en�rgicamente medidas contra las rapi�as que sufren en algunas zonas de Montevideo, como por ejemplo en el barrio Casab�. En este sentido y a pesar del operativo implementado en Casab� desde ayer en la ma�ana para dar seguridad a los transportistas, se registr� un intento de rapi�a contra un �mnibus de recorrido 137 de Cutcsa. Un joven armado no pudo consumar el asalto y se dio a la fuga sin el dinero de la recaudaci�n. Ayer el despacho del subsecretario de ministerio del Interior, Juan Faroppa, tuvo una agitada tarde recibiendo a representantes de Unott y del barrio Casab�. Jos� D�az, titular de la cartera, se encuentra de licencia. Ruth Melgarejo, de la comisi�n de vecinos de Casab�, dijo a El Pa�s que el ministerio ofreci� medidas de seguridad transitorias: \"Camionetas policiales paradas en determinados lugares, lo que se esta planteando en t�rminos definitivos es una garita policial en la terminal de �mnibus y otra m�s o menos a la altura de donde mataron al conductor\". Luego de la reuni�n con el ministro interino, los transportistas realizaron una asamblea para resolver si a partir de hoy se reestablec�an los servicios normales de �mnibus en Casab� o si continuaban interrumpiendo el trayecto, por razones de seguridad, antes de la terminal. El jueves los vecinos volver�n a acudir al ministerio y el subsecretario Juan Faroppa se comprometi� a visitar el barrio el viernes a las 20 horas. Una reuni�n que Faroppa ten�a prevista ayer con los comerciantes y vecinos de Col�n se suspendi� porque estos dijeron que no ten�an nada m�s que hablar con las autoridades y s�lo esperan las medidas necesarias para devolverle \"la m�nima seguridad a la zona\". FALTAN 300. Consultado sobre la aplicacion de m�quinas expendedoras de boletos para quitar el dinero en efectivo de los �mnibus Faroppa aclar� que \"son medidas que deben discutirse en la Comisi�n de Seguridad en el Transporte porque hay aspectos que hacen a las relaciones laborales entre trabajadores y empresas en las que nosotros no tenemos competencia constitucional\", dijo. Con respecto a las medidas de reforzar la seguridad con m�s patrullaje y presencia de efectivos el subsecretario expres� que no quiere tomar acciones que finalmente se aplican por pocos d�as, ya que la falta de medios y funcionarios no permite otra cosa. \"Lo que nosotros no vamos a hacer desde el gobierno y desde el Ministerio del Interior es vender bolsas de humo a la gente. Nosotros no diremos que vamos a generar un mayor patrullaje, vamos a poner m�s polic�as en la calle, vamos a hacer esto, vamos a hacer lo otro, porque hemos visto, que cada vez que sucede un hecho desgraciado como �ste, esos son los primeros anuncios que se salen a hacer. Podemos implementar un mayor patrullaje de saturaci�n en la zona, pero eso dura dos, tres, cuatro d�as, y despu�s todo va volviendo a la normalidad\". Sobre esto agreg� que la intenci�n es \"ir apuntando a las medidas de fondo, que tienen que ver con un replanteamiento total de los servicios policiales\". La decisi�n del Ministerio del Interior, seg�n indic�, es que estos nuevos polic�as que ingresen refuercen las seccionales policiales de los barrios de la periferia de Montevideo. \"Sabemos que en aquellos barrios donde vive la gente m�s humilde, se requiere una mayor presencia policial, porque la gente que menos recursos solamente puede aspirar a la polic�a como la garant�a de su seguridad\". LA PASTA. El joven de 19 a�os que ultimara de un tiro al conductor de Raincoop Washington Piaggio (56) y que ya est� tras las rejas, hab�a rapi�ado a un repartidor en la tarde del viernes y seg�n dijo a los polic�as, con ese dinero compr� pasta base. El segundo atraco, al �mnibus, lo hac�a desesperado por el s�ndrome de abstinencia que esa droga genera. En una reuni�n mantenida el domingo con los vecinos de Casab�, el comisario de la Seccional 24a. Jorge G�mez, inst� a que los vecinos que saben donde est�n las \"bocas\" de venta de esta droga pierdan el temor a las represalias y las denuncien. Melgarejo respondi� que la propia operativa policial ayuda a que los vecinos no se animen a denunciar. \"Yo denunci� a una persona que se estaba llevando un televisor al hombro y que es un conocido delincuente de la zona y los patrulleros vinieron directo a mi casa por lo que despu�s fui v�ctima de amenazas; as� es dif�cil que la gente del barrio se anime a colaborar denunciando lo que sabe\", expres� la vecina. L�mites a uso de la fuerza por vecinos El domingo cuando se cumpl�a la asamblea entre vecinos de Casab� representantes de Unott y de la Polic�a, un vecino reparti� entre la prensa un volante que anuncia la creaci�n de un grupo autodenominado \"Aguilas Justicieras\", como informara El Pa�s ayer. En ese volante se amenaza con hacer justicia por mano propia contra delincuentes y familiares de estos. El subsecretario del Ministerio del Interior, Juan Faroppa indic� ayer que \"no es aceptable en un Estado de Derecho ning�n tipo de organizaci�n particular que pretenda hacer uso de mecanismos de coacci�n o mecanismos de protecci�n\". \"Creemos que los vecinos tienen mucho que hacer para contribuir a mejorar las condiciones de seguridad\", indic�, \"pero lo que no deben hacer, y nosotros no tenemos ninguna intenci�n de tolerar, es que se organicen grupos de vecinos que puedan cumplir tareas que est�n al margen de la ley. Vamos a decirlo con todas las palabras y con todas las letras: la �nica responsabilidad en la aplicaci�n de la fuerza leg�tima es del Estado a partir y a trav�s de la Polic�a Nacional\". Los problemas que trae el C�digo CAMBIO Desde el 24 de setiembre de 2005 el nuevo Codigo de la Ni�ez y la Adolescencia comenz� a ser aplicado en Uruguay. OPINION El ministro interino del Interior, Juan Faroppa, reconoci� ayer que \"hay normas del C�digo que no se est�n aplicando correctamente\". chequeo La detenci�n la efect�a la Polic�a, que tiene un plazo de dos horas para indagar al menor pero en ese plazo tambi�n debe llevarlo a un hospital de Salud P�blica para un chequeo m�dico general. vehiculos Luego de eso, el Inau debe hacerse cargo del adolescente y trasladarlo al juzgado, el problema es que el Inau la mayor�a de las veces no tiene locomoci�n para esos traslados. ILICITOS La Polic�a cuenta con escaso margen de tiempo para indagar, por ejemplo, il�citos cometidos por adolescentes. INFORMES Los t�cnicos de Inau deben elaborar informes en tiempo r�cord sobre la situaci�n general del infractor antes de que el juez resuelva sentencia. SENTENCIA Los jueces de adolescentes y de familia disponen de 30 d�as para fijar una sentencia luego de haber estudiado en profundidad la situaci�n del menor.\n",
            "\n"
          ]
        }
      ],
      "source": [
        "print(lines[35479])"
      ]
    },
    {
      "cell_type": "markdown",
      "metadata": {
        "id": "cR8erKEmkcQW"
      },
      "source": [
        "### Texto \"Vota por esta noticia:\" al final"
      ]
    },
    {
      "cell_type": "code",
      "execution_count": 27,
      "metadata": {
        "colab": {
          "base_uri": "https://localhost:8080/"
        },
        "id": "Wfai4TbbkZdL",
        "outputId": "91d74fab-6f9e-4eb9-83d3-b92e51351605"
      },
      "outputs": [
        {
          "name": "stdout",
          "output_type": "stream",
          "text": [
            "MATÍAS CASTRO Aunque las salas de cine anticipan más y más secuelas de sagas multimillonarias, este año irrumpirán algunas producciones que apuntan al entretenimiento masivo y que arrancan de cero. Pero no se trata de apuestas originales. Iron Man 3 ha recaudado 102 millones de dólares en funciones en Latinoamérica. Si a esto se le suma la taquilla del resto del planeta, se verá que en este período el film suma 678 millones de dólares. Y todavía tiene varias semanas más de exhibición. Esta es la prueba más reciente y caliente de que las sagas cinematográficas con grandes efectos especiales son el gran fenómeno de inicios del siglo XXI para el cine. Pero no todo son continuaciones, afortunadamente. Porque también hay películas que presentan personajes nuevos e historias diferentes y que... parecen apuntar a generar nuevas sagas. Durante la última década Hollywood ha buscado apoyarse en franquicias reconocidas, para generar secuelas y negocios crecientes. Progresivamente, las películas de Piratas del Caribe, Transformers o Harry Potter fueron recaudando cada vez más dinero. La consecuencia de esto es que año a año los espectadores ven en el verano del norte, otoño e invierno del Río de la Plata, una andanada de costosas películas de entretenimientos que son continuaciones. Este año aparecen tres grandes excepciones a la regla que, aunque parezca paradójico, cumplen con varios preceptos de la industria. Por un lado está Titanes del Pacífico, de Guillermo del Toro. Luego está El Llanero Solitario, del equipo de Piratas del Caribe. Y por el otro la costosa y problemática Guerra Mundial Z, protagonizada por Brad Pitt. El quiebre de la regla que plantean es que no se apoyan en personajes conocidos y son historias nuevas para el cine. El punto común que mantienen es que se trata de producciones de despliegue que apuntan al entretenimiento masivo, la acción y a los efectos especiales. De las tres la única que tiene una idea más o menos original y poco (o nada) explorada por el cine estadounidense, es Titanes del Pacífico. Dirigida por Guillermo del Toro, se ambienta en un futuro cercano y cuenta el enfrentamiento entre una raza de monstruos gigantes que surgen del Océano Pacífico y los seres humanos, que utilizan enormes robots tripulados. La propuesta, hasta ahora, parecía más apta para una película japonesa que para una producción de Hollywood, pero tras el éxito de Transformers los productores apuntan a un público ya familiarizado con esta clase de fantasías. Por otra parte, el hecho de que dirija el mexicano Guillermo del Toro (El laberinto del Fauno, Hellboy 1 y 2), le asegura un ritmo y una estética casi de autor. Trailer: Pacific Rim En el contexto actual, apuestas como esa son consideradas un riesgo, al menos para los productores y los estudios. El año pasado John Carter, que se basaba en una serie de novelas pero que para el público en general era nuevo, fue un total fracaso. La consecuencia fue que el siguiente paso del director Andrew Stanton fue meterse de lleno a preparar la secuela de su exitosísima Buscando a Nemo. Hollywood puede dar grandes oportunidades pero también es el centro de una industria que vive del éxito. Si no hay éxito, hay problemas. La que se apoya en un éxito probado es Guerra Mundial Z, con Brad Pitt. Cuenta la historia de un agente de las Naciones Unidas que recorre el mundo en medio de una epidemia de zombis, intentando buscar una cura. Se basa en una novela de Max Brooks, el hijo de Mel Brooks, quien logró un enorme éxito editorial en Estados Unidos. La novela es un tanto distinta ya que trata de un agente de las Naciones Unidas que recorre el mundo entrevistando protagonistas clave durante el estallido, clímax y conclusión de la epidemia zombi. De esa forma cada capítulo es una entrevista o un testimonio literal independiente y la narración central trata, en realidad, sobre cómo el planeta enfrentó el asunto. Trailer: Guerra Mundial Z La película costó, según algunos reportes, unos 400 millones de dólares, lo que la convertiría en la producción más cara estrenada después de Avatar. Hay muchas versiones encontradas en torno a esta película. Brad Pitt compró los derechos de la novela hace cinco años. El guión fue escrito y reescrito numerosas veces, cosa relativamente normal en Hollywood. En este caso, además, hubo cambios de último momento, decisiones drásticas sobre la historia y reelaboraciones sobre el tramo final del film, impulsados supuestamente porque no había acuerdo ni satisfacción con lo que se había hecho. Además, iba a ser estrenada en diciembre pero Paramount resolvió posponerla y concentrarse en el lanzamiento de Jack Reacher, con Tom Cruise. Y, además, de esa forma, al estrenarla a mediados de año la colocan en medio de la mayor zafra de las boleterías. El Llanero Solitario, por su lado, retoma al viejo y querido personaje, dirigido por Gore Verbinsky, el de Piratas del Caribe. El giro, esta vez, es evidente ya que a pesar del título, el peso está en manos de Toro, el indio que encarna Johnny Depp. No hay dudas de que si funciona (y es probable que lo haga), habrá más Llanero y Toro para las futuras vacaciones de invierno. Trailer: El Llanero Solitario Se vienen más secuelas de viejos éxitos A lo largo de los próximos meses, comenzando desde las próximas semanas, los cines volverán a albergar una andanada de producciones estadounidenses caras que continúan aventuras previas y que recaudaron muchísimo dinero en todo el mundo. La que llega el último viernes de este mes es ¿Qué pasó ayer? 3 anunciado final de las aventuras del grupo de amigos que en cada despedida de solteros terminan en las situaciones más disparatadas imaginables. En este caso los avances insinúan que la historia conectará con personajes y situaciones de las dos primeras películas, pero a una escala mucho mayor. En agosto llegará a Uruguay Star Trek hacia la oscuridad, dirigida por J. J. Abrams, continuando la historia de la película anterior y enlazando con la saga de Viaje a las estrellas. Habrá más superhéroes en el camino, ya que se verá en la segunda mitad del año Thor, un mundo oscuro, que sigue las aventuras del personaje de Marvel Comics. Y en pocas semanas llegará Rápido y furioso 6, continuación que, a diferencia de otras sextas partes, fue hecha con más dinero y despliegue aún. No todo será cosa de adultos y explosiones, sino que habrá secuelas para niños. Llegarán Monsters University, secuela de Monsters Inc. y Mi villano favorito 2. Dos viejos personajes que se recrean desde este año El Llanero Solitario apareció por primera vez en un programa radial de 1933, creado por el libretista Fran Striker. Ha conocido las más variadas versiones, desde los seriales de cine hasta los dibujos animados, las historietas y las series de televisión. Su regreso al cine supone un rescate interesante de un clásico querido por generaciones más veteranas pero no exactamente una apuesta a la originalidad. Lo mismo sucede con El hombre de acero, la nueva película de Superman que se estrenará en junio. Esta vez el británico Christopher Nolan y el director estadounidense Zack Snyder apuntan a relanzar al superhéroe más famoso de todos, con una aproximación que promete ser más realista y épica al mismo tiempo. Son dos franquicias viejas que se relanzan a lo grande dentro de los próximos meses. Vota por esta noticia:\n",
            "\n"
          ]
        }
      ],
      "source": [
        "print(lines[43765])"
      ]
    },
    {
      "cell_type": "markdown",
      "metadata": {
        "id": "ys3JUqAqkpVP"
      },
      "source": [
        "MATÍAS CASTRO Aunque las salas de cine anticipan más y más secuelas de sagas multimillonarias, este año irrumpirán algunas producciones que apuntan al entretenimiento masivo y que arrancan de cero. Pero no se trata de apuestas originales. Iron Man 3 ha recaudado 102 millones de dólares en funciones en Latinoamérica. Si a esto se le suma la taquilla del resto del planeta, se verá que en este período el film suma 678 millones de dólares. Y todavía tiene varias semanas más de exhibición. Esta es la prueba más reciente y caliente de que las sagas cinematográficas con grandes efectos especiales son el gran fenómeno de inicios del siglo XXI para el cine. Pero no todo son continuaciones, afortunadamente. Porque también hay películas que presentan personajes nuevos e historias diferentes y que... parecen apuntar a generar nuevas sagas. Durante la última década Hollywood ha buscado apoyarse en franquicias reconocidas, para generar secuelas y negocios crecientes. Progresivamente, las películas de Piratas del Caribe, Transformers o Harry Potter fueron recaudando cada vez más dinero. La consecuencia de esto es que año a año los espectadores ven en el verano del norte, otoño e invierno del Río de la Plata, una andanada de costosas películas de entretenimientos que son continuaciones. Este año aparecen tres grandes excepciones a la regla que, aunque parezca paradójico, cumplen con varios preceptos de la industria. Por un lado está Titanes del Pacífico, de Guillermo del Toro. Luego está El Llanero Solitario, del equipo de Piratas del Caribe. Y por el otro la costosa y problemática Guerra Mundial Z, protagonizada por Brad Pitt. El quiebre de la regla que plantean es que no se apoyan en personajes conocidos y son historias nuevas para el cine. El punto común que mantienen es que se trata de producciones de despliegue que apuntan al entretenimiento masivo, la acción y a los efectos especiales. De las tres la única que tiene una idea más o menos original y poco (o nada) explorada por el cine estadounidense, es Titanes del Pacífico. Dirigida por Guillermo del Toro, se ambienta en un futuro cercano y cuenta el enfrentamiento entre una raza de monstruos gigantes que surgen del Océano Pacífico y los seres humanos, que utilizan enormes robots tripulados. La propuesta, hasta ahora, parecía más apta para una película japonesa que para una producción de Hollywood, pero tras el éxito de Transformers los productores apuntan a un público ya familiarizado con esta clase de fantasías. Por otra parte, el hecho de que dirija el mexicano Guillermo del Toro (El laberinto del Fauno, Hellboy 1 y 2), le asegura un ritmo y una estética casi de autor. Trailer: Pacific Rim En el contexto actual, apuestas como esa son consideradas un riesgo, al menos para los productores y los estudios. El año pasado John Carter, que se basaba en una serie de novelas pero que para el público en general era nuevo, fue un total fracaso. La consecuencia fue que el siguiente paso del director Andrew Stanton fue meterse de lleno a preparar la secuela de su exitosísima Buscando a Nemo. Hollywood puede dar grandes oportunidades pero también es el centro de una industria que vive del éxito. Si no hay éxito, hay problemas. La que se apoya en un éxito probado es Guerra Mundial Z, con Brad Pitt. Cuenta la historia de un agente de las Naciones Unidas que recorre el mundo en medio de una epidemia de zombis, intentando buscar una cura. Se basa en una novela de Max Brooks, el hijo de Mel Brooks, quien logró un enorme éxito editorial en Estados Unidos. La novela es un tanto distinta ya que trata de un agente de las Naciones Unidas que recorre el mundo entrevistando protagonistas clave durante el estallido, clímax y conclusión de la epidemia zombi. De esa forma cada capítulo es una entrevista o un testimonio literal independiente y la narración central trata, en realidad, sobre cómo el planeta enfrentó el asunto. Trailer: Guerra Mundial Z La película costó, según algunos reportes, unos 400 millones de dólares, lo que la convertiría en la producción más cara estrenada después de Avatar. Hay muchas versiones encontradas en torno a esta película. Brad Pitt compró los derechos de la novela hace cinco años. El guión fue escrito y reescrito numerosas veces, cosa relativamente normal en Hollywood. En este caso, además, hubo cambios de último momento, decisiones drásticas sobre la historia y reelaboraciones sobre el tramo final del film, impulsados supuestamente porque no había acuerdo ni satisfacción con lo que se había hecho. Además, iba a ser estrenada en diciembre pero Paramount resolvió posponerla y concentrarse en el lanzamiento de Jack Reacher, con Tom Cruise. Y, además, de esa forma, al estrenarla a mediados de año la colocan en medio de la mayor zafra de las boleterías. El Llanero Solitario, por su lado, retoma al viejo y querido personaje, dirigido por Gore Verbinsky, el de Piratas del Caribe. El giro, esta vez, es evidente ya que a pesar del título, el peso está en manos de Toro, el indio que encarna Johnny Depp. No hay dudas de que si funciona (y es probable que lo haga), habrá más Llanero y Toro para las futuras vacaciones de invierno. Trailer: El Llanero Solitario Se vienen más secuelas de viejos éxitos A lo largo de los próximos meses, comenzando desde las próximas semanas, los cines volverán a albergar una andanada de producciones estadounidenses caras que continúan aventuras previas y que recaudaron muchísimo dinero en todo el mundo. La que llega el último viernes de este mes es ¿Qué pasó ayer? 3 anunciado final de las aventuras del grupo de amigos que en cada despedida de solteros terminan en las situaciones más disparatadas imaginables. En este caso los avances insinúan que la historia conectará con personajes y situaciones de las dos primeras películas, pero a una escala mucho mayor. En agosto llegará a Uruguay Star Trek hacia la oscuridad, dirigida por J. J. Abrams, continuando la historia de la película anterior y enlazando con la saga de Viaje a las estrellas. Habrá más superhéroes en el camino, ya que se verá en la segunda mitad del año Thor, un mundo oscuro, que sigue las aventuras del personaje de Marvel Comics. Y en pocas semanas llegará Rápido y furioso 6, continuación que, a diferencia de otras sextas partes, fue hecha con más dinero y despliegue aún. No todo será cosa de adultos y explosiones, sino que habrá secuelas para niños. Llegarán Monsters University, secuela de Monsters Inc. y Mi villano favorito 2. Dos viejos personajes que se recrean desde este año El Llanero Solitario apareció por primera vez en un programa radial de 1933, creado por el libretista Fran Striker. Ha conocido las más variadas versiones, desde los seriales de cine hasta los dibujos animados, las historietas y las series de televisión. Su regreso al cine supone un rescate interesante de un clásico querido por generaciones más veteranas pero no exactamente una apuesta a la originalidad. Lo mismo sucede con El hombre de acero, la nueva película de Superman que se estrenará en junio. Esta vez el británico Christopher Nolan y el director estadounidense Zack Snyder apuntan a relanzar al superhéroe más famoso de todos, con una aproximación que promete ser más realista y épica al mismo tiempo. Son dos franquicias viejas que se relanzan a lo grande dentro de los próximos meses. `Vota por esta noticia:`\n"
      ]
    },
    {
      "cell_type": "markdown",
      "metadata": {
        "id": "wN9Ipw9bFCKo"
      },
      "source": [
        "#### Solucion"
      ]
    },
    {
      "cell_type": "code",
      "execution_count": 28,
      "metadata": {
        "colab": {
          "base_uri": "https://localhost:8080/"
        },
        "id": "9hH2roW6PgdU",
        "outputId": "52e858ec-798f-4eae-af10-eedc3dd1fedf"
      },
      "outputs": [
        {
          "name": "stdout",
          "output_type": "stream",
          "text": [
            "41814\n",
            "40527\n",
            "1287\n",
            "del sábado 9. Vota por esta noticia: vea el v\n",
            "ercado local. Vota por esta noticia: CASO SUÁ\n",
            "e nuevo otra. Vota por esta noticia: vea el v\n",
            "mo Municipal. Vota por esta noticia: BARCELON\n",
            "n maduración. Vota por esta noticia: BARCELON\n",
            " la tonelada. Vota por esta noticia: CASO SUÁ\n",
            "ra los toros. Vota por esta noticia: vea el v\n",
            "ráfico: BE .  Vota por esta noticia: CASO SUÁ\n",
            "8,7 millones. Vota por esta noticia: COPA Lib\n",
            "ercado local. Vota por esta noticia: COPA Lib\n",
            "la epilepsia. Vota por esta noticia: COPA Lib\n",
            "do de muerte. Vota por esta noticia: BARCELON\n",
            "500 dólares\". Vota por esta noticia: BARCELON\n",
            "do trimestre. Vota por esta noticia: vea el v\n",
            "ga click aquí Vota por esta noticia: COPA Lib\n",
            "solucionarlo. Vota por esta noticia: BARCELON\n",
            "ricas Km. 18. Vota por esta noticia: vea el v\n",
            "inistrativa.  Vota por esta noticia: A - NOTI\n",
            "as ediciones. Vota por esta noticia: COPA Lib\n",
            "l suministro. Vota por esta noticia: BARCELON\n"
          ]
        }
      ],
      "source": [
        "str_text = auxiliar_full_lines\n",
        "# cantidad de ocurrencias con texto Vota por esta noticia\n",
        "pattern = r\"Vota por esta noticia:\"\n",
        "results = re.findall(pattern, str_text)\n",
        "print(len(results))\n",
        "\n",
        "# cantidad de ocurrencias con texto -Vota por esta noticia- y salto de linea\n",
        "pattern_1 = r\"Vota por esta noticia:\\n\"\n",
        "results_1 = re.findall(pattern_1, str_text)\n",
        "print(len(results_1))\n",
        "\n",
        "# # Analizo la diferencia y si tendria que tenerlo en cuenta\n",
        "pattern_difference = r\"..............Vota por esta noticia:.........\"\n",
        "results_d = re.findall(pattern_difference, str_text)\n",
        "print(len(results_d))\n",
        "for example in results_d[:20]:\n",
        "  print(example)\n",
        "\n",
        "## CONCLUSION - tengo que eliminar todos, aunque no esten al final"
      ]
    },
    {
      "cell_type": "code",
      "execution_count": 29,
      "metadata": {
        "colab": {
          "base_uri": "https://localhost:8080/"
        },
        "id": "BsNs6nmePgdV",
        "outputId": "17f8d499-4658-4d88-c56c-45ceb658f43f"
      },
      "outputs": [
        {
          "name": "stdout",
          "output_type": "stream",
          "text": [
            "MATÍAS CASTRO Aunque las salas de cine anticipan más y más secuelas de sagas multimillonarias, este año irrumpirán algunas producciones que apuntan al entretenimiento masivo y que arrancan de cero. Pero no se trata de apuestas originales. Iron Man 3 ha recaudado 102 millones de dólares en funciones en Latinoamérica. Si a esto se le suma la taquilla del resto del planeta, se verá que en este período el film suma 678 millones de dólares. Y todavía tiene varias semanas más de exhibición. Esta es la prueba más reciente y caliente de que las sagas cinematográficas con grandes efectos especiales son el gran fenómeno de inicios del siglo XXI para el cine. Pero no todo son continuaciones, afortunadamente. Porque también hay películas que presentan personajes nuevos e historias diferentes y que... parecen apuntar a generar nuevas sagas. Durante la última década Hollywood ha buscado apoyarse en franquicias reconocidas, para generar secuelas y negocios crecientes. Progresivamente, las películas de Piratas del Caribe, Transformers o Harry Potter fueron recaudando cada vez más dinero. La consecuencia de esto es que año a año los espectadores ven en el verano del norte, otoño e invierno del Río de la Plata, una andanada de costosas películas de entretenimientos que son continuaciones. Este año aparecen tres grandes excepciones a la regla que, aunque parezca paradójico, cumplen con varios preceptos de la industria. Por un lado está Titanes del Pacífico, de Guillermo del Toro. Luego está El Llanero Solitario, del equipo de Piratas del Caribe. Y por el otro la costosa y problemática Guerra Mundial Z, protagonizada por Brad Pitt. El quiebre de la regla que plantean es que no se apoyan en personajes conocidos y son historias nuevas para el cine. El punto común que mantienen es que se trata de producciones de despliegue que apuntan al entretenimiento masivo, la acción y a los efectos especiales. De las tres la única que tiene una idea más o menos original y poco (o nada) explorada por el cine estadounidense, es Titanes del Pacífico. Dirigida por Guillermo del Toro, se ambienta en un futuro cercano y cuenta el enfrentamiento entre una raza de monstruos gigantes que surgen del Océano Pacífico y los seres humanos, que utilizan enormes robots tripulados. La propuesta, hasta ahora, parecía más apta para una película japonesa que para una producción de Hollywood, pero tras el éxito de Transformers los productores apuntan a un público ya familiarizado con esta clase de fantasías. Por otra parte, el hecho de que dirija el mexicano Guillermo del Toro (El laberinto del Fauno, Hellboy 1 y 2), le asegura un ritmo y una estética casi de autor. Trailer: Pacific Rim En el contexto actual, apuestas como esa son consideradas un riesgo, al menos para los productores y los estudios. El año pasado John Carter, que se basaba en una serie de novelas pero que para el público en general era nuevo, fue un total fracaso. La consecuencia fue que el siguiente paso del director Andrew Stanton fue meterse de lleno a preparar la secuela de su exitosísima Buscando a Nemo. Hollywood puede dar grandes oportunidades pero también es el centro de una industria que vive del éxito. Si no hay éxito, hay problemas. La que se apoya en un éxito probado es Guerra Mundial Z, con Brad Pitt. Cuenta la historia de un agente de las Naciones Unidas que recorre el mundo en medio de una epidemia de zombis, intentando buscar una cura. Se basa en una novela de Max Brooks, el hijo de Mel Brooks, quien logró un enorme éxito editorial en Estados Unidos. La novela es un tanto distinta ya que trata de un agente de las Naciones Unidas que recorre el mundo entrevistando protagonistas clave durante el estallido, clímax y conclusión de la epidemia zombi. De esa forma cada capítulo es una entrevista o un testimonio literal independiente y la narración central trata, en realidad, sobre cómo el planeta enfrentó el asunto. Trailer: Guerra Mundial Z La película costó, según algunos reportes, unos 400 millones de dólares, lo que la convertiría en la producción más cara estrenada después de Avatar. Hay muchas versiones encontradas en torno a esta película. Brad Pitt compró los derechos de la novela hace cinco años. El guión fue escrito y reescrito numerosas veces, cosa relativamente normal en Hollywood. En este caso, además, hubo cambios de último momento, decisiones drásticas sobre la historia y reelaboraciones sobre el tramo final del film, impulsados supuestamente porque no había acuerdo ni satisfacción con lo que se había hecho. Además, iba a ser estrenada en diciembre pero Paramount resolvió posponerla y concentrarse en el lanzamiento de Jack Reacher, con Tom Cruise. Y, además, de esa forma, al estrenarla a mediados de año la colocan en medio de la mayor zafra de las boleterías. El Llanero Solitario, por su lado, retoma al viejo y querido personaje, dirigido por Gore Verbinsky, el de Piratas del Caribe. El giro, esta vez, es evidente ya que a pesar del título, el peso está en manos de Toro, el indio que encarna Johnny Depp. No hay dudas de que si funciona (y es probable que lo haga), habrá más Llanero y Toro para las futuras vacaciones de invierno. Trailer: El Llanero Solitario Se vienen más secuelas de viejos éxitos A lo largo de los próximos meses, comenzando desde las próximas semanas, los cines volverán a albergar una andanada de producciones estadounidenses caras que continúan aventuras previas y que recaudaron muchísimo dinero en todo el mundo. La que llega el último viernes de este mes es ¿Qué pasó ayer? 3 anunciado final de las aventuras del grupo de amigos que en cada despedida de solteros terminan en las situaciones más disparatadas imaginables. En este caso los avances insinúan que la historia conectará con personajes y situaciones de las dos primeras películas, pero a una escala mucho mayor. En agosto llegará a Uruguay Star Trek hacia la oscuridad, dirigida por J. J. Abrams, continuando la historia de la película anterior y enlazando con la saga de Viaje a las estrellas. Habrá más superhéroes en el camino, ya que se verá en la segunda mitad del año Thor, un mundo oscuro, que sigue las aventuras del personaje de Marvel Comics. Y en pocas semanas llegará Rápido y furioso 6, continuación que, a diferencia de otras sextas partes, fue hecha con más dinero y despliegue aún. No todo será cosa de adultos y explosiones, sino que habrá secuelas para niños. Llegarán Monsters University, secuela de Monsters Inc. y Mi villano favorito 2. Dos viejos personajes que se recrean desde este año El Llanero Solitario apareció por primera vez en un programa radial de 1933, creado por el libretista Fran Striker. Ha conocido las más variadas versiones, desde los seriales de cine hasta los dibujos animados, las historietas y las series de televisión. Su regreso al cine supone un rescate interesante de un clásico querido por generaciones más veteranas pero no exactamente una apuesta a la originalidad. Lo mismo sucede con El hombre de acero, la nueva película de Superman que se estrenará en junio. Esta vez el británico Christopher Nolan y el director estadounidense Zack Snyder apuntan a relanzar al superhéroe más famoso de todos, con una aproximación que promete ser más realista y épica al mismo tiempo. Son dos franquicias viejas que se relanzan a lo grande dentro de los próximos meses. \n",
            "\n"
          ]
        }
      ],
      "source": [
        "replace_pattern = r\"Vota por esta noticia:\"\n",
        "result = re.sub(replace_pattern, '', lines[43765])  \n",
        "print(result)"
      ]
    },
    {
      "cell_type": "markdown",
      "metadata": {
        "id": "my0ZEYNulZXL"
      },
      "source": [
        "### Texto \"Escribe tu comentario\" al final\n",
        "### Texto con formato :: texto ::"
      ]
    },
    {
      "cell_type": "code",
      "execution_count": 30,
      "metadata": {
        "colab": {
          "base_uri": "https://localhost:8080/"
        },
        "id": "50GrGb_RlcrZ",
        "outputId": "dc1e828e-d5ff-4e33-80b9-5fa962fafcc8"
      },
      "outputs": [
        {
          "name": "stdout",
          "output_type": "stream",
          "text": [
            "Los albivioletas volvieron a robarle puntos al aurinegro, aunque esta vez no los tres. Fue empate a 1 el día del retorno de Antonio Pacheco. :: Último Momento :: Aseguran que sería \"inadecuado\" e \"ineficaz\" porque el Estado no puede controlar y ser parte a la vez. :: Nacional :: El MPP impulsará un juicio político contra la SCJ por la declaración de inconstitucional de una ley de octubre de 2011 que dejó sin efecto la ley la Caducidad. :: Último Momento :: Los habitantes de las humildes viviendas de chapa y madera intentaron apagar el fuego junto a sus vecinos pero no pudieron evitar las pérdidas totales. :: Último Momento :: El sábado 2 de marzo será el turno de La 33 y el sábado 9 se podrá disfrutar de Olodum por la pantalla de dicho canal. :: Último Momento :: El vicepresidente Nicolás Maduro realizó una conferencia de prensa despúes de visitarlo en el Hospital Militar. :: Último Momento :: El movimiento \"antisistema\" del cómico Beppe Grillo puso a temblar a la clase política italiana después del cierre apoteósico el viernes de su campaña para las .. :: Espectáculos :: La gran cantidad de directores de cine \"serio\" que se sumó a la nueva serie \"House of cards\" no es más que la punta del iceberg: cada vez más pesos pesados de la gran .. :: Fútbol Nacional :: Maximiliano Rodríguez, dos veces de penal, le dio la victoria por 2-1 a al bohemio. :: Último Momento :: Miles de personas se manifiestan en más de 80 ciudades contra \"un golpe de Estado financiero\". Escribe tu comentario\n",
            "\n"
          ]
        }
      ],
      "source": [
        "print(lines[104738])"
      ]
    },
    {
      "cell_type": "markdown",
      "metadata": {
        "id": "POLN20dolg_R"
      },
      "source": [
        "Los albivioletas volvieron a robarle puntos al aurinegro, aunque esta vez no los tres. Fue empate a 1 el día del retorno de Antonio Pacheco. :: Último Momento :: Aseguran que sería \"inadecuado\" e \"ineficaz\" porque el Estado no puede controlar y ser parte a la vez. `:: Nacional ::` El MPP impulsará un juicio político contra la SCJ por la declaración de inconstitucional de una ley de octubre de 2011 que dejó sin efecto la ley la Caducidad. `:: Último Momento ::` Los habitantes de las humildes viviendas de chapa y madera intentaron apagar el fuego junto a sus vecinos pero no pudieron evitar las pérdidas totales. :: Último Momento :: El sábado 2 de marzo será el turno de La 33 y el sábado 9 se podrá disfrutar de Olodum por la pantalla de dicho canal. :: Último Momento :: El vicepresidente Nicolás Maduro realizó una conferencia de prensa despúes de visitarlo en el Hospital Militar. :: Último Momento :: El movimiento \"antisistema\" del cómico Beppe Grillo puso a temblar a la clase política italiana después del cierre apoteósico el viernes de su campaña para las .. :: Espectáculos :: La gran cantidad de directores de cine \"serio\" que se sumó a la nueva serie \"House of cards\" no es más que la punta del iceberg: cada vez más pesos pesados de la gran .. :: Fútbol Nacional :: Maximiliano Rodríguez, dos veces de penal, le dio la victoria por 2-1 a al bohemio. :: Último Momento :: Miles de personas se manifiestan en más de 80 ciudades contra \"un golpe de Estado financiero\". `Escribe tu comentario`\n"
      ]
    },
    {
      "cell_type": "markdown",
      "metadata": {
        "id": "O-3mzINPo5Oc"
      },
      "source": [
        "#### Solucion"
      ]
    },
    {
      "cell_type": "markdown",
      "metadata": {
        "id": "yAEgSHBjlyr0"
      },
      "source": [
        "#### Parseo de \"Escribe tu comentario\"\n",
        "\n"
      ]
    },
    {
      "cell_type": "code",
      "execution_count": 31,
      "metadata": {
        "colab": {
          "base_uri": "https://localhost:8080/"
        },
        "id": "xaTBisq3l9qi",
        "outputId": "4e164b80-8a6c-4e08-9f72-7d03cd8786c3"
      },
      "outputs": [
        {
          "name": "stdout",
          "output_type": "stream",
          "text": [
            "171\n",
            "171\n"
          ]
        }
      ],
      "source": [
        "str_text = auxiliar_full_lines\n",
        "# cantidad de ocurrencias con texto Utilidades\n",
        "pattern = r\"Escribe tu comentario\"\n",
        "results = re.findall(pattern, str_text)\n",
        "print(len(results))\n",
        "\n",
        "# cantidad de ocurrencias con texto Utilidades y salto de linea\n",
        "pattern_1 = r\"Escribe tu comentario\\n\"\n",
        "results_1 = re.findall(pattern_1, str_text)\n",
        "print(len(results_1))\n",
        "\n",
        "# estan al final siempre\n"
      ]
    },
    {
      "cell_type": "code",
      "execution_count": 32,
      "metadata": {
        "colab": {
          "base_uri": "https://localhost:8080/"
        },
        "id": "MzlE1MnPmtdw",
        "outputId": "24a23cf3-ee6e-4638-9dc1-9a9a04dd6214"
      },
      "outputs": [
        {
          "name": "stdout",
          "output_type": "stream",
          "text": [
            "Los albivioletas volvieron a robarle puntos al aurinegro, aunque esta vez no los tres. Fue empate a 1 el día del retorno de Antonio Pacheco. :: Último Momento :: Aseguran que sería \"inadecuado\" e \"ineficaz\" porque el Estado no puede controlar y ser parte a la vez. :: Nacional :: El MPP impulsará un juicio político contra la SCJ por la declaración de inconstitucional de una ley de octubre de 2011 que dejó sin efecto la ley la Caducidad. :: Último Momento :: Los habitantes de las humildes viviendas de chapa y madera intentaron apagar el fuego junto a sus vecinos pero no pudieron evitar las pérdidas totales. :: Último Momento :: El sábado 2 de marzo será el turno de La 33 y el sábado 9 se podrá disfrutar de Olodum por la pantalla de dicho canal. :: Último Momento :: El vicepresidente Nicolás Maduro realizó una conferencia de prensa despúes de visitarlo en el Hospital Militar. :: Último Momento :: El movimiento \"antisistema\" del cómico Beppe Grillo puso a temblar a la clase política italiana después del cierre apoteósico el viernes de su campaña para las .. :: Espectáculos :: La gran cantidad de directores de cine \"serio\" que se sumó a la nueva serie \"House of cards\" no es más que la punta del iceberg: cada vez más pesos pesados de la gran .. :: Fútbol Nacional :: Maximiliano Rodríguez, dos veces de penal, le dio la victoria por 2-1 a al bohemio. :: Último Momento :: Miles de personas se manifiestan en más de 80 ciudades contra \"un golpe de Estado financiero\". \n"
          ]
        }
      ],
      "source": [
        "replace_pattern = r\"Escribe tu comentario\\n\"\n",
        "result = re.sub(replace_pattern, '', lines[104738])  \n",
        "print(result)"
      ]
    },
    {
      "cell_type": "markdown",
      "metadata": {
        "id": "37dekyn1o8lK"
      },
      "source": [
        "#### Solucion\n"
      ]
    },
    {
      "cell_type": "markdown",
      "metadata": {
        "id": "g1nCTkeZnDRe"
      },
      "source": [
        "#### Parseo de texto formato :: AA ::\n",
        "\n"
      ]
    },
    {
      "cell_type": "code",
      "execution_count": 33,
      "metadata": {
        "colab": {
          "base_uri": "https://localhost:8080/"
        },
        "id": "VypMkmcxqFaA",
        "outputId": "1866f7ba-6004-4e77-fd16-03a40201f8d5"
      },
      "outputs": [
        {
          "name": "stdout",
          "output_type": "stream",
          "text": [
            "18460\n"
          ]
        }
      ],
      "source": [
        "str_text = auxiliar_full_lines\n",
        "# cantidad de ocurrencias con texto Utilidades\n",
        "pattern = r\":: .*? ::\"\n",
        "results = re.findall(pattern, str_text)\n",
        "print(len(results))"
      ]
    },
    {
      "cell_type": "code",
      "execution_count": 34,
      "metadata": {
        "colab": {
          "base_uri": "https://localhost:8080/"
        },
        "id": "wI3qmgDn29py",
        "outputId": "748bc19a-4135-4a7b-ff6d-96f49ef58683"
      },
      "outputs": [
        {
          "name": "stdout",
          "output_type": "stream",
          "text": [
            "Los albivioletas volvieron a robarle puntos al aurinegro, aunque esta vez no los tres. Fue empate a 1 el día del retorno de Antonio Pacheco.  Aseguran que sería \"inadecuado\" e \"ineficaz\" porque el Estado no puede controlar y ser parte a la vez.  El MPP impulsará un juicio político contra la SCJ por la declaración de inconstitucional de una ley de octubre de 2011 que dejó sin efecto la ley la Caducidad.  Los habitantes de las humildes viviendas de chapa y madera intentaron apagar el fuego junto a sus vecinos pero no pudieron evitar las pérdidas totales.  El sábado 2 de marzo será el turno de La 33 y el sábado 9 se podrá disfrutar de Olodum por la pantalla de dicho canal.  El vicepresidente Nicolás Maduro realizó una conferencia de prensa despúes de visitarlo en el Hospital Militar.  El movimiento \"antisistema\" del cómico Beppe Grillo puso a temblar a la clase política italiana después del cierre apoteósico el viernes de su campaña para las ..  La gran cantidad de directores de cine \"serio\" que se sumó a la nueva serie \"House of cards\" no es más que la punta del iceberg: cada vez más pesos pesados de la gran ..  Maximiliano Rodríguez, dos veces de penal, le dio la victoria por 2-1 a al bohemio.  Miles de personas se manifiestan en más de 80 ciudades contra \"un golpe de Estado financiero\". Escribe tu comentario\n",
            "\n"
          ]
        }
      ],
      "source": [
        "replace_pattern = r\":: .*? ::\"\n",
        "result = re.sub(replace_pattern, '', lines[104738])  \n",
        "print(result)"
      ]
    },
    {
      "cell_type": "markdown",
      "metadata": {
        "id": "4opOb2P7nC2t"
      },
      "source": [
        "### Texto \"No salgas a la calle sin\" al final"
      ]
    },
    {
      "cell_type": "code",
      "execution_count": 35,
      "metadata": {
        "colab": {
          "base_uri": "https://localhost:8080/"
        },
        "id": "5kRyLQmQnA9O",
        "outputId": "91b013f1-1b07-43d4-af26-d0376580c6a5"
      },
      "outputs": [
        {
          "name": "stdout",
          "output_type": "stream",
          "text": [
            "x Alianzas de narcos llegan a Uruguay Drogas. Tras la caída de grupo mexicano amenazaron a jerarcas Extensión de cultivos de cocaína en Bolivia preocupa a autoridades En 9 meses incautaron más de 700 kilos plantados allí | Según un informe internacional sobre tácticas de países ¿Narcotraficantes mexicanos rescatados del Penal de Libertad en helicópteros? ¿Amenazas de muerte contra toda la cúpula del Ministerio del Interior? Una sombra que se alarga por todo el continente y finalmente llega a Uruguay. El fenómeno se llama \"hiperproducción de drogas\". En particular de cocaína. Un negocio ilegal que según estimaciones del Departamento de Estado de Estados Unidos reporta a los señores de la droga unos US$ 400 mil millones al año. Hay expertos que aseguran que esas estimaciones son modestas. El cultivo de la hoja de coca -materia prima del clorhidrato de cocaína y también de la hiperadictiva pasta base- se extiende de manera incesante en América Latina, particularmente en tres países: 32.000 hectáreas cultivadas en Bolivia; 55.000 en Perú y unas 90.000 en Colombia. La extensión de los cultivos en Bolivia es un fenómeno que preocupa, particularmente, a las autoridades uruguayas encargadas de reprimir el narcotráfico. Los más de 700 kilos de cocaína capturados entre agosto de 2007 y abril de 2008 en Uruguay procedían del país gobernado por Evo Morales. Un presidente ex cocalero y defensor del cultivo de la hoja de coca, política que -creen expertos antidrogas uruguayos- favorece los intereses de los narcotraficantes. Pero las amenazas reales del narcotráfico exceden a países vecinos. La caída en febrero de una organización de narcotraficantes mexicanos que habían llegado al país hacía ocho meses y ya habían construido una compleja fachada legal y comercial, puso en evidencia un dato inesperado: Uruguay es apetecido por algunos de los señores de la droga. A dos meses del encarcelamiento de los narcos mexicanos comienza a reinar la impaciencia. Una serie de mensajes anónimos con amenazas de muerte para toda la cúpula del Ministerio del Interior y, en particular, para la Dirección General de Represión al Tráfico Ilícito de Drogas (Dgrtid), trajo los primeros ecos del terror que los poderosos cárteles siembran al norte del continente. Advertencias no faltaron. A fines de 2007 el titular de la Dgrtid, Julio Guarteche, lo había dicho claramente: \"Prevemos más tráfico de cocaína, y también prevemos más tráfico de pasta base\". A principios de este mes la ministra del Interior, Daisy Tourné, había deslizado otra advertencia. Al referirse al contexto de alto riesgo que vive el Penal de Libertad durante su comparecencia en la comisión bicameral de seguimiento carcelario, dijo a los legisladores que podría suceder que se intentara el rescate en helicópteros de algunos de \"estos señores de la droga\". \"LOS ZETAS\". El rescate del jefe del Cártel del Golfo, Osiel Cárdenas, preso en la cárcel de máxima seguridad de Almoloya, en Juárez, fue planeado con el uso de helicópteros de alta tecnología. El plan que frustraron las autoridades mexicanas había sido elaborado por un grupo conocido como \"Los Zetas\". Este temible grupo mexicano está integrado por unos 200 ex militares de élite que comenzaron vendiendo servicios de protección y terminaron con un cliente único: el poderoso Cártel del Golfo. Tienen en su haber una extensa lista de asesinatos, secuestros y atentados. La atomización de los grandes cárteles de la droga, que viene enfrentando a grupos más pequeños en un interminable \"unos contra otros\", les dio a \"los Zetas\" un papel de privilegio. Los integrantes del grupo están especializados en el uso de armas bélicas de alto poder, saben realizar operaciones de inteligencia y han venido ensanchando su base con el reclutamiento de adolescentes: \"los zetitas\". Según una información difundida por el diario \"El Mercurio\" de Chile, los \"Zetas\" encaran ahora una nueva campaña de reclutamiento en el noreste de México. \"Paren de sufrir, ex militares, PFP (policías federales) y soldados de Mérida, únete a las filas del cártel del Golfo\", reza una pancarta hallada en la ciudad de Tampico. Su actuación está ampliamente documentada en territorio mexicano, pero no hay registro de actividades en otros países. CONTINENTE ROTO. Un reciente informe de \"El País\" de Madrid revelaba las divisiones que existen entre los gobiernos latinoamericanos ante el tema de las drogas. \"Latinoamérica se rompe por la droga\", es el título del reportaje que pinta un cuadro complejo. \"El gobierno argentino se prepara para no perseguir penalmente a los consumidores, y Jamaica, el mayor productor de marihuana del Caribe, estudia legalizar la planta. Sobre la mesa está el nuevo dilema entre permisividad o tolerancia cero para abordar el problema de la droga\", señala el artículo. El reportaje pone el foco sobre la discusión que se viene planteando en Argentina en torno a la despenalización del consumo de drogas. Aunque alude a Uruguay como un país inmerso en la misma polémica, cabe recordar que la legislación uruguaya no penaliza el consumo de estupefacientes sino su venta, producción e importación, así como actividades conexas al tráfico. \"El anuncio hecho por Argentina ha causado una gran polémica en el país donde el 75% de la población se opone a la despenalización del consumo de drogas\", apunta el informe periodístico. Hoja de coca: Cultivos de 32.000 hectáreas en Bolivia, 55.000 en Perú y 90.000 en Colombia. Políticas juegan a favor del tráfico El país de madrid Inefica- ces y contraproducentes. Con estas palabras define el International Crisis Group (ICG) las políticas seguidas en Estados Unidos, Europa y Latinoamérica contra el tráfico de drogas debido en gran parte a la descoordinación de las acciones, que \"han ido funcionando a favor de las redes\", según advierte Mark Schenider, vicepresidente de este think tank estadounidense. Pero hay algo mucho más preocupante. Según denuncia el ICG en su informe de 2008, la política de erradicación de hoja de coca \"casi siempre está acompañada de violaciones a los derechos humanos\". El organismo subraya que las fuerzas paramilitares que intervienen en las operaciones -la fumigación de los cultivos o la destrucción de las plantas desde el suelo- generan \"movimientos antigubernamentales\" en las zonas donde se practican. Un argumento en el que ahonda el Transnational Institute, con sede en Amsterdam: \"Las fumigaciones aéreas ponen en marcha un círculo de destrucción humana, social y medioambiental que ha exacerbado los conflictos sociales en Colombia, Perú y Bolivia\", señalan. Según el ICG están fracasando tanto las políticas de erradicación de los cultivos como la de frenar la demanda de consumo, especialmente en los tres grandes mercados mundiales: Estados Unidos, Europa y Brasil. \"Es hora de cambiar de estrategia\", advierte Schenider. Sin drama pero con cuidado Luego de que las amenazas a la cúpula del Ministerio del Interior tomaran estado público, su titular, Daisy Tourné llamó el viernes a quitarle dramatismo. Sostuvo que \"es muy importante continuar adelante con la política del Ministerio en lo que es la lucha sin cortapisas al narcotráfico\". El subsecretario Ricardo Bernal, por su parte, afirmó que se vienen realizando tareas de inteligencia e investigación para determinar si efectivamente hay un grupo de narcotraficantes dispuestos a atentar contra las jerarquías del Ministerio del Interior. \"Estamos hablando de organizaciones muy poderosas, que pueden sentirse afectadas, de hecho lo están\", aseguró. Si bien en un principio se creyó que las amenazas podrían provenir de organizaciones de Paraguay, ahora los servicios de inteligencia policial investigan la \"conexión mexicana\". Distintas fuentes de la cartera señalaron que uno de los poderosos carteles de ese país podrían estar tras los mensajes. Por otra parte el Sindicato de Policías manifestó su apoyo a Interior ante las \"reprobables\" amenazas. No salgas a la calle sin\n",
            "\n"
          ]
        }
      ],
      "source": [
        "print(lines[14903])"
      ]
    },
    {
      "cell_type": "markdown",
      "metadata": {
        "id": "HqUtaENQnSRC"
      },
      "source": [
        "x Alianzas de narcos llegan a Uruguay Drogas. Tras la caída de grupo mexicano amenazaron a jerarcas Extensión de cultivos de cocaína en Bolivia preocupa a autoridades En 9 meses incautaron más de 700 kilos plantados allí | Según un informe internacional sobre tácticas de países ¿Narcotraficantes mexicanos rescatados del Penal de Libertad en helicópteros? ¿Amenazas de muerte contra toda la cúpula del Ministerio del Interior? Una sombra que se alarga por todo el continente y finalmente llega a Uruguay. El fenómeno se llama \"hiperproducción de drogas\". En particular de cocaína. Un negocio ilegal que según estimaciones del Departamento de Estado de Estados Unidos reporta a los señores de la droga unos US$ 400 mil millones al año. Hay expertos que aseguran que esas estimaciones son modestas. El cultivo de la hoja de coca -materia prima del clorhidrato de cocaína y también de la hiperadictiva pasta base- se extiende de manera incesante en América Latina, particularmente en tres países: 32.000 hectáreas cultivadas en Bolivia; 55.000 en Perú y unas 90.000 en Colombia. La extensión de los cultivos en Bolivia es un fenómeno que preocupa, particularmente, a las autoridades uruguayas encargadas de reprimir el narcotráfico. Los más de 700 kilos de cocaína capturados entre agosto de 2007 y abril de 2008 en Uruguay procedían del país gobernado por Evo Morales. Un presidente ex cocalero y defensor del cultivo de la hoja de coca, política que -creen expertos antidrogas uruguayos- favorece los intereses de los narcotraficantes. Pero las amenazas reales del narcotráfico exceden a países vecinos. La caída en febrero de una organización de narcotraficantes mexicanos que habían llegado al país hacía ocho meses y ya habían construido una compleja fachada legal y comercial, puso en evidencia un dato inesperado: Uruguay es apetecido por algunos de los señores de la droga. A dos meses del encarcelamiento de los narcos mexicanos comienza a reinar la impaciencia. Una serie de mensajes anónimos con amenazas de muerte para toda la cúpula del Ministerio del Interior y, en particular, para la Dirección General de Represión al Tráfico Ilícito de Drogas (Dgrtid), trajo los primeros ecos del terror que los poderosos cárteles siembran al norte del continente. Advertencias no faltaron. A fines de 2007 el titular de la Dgrtid, Julio Guarteche, lo había dicho claramente: \"Prevemos más tráfico de cocaína, y también prevemos más tráfico de pasta base\". A principios de este mes la ministra del Interior, Daisy Tourné, había deslizado otra advertencia. Al referirse al contexto de alto riesgo que vive el Penal de Libertad durante su comparecencia en la comisión bicameral de seguimiento carcelario, dijo a los legisladores que podría suceder que se intentara el rescate en helicópteros de algunos de \"estos señores de la droga\". \"LOS ZETAS\". El rescate del jefe del Cártel del Golfo, Osiel Cárdenas, preso en la cárcel de máxima seguridad de Almoloya, en Juárez, fue planeado con el uso de helicópteros de alta tecnología. El plan que frustraron las autoridades mexicanas había sido elaborado por un grupo conocido como \"Los Zetas\". Este temible grupo mexicano está integrado por unos 200 ex militares de élite que comenzaron vendiendo servicios de protección y terminaron con un cliente único: el poderoso Cártel del Golfo. Tienen en su haber una extensa lista de asesinatos, secuestros y atentados. La atomización de los grandes cárteles de la droga, que viene enfrentando a grupos más pequeños en un interminable \"unos contra otros\", les dio a \"los Zetas\" un papel de privilegio. Los integrantes del grupo están especializados en el uso de armas bélicas de alto poder, saben realizar operaciones de inteligencia y han venido ensanchando su base con el reclutamiento de adolescentes: \"los zetitas\". Según una información difundida por el diario \"El Mercurio\" de Chile, los \"Zetas\" encaran ahora una nueva campaña de reclutamiento en el noreste de México. \"Paren de sufrir, ex militares, PFP (policías federales) y soldados de Mérida, únete a las filas del cártel del Golfo\", reza una pancarta hallada en la ciudad de Tampico. Su actuación está ampliamente documentada en territorio mexicano, pero no hay registro de actividades en otros países. CONTINENTE ROTO. Un reciente informe de \"El País\" de Madrid revelaba las divisiones que existen entre los gobiernos latinoamericanos ante el tema de las drogas. \"Latinoamérica se rompe por la droga\", es el título del reportaje que pinta un cuadro complejo. \"El gobierno argentino se prepara para no perseguir penalmente a los consumidores, y Jamaica, el mayor productor de marihuana del Caribe, estudia legalizar la planta. Sobre la mesa está el nuevo dilema entre permisividad o tolerancia cero para abordar el problema de la droga\", señala el artículo. El reportaje pone el foco sobre la discusión que se viene planteando en Argentina en torno a la despenalización del consumo de drogas. Aunque alude a Uruguay como un país inmerso en la misma polémica, cabe recordar que la legislación uruguaya no penaliza el consumo de estupefacientes sino su venta, producción e importación, así como actividades conexas al tráfico. \"El anuncio hecho por Argentina ha causado una gran polémica en el país donde el 75% de la población se opone a la despenalización del consumo de drogas\", apunta el informe periodístico. Hoja de coca: Cultivos de 32.000 hectáreas en Bolivia, 55.000 en Perú y 90.000 en Colombia. Políticas juegan a favor del tráfico El país de madrid Inefica- ces y contraproducentes. Con estas palabras define el International Crisis Group (ICG) las políticas seguidas en Estados Unidos, Europa y Latinoamérica contra el tráfico de drogas debido en gran parte a la descoordinación de las acciones, que \"han ido funcionando a favor de las redes\", según advierte Mark Schenider, vicepresidente de este think tank estadounidense. Pero hay algo mucho más preocupante. Según denuncia el ICG en su informe de 2008, la política de erradicación de hoja de coca \"casi siempre está acompañada de violaciones a los derechos humanos\". El organismo subraya que las fuerzas paramilitares que intervienen en las operaciones -la fumigación de los cultivos o la destrucción de las plantas desde el suelo- generan \"movimientos antigubernamentales\" en las zonas donde se practican. Un argumento en el que ahonda el Transnational Institute, con sede en Amsterdam: \"Las fumigaciones aéreas ponen en marcha un círculo de destrucción humana, social y medioambiental que ha exacerbado los conflictos sociales en Colombia, Perú y Bolivia\", señalan. Según el ICG están fracasando tanto las políticas de erradicación de los cultivos como la de frenar la demanda de consumo, especialmente en los tres grandes mercados mundiales: Estados Unidos, Europa y Brasil. \"Es hora de cambiar de estrategia\", advierte Schenider. Sin drama pero con cuidado Luego de que las amenazas a la cúpula del Ministerio del Interior tomaran estado público, su titular, Daisy Tourné llamó el viernes a quitarle dramatismo. Sostuvo que \"es muy importante continuar adelante con la política del Ministerio en lo que es la lucha sin cortapisas al narcotráfico\". El subsecretario Ricardo Bernal, por su parte, afirmó que se vienen realizando tareas de inteligencia e investigación para determinar si efectivamente hay un grupo de narcotraficantes dispuestos a atentar contra las jerarquías del Ministerio del Interior. \"Estamos hablando de organizaciones muy poderosas, que pueden sentirse afectadas, de hecho lo están\", aseguró. Si bien en un principio se creyó que las amenazas podrían provenir de organizaciones de Paraguay, ahora los servicios de inteligencia policial investigan la \"conexión mexicana\". Distintas fuentes de la cartera señalaron que uno de los poderosos carteles de ese país podrían estar tras los mensajes. Por otra parte el Sindicato de Policías manifestó su apoyo a Interior ante las \"reprobables\" amenazas. `No salgas a la calle sin`\n"
      ]
    },
    {
      "cell_type": "code",
      "execution_count": 36,
      "metadata": {
        "colab": {
          "base_uri": "https://localhost:8080/"
        },
        "id": "eZw3P81x3lJQ",
        "outputId": "9b46dffa-f59c-4c01-d257-e8ed2ea9cbb1"
      },
      "outputs": [
        {
          "name": "stdout",
          "output_type": "stream",
          "text": [
            "4917\n",
            "4235\n",
            "0\n",
            "0\n",
            "4235\n"
          ]
        }
      ],
      "source": [
        "str_text = auxiliar_full_lines\n",
        "# cantidad de ocurrencias con texto No salgas a la calle sin\n",
        "pattern = r\"No salgas a la calle sin\"\n",
        "results = re.findall(pattern, str_text)\n",
        "print(len(results))\n",
        "\n",
        "# cantidad de ocurrencias con texto No salgas a la calle sin y salto de linea\n",
        "pattern_1 = r\"No salgas a la calle sin\\n\"\n",
        "results_1 = re.findall(pattern_1, str_text)\n",
        "print(len(results_1))\n",
        "\n",
        "pattern_3 = r\"No salgas a la calle sin saber de qué se habla...\"\n",
        "results_3 = re.findall(pattern_3, str_text)\n",
        "print(len(results_3))\n",
        "\n",
        "pattern_4 = r\"No salgas a la calle sin ver más► saber de qué se habla\"\n",
        "results_4 = re.findall(pattern_4, str_text)\n",
        "print(len(results_4))\n",
        "\n",
        "print(len(results_1) + len(results_3) + len(results_4))\n",
        "\n"
      ]
    },
    {
      "cell_type": "markdown",
      "metadata": {
        "id": "T02Ib5VEFd17"
      },
      "source": [
        "#### Solucion\n"
      ]
    },
    {
      "cell_type": "code",
      "execution_count": 37,
      "metadata": {
        "colab": {
          "base_uri": "https://localhost:8080/"
        },
        "id": "X31sDZj_AKBr",
        "outputId": "cedf02cf-be29-44b5-c868-598ac5c68526"
      },
      "outputs": [
        {
          "name": "stdout",
          "output_type": "stream",
          "text": [
            "x Alianzas de narcos llegan a Uruguay Drogas. Tras la caída de grupo mexicano amenazaron a jerarcas Extensión de cultivos de cocaína en Bolivia preocupa a autoridades En 9 meses incautaron más de 700 kilos plantados allí | Según un informe internacional sobre tácticas de países ¿Narcotraficantes mexicanos rescatados del Penal de Libertad en helicópteros? ¿Amenazas de muerte contra toda la cúpula del Ministerio del Interior? Una sombra que se alarga por todo el continente y finalmente llega a Uruguay. El fenómeno se llama \"hiperproducción de drogas\". En particular de cocaína. Un negocio ilegal que según estimaciones del Departamento de Estado de Estados Unidos reporta a los señores de la droga unos US$ 400 mil millones al año. Hay expertos que aseguran que esas estimaciones son modestas. El cultivo de la hoja de coca -materia prima del clorhidrato de cocaína y también de la hiperadictiva pasta base- se extiende de manera incesante en América Latina, particularmente en tres países: 32.000 hectáreas cultivadas en Bolivia; 55.000 en Perú y unas 90.000 en Colombia. La extensión de los cultivos en Bolivia es un fenómeno que preocupa, particularmente, a las autoridades uruguayas encargadas de reprimir el narcotráfico. Los más de 700 kilos de cocaína capturados entre agosto de 2007 y abril de 2008 en Uruguay procedían del país gobernado por Evo Morales. Un presidente ex cocalero y defensor del cultivo de la hoja de coca, política que -creen expertos antidrogas uruguayos- favorece los intereses de los narcotraficantes. Pero las amenazas reales del narcotráfico exceden a países vecinos. La caída en febrero de una organización de narcotraficantes mexicanos que habían llegado al país hacía ocho meses y ya habían construido una compleja fachada legal y comercial, puso en evidencia un dato inesperado: Uruguay es apetecido por algunos de los señores de la droga. A dos meses del encarcelamiento de los narcos mexicanos comienza a reinar la impaciencia. Una serie de mensajes anónimos con amenazas de muerte para toda la cúpula del Ministerio del Interior y, en particular, para la Dirección General de Represión al Tráfico Ilícito de Drogas (Dgrtid), trajo los primeros ecos del terror que los poderosos cárteles siembran al norte del continente. Advertencias no faltaron. A fines de 2007 el titular de la Dgrtid, Julio Guarteche, lo había dicho claramente: \"Prevemos más tráfico de cocaína, y también prevemos más tráfico de pasta base\". A principios de este mes la ministra del Interior, Daisy Tourné, había deslizado otra advertencia. Al referirse al contexto de alto riesgo que vive el Penal de Libertad durante su comparecencia en la comisión bicameral de seguimiento carcelario, dijo a los legisladores que podría suceder que se intentara el rescate en helicópteros de algunos de \"estos señores de la droga\". \"LOS ZETAS\". El rescate del jefe del Cártel del Golfo, Osiel Cárdenas, preso en la cárcel de máxima seguridad de Almoloya, en Juárez, fue planeado con el uso de helicópteros de alta tecnología. El plan que frustraron las autoridades mexicanas había sido elaborado por un grupo conocido como \"Los Zetas\". Este temible grupo mexicano está integrado por unos 200 ex militares de élite que comenzaron vendiendo servicios de protección y terminaron con un cliente único: el poderoso Cártel del Golfo. Tienen en su haber una extensa lista de asesinatos, secuestros y atentados. La atomización de los grandes cárteles de la droga, que viene enfrentando a grupos más pequeños en un interminable \"unos contra otros\", les dio a \"los Zetas\" un papel de privilegio. Los integrantes del grupo están especializados en el uso de armas bélicas de alto poder, saben realizar operaciones de inteligencia y han venido ensanchando su base con el reclutamiento de adolescentes: \"los zetitas\". Según una información difundida por el diario \"El Mercurio\" de Chile, los \"Zetas\" encaran ahora una nueva campaña de reclutamiento en el noreste de México. \"Paren de sufrir, ex militares, PFP (policías federales) y soldados de Mérida, únete a las filas del cártel del Golfo\", reza una pancarta hallada en la ciudad de Tampico. Su actuación está ampliamente documentada en territorio mexicano, pero no hay registro de actividades en otros países. CONTINENTE ROTO. Un reciente informe de \"El País\" de Madrid revelaba las divisiones que existen entre los gobiernos latinoamericanos ante el tema de las drogas. \"Latinoamérica se rompe por la droga\", es el título del reportaje que pinta un cuadro complejo. \"El gobierno argentino se prepara para no perseguir penalmente a los consumidores, y Jamaica, el mayor productor de marihuana del Caribe, estudia legalizar la planta. Sobre la mesa está el nuevo dilema entre permisividad o tolerancia cero para abordar el problema de la droga\", señala el artículo. El reportaje pone el foco sobre la discusión que se viene planteando en Argentina en torno a la despenalización del consumo de drogas. Aunque alude a Uruguay como un país inmerso en la misma polémica, cabe recordar que la legislación uruguaya no penaliza el consumo de estupefacientes sino su venta, producción e importación, así como actividades conexas al tráfico. \"El anuncio hecho por Argentina ha causado una gran polémica en el país donde el 75% de la población se opone a la despenalización del consumo de drogas\", apunta el informe periodístico. Hoja de coca: Cultivos de 32.000 hectáreas en Bolivia, 55.000 en Perú y 90.000 en Colombia. Políticas juegan a favor del tráfico El país de madrid Inefica- ces y contraproducentes. Con estas palabras define el International Crisis Group (ICG) las políticas seguidas en Estados Unidos, Europa y Latinoamérica contra el tráfico de drogas debido en gran parte a la descoordinación de las acciones, que \"han ido funcionando a favor de las redes\", según advierte Mark Schenider, vicepresidente de este think tank estadounidense. Pero hay algo mucho más preocupante. Según denuncia el ICG en su informe de 2008, la política de erradicación de hoja de coca \"casi siempre está acompañada de violaciones a los derechos humanos\". El organismo subraya que las fuerzas paramilitares que intervienen en las operaciones -la fumigación de los cultivos o la destrucción de las plantas desde el suelo- generan \"movimientos antigubernamentales\" en las zonas donde se practican. Un argumento en el que ahonda el Transnational Institute, con sede en Amsterdam: \"Las fumigaciones aéreas ponen en marcha un círculo de destrucción humana, social y medioambiental que ha exacerbado los conflictos sociales en Colombia, Perú y Bolivia\", señalan. Según el ICG están fracasando tanto las políticas de erradicación de los cultivos como la de frenar la demanda de consumo, especialmente en los tres grandes mercados mundiales: Estados Unidos, Europa y Brasil. \"Es hora de cambiar de estrategia\", advierte Schenider. Sin drama pero con cuidado Luego de que las amenazas a la cúpula del Ministerio del Interior tomaran estado público, su titular, Daisy Tourné llamó el viernes a quitarle dramatismo. Sostuvo que \"es muy importante continuar adelante con la política del Ministerio en lo que es la lucha sin cortapisas al narcotráfico\". El subsecretario Ricardo Bernal, por su parte, afirmó que se vienen realizando tareas de inteligencia e investigación para determinar si efectivamente hay un grupo de narcotraficantes dispuestos a atentar contra las jerarquías del Ministerio del Interior. \"Estamos hablando de organizaciones muy poderosas, que pueden sentirse afectadas, de hecho lo están\", aseguró. Si bien en un principio se creyó que las amenazas podrían provenir de organizaciones de Paraguay, ahora los servicios de inteligencia policial investigan la \"conexión mexicana\". Distintas fuentes de la cartera señalaron que uno de los poderosos carteles de ese país podrían estar tras los mensajes. Por otra parte el Sindicato de Policías manifestó su apoyo a Interior ante las \"reprobables\" amenazas. \n"
          ]
        }
      ],
      "source": [
        "testing_str = lines[14903]\n",
        "\n",
        "replace_pattern = r\"No salgas a la calle sin\\n\"\n",
        "result = re.sub(replace_pattern, '', testing_str)  \n",
        "\n",
        "replace_pattern = r\"No salgas a la calle sin saber de qué se habla...\"\n",
        "result = re.sub(replace_pattern, '', result)\n",
        "\n",
        "replace_pattern = r\"No salgas a la calle sin ver más► saber de qué se habla\"\n",
        "\n",
        "result = re.sub(replace_pattern, '', result)\n",
        "print(result)"
      ]
    },
    {
      "cell_type": "code",
      "execution_count": 38,
      "metadata": {
        "colab": {
          "base_uri": "https://localhost:8080/"
        },
        "id": "IjDWWTyeBSKh",
        "outputId": "e3cfebbc-2443-4ced-8d60-36e4e9ec3ca3"
      },
      "outputs": [
        {
          "name": "stdout",
          "output_type": "stream",
          "text": [
            "682\n"
          ]
        }
      ],
      "source": [
        "str_text = auxiliar_full_lines\n",
        "\n",
        "# analisis de recorrer todo el texto\n",
        "replace_pattern = r\"No salgas a la calle sin\\n\"\n",
        "result = re.sub(replace_pattern, '', str_text)  \n",
        "\n",
        "replace_pattern = r\"No salgas a la calle sin saber de qué se habla...\"\n",
        "result = re.sub(replace_pattern, '', result)\n",
        "\n",
        "replace_pattern = r\"No salgas a la calle sin ver más► saber de qué se habla\"\n",
        "total_result = re.sub(replace_pattern, '', result)  \n",
        "\n",
        "# cantidad de ocurrencias con texto -No salgas a la calle sin-\n",
        "pattern = r\"No salgas a la calle sin\"\n",
        "results = re.findall(pattern, total_result)\n",
        "print(len(results))"
      ]
    },
    {
      "cell_type": "markdown",
      "metadata": {
        "id": "ej9cqpAhnou-"
      },
      "source": [
        "### Texto \"¿Te interesa esta noticia?\" en el inicio\n"
      ]
    },
    {
      "cell_type": "code",
      "execution_count": 39,
      "metadata": {
        "colab": {
          "base_uri": "https://localhost:8080/"
        },
        "id": "aaIZrUYloADK",
        "outputId": "ee0f3b3d-0622-4636-ed90-b96d6cfb20db"
      },
      "outputs": [
        {
          "name": "stdout",
          "output_type": "stream",
          "text": [
            "\"Jaque\" al fideicomiso en garantía ¿Te interesa esta noticia?     LORENA JONES Hace unos días se dio a conocer la tan esperada sentencia del Juzgado Letrado de Concursos de 1o turno que puso fin al incidente generado por la rescisión del contrato de fideicomiso que vinculaba a Paylana S.A. con el Banco de la República (BROU). La decisión judicial ha provocado diversas reacciones. En el ámbito académico, la cátedra se encuentra dividida en cuanto a este asunto pero, sin lugar a dudas, el fallo no es compartido por las instituciones que se encuentran en una situación semejante, temerosas de perder sus garantías fiduciarias, tal como sucedió con el BROU en el caso que nos compete en la columna de hoy. CONCEPTO. El fideicomiso en garantía es un negocio por el cual el deudor de una obligación, transfiere bienes o derechos propios a favor de un patrimonio de afectación administrado por un fiduciario, con el encargo que, al vencimiento de las obligaciones garantizadas y en caso de incumplimiento, el fiduciario realice el patrimonio afectado en garantía y con el producido cancele el pasivo. Cuando el beneficiario de un fideicomiso en garantía es una institución de intermediación financiera, como en este caso el BROU, la ley autoriza que el Banco sea al mismo tiempo beneficiario -acreedor- y fiduciario. En cuanto a las ventajas del fideicomiso en garantía, la doctrina señala su mayor flexibilidad y celeridad derivada de la ejecución extrajudicial de los bienes, lo que lo distingue de otros instrumentos de garantía como la hipoteca. En teoría, o al menos hasta ahora, resultaba una garantía jurídica segura y eficaz para el acreedor. La empresa sanducera Paylana mantiene una deuda con el BROU por US$ 21 millones, la cual fue parcialmente garantizada mediante un fideicomiso en garantía, constituido sobre los créditos presentes y futuros a favor de la empresa textil. NORMATIVA. La normativa aplicable en este caso es la reciente ley 18.387 (2008) que regula la declaración judicial del concurso y la reorganización empresarial, cuyo énfasis está puesto en la supervivencia de las unidades productivas económicamente viables, así como la eficiente y equitativa liquidación de las que no lo sean. Dicha ley incluye en su artículo 68 la posibilidad de rescindir unilateralmente por el síndico o el deudor con autorización del interventor, determinados contratos celebrados por el deudor con anterioridad a la apertura del concurso. El inciso primero del artículo establece: \"Art. 68. (Contratos pendientes de ejecución). En caso de existir a la fecha de declaración del concurso, contratos de los cuales deriven obligaciones del deudor pendientes de ejecución, se procederá de la forma siguiente: 1. El síndico o el deudor con la autorización del interventor, tendrán la facultad de rescindir unilateralmente el contrato, notificando este hecho a la contraparte, dentro del plazo establecido para que los acreedores presenten la solicitud de reconocimiento de sus créditos\". La ley permite a la administración concursal interrumpir el cumplimiento de los \"contratos de los cuales deriven obligaciones del deudor pendientes de ejecución\", cuando entienda que estos no generan un beneficio a la masa. La pregunta es: ¿el fideicomiso en garantía puede ser alcanzado por esta norma? EL CASO. Paylana S.A. al amparo del art. 68 de la ley 18.387 y autorizada por la intervención, promovió la rescisión del contrato de fideicomiso en garantía celebrado el 5 de mayo de 2010 a favor el BROU. El BROU se opuso sosteniendo que no existían obligaciones pendientes de cumplimiento, por cuanto se trata de un contrato de cumplimiento instantáneo cuya obligación principal es la constitución del patrimonio de afectación. Paylana sostiene que existen obligaciones pendientes de ejecución y reclama la devolución de los créditos por ventas que se hayan transferido a favor del BROU en virtud del contrato rescindido. El reciente fallo judicial declaró que los requisitos exigidos por la ley 18.387 se verifican en el caso, señalando que la norma no distingue entre diferentes tipos de contratos y de obligaciones pendientes de ejecución. Según la sentencia, los requisitos exigibles en forma acumulativa son: 1. que exista uno o más contratos de los cuales deriven obligaciones a cargo del deudor concursado, y 2. que dichas obligaciones se encuentren pendientes de ejecución a la fecha de declaración del concurso. Conforme surge del fallo, se trata de una norma de excepción que desequilibra el régimen general de las obligaciones y por consiguiente de interpretación estricta. En definitiva, el Juzgado de Concursos falló a favor de rescindir parcialmente el fideicomiso que el BROU tenía con la textil, entendiendo que en el caso existen obligaciones pendientes de ejecución a cargo de Paylana, lo que implica que el banco se transforme en un acreedor quirografario -sin garantía- sumándose a la lista de acreedores de la empresa. El fallo consideró que las obligaciones de pago de los gastos y honorarios extraordinarios derivados de la gestión y administración de los bienes así como el pago por concepto de comisiones fiduciarias que Paylana debía abonar al BROU, conforme a lo pactado en el contrato de fideicomiso, constituyen las obligaciones pendientes de ejecución que exige el legislador. Es compartible la opinión de la Sede en cuanto a la existencia de obligaciones pendientes de ejecución por parte del deudor, pero no se puede desconocer que dichas obligaciones son instrumentales respecto a las obligaciones principales del contrato de garantía. El eje de la discusión consiste en determinar si la trascendencia de las referidas obligaciones accesorias, justifican la rescisión del fideicomiso. INTERPRETACIONES. Para quienes no comparten la sentencia resulta evidente que el espíritu y finalidad de esta norma -ratio legis- no responde a este tipo de negocios jurídicos de garantía. Parece claro, que la norma fue prevista para otro tipo de situaciones, por ejemplo, un contrato de suministro o de arrendamiento a largo plazo, que implique una carga negativa para la masa de acreedores y para la propia continuidad de la empresa. Una interpretación teleológica o finalista de la norma no permitiría incluir este tipo de negocios de garantía dentro de los contratos alcanzados por el derecho potestativo de rescisión consagrado en la ley 18.387. En cambio, una interpretación esclava del texto de la ley no permite distinguir al intérprete donde el legislador no lo hizo. Postura a la que parece haberse afiliado el fallo de primera instancia. Nos preguntamos si el BROU hubiese renunciado al cobro de las obligaciones pendientes de cumplimiento -gastos, honorarios y comisiones- ¿habría conservado su garantía? Creemos que sí, e indudablemente tal situación sería mucho más beneficiosa para el BROU. Se encuentran enfrentados, por un lado, el interés por la recomposición de los activos que va de la mano con la continuidad de la empresa y por otro, la tutela de los derechos de los acreedores garantizados mediante contratos de fideicomiso que perderían la seguridad que hasta ahora les brindaba ese contrato. Las consecuencias económicas que el fallo acarrearía a los bancos, no pueden ser ajenas a la hora de analizar el fondo del asunto y eventualmente de una reforma legislativa. CONSECUENCIAS. Es razonable pensar que disminuirá sensiblemente la confianza en este tipo de negocio de garantía, el que dejaría de utilizarse, pero además tendría un efecto devastador respecto de los fideicomisos en garantía ya celebrados. ¿Qué deben hacer los bancos? ¿Qué hará el BCU? ¿Deberán recalificar los créditos y previsionarlos conforme a los nuevos riesgos? ¿Qué banco puede estar a salvo de que su deudor entre en concurso? No se puede dejar de reconocer, siguiendo la más prestigiosa doctrina, que la vulneración de la eficacia del fideicomiso en garantía representa una grave lesión a la posibilidad de acceso al crédito de los operadores económicos. En los próximos días se pronunciará el Tribunal de Apelaciones. De todas formas, sería conveniente que un tema tan sensible y trascendente para la actividad empresarial y bancaria sea resuelto definitivamente por el Poder Legislativo, despejando la incertidumbre que pueden generar las distintas interpretaciones judiciales.\n",
            "\n"
          ]
        }
      ],
      "source": [
        "print(lines[25015])\n"
      ]
    },
    {
      "cell_type": "markdown",
      "metadata": {
        "id": "aejJd2SCoD0I"
      },
      "source": [
        "\"Jaque\" al fideicomiso en garantía `¿Te interesa esta noticia?`     LORENA JONES Hace unos días se dio a conocer la tan esperada sentencia del Juzgado Letrado de Concursos de 1o turno que puso fin al incidente generado por la rescisión del contrato de fideicomiso que vinculaba a Paylana S.A. con el Banco de la República (BROU). La decisión judicial ha provocado diversas reacciones. En el ámbito académico, la cátedra se encuentra dividida en cuanto a este asunto pero, sin lugar a dudas, el fallo no es compartido por las instituciones que se encuentran en una situación semejante, temerosas de perder sus garantías fiduciarias, tal como sucedió con el BROU en el caso que nos compete en la columna de hoy. CONCEPTO. El fideicomiso en garantía es un negocio por el cual el deudor de una obligación, transfiere bienes o derechos propios a favor de un patrimonio de afectación administrado por un fiduciario, con el encargo que, al vencimiento de las obligaciones garantizadas y en caso de incumplimiento, el fiduciario realice el patrimonio afectado en garantía y con el producido cancele el pasivo. Cuando el beneficiario de un fideicomiso en garantía es una institución de intermediación financiera, como en este caso el BROU, la ley autoriza que el Banco sea al mismo tiempo beneficiario -acreedor- y fiduciario. En cuanto a las ventajas del fideicomiso en garantía, la doctrina señala su mayor flexibilidad y celeridad derivada de la ejecución extrajudicial de los bienes, lo que lo distingue de otros instrumentos de garantía como la hipoteca. En teoría, o al menos hasta ahora, resultaba una garantía jurídica segura y eficaz para el acreedor. La empresa sanducera Paylana mantiene una deuda con el BROU por US$ 21 millones, la cual fue parcialmente garantizada mediante un fideicomiso en garantía, constituido sobre los créditos presentes y futuros a favor de la empresa textil. NORMATIVA. La normativa aplicable en este caso es la reciente ley 18.387 (2008) que regula la declaración judicial del concurso y la reorganización empresarial, cuyo énfasis está puesto en la supervivencia de las unidades productivas económicamente viables, así como la eficiente y equitativa liquidación de las que no lo sean. Dicha ley incluye en su artículo 68 la posibilidad de rescindir unilateralmente por el síndico o el deudor con autorización del interventor, determinados contratos celebrados por el deudor con anterioridad a la apertura del concurso. El inciso primero del artículo establece: \"Art. 68. (Contratos pendientes de ejecución). En caso de existir a la fecha de declaración del concurso, contratos de los cuales deriven obligaciones del deudor pendientes de ejecución, se procederá de la forma siguiente: 1. El síndico o el deudor con la autorización del interventor, tendrán la facultad de rescindir unilateralmente el contrato, notificando este hecho a la contraparte, dentro del plazo establecido para que los acreedores presenten la solicitud de reconocimiento de sus créditos\". La ley permite a la administración concursal interrumpir el cumplimiento de los \"contratos de los cuales deriven obligaciones del deudor pendientes de ejecución\", cuando entienda que estos no generan un beneficio a la masa. La pregunta es: ¿el fideicomiso en garantía puede ser alcanzado por esta norma? EL CASO. Paylana S.A. al amparo del art. 68 de la ley 18.387 y autorizada por la intervención, promovió la rescisión del contrato de fideicomiso en garantía celebrado el 5 de mayo de 2010 a favor el BROU. El BROU se opuso sosteniendo que no existían obligaciones pendientes de cumplimiento, por cuanto se trata de un contrato de cumplimiento instantáneo cuya obligación principal es la constitución del patrimonio de afectación. Paylana sostiene que existen obligaciones pendientes de ejecución y reclama la devolución de los créditos por ventas que se hayan transferido a favor del BROU en virtud del contrato rescindido. El reciente fallo judicial declaró que los requisitos exigidos por la ley 18.387 se verifican en el caso, señalando que la norma no distingue entre diferentes tipos de contratos y de obligaciones pendientes de ejecución. Según la sentencia, los requisitos exigibles en forma acumulativa son: 1. que exista uno o más contratos de los cuales deriven obligaciones a cargo del deudor concursado, y 2. que dichas obligaciones se encuentren pendientes de ejecución a la fecha de declaración del concurso. Conforme surge del fallo, se trata de una norma de excepción que desequilibra el régimen general de las obligaciones y por consiguiente de interpretación estricta. En definitiva, el Juzgado de Concursos falló a favor de rescindir parcialmente el fideicomiso que el BROU tenía con la textil, entendiendo que en el caso existen obligaciones pendientes de ejecución a cargo de Paylana, lo que implica que el banco se transforme en un acreedor quirografario -sin garantía- sumándose a la lista de acreedores de la empresa. El fallo consideró que las obligaciones de pago de los gastos y honorarios extraordinarios derivados de la gestión y administración de los bienes así como el pago por concepto de comisiones fiduciarias que Paylana debía abonar al BROU, conforme a lo pactado en el contrato de fideicomiso, constituyen las obligaciones pendientes de ejecución que exige el legislador. Es compartible la opinión de la Sede en cuanto a la existencia de obligaciones pendientes de ejecución por parte del deudor, pero no se puede desconocer que dichas obligaciones son instrumentales respecto a las obligaciones principales del contrato de garantía. El eje de la discusión consiste en determinar si la trascendencia de las referidas obligaciones accesorias, justifican la rescisión del fideicomiso. INTERPRETACIONES. Para quienes no comparten la sentencia resulta evidente que el espíritu y finalidad de esta norma -ratio legis- no responde a este tipo de negocios jurídicos de garantía. Parece claro, que la norma fue prevista para otro tipo de situaciones, por ejemplo, un contrato de suministro o de arrendamiento a largo plazo, que implique una carga negativa para la masa de acreedores y para la propia continuidad de la empresa. Una interpretación teleológica o finalista de la norma no permitiría incluir este tipo de negocios de garantía dentro de los contratos alcanzados por el derecho potestativo de rescisión consagrado en la ley 18.387. En cambio, una interpretación esclava del texto de la ley no permite distinguir al intérprete donde el legislador no lo hizo. Postura a la que parece haberse afiliado el fallo de primera instancia. Nos preguntamos si el BROU hubiese renunciado al cobro de las obligaciones pendientes de cumplimiento -gastos, honorarios y comisiones- ¿habría conservado su garantía? Creemos que sí, e indudablemente tal situación sería mucho más beneficiosa para el BROU. Se encuentran enfrentados, por un lado, el interés por la recomposición de los activos que va de la mano con la continuidad de la empresa y por otro, la tutela de los derechos de los acreedores garantizados mediante contratos de fideicomiso que perderían la seguridad que hasta ahora les brindaba ese contrato. Las consecuencias económicas que el fallo acarrearía a los bancos, no pueden ser ajenas a la hora de analizar el fondo del asunto y eventualmente de una reforma legislativa. CONSECUENCIAS. Es razonable pensar que disminuirá sensiblemente la confianza en este tipo de negocio de garantía, el que dejaría de utilizarse, pero además tendría un efecto devastador respecto de los fideicomisos en garantía ya celebrados. ¿Qué deben hacer los bancos? ¿Qué hará el BCU? ¿Deberán recalificar los créditos y previsionarlos conforme a los nuevos riesgos? ¿Qué banco puede estar a salvo de que su deudor entre en concurso? No se puede dejar de reconocer, siguiendo la más prestigiosa doctrina, que la vulneración de la eficacia del fideicomiso en garantía representa una grave lesión a la posibilidad de acceso al crédito de los operadores económicos. En los próximos días se pronunciará el Tribunal de Apelaciones. De todas formas, sería conveniente que un tema tan sensible y trascendente para la actividad empresarial y bancaria sea resuelto definitivamente por el Poder Legislativo, despejando la incertidumbre que pueden generar las distintas interpretaciones judiciales.\n"
      ]
    },
    {
      "cell_type": "code",
      "execution_count": 40,
      "metadata": {
        "colab": {
          "base_uri": "https://localhost:8080/"
        },
        "id": "sJwCQ-PdB_2d",
        "outputId": "2a31a30d-6a7e-4c9b-8094-cb77c0e6f42a"
      },
      "outputs": [
        {
          "name": "stdout",
          "output_type": "stream",
          "text": [
            "10034\n",
            "10079\n",
            "10079\n",
            "45\n"
          ]
        }
      ],
      "source": [
        "str_text = auxiliar_full_lines\n",
        "# cantidad de ocurrencias con texto ¿Te interesa esta noticia?\n",
        "pattern = r\"\\¿Te interesa esta noticia\\?\"\n",
        "results = re.findall(pattern, str_text)\n",
        "print(len(results))\n",
        "\n",
        "# cantidad de ocurrencias con texto Te interesa esta noticia - sin signos de pregunta\n",
        "pattern_1 = r\"Te interesa esta noticia\"\n",
        "results_1 = re.findall(pattern_1, str_text)\n",
        "print(len(results_1))\n",
        "\n",
        "# cantidad de ocurrencias con texto Te interesa esta noticia? - sin signos de pregunta\n",
        "pattern_2 = r\"\\¿?Te interesa esta noticia\\?\"\n",
        "results_2 = re.findall(pattern_2, str_text)\n",
        "print(len(results_1))\n",
        "\n",
        "# cantidad de ocurrencias con texto Te interesa esta noticia? - sin signos de pregunta\n",
        "pattern_3 = r\"[^¿]Te interesa esta noticia?\"\n",
        "results_3 = re.findall(pattern_3, str_text)\n",
        "print(len(results_3))\n",
        "\n",
        "# CONCLUSION:\n",
        "# No siempre ocurre en el inicio\n",
        "# no siempre arranca con el simbolo ¿"
      ]
    },
    {
      "cell_type": "markdown",
      "metadata": {
        "id": "Ai737VADFkKg"
      },
      "source": [
        "#### Solucion"
      ]
    },
    {
      "cell_type": "code",
      "execution_count": 41,
      "metadata": {
        "colab": {
          "base_uri": "https://localhost:8080/"
        },
        "id": "yqCjTrRBE2ab",
        "outputId": "e99e3658-bdbb-4fca-ff8d-5cc16c0c8203"
      },
      "outputs": [
        {
          "name": "stdout",
          "output_type": "stream",
          "text": [
            "\"Jaque\" al fideicomiso en garantía      LORENA JONES Hace unos días se dio a conocer la tan esperada sentencia del Juzgado Letrado de Concursos de 1o turno que puso fin al incidente generado por la rescisión del contrato de fideicomiso que vinculaba a Paylana S.A. con el Banco de la República (BROU). La decisión judicial ha provocado diversas reacciones. En el ámbito académico, la cátedra se encuentra dividida en cuanto a este asunto pero, sin lugar a dudas, el fallo no es compartido por las instituciones que se encuentran en una situación semejante, temerosas de perder sus garantías fiduciarias, tal como sucedió con el BROU en el caso que nos compete en la columna de hoy. CONCEPTO. El fideicomiso en garantía es un negocio por el cual el deudor de una obligación, transfiere bienes o derechos propios a favor de un patrimonio de afectación administrado por un fiduciario, con el encargo que, al vencimiento de las obligaciones garantizadas y en caso de incumplimiento, el fiduciario realice el patrimonio afectado en garantía y con el producido cancele el pasivo. Cuando el beneficiario de un fideicomiso en garantía es una institución de intermediación financiera, como en este caso el BROU, la ley autoriza que el Banco sea al mismo tiempo beneficiario -acreedor- y fiduciario. En cuanto a las ventajas del fideicomiso en garantía, la doctrina señala su mayor flexibilidad y celeridad derivada de la ejecución extrajudicial de los bienes, lo que lo distingue de otros instrumentos de garantía como la hipoteca. En teoría, o al menos hasta ahora, resultaba una garantía jurídica segura y eficaz para el acreedor. La empresa sanducera Paylana mantiene una deuda con el BROU por US$ 21 millones, la cual fue parcialmente garantizada mediante un fideicomiso en garantía, constituido sobre los créditos presentes y futuros a favor de la empresa textil. NORMATIVA. La normativa aplicable en este caso es la reciente ley 18.387 (2008) que regula la declaración judicial del concurso y la reorganización empresarial, cuyo énfasis está puesto en la supervivencia de las unidades productivas económicamente viables, así como la eficiente y equitativa liquidación de las que no lo sean. Dicha ley incluye en su artículo 68 la posibilidad de rescindir unilateralmente por el síndico o el deudor con autorización del interventor, determinados contratos celebrados por el deudor con anterioridad a la apertura del concurso. El inciso primero del artículo establece: \"Art. 68. (Contratos pendientes de ejecución). En caso de existir a la fecha de declaración del concurso, contratos de los cuales deriven obligaciones del deudor pendientes de ejecución, se procederá de la forma siguiente: 1. El síndico o el deudor con la autorización del interventor, tendrán la facultad de rescindir unilateralmente el contrato, notificando este hecho a la contraparte, dentro del plazo establecido para que los acreedores presenten la solicitud de reconocimiento de sus créditos\". La ley permite a la administración concursal interrumpir el cumplimiento de los \"contratos de los cuales deriven obligaciones del deudor pendientes de ejecución\", cuando entienda que estos no generan un beneficio a la masa. La pregunta es: ¿el fideicomiso en garantía puede ser alcanzado por esta norma? EL CASO. Paylana S.A. al amparo del art. 68 de la ley 18.387 y autorizada por la intervención, promovió la rescisión del contrato de fideicomiso en garantía celebrado el 5 de mayo de 2010 a favor el BROU. El BROU se opuso sosteniendo que no existían obligaciones pendientes de cumplimiento, por cuanto se trata de un contrato de cumplimiento instantáneo cuya obligación principal es la constitución del patrimonio de afectación. Paylana sostiene que existen obligaciones pendientes de ejecución y reclama la devolución de los créditos por ventas que se hayan transferido a favor del BROU en virtud del contrato rescindido. El reciente fallo judicial declaró que los requisitos exigidos por la ley 18.387 se verifican en el caso, señalando que la norma no distingue entre diferentes tipos de contratos y de obligaciones pendientes de ejecución. Según la sentencia, los requisitos exigibles en forma acumulativa son: 1. que exista uno o más contratos de los cuales deriven obligaciones a cargo del deudor concursado, y 2. que dichas obligaciones se encuentren pendientes de ejecución a la fecha de declaración del concurso. Conforme surge del fallo, se trata de una norma de excepción que desequilibra el régimen general de las obligaciones y por consiguiente de interpretación estricta. En definitiva, el Juzgado de Concursos falló a favor de rescindir parcialmente el fideicomiso que el BROU tenía con la textil, entendiendo que en el caso existen obligaciones pendientes de ejecución a cargo de Paylana, lo que implica que el banco se transforme en un acreedor quirografario -sin garantía- sumándose a la lista de acreedores de la empresa. El fallo consideró que las obligaciones de pago de los gastos y honorarios extraordinarios derivados de la gestión y administración de los bienes así como el pago por concepto de comisiones fiduciarias que Paylana debía abonar al BROU, conforme a lo pactado en el contrato de fideicomiso, constituyen las obligaciones pendientes de ejecución que exige el legislador. Es compartible la opinión de la Sede en cuanto a la existencia de obligaciones pendientes de ejecución por parte del deudor, pero no se puede desconocer que dichas obligaciones son instrumentales respecto a las obligaciones principales del contrato de garantía. El eje de la discusión consiste en determinar si la trascendencia de las referidas obligaciones accesorias, justifican la rescisión del fideicomiso. INTERPRETACIONES. Para quienes no comparten la sentencia resulta evidente que el espíritu y finalidad de esta norma -ratio legis- no responde a este tipo de negocios jurídicos de garantía. Parece claro, que la norma fue prevista para otro tipo de situaciones, por ejemplo, un contrato de suministro o de arrendamiento a largo plazo, que implique una carga negativa para la masa de acreedores y para la propia continuidad de la empresa. Una interpretación teleológica o finalista de la norma no permitiría incluir este tipo de negocios de garantía dentro de los contratos alcanzados por el derecho potestativo de rescisión consagrado en la ley 18.387. En cambio, una interpretación esclava del texto de la ley no permite distinguir al intérprete donde el legislador no lo hizo. Postura a la que parece haberse afiliado el fallo de primera instancia. Nos preguntamos si el BROU hubiese renunciado al cobro de las obligaciones pendientes de cumplimiento -gastos, honorarios y comisiones- ¿habría conservado su garantía? Creemos que sí, e indudablemente tal situación sería mucho más beneficiosa para el BROU. Se encuentran enfrentados, por un lado, el interés por la recomposición de los activos que va de la mano con la continuidad de la empresa y por otro, la tutela de los derechos de los acreedores garantizados mediante contratos de fideicomiso que perderían la seguridad que hasta ahora les brindaba ese contrato. Las consecuencias económicas que el fallo acarrearía a los bancos, no pueden ser ajenas a la hora de analizar el fondo del asunto y eventualmente de una reforma legislativa. CONSECUENCIAS. Es razonable pensar que disminuirá sensiblemente la confianza en este tipo de negocio de garantía, el que dejaría de utilizarse, pero además tendría un efecto devastador respecto de los fideicomisos en garantía ya celebrados. ¿Qué deben hacer los bancos? ¿Qué hará el BCU? ¿Deberán recalificar los créditos y previsionarlos conforme a los nuevos riesgos? ¿Qué banco puede estar a salvo de que su deudor entre en concurso? No se puede dejar de reconocer, siguiendo la más prestigiosa doctrina, que la vulneración de la eficacia del fideicomiso en garantía representa una grave lesión a la posibilidad de acceso al crédito de los operadores económicos. En los próximos días se pronunciará el Tribunal de Apelaciones. De todas formas, sería conveniente que un tema tan sensible y trascendente para la actividad empresarial y bancaria sea resuelto definitivamente por el Poder Legislativo, despejando la incertidumbre que pueden generar las distintas interpretaciones judiciales.\n",
            "\n",
            "\n"
          ]
        }
      ],
      "source": [
        "# REEMPLAZO:\n",
        "testing_str = lines[25015]\n",
        "\n",
        "replace_pattern = r\"\\¿?Te interesa esta noticia\\?\"\n",
        "result = re.sub(replace_pattern, '', testing_str)  \n",
        "print(result)\n",
        "print('')\n",
        "\n",
        "# cantidad de ocurrencias con texto -¿Te interesa esta noticia?-\n",
        "pattern = r\"\\¿?Te interesa esta noticia\\?\"\n",
        "results = re.findall(pattern, total_result)"
      ]
    },
    {
      "cell_type": "code",
      "execution_count": 42,
      "metadata": {
        "colab": {
          "base_uri": "https://localhost:8080/"
        },
        "id": "Jx3zUtgEZCs0",
        "outputId": "40e46b09-c433-435f-e9cd-cef62151ae15"
      },
      "outputs": [
        {
          "name": "stdout",
          "output_type": "stream",
          "text": [
            "Antes - 10079\n",
            "Despues - 0\n"
          ]
        }
      ],
      "source": [
        "str_text = auxiliar_full_lines\n",
        "\n",
        "# analisis de recorrer todo el texto\n",
        "replace_pattern = r\"\\¿?Te interesa esta noticia\\?\"\n",
        "results = re.findall(pattern, str_text)\n",
        "print(f'Antes - {len(results)}')\n",
        "\n",
        "text_result = re.sub(replace_pattern, '', str_text)  \n",
        "results = re.findall(pattern, text_result)\n",
        "print(f'Despues - {len(results)}')\n"
      ]
    },
    {
      "cell_type": "markdown",
      "metadata": {
        "id": "vjVQs_oQyizY"
      },
      "source": [
        "### Correos\n"
      ]
    },
    {
      "cell_type": "markdown",
      "metadata": {
        "id": "1teIEOSY1_VY"
      },
      "source": [
        "**NOTAR QUE ADEMAS, EL TEXTO ES UN JUEGO DE CRUCIGRAMA**"
      ]
    },
    {
      "cell_type": "code",
      "execution_count": 43,
      "metadata": {
        "colab": {
          "base_uri": "https://localhost:8080/"
        },
        "id": "QQ73PM8Syizo",
        "outputId": "fc730f8c-c1d5-44ac-9dc4-7a224bd90652"
      },
      "outputs": [
        {
          "name": "stdout",
          "output_type": "stream",
          "text": [
            "Rincón de juegos Por Leonardo Conde, especial para EL PAIS CondeLeonardo@netscape.net HORIZONTALES 1) Cruel, refinada y pervertida. 7) Emplear el dinero en alguna cosa. 13) Levantan, alzan. 14) Acicalado, pulcro, limpio. 15) Zumaque, arbusto. 16) Cuero curtido de modo que conserve su pelo natural. 18) Tercer día del mes. 19) Rey de Tebas, que dio muerte a su padre y luego se casó con su propia madre. 21) Iglesia catedral. 23) Esposa de Joaquín, madre de María. 24) Santo, si no es Domingo, Tomás o Toribio. 25) Halago o adulación fingidos. 27) Cama portátil plegable. 29) Empleo. 33) Parte coloreada del ojo que rodea la pupila. 34) Cerveza ligera inglesa. 35) Muesca de guía que tienen los tipos de imprenta. 36) Halo, disco luminoso que suele ponerse detrás de la cabeza de las imágenes de santos. 38) Mazo para romper piedras, almádena. 39) Sujetapapeles de alambre. 40) Yerno de Mahoma. 41) Pandero ceremonial de los árabes. 44) Adverbio de modo. 45) Vaso antiguo, en forma de cuerno o de cabeza de animal, usado en los banquetes. 48) Ijada. 50) Letra griega. 52) Azuela, herramienta de carpintero. 53) Ciudad cuyas murallas se derrumbaron al sonar las trompetas de sus sitiadores. 55) Van a donde los llaman o necesitan. 57) Posturas del yoga. 58) Diosa griega, madre de Artemisa y Apolo. VERTICALES: 1) Jorge ..., recordado arquero de Nacional, campeón del mundo con los tricolores. 2) Avalancha de nieve. 3) Apartarse, abandonar una empresa o intento ya iniciado o proyectado. 4) Cuatro en el circo romano. 5) De Niro, en \"Los Intocables\". 6) Ave trepadora americana. 7) El que remaba forzado en las galeras. 8) Moneda romana de bronce. 9) Hermano menor de Caín. 10) Nombre de la plantación de Scarlett O`Hara. 11) Antiguo protectorado británico en el extremo SO de Arabia (actual Yemen). 12) Flor del azafrán. 17) Dios de la Medicina, hijo de Apolo. 20) Unidad para medir distancias interestelares. 22) Cinturón de seda del kimono. 26) Hidróxido metálico que actúa como base fuerte. 27) Famosa sigla de los servicios secretos norteamericanos. 28) Archipiélago de Indonesia. 30) Enfadado, iracundo, enojado. 31) Pedro, Iván o Nicolás. 32) Indio fueguino. 34) Vientos fijos que soplan de la zona tórrida, con inclinación al nordeste o al sudeste, según el hemisferio. 37) Onda marina. 38) Instrumento musical que consiste en una calabaza con granos de maíz o piedritas en su interior. 41) Astil de la llave, entre el ojo y el paletón. 42) Achaques, dolencias habituales de la vejez. 43) Extraña, poco frecuente, como algunas tierras. 46) Aguardiente anisado y muy dulce. 47) Canción de cuna. 49) Río de Alemania. 51) Semejante, parecido. 54) Calcio. 56) Do, pero hace mucho tiempo.  Utilidades\n",
            "\n"
          ]
        }
      ],
      "source": [
        "print(lines[82])"
      ]
    },
    {
      "cell_type": "markdown",
      "metadata": {
        "id": "NGgCdjKEyizo"
      },
      "source": [
        "Rincón de juegos Por Leonardo Conde, especial para EL PAIS `CondeLeonardo@netscape.net` HORIZONTALES 1) Cruel, refinada y pervertida. 7) Emplear el dinero en alguna cosa. 13) Levantan, alzan. 14) Acicalado, pulcro, limpio. 15) Zumaque, arbusto. 16) Cuero curtido de modo que conserve su pelo natural. 18) Tercer día del mes. 19) Rey de Tebas, que dio muerte a su padre y luego se casó con su propia madre. 21) Iglesia catedral. 23) Esposa de Joaquín, madre de María. 24) Santo, si no es Domingo, Tomás o Toribio. 25) Halago o adulación fingidos. 27) Cama portátil plegable. 29) Empleo. 33) Parte coloreada del ojo que rodea la pupila. 34) Cerveza ligera inglesa. 35) Muesca de guía que tienen los tipos de imprenta. 36) Halo, disco luminoso que suele ponerse detrás de la cabeza de las imágenes de santos. 38) Mazo para romper piedras, almádena. 39) Sujetapapeles de alambre. 40) Yerno de Mahoma. 41) Pandero ceremonial de los árabes. 44) Adverbio de modo. 45) Vaso antiguo, en forma de cuerno o de cabeza de animal, usado en los banquetes. 48) Ijada. 50) Letra griega. 52) Azuela, herramienta de carpintero. 53) Ciudad cuyas murallas se derrumbaron al sonar las trompetas de sus sitiadores. 55) Van a donde los llaman o necesitan. 57) Posturas del yoga. 58) Diosa griega, madre de Artemisa y Apolo. VERTICALES: 1) Jorge ..., recordado arquero de Nacional, campeón del mundo con los tricolores. 2) Avalancha de nieve. 3) Apartarse, abandonar una empresa o intento ya iniciado o proyectado. 4) Cuatro en el circo romano. 5) De Niro, en \"Los Intocables\". 6) Ave trepadora americana. 7) El que remaba forzado en las galeras. 8) Moneda romana de bronce. 9) Hermano menor de Caín. 10) Nombre de la plantación de Scarlett O`Hara. 11) Antiguo protectorado británico en el extremo SO de Arabia (actual Yemen). 12) Flor del azafrán. 17) Dios de la Medicina, hijo de Apolo. 20) Unidad para medir distancias interestelares. 22) Cinturón de seda del kimono. 26) Hidróxido metálico que actúa como base fuerte. 27) Famosa sigla de los servicios secretos norteamericanos. 28) Archipiélago de Indonesia. 30) Enfadado, iracundo, enojado. 31) Pedro, Iván o Nicolás. 32) Indio fueguino. 34) Vientos fijos que soplan de la zona tórrida, con inclinación al nordeste o al sudeste, según el hemisferio. 37) Onda marina. 38) Instrumento musical que consiste en una calabaza con granos de maíz o piedritas en su interior. 41) Astil de la llave, entre el ojo y el paletón. 42) Achaques, dolencias habituales de la vejez. 43) Extraña, poco frecuente, como algunas tierras. 46) Aguardiente anisado y muy dulce. 47) Canción de cuna. 49) Río de Alemania. 51) Semejante, parecido. 54) Calcio. 56) Do, pero hace mucho tiempo.  Utilidades\n"
      ]
    },
    {
      "cell_type": "markdown",
      "metadata": {
        "id": "dDdVJBQy0S0Y"
      },
      "source": [
        "#### Casos con el texto \"Boris Cristoff\" - son horoscopos- considero que deberian eliminarse"
      ]
    },
    {
      "cell_type": "code",
      "execution_count": 45,
      "metadata": {
        "colab": {
          "base_uri": "https://localhost:8080/"
        },
        "id": "Pg__n_G8B4y2",
        "outputId": "f1fb3611-e8c5-4571-d097-40725570958f"
      },
      "outputs": [
        {
          "name": "stdout",
          "output_type": "stream",
          "text": [
            "120692\n",
            "155\n",
            "142\n"
          ]
        }
      ],
      "source": [
        "auxiliar_lines = lines\n",
        "print(len(auxiliar_lines))\n",
        "\n",
        "res = [line for line in auxiliar_lines if 'Boris Cristoff' in line]\n",
        "print(len(res))\n",
        "regex =  r\"Boris Cristoff .*?Digital\\n\"\n",
        "res_2 = [line for line in auxiliar_lines if re.search(regex, line)]\n",
        "print(len(res_2))"
      ]
    },
    {
      "cell_type": "code",
      "execution_count": 46,
      "metadata": {
        "colab": {
          "base_uri": "https://localhost:8080/"
        },
        "id": "G1JRr_YZEC0O",
        "outputId": "8b002441-c8e6-4997-930d-fa5bb2fb96fb"
      },
      "outputs": [
        {
          "name": "stdout",
          "output_type": "stream",
          "text": [
            "120692\n"
          ]
        },
        {
          "data": {
            "text/plain": [
              "120550"
            ]
          },
          "execution_count": 46,
          "metadata": {},
          "output_type": "execute_result"
        }
      ],
      "source": [
        "auxiliar_lines = lines\n",
        "print(len(auxiliar_lines))\n",
        "\n",
        "regex =  r\"Boris Cristoff .*?Digital\\n\"\n",
        "\n",
        "resulting_lines = list(filter(lambda line: not(re.search(regex, line)), auxiliar_lines))\n",
        "len(resulting_lines)"
      ]
    },
    {
      "cell_type": "markdown",
      "metadata": {
        "id": "e9acxuPn-0jJ"
      },
      "source": [
        "Hay una noticia que habla de boris cristoff"
      ]
    },
    {
      "cell_type": "code",
      "execution_count": 47,
      "metadata": {
        "colab": {
          "base_uri": "https://localhost:8080/",
          "height": 110
        },
        "id": "FN_5Rl9p09hO",
        "outputId": "3a9ad431-3cd0-4627-fa6a-ab1886f24fe4"
      },
      "outputs": [
        {
          "data": {
            "text/plain": [
              "'boris cristoff revela sus predicciones sobre el futuro del uruguay y el mundo \"El presidente Bush está en peligro\" Boris Cristoff presidirá el Primer Congreso Uruguayo de Astrología que tendrá lugar el 7 y 8 de octubre. Entre las predicciones que se harán en el evento, Cristoff destacó el inminente peligro de muerte de Bush y la persistencia de los conflictos por las plantas de celulosa. POR | PABLO PERA PIROTTO Boris Cristoff nunca se queda quieto. A los 81 años tiene las energías de una persona joven y muchas ganas de seguir profundizando en el conocimiento de los astros y su influencia en las personas, algo a lo que ha dedicado más de cuarenta años de su vida. Publica desde hace años el horóscopo en forma diaria, escribe libros que son best sellers, atiende a quienes quieran conocer su destino y, como si fuera poco, ahora está organizando el Primer Congreso Uruguayo de Astrología, en donde promete que se divulgarán predicciones que darán que hablar. -¿Qué temas se tratarán en el congreso? -Se van a tocar temas de la astrología mundial y de la astrología personal, que son cosas distintas. Por ejemplo, al final de la jornada del sábado 7 de octubre va a haber entrada libre para el público y la prensa para que hagan sus preguntas sobre la astrología mundial. -¿Qué predicción destacaría? -Yo en mayo predije que Bush corría peligro de muerte. Anuncié que podría tener peligro el año que viene, ya sea sufrir un atentado o tener una enfermedad grave. Curiosamente, ahora hace poco tiempo se estrenó una película británica que trata este tema, y lo dicen con nombre y apellido. Esto se llama alertismo, que es como una intuición colectiva. -¿Qué puede adelantarse acerca del futuro inmediato de nuestro país, por ejemplo, qué pasará con las plantas de celulosa? -Por lo menos tendremos que aguantar un año más. El 2008 va a ser el gran año para el país, ya que entraremos en otra etapa del horóscopo del Uruguay. Será un época de jauja, menos rutinaria, menos rencorosa, de mayor alegría y productividad. A partir de ese año comenzarán siete años muy productivos para el Uruguay. -¿Y en relación al Mercosur? -Yo escribí en \"Marcha\" hace muchos años que el Uruguay iba a desaparecer para entrar en un conglomerado. Cuando lo publiqué, Quijano me dijo \"No, Boris, no digas pavadas\". Pero yo veía eso. Él después falleció y nunca supo de la creación del Mercosur. Es que dentro de más o menos 90 años los estados van a desaparecer. Hoy en día gobiernan los mercados, lo económico, y así va a ser cada vez más. -¿Usted siempre destaca que adelantó la aparición del SIDA? -Sí, claro, eso fue en mi libro \"La catástrofe del 83\", en donde digo que lo que tengo por seguro es que va a haber una gran peste como la que existió en 1347. Y resultó peor que aquella. Hoy estamos a 23 años, y el SIDA sigue en aumento. Esta enfermedad va a durar 93 años más. Ahí también hablé del agujero de ozono. Ese libro vendió un millón y medio de ejemplares en todo el mundo y se tradujo a varios idiomas. -¿Le parece que hoy en día la astrología está más aceptada por la gente? -Sí, sí, mucho más que cuando yo empecé en el año 1963. Es la madre de todos los conocimientos humanos, aunque muchos digan lo contrario. -¿Se refiere a los astrónomos? -La astronomía deriva de la astrología. Nosotros damos un elemento diferente, que es el conocimiento, que ellos no dan. Qué nos interesa si Plutón es enano como están diciendo ahora o si es gigante. Son pavadas de leguleyos y burócratas. La cosa es que sigue estando ahí. Algo parecido ocurrió cuando dijeron lo de los catorce signos. Son cosas que hacen para romper el esquema astrológico, pero no pueden hacerlo. -¿Usted sigue enseñando astrología, Boris? -Yo tengo alumnos desde el año 1982. Desde entonces debo haber formado unos 300 astrólogos. Muchos de ellos empezaron a trabajar cuando aparecieron los teléfonos 0900, que hoy son las líneas que más plata le dan a ANTEL junto con el tarot.  Utilidades\\n'"
            ]
          },
          "execution_count": 47,
          "metadata": {},
          "output_type": "execute_result"
        }
      ],
      "source": [
        "lines[80779]"
      ]
    },
    {
      "cell_type": "markdown",
      "metadata": {
        "id": "MRQbIRG6swWt"
      },
      "source": [
        "#### Textos con el correo CondeLeonardo@netscape.net Y CondeLeonardo@aol.com son crucigramas de Leonardo Conde"
      ]
    },
    {
      "cell_type": "code",
      "execution_count": 48,
      "metadata": {
        "colab": {
          "base_uri": "https://localhost:8080/"
        },
        "id": "lQ6l41KBtswF",
        "outputId": "852d24b2-6de9-4bb6-cfff-40e1121338ac"
      },
      "outputs": [
        {
          "name": "stdout",
          "output_type": "stream",
          "text": [
            "120692\n",
            "733\n"
          ]
        },
        {
          "data": {
            "text/plain": [
              "119959"
            ]
          },
          "execution_count": 48,
          "metadata": {},
          "output_type": "execute_result"
        }
      ],
      "source": [
        "auxiliar_lines = lines\n",
        "print(len(auxiliar_lines))\n",
        "\n",
        "regex =  r\"CondeLeonardo@netscape.net\"\n",
        "\n",
        "searching = [line for line in auxiliar_lines if re.search(regex, line, re.IGNORECASE)]\n",
        "print(len(searching))\n",
        "\n",
        "resulting_lines = list(filter(lambda line: not(re.search(regex, line, re.IGNORECASE)), auxiliar_lines))\n",
        "len(resulting_lines)"
      ]
    },
    {
      "cell_type": "markdown",
      "metadata": {
        "id": "MfqfWGue0-Mn"
      },
      "source": [
        "#### Analisis de correos"
      ]
    },
    {
      "cell_type": "code",
      "execution_count": 49,
      "metadata": {
        "colab": {
          "base_uri": "https://localhost:8080/"
        },
        "id": "2se1RDKbs78F",
        "outputId": "dfa76e70-b77d-403d-cf58-36633428393a"
      },
      "outputs": [
        {
          "name": "stdout",
          "output_type": "stream",
          "text": [
            "544\n",
            "ng Martín Colombo | mcolombo@ferrere.comvie nov 8\n",
            "OR Gabriela Rocha | grocha@elpais.com.uy El\n",
            "ia Martín Fridman | mfridman@ferrere.comvie nov 1\n",
            "OR GABRIELA ROCHA | GROCHA@ELPAIS.COM.UY Ha\n",
            "laudio Destéfano* | claudio@bizers.com.ar El\n",
            "OR Silvana Nicola | snicola@elpais.com.uy Co\n",
            "ella Maris Pusino | spusino@elpais.com.uy In\n",
            " Antonio Larronda | alarronda@elpais.com.uy Ya\n",
            "DOLFO M. IRIGOYEN | romairigoyen@adinet.com.uy En\n",
            "POR Mariana Goday | mgoday@elpais.com.uy Ll\n",
            "or Diego Ferreira | dferreira@elpais.com.uy Ax\n",
            "os GABRIELA ROCHA | grocha@elpais.com.uy La\n",
            "POR Mariana Goday | mgoday@elpais.com.uy Si\n",
            "QUÍN SECCO GARCÍA | josecco@yahoo.com En lo\n",
            "OR GASTÓN PÉRGOLA | gpergola@elpais.com.uy ¿C\n",
            "or Silvana Nicola | snicola@elpais.com.uy Ca\n",
            "or Diego Ferreira | dferreira@elpais.com.uy So\n",
            "CIAL PARA EL PAIS | CONDELEONARDO@NETSCAPE.NET Estam\n",
            "OR DIEGO FERREIRA | dferreira@elpais.com.uy In\n",
            "R Sebastián Panzl | spanzl@elpais.com.uy Tr\n",
            " IGNACIO QUARTINO | iquartino@elpais.com.uy El\n",
            "Laura V. Meléndez | lmelendez@elpais.com.uy Pa\n",
            "OR GABRIELA ROCHA | grocha@elpais.com.uy El\n",
            "LAURA V. MELÉNDEZ | lmelendez@elpais.com.uy ¿E\n",
            "OR Gabriela Rocha | grocha@elpais.com.uy El\n",
            " NICOLÁS RAMONDE* | nicolas.ramonde@initiative.com.uy De\n",
            "r Nicolás Lussich | nlussich@seragro.com.uy La\n",
            "4Antonio Larronda | alarronda@elpais.com.uy Es\n",
            "OR SILVANA NICOLA | snicola@elpais.com.uy EX\n",
            "OR DIEGO FERREIRA | dferreira@elpais.com.uy <<\n",
            "OR Gabriela Rocha | grocha@elpais.com.uy En\n",
            "dolfo M. Irigoyen | romairigoyen@hotmail.com Una d\n",
            "POR MARIANA GODAY | mgoday@elpais.com.uy Un\n",
            "LAURA V. MELÉNDEZ | lmelendez@elpais.com.uy No\n",
            "014Diego Ferreira | dferreira@elpais.com.uy El\n",
            "JUAN CARLOS RAFFO | jcraffo@elpais.com.uy La\n",
            "r Nicolás Lussich | nlussich@seragro.com.uy La\n",
            " LAURA V. MELÉNDEZ| lmelendez@elpais.com.uy La\n",
            "MÉNEZ DE ARÉCHAGA | pjimenez@seragro.com.uy | \n",
            "014Silvana Nicola | snicola@elpais.com.uy Ar\n",
            " Antonio Larronda | alarronda@elpais.com.uy El\n",
            "or Diego Ferreira | dferreira@elpais.com.uy Po\n",
            "R SEBASTIÁN PANZL | spanzl@elpais.com.uy ¿C\n",
            "014Silvana Nicola | snicola@elpais.com.uy Du\n",
            "or Diego Ferreira | dferreira@elpais.com.uy Un\n",
            "OR Silvana Nicola | snicola@elpais.com.uy Pe\n",
            "laudio Destéfano* | claudio@bizers.com.ar ¿P\n",
            " Nelson Larrañaga | nlarranaga@ferrere.com Dos p\n",
            "POR Mariana Goday | mgoday@elpais.com.uy Añ\n",
            "POR VIRGINIA DÍAZ | vdiaz@elpais.com.uy La\n",
            " Antonio Larronda | alarronda@elpais.com.uy Dr\n",
            "Por Mariana Goday | mgoday@elpais.com.uy En\n",
            "OR Gabriela Rocha | grocha@elpais.com.uy \"H\n",
            "POR MARIANA GODAY | mgoday@elpais.com.uy Gu\n",
            "  Por Jorge Chouy | jchouy@seragro.com.uy La\n",
            "r Nicolás Lussich | nlussich@seragro.com.uy Ur\n",
            "POR Mariana Goday | mgoday@elpais.com.uy Co\n",
            "POR STELLA PUSINO | spusino@elpais.com.uy El\n",
            "014Diego Ferreira | dferreira@elpais.com.uy <<\n",
            "ÓNICA MASSONNIER* | vmass@adinet.com.uy En\n",
            "MÉNEZ DE ARÉCHAGA | pjimenez@seragro.com.uy TR\n",
            "OR GABRIELA ROCHA | grocha@elpais.com.uy Co\n",
            "2014Diego Ferreira| dferreira@elpais.com.uy Es\n",
            "R Malena Castaldi | mcastaldi@elpais.com.uy Co\n",
            "or Gabriela Rocha | grocha@elpais.com.uy Ma\n",
            "4Antonio Larronda | alarronda@elpais.com.uy La\n",
            "POR VIRGINIA DÍAZ | vdiaz@elpais.com.uy - \n",
            "OR GABRIELA ROCHA | grocha@elpais.com.uy ¿C\n",
            "r Nicolás Lussich | nlussich@seragro.com.uy La\n",
            "POR GASTÓN PÉRGOLA| gpergola@elpais.com.uy Co\n",
            "ménez de Aréchaga | pjimenez@seragro.com.uy El\n",
            ":05 Beatriz Pisano| bpisano@ferrere.com Supon\n",
            "014Diego Ferreira | dferreira@elpais.com.uy Su\n",
            "or Silvana Nicola | snicola@elpais.com.uy Se\n",
            "ia?   Por Seragro | seragro@seragro.com.uy La\n",
            "0 Andrés Cerisola | acerisola@ferrere.com Un pa\n",
            "Por Mariana Goday | mgoday@elpais.com.uy La\n",
            " Julie Rothschild | jrothschild@ferrere.comvie ago 1\n",
            "LAURA V. MELÉNDEZ | lmelendez@elpais.com.uy ¿C\n",
            "or Diego Ferreira | dferreira@elpais.com.uy <<\n",
            "OR DIEGO FERREIRA | dferreira@elpais.com.uy Un\n",
            "POR MARIANA GODAY | mgoday@elpais.com.uy ¿P\n",
            "014Diego Ferreira | dferreira@elpais.com.uy La\n",
            "OR Gabriela Rocha | grocha@elpais.com.uy La\n",
            "014Diego Ferreira | dferreira@elpais.com.uy <<\n",
            "  Por Jorge Chouy | jchouy@seragro.com.uy Ha\n",
            "OR DIEGO FERREIRA | dferreira@elpais.com.uy Ar\n",
            "? POR David Gómez | editor@webpc.com.uy So\n",
            "014Diego Ferreira | dferreira@elpais.com.uy As\n",
            "OR DIEGO FERREIRA | dferreira@elpais.com.uy Gr\n",
            "014Diego Ferreira | dferreira@elpais.com.uy En\n",
            "or Silvana Nicola | snicola@elpais.com.uy Or\n",
            "LAURA V. MELÉNDEZ | lmelendez@elpais.com.uy ¿C\n",
            "ELLA MARIS PUSINO | spusino@elpais.com.uyvie\n",
            " STELLA M. PUSINO | spusino@elpais.com.uy ¿C\n",
            "OR DIEGO FERREIRA | dferreira@elpais.com.uy El\n",
            "ella Maris Pusino | spusino@elpais.com.uy Es\n",
            "OR GASTÓN PÉRGOLA | gpergola@elpais.com.uy ¿C\n",
            "OR GABRIELA ROCHA | grocha@elpais.com.uy Lo\n",
            "OR GABRIELA ROCHA | grocha@elpais.com.uy Pe\n"
          ]
        }
      ],
      "source": [
        "str_text = auxiliar_full_lines\n",
        "\n",
        "regex = r'..................\\| \\b[\\w.-]+?@\\w+?\\.\\w+?\\b......'\n",
        "results = re.findall(regex,str_text) \n",
        "\n",
        "results = [line for line in results if not('CondeLeonardo@netscape.net' in line)]\n",
        "results = [line for line in results if not('CondeLeonardo@aol.com' in line)]\n",
        "results = [line for line in results if not('cristoff@adinet.com.uy' in line)]\n",
        "\n",
        "print(len(results))\n",
        "for find in results[:100]:\n",
        "  print(find)"
      ]
    },
    {
      "cell_type": "code",
      "execution_count": 50,
      "metadata": {
        "colab": {
          "base_uri": "https://localhost:8080/"
        },
        "id": "RlJhd_3WvtjK",
        "outputId": "3ba8afec-8a33-4b5b-8bd7-28060fc04c32"
      },
      "outputs": [
        {
          "name": "stdout",
          "output_type": "stream",
          "text": [
            "Total emails: 3045\n",
            "distinct emails: 791\n",
            "{'fliadicbo@hotmail.com': 1, 'yuri.lopezfarias@hotmail.com': 1, 'cultura@ucu.edu': 1, 'culturapop@um.edu': 1, 'redjuez@gmail.com': 1, 'barialrius@yahoo.com': 4, 'consulado@uruguaymiami.org': 3, 'centropiazzolla@hotmail.com': 1, 'spapostolo@cultura.com': 1, 'luis10_624@hotmail.com': 1, 'arquiferblanco1@msn.com': 1, 'paularsvp@elpais.com': 1, 'tar132002@hotmail.com': 1, 'romairigoyen@hotmail.com': 1, 'djcarlitos@microsoft.com': 1, 'info@anv.gub': 1, 'icau@mec.gub': 1, 'teijeiro@adinet.com': 1, 'eventos@hoteldelprado.com': 1, 'fesur@fesur.org': 1, 'angelo91234@aol.com': 1, 'cedres@zipmail.com': 1, 'mlecuona@ferrere.com': 1, 'loopez@adinet.com': 1, 'mdacosta@ferrere.com': 1, 'Cafferamcaffera@ferrere.comvie': 1, 'braford@adinet.com': 1, 'proyectofelisberto2013@gmail.com': 2, 'caballeroazul06@hotmail.com': 1, 'prensa@bocajuniors.com': 1, 'materos_g@libero.it': 1, 'ofecavero@hotmail.com': 1, 'Info@daresrecibir.org': 1, 'Claudio@bizers.com': 1, 'a.mejaie@adinet.com': 1, 'paulanavascues17@hotmail.com': 1, 'arbolvp@gmail.com': 1, 'jardinurbano@montevideo.com': 1, 'viviana.fridman@weizmann.ac': 1, 'jiribarne@ferrere.com': 1, 'bmarino@bmarino.com': 1, 'eventos@costaurbana.com': 1, 'empty@terra.com': 1, 'luzcabien@cupcat.org': 1, 'contacto@quieroavisos.com': 1, 'librokrantzmvd@gmail.com': 1, 'gilco@cantv.net': 1, 'momiagitana@yahoo.com': 1, 'romancho@wanadoo.es': 1, 'wa@brazil.zzn': 1, 'jseccogarcia@gmail.com': 6, 'contacto@gallaghersmvd.com': 1, 'jeannettepintado712@hotmail.com': 1, 'devino@clubelpais.com': 2, 'fleitas30@msn.com': 1, 'mendezymendez@msn.com': 1, 'litjuan@uic.edu': 1, 'gabyclau14@hotmail.com': 1, 'jrothschild@ferrere.comvie': 3, 'info@tenemosquever.org': 1, 'radiomalaga@malagacf.es': 1, 'nutricion@msp.gub': 1, 'conciertosdeleste@gmail.com': 1, 'revistasolis@terare.com': 1, 'maryrios@internet.com': 1, 'enriquebird@hotmail.com': 1, 'lauralattanzi@hotmail.com': 1, 'danza.animacion@gmail.com': 1, 'movilidad@imm.gub': 1, 'hola@purorganico.com': 1, 'nicolasfumia@adinet.com': 2, 'quique.ramos@nbc.com': 1, 'editor@webpc.com': 3, 'XXX@outlook.com': 1, 'ude@ude.edu': 1, 'mdiaz@inia.org': 1, 'angbarrios@hotmail.com': 1, 'extensionsubtemvd@gmail.com': 2, 'fletcherolivera@gmail.com': 1, 'hebert_pastorino@hotmail.com': 1, 'grocha@elpais.ñcom': 1, 'boomcompany@dedicado.net': 3, 'goycochea@yahoo.com': 1, 'asadodetira@hotmail.com': 1, 'kjpp1976@hotmail.com': 1, 'pitcnt@adinet.com': 1, 'jdominguez@ferrere.comvie': 1, 'internet@elpais.com': 2, 'musicaviva@adinet.com': 1, 'joséluistaramasco@hotmail.com': 1, 'olicamberra@hotmail.com': 1, 'Historiet@s.uy': 1, 'ab185002@exchange.UnitedKingdom': 1, 'spusino@elpaís.com': 1, 'dariobertorelli@yahoo.com': 1, 'atomassoni@hotmail.com': 1, 'jorgelpereira@cantv.net': 1, 'wespi_minas@hotmail.com': 1, 'info@sbysteam.com': 1, 'info@carapellifirenze.it': 1, 'aida2205@prodigy.net': 1, 'dario@intermeat.com': 1, 'crisuanl@hotmail.com': 1, 'laredcvd@adinet.com': 1, 'CinnamonMuneca@aol.com': 1, 'aguarino@grey.com': 1, 'profe@kalijunfan.com': 1, 'pjimenez@seragro.com': 20, 'info@turismorocha.gub': 1, 'marali020@hotmail.com': 1, 'jorged67@aol.com': 1, 'figu37@hotmail.com': 1, 'LMELENDEZ@ELPAIS.COM': 2, 'Barilarius@yahoo.com': 3, 'fulvino@virgilio.it': 1, 'casting.internacional@montevideo.com': 1, 'MFQ1962@YAHOO.COM': 1, 'carmenp@rogers.com': 1, 'info@bgmoca.org': 1, 'Pintocpinto@ferrere.comvie': 1, 'distraccion@canal10.com': 1, 'info@bodegascarrau.com': 3, 'comunicaciones@msp.gub': 1, 'luiguigt@yahoo.com': 1, 'vila.fernando@hotmail.com': 1, 'weston_c_i@msn.com': 1, 'dferreira@elpais.com': 158, 'poe.elcorazondelator@gmail.com': 1, 'diego.roman@ginkgo.com': 1, 'aleph1126@yahoo.com': 1, 'Cabrera769@aol.com': 1, 'spanzl@elpais.com': 48, 'CondeLeonardo@aol.com': 36, 'srrnuedy@adinet.com': 1, 'quieromascultura@gmail.com': 1, 'consultapublica.inversiones@mef.gub': 1, 'paseodelhotel.gestion@gmail.com': 1, 'pomardante@bol.com': 1, 'Cerisolaacerisola@ferrere.com': 1, 'rcd@montevideo.com': 1, 'atumundocrece@italcred.com': 1, 'plantabaja@contenidos.com': 1, 'abello@uruguayxxi.gub': 1, 'jcraffo@elpais.com': 11, 'isolhodara@gmail.com': 1, 'chevere-producciones@adinet.com': 1, 'arrobamujer@schering.com': 1, 'cecilia@laportainc.com': 1, 'dee@ciu.com': 1, 'conferencia@ikusi.org': 1, 'CONDELEONARDO@NETSCAPE.NET': 3, '1000promotoresddhh@gmail.com': 1, 'teresabelkis@hotmail.com': 1, 'rossanaelizabeth_martinezfuentes@yahoo.com': 1, 'eileen.armstrong@gmail.com': 2, 'hartmann@metrix.com': 1, 'lnueva@adinet.com': 1, 'dpavoni@azulfm.com': 1, 'fabianamarillo@aol.com': 1, 'granada42@latinmail.com': 1, 'camurlib@adinet.com': 1, 'yadir@adinet.com': 1, 'market@docmontevideo.com': 1, 'agusmar100@fibertel.com': 1, 'cristoff@adinet.com': 59, 'comjuv@adinet.com': 1, 'jw@wacomunicacion.com': 1, 'jpablovera@hotmail.com': 1, 'vdiaz@elpais.com': 14, 'cabopoloniohostel@hotmail.com': 1, 'info@fica.org': 1, 'jguazzone@ubbi.com': 1, 'ddrexler@adinet.com': 1, 'helena66se@yahoo.se': 1, 'cfalco@ferrere.comvie': 1, 'ecos@elpais.com': 2, 'bus@tibet.com': 1, 'monicasilveira@inia.org': 1, 'sgerman@inia.org': 1, 'realmenteacustico@gmail.com': 1, 'nlarranaga@ferrere.comvie': 1, 'qpasa@elpais.com': 42, 'progresa@cse.edu': 1, 'lgiudice@ferrere.comvie': 1, 'comunicacion@frenteamplio.org': 1, 'clases@chocolatier.com': 1, 'crespochiqui@hotmail.com': 1, 'Larrondaalarronda@elpais.com': 2, 'CondeLeonardo@netscape.net': 724, 'robertomelchiori@tin.it': 1, 'jchouy@seragro.com': 43, 'gonzalo@física.edu': 1, 'asoepoc@adinet.com': 1, 'info@forumganadero.com': 1, 'elbio@elbiobarilari.com': 2, 'info@fundacionviven.org': 1, 'lotus1@netgate.com': 1, 'Primavera70387@hotmail.com': 1, 'gshechter@iai.co': 1, 'maei.castillon@diplomatie.gouv': 1, 'sannikolasito@hotmail.com': 1, 'consulta16906@mef.gub': 1, 'macapora@cantv.net': 1, 'PAISCondeLeonardo@netscape.net': 3, 'lau1010@hotmail.com': 1, 'frannyglass@adinet.com': 1, 'buenovalentina@hotmail.com': 8, 'fituu@Montevideo.com': 1, 'rosa.perrier@wanadoo.fr': 1, 'Miran37@aol.com': 1, 'luisrivero@rogers.com': 2, 'nandomartinez200@hotmail.com': 1, 'manya2@bellsouth.net': 1, 'druete@gmail.com': 1, 'llamados@pasteur.edu': 1, 'letrasmec@gmail.com': 1, 'adhemar_sosa@yahoo.com': 1, 'etorres@ferrere.comjue': 1, 'bibliotheque@alliancefrancaise.edu': 1, 'simposio_bicentenarios@fhuce.edu': 1, 'bauzil@ortopediaodonnell.com': 1, 'gari@fagro.edu': 1, 'osalernobella@yahoo.com': 1, 'mcastro@inia.org': 1, 'maparipitapa@yahoo.com': 1, 'condeleonardo@netscape.net': 3, 'patricia_lemos@terra.es': 1, 'nlussich@seragro.com': 31, 'comunicacion@usi.org': 1, 'secretaria@ellaboratorio.edu': 1, 'paseosdeciudad@gmail.com': 1, 'reservas@catadores.net': 2, 'terriblesproducciones.uy@gmail.com': 1, 'info@losiracundos.org': 1, 'disergio17@hotmail.com': 1, 'aurelianabuendia@hotmail.com': 1, 'muffiboom@hotmail.com': 1, 'aferroca@piso9.imm': 1, 'milikigol@hotmail.com': 1, 'cruzroja@adinet.com': 1, 'brumala@hotmail.com': 1, 'urma@urma.com': 1, 'alondra68@hotmail.com': 1, 'dcoronel@terare.com': 1, 'femarindmai@yahoo.com': 1, 'iris@elpais.com': 1, 'sosotocano@yahoo.com': 1, 'intercambios@aiesec.org': 1, 'laula3@hotmail.com': 1, 'gallegoyo@yahoo.com': 1, 'produccionortega@gmail.com': 1, 'ayudaescuela196173@gmail.com': 1, 'gganadera@hotmail.com': 1, 'dicomplejas@minterior.gub': 1, 'hluna@seragro.com': 8, 'femagui2000@yahoo.com': 1, 'secinfor@ucu.edu': 1, 'leokushnir@hotmail.com': 1, 'tescritura.lp@gmail.com': 1, 'iquartino@elpais.com': 1, 'obarboza@anep.edu': 1, 'mr.astrada2012@hotmail.com': 1, 'decanato@fcien.edu': 1, 'autos@presidencia.gub': 1, 'jponce@seragro.com': 2, 'secretaria@snap.gub': 1, 'dmh368@rogers.com': 1, 'vvergara@ferrere.com': 1, 'luispereyra@adinet.com': 1, 'tateti@hotmail.com': 1, 'nombre@empresa.com': 1, 'lodeguille-restobar@hotmail.com': 1, 'josecco@yahoo.com': 2, 'reservas@hendrix.com': 2, 's.show@elpais.com': 1, 'causacomun@adinet.com': 1, 'gpergola@elpais.com': 40, 'amart62873@aol.com': 1, 'alejandromoron.uy@gmail.com': 1, 'algodericardo@gmail.com': 2, 'seminarioactuacion@adinet.com': 1, 'elsexoaldivan@canal10.com': 1, 'aliciapablo73@hotmail.com': 1, 'goddone@cpa.com': 1, 'ventagrupos@newmindonline.com': 1, 'clara164@hotmail.com': 1, 'Zulema35@aol.com': 1, 'cintiacavallo@comcast.net': 1, 'ReservasPoe@gmail.com': 1, 'consultas@elbiofernandez.edu': 1, 'mgoday@elpais.com': 104, 'kalimaboliche@gmail.com': 2, 'mcavallo@uruguayxxi.gub': 1, 'Alex_Agurto_Vergara@hotmail.com': 1, 'menesesmakus@yahoo.com': 1, 'bettinabarella@yahoo.com': 1, 'info@moweek.com': 2, 'digital@elpaís.com': 1, 'paco259@pantel.com': 1, 'fernandomonica@netzero.net': 1, 'info@tunombre.com': 1, 'consulado_uy@comcast.net': 2, 'ferballe@hotmail.com': 1, 'internacionaldepoesia@melilla.uned': 1, 'gimnasia.mental@gmail.com': 1, 'gemanci@cantv.net': 1, 'cebtoces@coqui.net': 1, 'dargenio@vergara.com': 1, 'deportes@elpais.com': 1, 'teleton@teleton.org': 3, 'anavinc@hotmail.com': 1, 'jorfahol@hotmail.com': 1, 'f.rodriguez@research.com': 1, 'ftiscornia@elpais.com': 1, 'loreleybarcelo@hotmail.com': 1, 'joanval46@hotmail.com': 1, 'ake_yan@yahoo.com': 1, 'maprieto@sename.cl': 1, 'janneo@adinet.com': 1, 'diegori@adinet.com': 1, 'joalpi48@hotmail.com': 1, 'anocetti@ferrere.comvie': 1, 'maluco@adinet.com': 2, 'turwicz@elpais.com': 1, 'info@icomst2014.org': 1, '2014alarronda@elpais.com': 1, 'tiburcio64@yahoo.com': 1, 'podetti@internet.com': 1, 'de_la_espada_a_new_york@yahoo.com': 1, 'alfilesc@adinet.com': 1, 'ekpwolf@hotmail.com': 1, 'Gaierobgaiero@ferrere.comvie': 1, 'anapetisa59@hotmail.com': 1, 'comunicacionesada@live.com': 1, 'elpepepregunton@hotmail.com': 8, 'guela48@aol.com': 1, 'Sylviafuy@hotmail.com': 1, 'yeliot@rambam.health': 1, 'egf259@hotmail.com': 2, 'JORDARIO@LATINMAIL.COM': 1, 'uce@ftc.gov': 1, 'royggcabrera@hotmail.com': 1, 'CraboledaBeltran@aol.com': 1, 'fgil@ferrere.com': 1, 'lautaro@adinet.com': 1, 'mpesce@ferrere.comvie': 1, 'elizabeth@fierro.as': 1, 'alpaseosdeciudad@gmail.com': 9, 'serseg@webnet.qc': 1, 'kioskolasbarreras@yahoo.com': 1, 'traverfer@hotmail.com': 1, 'barilarius@yahoo.com': 206, 'romairigoyen@adinet.com': 2, 'info@tiketate.com': 1, 'quesos@nonnoantonio.com': 1, 'usuariosss@adinet.com': 1, 'gbenitez@circuloinformatico.com': 1, 'curmson@ri.cmu': 1, 'davcollection@ciudad.com': 1, 'educacion@torresgarcia.org': 1, 'info@losnietitos.com': 1, 'prototipos@ricaldoni.org': 1, 'indicadores@elpais.com': 4, 'luispereyra@hotmail.com': 1, 'mirko19@hotmail.com': 1, 'flia@iuf.edu': 4, 'franquicias@inac.gub': 1, 'clubdelgatouruguay@hotmail.com': 1, 'controltabaco@msp.gub': 1, 'bolso4ever@hotmail.com': 1, 'educacion@mapi.uy': 9, 'info@congresoregionaldestinos.com': 1, 'emprendedores@elpais.com': 1, 'gringuru@hotmail.com': 1, 'crios@elpais.com': 1, 'info@planeta.com': 1, 'jobelgonzalez@yahoo.es': 1, 'info@nickvujicic.uy': 1, 'vamoarruca@hotmail.com': 1, 'VDIAZ@ELPAIS.COM': 1, 'lilianpanizza@hotmail.com': 1, 'sanidadfronteras@msp.gub': 2, 'pocho@yorugua.nu': 1, 'montevideodanza@gmail.com': 1, 'hugo1970delta@hotmail.com': 1, 'beca@ellaboratorio.edu': 1, 'mdar2@tecnocasa.es': 1, 'nicolucas@hotmail.com': 1, 'plabalao@aol.com': 1, 'nahuelgenio2003@yahoo.es': 1, 'salavazferreira@gmail.com': 1, 'proyectoisladeflores@hotmail.com': 1, 'lacompañiadanza@gmail.com': 1, 'mara@compuservice.us': 1, 'alewinsuy@hotmail.com': 1, 'info@um.edu': 1, 'mdba@adinet.com': 1, 'denuncias@inddhh.gub': 1, 'mcacciamanya@hotmail.com': 1, 'mapolito@elpais.com': 1, 'tano@fagro.edu': 4, 'educampo.uy@gmail.com': 1, 'secretaria@adpu.org': 1, 'registronacional.de.mec@gmail.com': 1, 'lilianafox@yahoo.com': 1, 'bhernandez@ferrere.comvie': 1, 'alu@adinet.com': 1, 'deboraska@hotmail.com': 1, 'martaluz@mail2me.com': 1, 'vencuentros@cementeriobritanico.com': 1, 'centrodeinformacion@mec.gub': 1, 'g.eyherabide@larsen.com': 1, 'Jorgearossi@aol.com': 1, 'nathaliegarrido24@hotmail.com': 1, 'javier614@cs.com': 1, 'perezsalinas@yahoo.com': 1, 'esquinasmunicipioe@gmail.com': 1, 'nacer@adinet.com': 1, 'xgomez@ferrere.comvie': 1, 'mirtasuarez@hotmail.com': 2, 'anabellatassano@yahoo.com': 1, 'bds@adinet.com': 1, 'marianelaf@fibertel.com': 1, 'adoptadosuruguay@gmail.com': 1, 'comercioexterior@bahiablancaviviendas.com': 1, 'GPERGOLA@ELPAIS.COM': 2, 'betty24@txucom.net': 1, 'quela62@yahoo.es': 1, 'spanzi@elpais.com': 1, 'uruguay@sistemab.org': 1, 'arealetrasrne.dnc@mec.gub': 1, 'mrszyfer@vtr.net': 1, 'amigosdeatahualpa@adinet.com': 1, 'ripama@adinet.com': 1, 'lupesky@hotmail.com': 2, 'raquellis@hotmail.com': 1, 'dlev@notable.com': 1, 'elmanyaglorioso2004@yahoo.com': 1, 'gcortizas@elpais.com': 2, 'info@patrimoniouruguay.net': 1, 'elara@iprimus.com': 1, 'alftorr@hotmail.com': 1, 'delasdosorillas@yahoo.com': 1, 'autoresenvivo@gmail.com': 2, 'anoguez@brotherspavin.com': 1, 'losno@terra.com': 3, 'anacp@sympatico.ca': 1, 'natyt66@hotmail.com': 1, 'santiagococa@uol.com': 1, 'Armadael@hotmail.com': 1, 'info@marketingdealimentos.com': 1, 'daest@uolsinectis.com': 1, 'imdcultura@adinet.com': 2, 'propicondewillie@uruguayeduca.edu': 1, 'fundelmonte@fundelmonte.es': 1, 'andy_brownlee@yahoo.co': 1, 'andresmesa@adp.com': 1, 'antimurgabcg@gmail.com': 1, 'lorenzog33@yahoo.com': 1, 'manuel.perez.laureiro@spm.com': 1, 'ingreso.meriendas@msp.gub': 1, 'studio@zipcomm.fr': 1, 'costeandouruguay@gmail.com': 1, 'sudei@adinet.com': 1, 'mceabacot@ferrere.comvie': 1, 'showboomcompany@gmail.com': 2, 'consultas@visionechague.com': 1, 'lbensusan@hotmail.com': 2, 'mfq1962@yahoo.com': 4, 'aprosso@adinet.com': 1, 'juammpaa@yahoo.com': 1, 'direcciondelagranja@mgap.gub': 1, 'juan_13_16@hotmail.com': 1, 'mjimenez@seragro.com': 1, 'jcraffo@nbc.com': 3, 'gcardoso@parlamento.gub': 1, 'letypao@cantv.net': 1, 'eldesplanteflamenco@gmail.com': 1, 'ruben@escapenet.com': 1, 'menesesjoselo@hotmail.com': 2, 'ayarica@hotmail.com': 1, 'spusino@elpais.com': 78, 'perossio@cs.com': 1, 'seragro@seragro.com': 1, 'maribel1814@hotmail.com': 1, 'valdezaparicio@homtail.com': 1, 'lmelendez@elpais.com': 25, 'acerisola@ferrere.comvie': 1, 'willacad@adinet.com': 1, 'antonieta4@adinet.com': 1, 'reservas@bartabare.com': 1, 'inscripcioneseducacion@teatrosolis.org': 1, 'victoriauruguay87@hotmail.com': 1, 'jcrisso@adinet.com': 1, 'ServicioDomésticoNoPresentismo@bps.gub': 1, 'info@uy.jumpingclay': 1, 'ritahay@hotmail.com': 1, 'vidal.maru@gmail.com': 1, 'eventos@hotmail.com': 2, 'dianalacazadoradechoferes@hotmail.com': 1, 'marr60@cervo.net': 1, 'ortizp@wanadoo.es': 1, 'hermanamaria2014@gmail.com': 1, 'cridovni@adinet.com': 1, 'alejandrainvernizzi@hotmail.com': 1, 'elcolado31@yahoo.com': 1, 'jacqueline@ngc.com': 1, 'salvadordaniel@hotmail.com': 1, 'aqpasa@elpais.com': 2, 'drstrangesurf@gmail.com': 1, 'sevabolso@hotmail.com': 1, 'ldenis@ferrere.comvie': 2, 'comedia@montevideo.com': 1, 'romairigoyen@gmail.com': 10, 'porenzoterra@adinet.com': 1, 'animodario@sevillafc.es': 1, 'info@delplata.edu': 1, 'vmolnar@elpais.com': 6, 'alicianion@hotmail.com': 1, 'uruguay@nxtplabs.com': 1, 'secrediscapacidad@gmail.com': 1, 'anfratoma@terra.es': 1, 'mfridman@ferrere.comvie': 1, 'mpesce@ferrere.com': 1, 'esete24@hotmail.com': 1, 'uruguayceleste@gmail.com': 1, 'contacto@tallershangrila.com': 1, 'repremon@hotmail.com': 1, 'queens@bullet.com': 1, 'mcarrier@camaratbwa.com': 1, 'juanpa@fabamm.com': 1, 'drspwilson01@netscapeonline.co': 1, 'sumarias@yahoo.com': 1, 'kirin@comediadecampana.com': 1, 'lucero36uy@yahoo.com': 1, 'informacion@cce.org': 1, 'Marchettimmarchetti@ferrere.comvie': 1, 'contacto@socialmediaday.com': 1, 'pisanocarolina@hotmail.com': 1, 'david@davidgomez.com': 1, 'ana40_71@hotmail.com': 2, 'technosound@intercable.net': 1, 'proyectoovario2012@gmail.com': 1, 'info@camaradellibro.com': 1, 'montanez_massa@yahoo.co': 1, 'cazzarini@ahkurug.com': 1, 'coloquio@cdm.gub': 1, 'multiespacio.lapastora@gmail.com': 1, 'proyectofelisberto2014@gmail.com': 1, 'fundacionnortempour1@yahoo.es': 1, 'urumalasia@mrree.gub': 1, 'info@view.com': 1, 'info@inhome.com': 1, 'practikomoda@cantv.net': 2, 'norali@icnet.com': 1, 'canal_3@entelchile.net': 1, 'brayala@gmail.com': 1, 'sospapa@adinet.com': 1, 'gracnil@yahoo.no': 1, 'marioje6@hotmail.com': 1, 'inscripciones@cce.org': 1, 'dvelazquez@osde.com': 2, 'goethe@adinet.com': 1, 'barilari@laraza.com': 77, 'aliciaaltacocina@adinet.com': 1, 'testimonios@animalessinhogar.org': 1, 'chabegus@hotmail.com': 1, 'bueno_valentina@hotmail.com': 1, 'musicadefiambreria@gmail.com': 3, 'maykavarela102585@hotmail.com': 1, 'raul@elpais.com': 8, 'info@cuartetodenos.com': 1, 'arquiferblanco1@yahoo.com': 1, 'pazhagay@netvision.net': 1, 'claudio@bizers.com': 34, 'fdelrio@fulbright.org': 1, 'nachodiz@netgate.com': 1, 'puntadeleste@acelerando.org': 1, 'femagui20002@yahoo.com': 2, 'info@lotus.com': 1, 'dbarash@netvision.net': 2, 'tiempolimite@canal10.com': 1, 'kiwiargentina@datamarkets.com': 1, 'fishappeal@zsl.org': 1, 'irina.mao@msa.hinet': 2, 'igalvar71@hotmail.com': 8, 'lache2871@hotmail.com': 1, 'vmass@adinet.com': 1, 'miguel_gainza@hotmail.com': 1, 'elvio.scopelliti@fastwebnet.it': 1, 'hogardeestudiantes@adinet.com': 1, 'uruguay@isha.com': 1, 'cshistoricas@hotmail.com': 1, 'valentinmiraballes54@hotmail.com': 1, 'fdec@internet.com': 1, 'trinidad1956@wanadoo.es': 1, 'gcarambula@hotmail.com': 1, 'famumanamora@racsa.co': 1, 'transcar461@hotmail.com': 1, 'yennysilva@yahoo.com': 1, 'lacandelacursos@gmail.com': 1, 'laura.doumis@sylvania.com': 1, 'avenidaitalia@adinet.com': 1, 'silpru@goanet.it': 1, 'arielalva@gmail.com': 1, 'info@anicetto.com': 2, 'inversiones@imm.gub': 1, 'info@opcion.com': 13, 'nlarranaga@ferrere.com': 1, 'acerisola@ferrere.com': 2, 'cnimoi@hotmail.com': 2, 'fugitive@interpol.int': 1, 'pypya@aol.com': 2, 'ilana_zlo@hotmail.com': 1, 'eltermometro@gmail.com': 1, 'bibliotecatango@gmail.com': 1, 'ernesto@lacnic.net': 1, 'juventud@soriano.gub': 1, 'mariansou@yahoo.com': 1, 'muncondes@terra.es': 1, 'yadir26@hotmail.com': 1, 'giltabarez@uol.com': 1, 'jruiz@ferrere.com': 1, 'rossanaanselmi@hotmail.com': 1, 'congresocolonia@hotmail.com': 1, 'chinitosabe@pulpopaul.com': 1, 'noe1971@hotmail.com': 1, 'alejandroruvira@hotmail.com': 1, 'a.deloscampos@gmail.com': 2, 'SPUSINO@ELPAIS.COM': 1, 'ClemSpeedy@aol.com': 1, 'mcomics@montevideo.com': 1, 'alo@cafecostura.com': 1, 'equidad@casadelamujer.org': 1, 'info@turismorelisioso.com': 1, 'grocha@elpais.com': 109, 'info@daresrecibir.org': 1, 'Raque82248@aol.com': 1, 'servicio@arnaldocastro.com': 2, 'percy7000@hotmail.com': 1, 'recepcionmtg@gmail.com': 6, 'info@surplus.com': 1, 'vigilanciaepi@msp.gub': 1, 'sylvias@carroll.com': 1, 'www.rabitto143@aol.com': 1, 'info@styleismo.com': 1, 'maestriasfcee@um.edu': 1, 'UruSandy@aol.com': 1, 'info@circulobellasartes.org': 1, 'jumsuchanek@supercable.net': 1, 'pablobas973@aol.com': 2, 'tallerfura2013@gmail.com': 1, 'autocultivolegal@adinet.com': 3, 'ranchorena@aol.com': 1, 'porrita2003@yahoo.com': 1, 'mariarocar@yahoo.com': 1, 'alarronda@elpais.com': 48, 'bedelia-maldonado@cure.edu': 1, 'rosamarinap@hotmail.com': 2, 'siif-proyecto183-3@bcu.gub': 1, 'cantando@teledoce.com': 1, 'nanycc2000@hotmail.com': 1, 'locosporsaber@canal10.com': 8, 'tarjetadorada@imcanelones.gub': 1, 'PYPYA@aol.com': 1, 'mcolombo@ferrere.comvie': 2, 'aleicarg6@aol.com': 1, 'ta@montecarlotv.com': 2, 'info@ronquido.com': 1, 'PaísCondeLeonardo@netscape.net': 1, 'soniadorfman@hotmail.com': 1, 'goshen-f@zahav.net': 1, 's_alvarez@alianza.edu': 1, 'personasausentes@minterior.gub': 1, 'info@laserlight.com': 1, 'rcivil@pb.imm': 1, 'daliacohn@me.com': 1, 'premios.rulfo@rfi.fr': 1, 'stc@imm.gub': 1, 'cofonte@yahoo.com': 1, 'nschenk89@hotmail.com': 1, 'gremiales@sociedadapicola.org': 1, 'GROCHA@ELPAIS.COM': 3, 'cursi@adinet.com': 2, 'ynuncanossepararanteatro@gmail.com': 1, 'ucpat@pb.imm': 1, 'Maspeth52@aol.com': 1, 'carlos_juliom@yahoo.com': 1, 'ugvik@yahoo.com': 1, 'teatrodeartedelfondo@gmail.com': 4, 'quedicelagente@canal10.com': 1, 'showdemo@conrad.com': 1, 'afrau@hc.edu': 2, 'canalabitab@abitab.com': 1, 'mdobal@elpais.com': 2, 'danash9395@yahoo.com': 1, 'autoescuela_la_laguna@hotmail.com': 1, 'norbalcarlos@hotmail.com': 1, 'testimonios@fhuce.edu': 1, 'letranueva@eltimon.com': 1, 'contacto@mapi.uy': 1, 'ponshome@iprimus.com': 1, 'fsalas@adinet.com': 1, 'sjmcimuy@adinet.com': 1, 'deanes@adinet.com': 1, 'valari@bellsouth.net': 1, 'rponce@seragro.com': 3, 'karinapess@hotmail.com': 1, 'contacto@teatrocircular.org': 1, 'casarrodante.danzaycreacion@gmail.com': 1, 'brownconvocatoria@gmail.com': 1, 'isapaullier@trekbikes.com': 1, 'construyendoconbotellas@gmail.com': 1, 'monigotes@adinet.com': 1, 'Ramossramos@ferrere.comvie': 2, 'soldadooriental@hotmail.com': 1, 'celesteuruguaya@hotmail.com': 1, 'edison_pelao@hotmail.com': 1, 'info@congresoarteilustracion.org': 1, 'barrios_julio@hotmail.com': 1, 'VECOMATERO27@aol.com': 1, 'wdresel@adinet.com': 1, 'cienciaytecnologia@elpais.com': 1, 'desdeadentro@adinet.com': 1, 'cercania@ucm.com': 2, 'radiocelestecorazon@hotmail.com': 1, 'capacitacion@agesic.gub': 1, 'guerrero.mac@terra.cl': 1, 'sylvia.vasquez@verizon.net': 1, 'mmartinvidal@hotmail.com': 1, 'jmarti_56@hotmail.com': 1, 'gunterudo@bol.com': 1, 'raultabarez@hotmail.com': 1, 'hmartorellm@hotmail.com': 1, 'lorenamendez83@hotmail.com': 1, 'info@cncs.com': 1, 'mapersub@tucbbs.com': 1, 'zoetisuruguay@zoetis.com': 1, 'cartelerasolidaria@montevideo.com': 2, 'uruguayos@elpais.com': 1, 'sintasf@hotmail.com': 1, 'agenda@inau.gub': 2, 'info@losiracundos.com': 1, 'idealuruguay@adinet.com': 1, 'jackie_stein@hotmail.com': 2, 'alweig@velocom.com': 1, 'silgracie@hotmail.com': 1, 'centenarios@fmed.edu': 1, 'bpisano@ferrere.com': 2, 'eduinic@mec.gub': 2, 'fernanda@latele.tv': 1, 'mcastaldi@elpais.com': 9, 'yoruguasayaguera@hotmail.com': 1, 'aletjav@hotmail.com': 1, 'popuylacho@yahoo.es': 1, 'REDSOL@MSN.COM': 1, 'lags99716192@hotmail.com': 1, 'unsubscribe@spam.com': 1, 'darce3636@aol.com': 2, 'rpaullier@view.com': 1, 'IQUARTINO@ELPAIS.COM': 1, 'jperez@hotmail.com': 1, 'sac@conaprole.com': 1, 'wewe228@aol.com': 1, 'mariolaborde9@hotmail.com': 1, 's_llambi@hotmail.com': 1, 'alicia.postiglioni@gmail.com': 2, 'Ferreiradferreira@elpais.com': 1, 'nicolas.ramonde@initiative.com': 1, 'infor@theknightstemplar.info': 1, 'sde@cambadu.com': 3, 'vademecum@gmail.com': 1, 'htrblanco83@aol.com': 1, 'gecent@msn.com': 1, 'elpepepregunton@gmail.com': 59, 'snicola@elpais.com': 83, 'atencionalusuario@msp.gub': 1, 'uruguay@scrabble.org': 3, 'info@ort.edu': 1, 'comentarios@universidad.edu': 1, 'etorres@ferrere.com': 1, 'cvazquez@ferrere.comvie': 1, 'juceco@hotmail.com': 1, 'aliarturismo@ouropreto.com': 1, 'voy@rodrigovicente.com': 1, 'msreyes@med.uchile': 1, 'mail@cerropandeazucar.com': 1, 'jpereira@demarcas.com': 1, 'detourfest@gmail.com': 1, 'gandulfocerro@hotmail.com': 1, 'digital@elpais.com': 9}\n"
          ]
        }
      ],
      "source": [
        "from enum import unique\n",
        "str_text = auxiliar_full_lines\n",
        "\n",
        "regex = r'\\b[\\w.-]+?@\\w+?\\.\\w+?\\b'\n",
        "all_emails = re.findall(regex,str_text) \n",
        "\n",
        "print(f\"Total emails: {len(all_emails)}\")\n",
        "# for find in all_emails[:20]:\n",
        "#   print(find)\n",
        "\n",
        "unique_emails = list(set(all_emails))\n",
        "print(f\"distinct emails: {len(unique_emails)}\")\n",
        "# for find in unique_emails[:20]:\n",
        "#   print(find)\n",
        "\n",
        "counter = {}\n",
        "for email in unique_emails:\n",
        "  counter[email] = all_emails.count(email)\n",
        "print(counter)"
      ]
    },
    {
      "cell_type": "code",
      "execution_count": 51,
      "metadata": {
        "colab": {
          "base_uri": "https://localhost:8080/",
          "height": 590
        },
        "id": "Nc4-JjCp4Un-",
        "outputId": "710ac0f7-9928-4c1e-e8a6-4a45337b8149"
      },
      "outputs": [
        {
          "name": "stdout",
          "output_type": "stream",
          "text": [
            "                0\n",
            "count  791.000000\n",
            "mean     3.849558\n",
            "std     28.579294\n",
            "min      1.000000\n",
            "25%      1.000000\n",
            "50%      1.000000\n",
            "75%      1.000000\n",
            "max    724.000000\n"
          ]
        },
        {
          "data": {
            "text/html": [
              "<div>\n",
              "<style scoped>\n",
              "    .dataframe tbody tr th:only-of-type {\n",
              "        vertical-align: middle;\n",
              "    }\n",
              "\n",
              "    .dataframe tbody tr th {\n",
              "        vertical-align: top;\n",
              "    }\n",
              "\n",
              "    .dataframe thead th {\n",
              "        text-align: right;\n",
              "    }\n",
              "</style>\n",
              "<table border=\"1\" class=\"dataframe\">\n",
              "  <thead>\n",
              "    <tr style=\"text-align: right;\">\n",
              "      <th></th>\n",
              "      <th>quantity</th>\n",
              "    </tr>\n",
              "  </thead>\n",
              "  <tbody>\n",
              "    <tr>\n",
              "      <th>fliadicbo@hotmail.com</th>\n",
              "      <td>1</td>\n",
              "    </tr>\n",
              "    <tr>\n",
              "      <th>ServicioDomésticoNoPresentismo@bps.gub</th>\n",
              "      <td>1</td>\n",
              "    </tr>\n",
              "    <tr>\n",
              "      <th>info@uy.jumpingclay</th>\n",
              "      <td>1</td>\n",
              "    </tr>\n",
              "    <tr>\n",
              "      <th>ritahay@hotmail.com</th>\n",
              "      <td>1</td>\n",
              "    </tr>\n",
              "    <tr>\n",
              "      <th>vidal.maru@gmail.com</th>\n",
              "      <td>1</td>\n",
              "    </tr>\n",
              "    <tr>\n",
              "      <th>...</th>\n",
              "      <td>...</td>\n",
              "    </tr>\n",
              "    <tr>\n",
              "      <th>mgoday@elpais.com</th>\n",
              "      <td>104</td>\n",
              "    </tr>\n",
              "    <tr>\n",
              "      <th>grocha@elpais.com</th>\n",
              "      <td>109</td>\n",
              "    </tr>\n",
              "    <tr>\n",
              "      <th>dferreira@elpais.com</th>\n",
              "      <td>158</td>\n",
              "    </tr>\n",
              "    <tr>\n",
              "      <th>barilarius@yahoo.com</th>\n",
              "      <td>206</td>\n",
              "    </tr>\n",
              "    <tr>\n",
              "      <th>CondeLeonardo@netscape.net</th>\n",
              "      <td>724</td>\n",
              "    </tr>\n",
              "  </tbody>\n",
              "</table>\n",
              "<p>791 rows × 1 columns</p>\n",
              "</div>"
            ],
            "text/plain": [
              "                                        quantity\n",
              "fliadicbo@hotmail.com                          1\n",
              "ServicioDomésticoNoPresentismo@bps.gub         1\n",
              "info@uy.jumpingclay                            1\n",
              "ritahay@hotmail.com                            1\n",
              "vidal.maru@gmail.com                           1\n",
              "...                                          ...\n",
              "mgoday@elpais.com                            104\n",
              "grocha@elpais.com                            109\n",
              "dferreira@elpais.com                         158\n",
              "barilarius@yahoo.com                         206\n",
              "CondeLeonardo@netscape.net                   724\n",
              "\n",
              "[791 rows x 1 columns]"
            ]
          },
          "execution_count": 51,
          "metadata": {},
          "output_type": "execute_result"
        }
      ],
      "source": [
        "import pandas as pd\n",
        "\n",
        "a = pd.DataFrame.from_dict(counter, orient='index')\n",
        "print(a.describe())\n",
        "a.columns = ['quantity']\n",
        "a = a.sort_values(by='quantity')\n",
        "a\n",
        "\n",
        "# parece que los emails mas repetidos son autores de noticias"
      ]
    },
    {
      "cell_type": "code",
      "execution_count": 57,
      "metadata": {},
      "outputs": [
        {
          "data": {
            "text/html": [
              "<div>\n",
              "<style scoped>\n",
              "    .dataframe tbody tr th:only-of-type {\n",
              "        vertical-align: middle;\n",
              "    }\n",
              "\n",
              "    .dataframe tbody tr th {\n",
              "        vertical-align: top;\n",
              "    }\n",
              "\n",
              "    .dataframe thead th {\n",
              "        text-align: right;\n",
              "    }\n",
              "</style>\n",
              "<table border=\"1\" class=\"dataframe\">\n",
              "  <thead>\n",
              "    <tr style=\"text-align: right;\">\n",
              "      <th></th>\n",
              "      <th>quantity</th>\n",
              "    </tr>\n",
              "  </thead>\n",
              "  <tbody>\n",
              "    <tr>\n",
              "      <th>digital@elpais.com</th>\n",
              "      <td>9</td>\n",
              "    </tr>\n",
              "    <tr>\n",
              "      <th>mcastaldi@elpais.com</th>\n",
              "      <td>9</td>\n",
              "    </tr>\n",
              "    <tr>\n",
              "      <th>romairigoyen@gmail.com</th>\n",
              "      <td>10</td>\n",
              "    </tr>\n",
              "    <tr>\n",
              "      <th>jcraffo@elpais.com</th>\n",
              "      <td>11</td>\n",
              "    </tr>\n",
              "    <tr>\n",
              "      <th>info@opcion.com</th>\n",
              "      <td>13</td>\n",
              "    </tr>\n",
              "    <tr>\n",
              "      <th>vdiaz@elpais.com</th>\n",
              "      <td>14</td>\n",
              "    </tr>\n",
              "    <tr>\n",
              "      <th>pjimenez@seragro.com</th>\n",
              "      <td>20</td>\n",
              "    </tr>\n",
              "    <tr>\n",
              "      <th>lmelendez@elpais.com</th>\n",
              "      <td>25</td>\n",
              "    </tr>\n",
              "    <tr>\n",
              "      <th>nlussich@seragro.com</th>\n",
              "      <td>31</td>\n",
              "    </tr>\n",
              "    <tr>\n",
              "      <th>claudio@bizers.com</th>\n",
              "      <td>34</td>\n",
              "    </tr>\n",
              "    <tr>\n",
              "      <th>CondeLeonardo@aol.com</th>\n",
              "      <td>36</td>\n",
              "    </tr>\n",
              "    <tr>\n",
              "      <th>gpergola@elpais.com</th>\n",
              "      <td>40</td>\n",
              "    </tr>\n",
              "    <tr>\n",
              "      <th>qpasa@elpais.com</th>\n",
              "      <td>42</td>\n",
              "    </tr>\n",
              "    <tr>\n",
              "      <th>jchouy@seragro.com</th>\n",
              "      <td>43</td>\n",
              "    </tr>\n",
              "    <tr>\n",
              "      <th>spanzl@elpais.com</th>\n",
              "      <td>48</td>\n",
              "    </tr>\n",
              "    <tr>\n",
              "      <th>alarronda@elpais.com</th>\n",
              "      <td>48</td>\n",
              "    </tr>\n",
              "    <tr>\n",
              "      <th>elpepepregunton@gmail.com</th>\n",
              "      <td>59</td>\n",
              "    </tr>\n",
              "    <tr>\n",
              "      <th>cristoff@adinet.com</th>\n",
              "      <td>59</td>\n",
              "    </tr>\n",
              "    <tr>\n",
              "      <th>barilari@laraza.com</th>\n",
              "      <td>77</td>\n",
              "    </tr>\n",
              "    <tr>\n",
              "      <th>spusino@elpais.com</th>\n",
              "      <td>78</td>\n",
              "    </tr>\n",
              "    <tr>\n",
              "      <th>snicola@elpais.com</th>\n",
              "      <td>83</td>\n",
              "    </tr>\n",
              "    <tr>\n",
              "      <th>mgoday@elpais.com</th>\n",
              "      <td>104</td>\n",
              "    </tr>\n",
              "    <tr>\n",
              "      <th>grocha@elpais.com</th>\n",
              "      <td>109</td>\n",
              "    </tr>\n",
              "    <tr>\n",
              "      <th>dferreira@elpais.com</th>\n",
              "      <td>158</td>\n",
              "    </tr>\n",
              "    <tr>\n",
              "      <th>barilarius@yahoo.com</th>\n",
              "      <td>206</td>\n",
              "    </tr>\n",
              "    <tr>\n",
              "      <th>CondeLeonardo@netscape.net</th>\n",
              "      <td>724</td>\n",
              "    </tr>\n",
              "  </tbody>\n",
              "</table>\n",
              "</div>"
            ],
            "text/plain": [
              "                            quantity\n",
              "digital@elpais.com                 9\n",
              "mcastaldi@elpais.com               9\n",
              "romairigoyen@gmail.com            10\n",
              "jcraffo@elpais.com                11\n",
              "info@opcion.com                   13\n",
              "vdiaz@elpais.com                  14\n",
              "pjimenez@seragro.com              20\n",
              "lmelendez@elpais.com              25\n",
              "nlussich@seragro.com              31\n",
              "claudio@bizers.com                34\n",
              "CondeLeonardo@aol.com             36\n",
              "gpergola@elpais.com               40\n",
              "qpasa@elpais.com                  42\n",
              "jchouy@seragro.com                43\n",
              "spanzl@elpais.com                 48\n",
              "alarronda@elpais.com              48\n",
              "elpepepregunton@gmail.com         59\n",
              "cristoff@adinet.com               59\n",
              "barilari@laraza.com               77\n",
              "spusino@elpais.com                78\n",
              "snicola@elpais.com                83\n",
              "mgoday@elpais.com                104\n",
              "grocha@elpais.com                109\n",
              "dferreira@elpais.com             158\n",
              "barilarius@yahoo.com             206\n",
              "CondeLeonardo@netscape.net       724"
            ]
          },
          "execution_count": 57,
          "metadata": {},
          "output_type": "execute_result"
        }
      ],
      "source": [
        "a[765:]"
      ]
    },
    {
      "cell_type": "code",
      "execution_count": 52,
      "metadata": {
        "colab": {
          "base_uri": "https://localhost:8080/"
        },
        "id": "eyv6fhFwi-Rv",
        "outputId": "326371bf-71ec-4140-987e-2e619b20ea20"
      },
      "outputs": [
        {
          "ename": "KeyboardInterrupt",
          "evalue": "",
          "output_type": "error",
          "traceback": [
            "\u001b[0;31m---------------------------------------------------------------------------\u001b[0m",
            "\u001b[0;31mKeyboardInterrupt\u001b[0m                         Traceback (most recent call last)",
            "Cell \u001b[0;32mIn [52], line 4\u001b[0m\n\u001b[1;32m      1\u001b[0m str_text \u001b[39m=\u001b[39m auxiliar_full_lines\n\u001b[1;32m      3\u001b[0m regex \u001b[39m=\u001b[39m \u001b[39mr\u001b[39m\u001b[39m'\u001b[39m\u001b[39m..........................Tel: 1950 7177. Museo de Historia del Arte .*? \u001b[39m\u001b[39m\\\u001b[39m\u001b[39mb[\u001b[39m\u001b[39m\\\u001b[39m\u001b[39mw.-]+?@\u001b[39m\u001b[39m\\\u001b[39m\u001b[39mw+?\u001b[39m\u001b[39m\\\u001b[39m\u001b[39m.\u001b[39m\u001b[39m\\\u001b[39m\u001b[39mw+?\u001b[39m\u001b[39m\\\u001b[39m\u001b[39mb....................\u001b[39m\u001b[39m'\u001b[39m\n\u001b[0;32m----> 4\u001b[0m results \u001b[39m=\u001b[39m re\u001b[39m.\u001b[39;49mfindall(regex,str_text) \n\u001b[1;32m      6\u001b[0m \u001b[39mprint\u001b[39m(\u001b[39mlen\u001b[39m(results))\n\u001b[1;32m      7\u001b[0m \u001b[39mfor\u001b[39;00m find \u001b[39min\u001b[39;00m results[:\u001b[39m50\u001b[39m]:\n",
            "File \u001b[0;32m/usr/lib/python3.10/re.py:240\u001b[0m, in \u001b[0;36mfindall\u001b[0;34m(pattern, string, flags)\u001b[0m\n\u001b[1;32m    232\u001b[0m \u001b[39mdef\u001b[39;00m \u001b[39mfindall\u001b[39m(pattern, string, flags\u001b[39m=\u001b[39m\u001b[39m0\u001b[39m):\n\u001b[1;32m    233\u001b[0m     \u001b[39m\"\"\"Return a list of all non-overlapping matches in the string.\u001b[39;00m\n\u001b[1;32m    234\u001b[0m \n\u001b[1;32m    235\u001b[0m \u001b[39m    If one or more capturing groups are present in the pattern, return\u001b[39;00m\n\u001b[0;32m   (...)\u001b[0m\n\u001b[1;32m    238\u001b[0m \n\u001b[1;32m    239\u001b[0m \u001b[39m    Empty matches are included in the result.\"\"\"\u001b[39;00m\n\u001b[0;32m--> 240\u001b[0m     \u001b[39mreturn\u001b[39;00m _compile(pattern, flags)\u001b[39m.\u001b[39;49mfindall(string)\n",
            "\u001b[0;31mKeyboardInterrupt\u001b[0m: "
          ]
        }
      ],
      "source": [
        "str_text = auxiliar_full_lines\n",
        "\n",
        "regex = r'..........................Tel: 1950 7177. Museo de Historia del Arte .*? \\b[\\w.-]+?@\\w+?\\.\\w+?\\b....................'\n",
        "results = re.findall(regex,str_text) \n",
        "\n",
        "print(len(results))\n",
        "for find in results[:50]:\n",
        "  print(find)"
      ]
    },
    {
      "cell_type": "markdown",
      "metadata": {
        "id": "0oXYMVCunr8i"
      },
      "source": [
        "### Autor del articulo\n"
      ]
    },
    {
      "cell_type": "code",
      "execution_count": 58,
      "metadata": {
        "colab": {
          "base_uri": "https://localhost:8080/"
        },
        "id": "IwyCua3MLWaU",
        "outputId": "f284f405-6c7e-4641-aa09-0ab6baf02ce7"
      },
      "outputs": [
        {
          "name": "stdout",
          "output_type": "stream",
          "text": [
            "Antes - 1\n"
          ]
        },
        {
          "data": {
            "text/plain": [
              "['Por Gastón Pérgola |']"
            ]
          },
          "execution_count": 58,
          "metadata": {},
          "output_type": "execute_result"
        }
      ],
      "source": [
        "testing_str = lines[64557]\n",
        "\n",
        "\n",
        "regex = r'Por .*? \\|'\n",
        "results = re.findall(regex,testing_str) \n",
        "\n",
        "print(f'Antes - {len(results)}')\n",
        "results"
      ]
    },
    {
      "cell_type": "code",
      "execution_count": 59,
      "metadata": {
        "colab": {
          "base_uri": "https://localhost:8080/",
          "height": 110
        },
        "id": "Fq5b5Xh4Mjju",
        "outputId": "7dcc119e-33bf-4515-d472-e89dfd06dab6"
      },
      "outputs": [
        {
          "data": {
            "text/plain": [
              "'Golazos publicitarios de Schneck y Ancel Las campañas encabezadas por \"El Loco\" y Gorzy presagiaron lo imprevisible   Por Gastón Pérgola | gpergola@elpais.com.uy Ancel y Schneck no le pueden pedir '"
            ]
          },
          "execution_count": 59,
          "metadata": {},
          "output_type": "execute_result"
        }
      ],
      "source": [
        "testing_str[:200]"
      ]
    },
    {
      "cell_type": "code",
      "execution_count": 60,
      "metadata": {
        "colab": {
          "base_uri": "https://localhost:8080/"
        },
        "id": "k-PTWrcLnkaC",
        "outputId": "1fb84939-074c-4183-9158-2143f7f32f2f"
      },
      "outputs": [
        {
          "name": "stdout",
          "output_type": "stream",
          "text": [
            "Antes - 1\n"
          ]
        },
        {
          "data": {
            "text/plain": [
              "['gpergola@elpais.com']"
            ]
          },
          "execution_count": 60,
          "metadata": {},
          "output_type": "execute_result"
        }
      ],
      "source": [
        "testing_str = lines[64557]\n",
        "\n",
        "\n",
        "regex = r'\\b[\\w.-]+?@\\w+?\\.\\w+?\\b'\n",
        "results = re.findall(regex,testing_str) \n",
        "\n",
        "print(f'Antes - {len(results)}')\n",
        "results"
      ]
    },
    {
      "cell_type": "markdown",
      "metadata": {
        "id": "QFlcJMQSo10o"
      },
      "source": [
        "Golazos publicitarios de Schneck y Ancel Las campañas encabezadas por \"El Loco\" y Gorzy presagiaron lo imprevisible   `Por Gastón Pérgola | gpergola@elpais.com.uy` Ancel y Schneck no le pueden pedir más a las apuestas publicitarias que realizaron con el \"Loco\" Sebastián Abreu y Sergio Gorzy. Por si sus premonitorios avisos hubiesen sido poco, el periodista como maestro de ceremonia y el futbolista como improvisado conductor se robaron la cámara el martes pasado durante el homenaje a la selección de fútbol en las afueras del Palacio Legisltativo. Ambas marcas, cada una a su manera, apostó con estrategias creativas a la selección uruguaya -a través de estos dos personajes- y las propuestas terminaron siendo casi un presagio de lo que fue la realidad de Uruguay en la Copa del Mundo. Sergio Gorzy, el periodista deportivo devenido en fanático insufrible del combinado celeste, que desde hace casi una década viene pronosticando a Uruguay campeón del mundo, se convirtió tres meses antes del mundial en la cara visible de una promoción de Schneck, que alentaba la idea de que \"Los últimos pueden ser los primeros\" (en alusión a que la celeste fue la última en clasificar a la Copa) e insistía con que se estaba a \"sólo siete partidos de ser campeones del mundo\". Por su parte, Ancel, el día del partido inagural del mundial, salió con una campaña de tono institucional que tenía como principal protagonista a Abreu y su loca forma de patear los penales, \"picando\" la pelota. Terminó el mundial y la realidad superó a la ficción (publicitaria): el \"Loco\", con pocos minutos en cancha, tuvo su oportunidad y la volvió a picar en épica definición por penales, al tiempo que Uruguay quedó a un partido de la final del mundo, una idea que solo Schneck y Gorzy se animaron a aventurar. Estas apuestas, que a priori podrían haber sido un laberinto sin salida para las marcas, terminaron dando sus réditos, con un efecto multiplicador sobre la recordación del aviso publicitario y de las propias firmas. Tan es así que, según un sondeo de tendencias sobre el comportamiento de los hinchas uruguayos durante el mundial realizado por Mediaedge:cia, Ancel fue la única marca uruguaya entre las cinco más recordadas que pautaron durante la Copa, acompañada por Coca Cola, McDonald's, Adidas y Sony. En promociones asociadas al mundial aparecen, por orden de recordación, Schneck (Los últimos serán los primeros); Coca-Cola (ver el mundial en Moviecenter y Promo Vasos); Pilsen (Viaje a Sudáfrica en Motorhome), Halls (Respirá Sudáfrica) y Mc Donald's (Corazonadas). a dos partidos Un relevamiento de mercado le arrojó a Schneck que si bien la marca es líder en varias de las categorías en las que está presente, debía fortalecer la asociación de marca en el rubro hamburguesas. Fue así que vieron oportuno aprovechar la ocasión del mundial para lanzar una promoción. \"Resulta que habíamos sido los últimos, literalmente, en clasificar al mundial, y se nos ocurrió la idea justamente de jugar con ese concepto\", explicó Roberto Lafluf, principal de la agencia Avisa, que se encarga de la comunicación del frigorífico. Entonces crearon una promoción en la que se elegía a once participantes (entre un total de 50.000 personas que se inscribieron) y de los seleccionados, el último en salir sorteado se llevaba el premio mayor: una excursión a Sudáfrica para dos personas. \"Sobre ese desarrollo de campaña nos preguntamos quién podía defender este proceso de los últimos serán los primeros y ahí fue que surgió la figura de Sergio Gorzy. Le planteamos la idea y le encantó. El protagonista calzaba en todos sus puntos\", cuenta el publicista. Mediante una serie de spots publicitarios previos al mundial (en televisión, radio y vía pública) Gorzy anunciaba que Uruguay estaba a siete partidos de salir campeón, aventuraba cómo saldría Uruguay en la fase de grupos (coincidiendo con el resultado que finalmente se dió), arengaba un feriado nacional para cuando llegara la selección y hasta elaboró un recorrido para la caravana de bienvenida a los jugadores. \"Estábamos muy jugados a lo que pasara. Pero teníamos algo claro. En una conversación con Sergio vimos que, de alguna forma, esta campaña lo ayudaba a convalidar su locura porque se tomó graciosamente y a la marca nadie le iba a caer si a la selección le iba mal. Nuestra protección, de alguna forma, era Gorzy que se hacía cargo de lo que decía\", afirmó Lafluf. Pero los resultados empezaron a acompañar y la comunicación, que tenía fin al inicio del mundial, tuvo que seguir desarrollándose. \"Los resultados increíblemente se dieron y ahí decidimos revivir su profecía\", comenta el publicista. \"Creo que además de lograr los objetivos de Schneck también reposicionamos la imagen de Gorzy\", dice Lafluf a las risas. Y LA PICÓ NO MÁS Aunque Ancel ya venía realizando acciones publicitarias como sponsor oficial de la selección, la apuesta a Abreu tenía como objetivo asociar la marca a una figura fuerte de la selección, más aún teniendo en cuenta la apuesta de Claro al capitán Diego Lugano y de Movistar con Diego Forlán. Se pensó en Abreu e inmediatamente se hizo un estudio pormenorizado del jugador, que abarcó desde rasgos de su personalidad (la sencillez y desfachatez) hasta su estilo de juego, del que rescataron una de sus cualidades: la forma de patear los penales. \"Salió redondito\", dice ahora Fernando De Clemente, de Ginkgo, cuando Abreu la volvió a picar contra Ghana y todos hablaron de su publicidad. A varias Puntas vv Varios fueron los intentos de otras marcas por \"pegarse\" a la selección al ver cómo avanzaba en la copa. No todos tuvieron el éxito desado. Ottonello hizo una movida en Facebook para llevar al \"Piñe\" a ver la semifinal de Uruguay; hoy varios grupos de la red social lo califican de yeta. 50.000 personas participaron de la promoción mundialista de Schneck y la venta de sus hamburguesas creció 25%. Como yapa la promoción figura entre las más recordadas por el público. vv A pesar del optimismo de Schneck con Sergio Gorzy a la cabeza, la agencia que diseñó la estrategia, Avisa, tenía un plan de contingencia para un fracaso de Uruguay. Una alternativa era Gorzy arengando una revancha en Brasil 2014, tierra donde el último campeón fue la Celeste. Uruguay con más clicks en Google La búsqueda de Uruguay en Google (bajo las palabras clave Forlán y Uruguay) creció notablemente a nivel global a medida que la selección iba avanzando en la copa, según un relevamiento realizado por Mediaedge:cia, a través del Google Trends. Por ejemplo, comparado los cuatro semifinalistas a nivel global Uruguay fue la palabra más buscada el día dos de julio (fecha del partido contra Ghana) llegando al pico más alto de los últimos treinta días en comparación con las búsquedas realizadas a los otros 3 semifinalistas. A esa fecha le seguía Alemania (bajo la palabra Germany), el día de la goleada frente a Inglaterra por octavos de final y España (bajo la palabra Spain) cuando perdió con Suiza.\n"
      ]
    },
    {
      "cell_type": "markdown",
      "metadata": {
        "id": "jwJ08cZLKZUo"
      },
      "source": [
        "#### Solucion"
      ]
    },
    {
      "cell_type": "code",
      "execution_count": 61,
      "metadata": {
        "colab": {
          "base_uri": "https://localhost:8080/"
        },
        "id": "3Qb6G89qJScv",
        "outputId": "acda9e93-3086-4dbd-a965-1278abd5daaa"
      },
      "outputs": [
        {
          "name": "stdout",
          "output_type": "stream",
          "text": [
            "241\n",
            "['Por Roberto Cardellino | ', 'Por Leonardo Conde | ', 'Por Leonardo Conde | ', 'Por Leonardo Conde | ', 'Por Mariana Hill | ', 'Por Leonardo Conde | ', 'Por Antonio Larronda | ', 'Por Diego Ferreira | ', 'Por Roberto Cardellino | ', 'Por Silvana Nicola | ', 'Por Diego Ferreira | ', 'Por Nicolás Lussich | ', 'Por Leonardo Conde | ', 'Por Nicolás Lussich | ', 'Por Leonardo Conde | ', 'Por Diego Ferreira | ', 'Por Leonardo Conde | ', 'Por Leonardo Conde | ', 'Por Leonardo Conde | ', 'Por Mariana Goday | ']\n",
            "37\n",
            "['Por silvana nicola | ', 'Por Mariana Hill | ', 'Por Gabriela Rocha | ', 'Por Jorge Chouy | ', 'Por Natalia Trzenko | ', 'Por Malena Castaldi | ', 'Por GABRIELA BADE | ', 'Por Sebastián Panzl | ', 'Por DAVID GÓMEZ | ', 'Por Nicolás Lussich | ', 'Por Héctor Luna | ', 'Por Gabriela Cortizas | ', 'Por Greg Frost | ', 'Por Diego Ferreira | ', 'Por Gastón Pérgola | ', 'Por Mariana Goday | ', 'Por Craig Fagan | ', 'Por Silvana Nicola | ', 'Por Leonardo Conde | ', 'Por Victoria molnar | ', 'Por Fabián Tiscornia | ', 'Por antonio larronda | ', 'Por Gianni Bianchi | ', 'Por Francisca Poullier | ', 'Por Gstón Pérgola | ', 'Por Luis Ventura | ', 'Por Sergio Ceretta | ', 'Por MALENA CASTALDI | ', 'Por Victoria Molnar | ', 'Por Analía Filosi | ', 'Por Carolina Suárez | ', 'Por Antonio Larronda | ', 'Por Viviana Alonso | ', 'Por Federico Piegas | ', 'Por Roberto Cardellino | ', 'Por Karen Christensen | ', 'Por Tomer Urwicz | ']\n",
            "222\n",
            "['oticia? Por Roberto Cardellino | Ing. Ag', 'Dómine. Por Leonardo Conde | CondeLe', 'ombres. Por Leonardo Conde | Especia', 'rbácea. Por Leonardo Conde | CondeLe', 'tores   Por Mariana Hill | Ingenie', 'inidad. Por Leonardo Conde | Especia', 'manager Por Antonio Larronda | alarron', 'premium Por Diego Ferreira | dferrei', 's Bimbo Por Diego Ferreira | dferrei', 'amento. Por Leonardo Conde | CondeLe', 'ia?     Por Nicolás Lussich | nlussic', 'rmedad. Por Leonardo Conde | Especia', 'avideña Por Diego Ferreira | dferrei', 'urante. Por Leonardo Conde | CondeLe', 'terado. Por Leonardo Conde | Especia', 'elberg. Por Leonardo Conde | CondeLe', 'as IEEM Por Mariana Goday | mgoday@', 'ia?     Por Jorge Chouy | jchouy@', 'odimio. Por Leonardo Conde | Especia', 'egocios Por Gabriela Rocha | grocha@']\n"
          ]
        }
      ],
      "source": [
        "str_text = auxiliar_full_lines\n",
        "# cantidad de ocurrencias con texto -AUTOR-\n",
        "\n",
        "pattern = r\"Por \\w* \\w* \\| \"\n",
        "results = re.findall(pattern, str_text)\n",
        "print(len(results))\n",
        "print(results[:20])\n",
        "\n",
        "# cuantos autores distintos hay\n",
        "distinct = list(set(results))\n",
        "print(len(distinct))\n",
        "print(distinct)\n",
        "\n",
        "pattern = r\"........Por \\w* \\w* \\| .......\"\n",
        "results = re.findall(pattern, str_text)\n",
        "print(len(results))\n",
        "print(results[:20])\n",
        "\n",
        "# Conclusion: hay casos donde tengo que agregar un \".\" y otros no son necesarios"
      ]
    },
    {
      "cell_type": "code",
      "execution_count": 62,
      "metadata": {
        "colab": {
          "base_uri": "https://localhost:8080/"
        },
        "id": "kG3joI4BMGye",
        "outputId": "f8d1bf7f-9ee9-449f-eb68-d215f0668808"
      },
      "outputs": [
        {
          "name": "stdout",
          "output_type": "stream",
          "text": [
            "ANTES\n",
            "Golazos publicitarios de Schneck y Ancel Las campanas encabezadas por \"El Loco\" y Gorzy presagiaron lo imprevisible   Por Gaston Pergola | gpergola@elpais.com.uy Ancel y Schneck no le pueden pedir mas a las apuestas publicitarias que realizaron con el \"Loco\" Sebastian Abreu y Sergio Gorzy. Por si sus premonitorios avisos hubiesen sido poco, el periodista como maestro de ceremonia y el futbolista como improvisado conductor se robaron la camara el martes pasado durante el homenaje a la seleccion de futbol en las afueras del Palacio Legisltativo. Ambas marcas, cada una a su manera, aposto con estrategias creativas a la seleccion uruguaya -a traves de estos dos personajes- y las propuestas terminaron siendo casi un presagio de lo que fue la realidad de Uruguay en la Copa del Mundo. Sergio Gorzy, el periodista deportivo devenido en fanatico insufrible del combinado celeste, que desde hace casi una decada viene pronosticando a Uruguay campeon del mundo, se convirtio tres meses antes del mundial en la cara visible de una promocion de Schneck, que alentaba la idea de que \"Los ultimos pueden ser los primeros\" (en alusion a que la celeste fue la ultima en clasificar a la Copa) e insistia con que se estaba a \"solo siete partidos de ser campeones del mundo\". Por su parte, Ancel, el dia del partido inagural del mundial, salio con una campana de tono institucional que tenia como principal protagonista a Abreu y su loca forma de patear los penales, \"picando\" la pelota. Termino el mundial y la realidad supero a la ficcion (publicitaria): el \"Loco\", con pocos minutos en cancha, tuvo su oportunidad y la volvio a picar en epica definicion por penales, al tiempo que Uruguay quedo a un partido de la final del mundo, una idea que solo Schneck y Gorzy se animaron a aventurar. Estas apuestas, que a priori podrian haber sido un laberinto sin salida para las marcas, terminaron dando sus reditos, con un efecto multiplicador sobre la recordacion del aviso publicitario y de las propias firmas. Tan es asi que, segun un sondeo de tendencias sobre el comportamiento de los hinchas uruguayos durante el mundial realizado por Mediaedge:cia, Ancel fue la unica marca uruguaya entre las cinco mas recordadas que pautaron durante la Copa, acompanada por Coca Cola, McDonald`s, Adidas y Sony. En promociones asociadas al mundial aparecen, por orden de recordacion, Schneck (Los ultimos seran los primeros); Coca-Cola (ver el mundial en Moviecenter y Promo Vasos); Pilsen (Viaje a Sudafrica en Motorhome), Halls (Respira Sudafrica) y Mc Donald`s (Corazonadas). a dos partidos Un relevamiento de mercado le arrojo a Schneck que si bien la marca es lider en varias de las categorias en las que esta presente, debia fortalecer la asociacion de marca en el rubro hamburguesas. Fue asi que vieron oportuno aprovechar la ocasion del mundial para lanzar una promocion. \"Resulta que habiamos sido los ultimos, literalmente, en clasificar al mundial, y se nos ocurrio la idea justamente de jugar con ese concepto\", explico Roberto Lafluf, principal de la agencia Avisa, que se encarga de la comunicacion del frigorifico. Entonces crearon una promocion en la que se elegia a once participantes (entre un total de 50.000 personas que se inscribieron) y de los seleccionados, el ultimo en salir sorteado se llevaba el premio mayor: una excursion a Sudafrica para dos personas. \"Sobre ese desarrollo de campana nos preguntamos quien podia defender este proceso de los ultimos seran los primeros y ahi fue que surgio la figura de Sergio Gorzy. Le planteamos la idea y le encanto. El protagonista calzaba en todos sus puntos\", cuenta el publicista. Mediante una serie de spots publicitarios previos al mundial (en television, radio y via publica) Gorzy anunciaba que Uruguay estaba a siete partidos de salir campeon, aventuraba como saldria Uruguay en la fase de grupos (coincidiendo con el resultado que finalmente se dio), arengaba un feriado nacional para cuando llegara la seleccion y hasta elaboro un recorrido para la caravana de bienvenida a los jugadores. \"Estabamos muy jugados a lo que pasara. Pero teniamos algo claro. En una conversacion con Sergio vimos que, de alguna forma, esta campana lo ayudaba a convalidar su locura porque se tomo graciosamente y a la marca nadie le iba a caer si a la seleccion le iba mal. Nuestra proteccion, de alguna forma, era Gorzy que se hacia cargo de lo que decia\", afirmo Lafluf. Pero los resultados empezaron a acompanar y la comunicacion, que tenia fin al inicio del mundial, tuvo que seguir desarrollandose. \"Los resultados increiblemente se dieron y ahi decidimos revivir su profecia\", comenta el publicista. \"Creo que ademas de lograr los objetivos de Schneck tambien reposicionamos la imagen de Gorzy\", dice Lafluf a las risas. Y LA PICO NO MAS Aunque Ancel ya venia realizando acciones publicitarias como sponsor oficial de la seleccion, la apuesta a Abreu tenia como objetivo asociar la marca a una figura fuerte de la seleccion, mas aun teniendo en cuenta la apuesta de Claro al capitan Diego Lugano y de Movistar con Diego Forlan. Se penso en Abreu e inmediatamente se hizo un estudio pormenorizado del jugador, que abarco desde rasgos de su personalidad (la sencillez y desfachatez) hasta su estilo de juego, del que rescataron una de sus cualidades: la forma de patear los penales. \"Salio redondito\", dice ahora Fernando De Clemente, de Ginkgo, cuando Abreu la volvio a picar contra Ghana y todos hablaron de su publicidad. A varias Puntas vv Varios fueron los intentos de otras marcas por \"pegarse\" a la seleccion al ver como avanzaba en la copa. No todos tuvieron el exito desado. Ottonello hizo una movida en Facebook para llevar al \"Pine\" a ver la semifinal de Uruguay; hoy varios grupos de la red social lo califican de yeta. 50.000 personas participaron de la promocion mundialista de Schneck y la venta de sus hamburguesas crecio 25%. Como yapa la promocion figura entre las mas recordadas por el publico. vv A pesar del optimismo de Schneck con Sergio Gorzy a la cabeza, la agencia que diseno la estrategia, Avisa, tenia un plan de contingencia para un fracaso de Uruguay. Una alternativa era Gorzy arengando una revancha en Brasil 2014, tierra donde el ultimo campeon fue la Celeste. Uruguay con mas clicks en Google La busqueda de Uruguay en Google (bajo las palabras clave Forlan y Uruguay) crecio notablemente a nivel global a medida que la seleccion iba avanzando en la copa, segun un relevamiento realizado por Mediaedge:cia, a traves del Google Trends. Por ejemplo, comparado los cuatro semifinalistas a nivel global Uruguay fue la palabra mas buscada el dia dos de julio (fecha del partido contra Ghana) llegando al pico mas alto de los ultimos treinta dias en comparacion con las busquedas realizadas a los otros 3 semifinalistas. A esa fecha le seguia Alemania (bajo la palabra Germany), el dia de la goleada frente a Inglaterra por octavos de final y Espana (bajo la palabra Spain) cuando perdio con Suiza.\n",
            "\n",
            "DESPUES\n",
            "Golazos publicitarios de Schneck y Ancel Las campanas encabezadas por \"El Loco\" y Gorzy presagiaron lo imprevisible. gpergola@elpais.com.uy Ancel y Schneck no le pueden pedir mas a las apuestas publicitarias que realizaron con el \"Loco\" Sebastian Abreu y Sergio Gorzy. Por si sus premonitorios avisos hubiesen sido poco, el periodista como maestro de ceremonia y el futbolista como improvisado conductor se robaron la camara el martes pasado durante el homenaje a la seleccion de futbol en las afueras del Palacio Legisltativo. Ambas marcas, cada una a su manera, aposto con estrategias creativas a la seleccion uruguaya -a traves de estos dos personajes- y las propuestas terminaron siendo casi un presagio de lo que fue la realidad de Uruguay en la Copa del Mundo. Sergio Gorzy, el periodista deportivo devenido en fanatico insufrible del combinado celeste, que desde hace casi una decada viene pronosticando a Uruguay campeon del mundo, se convirtio tres meses antes del mundial en la cara visible de una promocion de Schneck, que alentaba la idea de que \"Los ultimos pueden ser los primeros\" (en alusion a que la celeste fue la ultima en clasificar a la Copa) e insistia con que se estaba a \"solo siete partidos de ser campeones del mundo\". Por su parte, Ancel, el dia del partido inagural del mundial, salio con una campana de tono institucional que tenia como principal protagonista a Abreu y su loca forma de patear los penales, \"picando\" la pelota. Termino el mundial y la realidad supero a la ficcion (publicitaria): el \"Loco\", con pocos minutos en cancha, tuvo su oportunidad y la volvio a picar en epica definicion por penales, al tiempo que Uruguay quedo a un partido de la final del mundo, una idea que solo Schneck y Gorzy se animaron a aventurar. Estas apuestas, que a priori podrian haber sido un laberinto sin salida para las marcas, terminaron dando sus reditos, con un efecto multiplicador sobre la recordacion del aviso publicitario y de las propias firmas. Tan es asi que, segun un sondeo de tendencias sobre el comportamiento de los hinchas uruguayos durante el mundial realizado por Mediaedge:cia, Ancel fue la unica marca uruguaya entre las cinco mas recordadas que pautaron durante la Copa, acompanada por Coca Cola, McDonald`s, Adidas y Sony. En promociones asociadas al mundial aparecen, por orden de recordacion, Schneck (Los ultimos seran los primeros); Coca-Cola (ver el mundial en Moviecenter y Promo Vasos); Pilsen (Viaje a Sudafrica en Motorhome), Halls (Respira Sudafrica) y Mc Donald`s (Corazonadas). a dos partidos Un relevamiento de mercado le arrojo a Schneck que si bien la marca es lider en varias de las categorias en las que esta presente, debia fortalecer la asociacion de marca en el rubro hamburguesas. Fue asi que vieron oportuno aprovechar la ocasion del mundial para lanzar una promocion. \"Resulta que habiamos sido los ultimos, literalmente, en clasificar al mundial, y se nos ocurrio la idea justamente de jugar con ese concepto\", explico Roberto Lafluf, principal de la agencia Avisa, que se encarga de la comunicacion del frigorifico. Entonces crearon una promocion en la que se elegia a once participantes (entre un total de 50.000 personas que se inscribieron) y de los seleccionados, el ultimo en salir sorteado se llevaba el premio mayor: una excursion a Sudafrica para dos personas. \"Sobre ese desarrollo de campana nos preguntamos quien podia defender este proceso de los ultimos seran los primeros y ahi fue que surgio la figura de Sergio Gorzy. Le planteamos la idea y le encanto. El protagonista calzaba en todos sus puntos\", cuenta el publicista. Mediante una serie de spots publicitarios previos al mundial (en television, radio y via publica) Gorzy anunciaba que Uruguay estaba a siete partidos de salir campeon, aventuraba como saldria Uruguay en la fase de grupos (coincidiendo con el resultado que finalmente se dio), arengaba un feriado nacional para cuando llegara la seleccion y hasta elaboro un recorrido para la caravana de bienvenida a los jugadores. \"Estabamos muy jugados a lo que pasara. Pero teniamos algo claro. En una conversacion con Sergio vimos que, de alguna forma, esta campana lo ayudaba a convalidar su locura porque se tomo graciosamente y a la marca nadie le iba a caer si a la seleccion le iba mal. Nuestra proteccion, de alguna forma, era Gorzy que se hacia cargo de lo que decia\", afirmo Lafluf. Pero los resultados empezaron a acompanar y la comunicacion, que tenia fin al inicio del mundial, tuvo que seguir desarrollandose. \"Los resultados increiblemente se dieron y ahi decidimos revivir su profecia\", comenta el publicista. \"Creo que ademas de lograr los objetivos de Schneck tambien reposicionamos la imagen de Gorzy\", dice Lafluf a las risas. Y LA PICO NO MAS Aunque Ancel ya venia realizando acciones publicitarias como sponsor oficial de la seleccion, la apuesta a Abreu tenia como objetivo asociar la marca a una figura fuerte de la seleccion, mas aun teniendo en cuenta la apuesta de Claro al capitan Diego Lugano y de Movistar con Diego Forlan. Se penso en Abreu e inmediatamente se hizo un estudio pormenorizado del jugador, que abarco desde rasgos de su personalidad (la sencillez y desfachatez) hasta su estilo de juego, del que rescataron una de sus cualidades: la forma de patear los penales. \"Salio redondito\", dice ahora Fernando De Clemente, de Ginkgo, cuando Abreu la volvio a picar contra Ghana y todos hablaron de su publicidad. A varias Puntas vv Varios fueron los intentos de otras marcas por \"pegarse\" a la seleccion al ver como avanzaba en la copa. No todos tuvieron el exito desado. Ottonello hizo una movida en Facebook para llevar al \"Pine\" a ver la semifinal de Uruguay; hoy varios grupos de la red social lo califican de yeta. 50.000 personas participaron de la promocion mundialista de Schneck y la venta de sus hamburguesas crecio 25%. Como yapa la promocion figura entre las mas recordadas por el publico. vv A pesar del optimismo de Schneck con Sergio Gorzy a la cabeza, la agencia que diseno la estrategia, Avisa, tenia un plan de contingencia para un fracaso de Uruguay. Una alternativa era Gorzy arengando una revancha en Brasil 2014, tierra donde el ultimo campeon fue la Celeste. Uruguay con mas clicks en Google La busqueda de Uruguay en Google (bajo las palabras clave Forlan y Uruguay) crecio notablemente a nivel global a medida que la seleccion iba avanzando en la copa, segun un relevamiento realizado por Mediaedge:cia, a traves del Google Trends. Por ejemplo, comparado los cuatro semifinalistas a nivel global Uruguay fue la palabra mas buscada el dia dos de julio (fecha del partido contra Ghana) llegando al pico mas alto de los ultimos treinta dias en comparacion con las busquedas realizadas a los otros 3 semifinalistas. A esa fecha le seguia Alemania (bajo la palabra Germany), el dia de la goleada frente a Inglaterra por octavos de final y Espana (bajo la palabra Spain) cuando perdio con Suiza.\n",
            "\n",
            "ANTES\n",
            "ENTREVISTA <<Se hace dinero haciendo las cosas que uno disfruta>> El CEO del imperio de comunicacion WPP, Sir Martin Sorrell, alquilo por dos semanas en Jose Ignacio; cree que Uruguay es la Suiza de America y proyecta un ano complicado para el negocio ¿Te interesa esta noticia?     POR GABRIELA ROCHA | grocha@elpais.com.uy Los mosquitos no solo fueron el tema de conversacion de muchos uruguayos esta semana. Hasta Sir Martin Sorrell, director ejecutivo de WPP, el mayor grupo de empresas de publicidad y el mayor comprador de medios del mundo, sufrio por la presencia de esos insectos y bromeo varias veces con el tema el martes pasado en su exposicion en uno de los eventos empresariales mas importantes del ano, el PuntaTech Meetup, y antes, en entrevista con El Empresario. Pero ese asunto esta lejos de alejarlo del principal balneario uruguayo, con el que esta encantado y por eso alquilo una casa con su esposa en Jose Ignacio dos semanas este ano. En el pais su grupo tiene una operacion pequena pero que funciona bien, considero. Concretamente cuenta con el 51% de participacion en Group M (MEC, Mindshare y Maxus), 51% en Burson Marsteller, Wunderman y Young & Rubicam, participacion mayoritaria en Ibope y minoritaria (22%) en Grey y su agencia de medios MediaCom, asi como acuerdos operativos con Corporacion JWT y Punto Ogilvy. En su tercera visita a Punta del Este, el empresario britanico aprovecho una vez mas para reunirse con sus socios locales. Sentado a sus anchas en un sillon, con jeans y camisa sin corbata, hablo con El Empresario sobre sus perspectivas para un ano complicado, por que cree que todas las empresas deberian estar en el mundo digital y sus comienzos en el negocio. Quienes lo conocen dicen que Sorrell, a sus casi 68 anos, puede ser duro y exigente al trabajar, pero esta semana estaba de vacaciones y se lo veia relajado. En ese tono distendido impulso a los emprendedores locales a ser <<rapidos>> y <<persistentes>> y a no trabajar por el dinero, sino por lo que los apasiona. A continuacion, un resumen de la charla. ¿Como llego por primera vez a Punta del Este? La primera vez que vinimos con mi esposa habiamos hecho una oferta por un fin de semana en Estancia Vik, en una subasta en el concierto de beneficencia que Sting y su esposa hacen todos los anos. Eso fue en abril de 2011. Cuando llegue invite a toda la gente que maneja negocios del grupo en Montevideo a un desayuno a la estancia a las ocho de la manana; despues me di cuenta de que era demasiado temprano para manejar desde Montevideo (risas). Nos gusto mucho y decidimos volver a fin de ano; esta vez decidimos rentar una casa en Jose Ignacio en esta fecha. ¿Que le gusta del balneario? ¿Que puede no gustarme? La playa es bonita, el tiempo es bueno, la comida es buena, la gente es amable. La parte negativa son los mosquitos. El lunes pense que moriria, ¡tenia por lo menos cien picaduras! ¿Como evalua el desempeno del grupo en el mercado local? El negocio aqui es pequeno pero funciona perfectamente. Tenemos ganancias por US$ 17.000 millones a nivel global y America Latina este ano deberia estar en US$ 1.800 millones. Tenemos algo menos de 163.000 personas, en America Latina 18.000 y en Uruguay 200. El mercado mas grande es Brasil, que es casi la mitad. Luego estan Argentina y Mexico, despues Chile y Colombia. Uruguay esta mas lejos en la lista, pero es un buen negocio, tenemos un buen rango de operaciones, aunque para ser justo creo que nuestra participacion de mercado podria ser mayor. Uruguay es interesante, definitivamente es como la Suiza de America Latina, porque tiene gobierno fuerte y estable, y la politica impositiva y de inversiones ayuda a las empresas. Es un mercado que impulsa a las personas a ubicar sus negocios aqui. Recientemente WPP adquirio 20% en la tecnologica argentina Globant en unos US$ 70 millones. ¿Que atractivos ve en America Latina? ¿Esta pensando en otras inversiones en esta region? Esta es la decada de America Latina. El crecimiento esta siendo realmente grande. Ademas de lo de Globant, hicimos un acuerdo en Mexico hace dos semanas, y anunciamos algo mas para Colombia. Para el fin de este ano haremos algo mas en Mexico, Argentina y Brasil. Excluyendo esto, la mayor parte de nuestro crecimiento es organico. Cuando compramos, tienden a ser empresas pequenas. ¿Cuales son este ano sus proyecciones para el negocio? Sera dificil. No habra Juegos Olimpicos, no habra Copa del Mundo. El ano pasado fue bueno, habia mucho optimismo por el impacto de las elecciones en EE.UU., los Juegos Olimpicos y los campeonatos en Europa. Al final, hubo un impacto, no enorme, pero hubo. Entonces, este ano no va a ser facil en parte por eso, pero tambien por el clima general, hay cosas que estan en un terreno gris. ¿Que temas incluiria en ese terreno gris? Nadie sabe que va a suceder con la crisis en la Eurozona, aunque parece que las cosas van a solucionarse. Lei esta manana que las cosas en Grecia estan mejor, en Espana tambien, Francia e Italia aun estan en situaciones complicadas, Alemania esta bien, Gran Bretana estable. No se sabe que sucedera en Medio Oriente; toda esa segunda area es muy impredecible. Pero el asunto mas importante es EE.UU., que sigue siendo la economia mas grande y su mercado crece bastante rapido, aunque la falta de resolucion sobre el <<abismo fiscal>> es problematico. Estos temas frenan la confianza de nuestros clientes, estan nerviosos. ¿Que tendencias detecta para su negocio? Hay nueve o diez cosas que estan pasando. La primera es la globalizacion. La segunda es el excedente de capacidad en muchas industrias, la gente se cree que la capacidad se ha reducido, y realmente no se ha reducido. Por ejemplo, tenemos un cliente que es Ford que, aunque Detroit se ha reducido en terminos de capacidad, esta se ha recolocado desde 2008 en China, en India y en Corea del Sur; el resultado es que aun se pueden producir mas autos de los que podemos consumir. En tercer lugar, esta la amenaza a los diarios tradicionales, ya que la gente joven se siente mas atraida por la tecnologia. En cuarto lugar esta el crecimiento del retailing, y las ventas online. En quinto, la comunicacion interna: las empresas deben explicar internamente lo que significan. En tanto, vemos a las companias hacerse cada vez mas globales, pero a su vez volverse mas locales. Otro punto son los gobiernos, cuyo rol se ha acentuado luego de las ultimas crisis. El siguiente es el balance entre finanzas, compras y marketing, la gente esta muy preocupada por el recorte de gastos, entonces en 2013 debemos pensar como crecer. El ultimo tema es la responsabilidad social, ya que la sustentabidad se vuelve cada vez mas un buen negocio y cada vez hay mas areas donde actuar. ¿Considera que todas las empresas deberian estar en digital? Todo el mundo dice eso, y probablemente tengan razon, seria un gran error ignorarlo. El gran asunto, para mi, para establecer retailers, lo que sea que vendan, deben poder hacerlo por Internet, porque la gente no tiene tiempo para comprar. Las ventas online son verdaderamente poderosas. Entonces, cuando me preguntas: ¿Deberian estar todos en digital? La respuesta es si, es decir, los consumidores consumen de esa manera. ¿Que cree que sucedera con los diarios? Los diarios tradicionales no van a morir nunca, aunque van a declinar. Los online si van a sobrevivir. ¿Como llego a construir el imperio que tiene hoy? Por accidente (risas). ¿Sono alguna vez con lo que logro despues? Yo tenia 40 anos, queria empezar algo y manejarlo, pero no queria que fuera una compania pequena. ¿Si me imaginaba hace 20 anos que hoy iba a estar aqui sentado contigo hablando de esto? No, seguro que no. ¿Cual seria un buen consejo para un emprendedor? La persistencia es muy importante. Y la rapidez tambien. No tenes que tener un gran cerebro, no necesitas ser Albert Einstein, pero si tenes que hacer las cosas que disfrutas, no se hace dinero diciendo: <<Voy a hacer dinero>>, se hace dinero haciendo las cosas que uno disfruta. En tanto, la suerte y las conexiones son muy importantes, cuantas mas veces interactues con gente, mas oportunidades tendras. Tarde de premios y networking El PuntaTech Meetup es un evento anual cuyo eje es el networking y reune a los lideres tecnologicos, emprendedores e inversores de America Latina y es organizado por Pablo Brenner, Sergio Fogel y Ariel Pfeffer, junto a Riverwood Capital. La ultima edicion, de la que el director ejecutivo de WPP, Sir Martin Sorrel fue expositor, se realizo el martes pasado en Manantiales y en la ocasion se entregaron los premios LatAmChallenge, una competencia que busca emprendedores de America Latina para que presenten ideas de negocios innovadoras sobre tecnologia, conectandolos con oportunidades de networking entre Silicon Valley y America Latina. Tras una convocatoria, que segun sus organizadores alcanzo las 500 aplicaciones, los jueces del certamen eligieron a dos empresas ganadoras: el marketplace de insumos para el cuidado de mascotas 4vets, de Brasil, y Zoop, un sistema de comercio movil del mismo pais. Ambos recibieron un impulso de capital para desarrollar sus startups. Las otras finalistas fueron: Workana, Redes Nevoa, Checkout10 y ClickSign.\n",
            "\n",
            "DESPUES\n",
            "ENTREVISTA <<Se hace dinero haciendo las cosas que uno disfruta>> El CEO del imperio de comunicacion WPP, Sir Martin Sorrell, alquilo por dos semanas en Jose Ignacio; cree que Uruguay es la Suiza de America y proyecta un ano complicado para el negocio ¿Te interesa esta noticia? grocha@elpais.com.uy Los mosquitos no solo fueron el tema de conversacion de muchos uruguayos esta semana. Hasta Sir Martin Sorrell, director ejecutivo de WPP, el mayor grupo de empresas de publicidad y el mayor comprador de medios del mundo, sufrio por la presencia de esos insectos y bromeo varias veces con el tema el martes pasado en su exposicion en uno de los eventos empresariales mas importantes del ano, el PuntaTech Meetup, y antes, en entrevista con El Empresario. Pero ese asunto esta lejos de alejarlo del principal balneario uruguayo, con el que esta encantado y por eso alquilo una casa con su esposa en Jose Ignacio dos semanas este ano. En el pais su grupo tiene una operacion pequena pero que funciona bien, considero. Concretamente cuenta con el 51% de participacion en Group M (MEC, Mindshare y Maxus), 51% en Burson Marsteller, Wunderman y Young & Rubicam, participacion mayoritaria en Ibope y minoritaria (22%) en Grey y su agencia de medios MediaCom, asi como acuerdos operativos con Corporacion JWT y Punto Ogilvy. En su tercera visita a Punta del Este, el empresario britanico aprovecho una vez mas para reunirse con sus socios locales. Sentado a sus anchas en un sillon, con jeans y camisa sin corbata, hablo con El Empresario sobre sus perspectivas para un ano complicado, por que cree que todas las empresas deberian estar en el mundo digital y sus comienzos en el negocio. Quienes lo conocen dicen que Sorrell, a sus casi 68 anos, puede ser duro y exigente al trabajar, pero esta semana estaba de vacaciones y se lo veia relajado. En ese tono distendido impulso a los emprendedores locales a ser <<rapidos>> y <<persistentes>> y a no trabajar por el dinero, sino por lo que los apasiona. A continuacion, un resumen de la charla. ¿Como llego por primera vez a Punta del Este? La primera vez que vinimos con mi esposa habiamos hecho una oferta por un fin de semana en Estancia Vik, en una subasta en el concierto de beneficencia que Sting y su esposa hacen todos los anos. Eso fue en abril de 2011. Cuando llegue invite a toda la gente que maneja negocios del grupo en Montevideo a un desayuno a la estancia a las ocho de la manana; despues me di cuenta de que era demasiado temprano para manejar desde Montevideo (risas). Nos gusto mucho y decidimos volver a fin de ano; esta vez decidimos rentar una casa en Jose Ignacio en esta fecha. ¿Que le gusta del balneario? ¿Que puede no gustarme? La playa es bonita, el tiempo es bueno, la comida es buena, la gente es amable. La parte negativa son los mosquitos. El lunes pense que moriria, ¡tenia por lo menos cien picaduras! ¿Como evalua el desempeno del grupo en el mercado local? El negocio aqui es pequeno pero funciona perfectamente. Tenemos ganancias por US$ 17.000 millones a nivel global y America Latina este ano deberia estar en US$ 1.800 millones. Tenemos algo menos de 163.000 personas, en America Latina 18.000 y en Uruguay 200. El mercado mas grande es Brasil, que es casi la mitad. Luego estan Argentina y Mexico, despues Chile y Colombia. Uruguay esta mas lejos en la lista, pero es un buen negocio, tenemos un buen rango de operaciones, aunque para ser justo creo que nuestra participacion de mercado podria ser mayor. Uruguay es interesante, definitivamente es como la Suiza de America Latina, porque tiene gobierno fuerte y estable, y la politica impositiva y de inversiones ayuda a las empresas. Es un mercado que impulsa a las personas a ubicar sus negocios aqui. Recientemente WPP adquirio 20% en la tecnologica argentina Globant en unos US$ 70 millones. ¿Que atractivos ve en America Latina? ¿Esta pensando en otras inversiones en esta region? Esta es la decada de America Latina. El crecimiento esta siendo realmente grande. Ademas de lo de Globant, hicimos un acuerdo en Mexico hace dos semanas, y anunciamos algo mas para Colombia. Para el fin de este ano haremos algo mas en Mexico, Argentina y Brasil. Excluyendo esto, la mayor parte de nuestro crecimiento es organico. Cuando compramos, tienden a ser empresas pequenas. ¿Cuales son este ano sus proyecciones para el negocio? Sera dificil. No habra Juegos Olimpicos, no habra Copa del Mundo. El ano pasado fue bueno, habia mucho optimismo por el impacto de las elecciones en EE.UU., los Juegos Olimpicos y los campeonatos en Europa. Al final, hubo un impacto, no enorme, pero hubo. Entonces, este ano no va a ser facil en parte por eso, pero tambien por el clima general, hay cosas que estan en un terreno gris. ¿Que temas incluiria en ese terreno gris? Nadie sabe que va a suceder con la crisis en la Eurozona, aunque parece que las cosas van a solucionarse. Lei esta manana que las cosas en Grecia estan mejor, en Espana tambien, Francia e Italia aun estan en situaciones complicadas, Alemania esta bien, Gran Bretana estable. No se sabe que sucedera en Medio Oriente; toda esa segunda area es muy impredecible. Pero el asunto mas importante es EE.UU., que sigue siendo la economia mas grande y su mercado crece bastante rapido, aunque la falta de resolucion sobre el <<abismo fiscal>> es problematico. Estos temas frenan la confianza de nuestros clientes, estan nerviosos. ¿Que tendencias detecta para su negocio? Hay nueve o diez cosas que estan pasando. La primera es la globalizacion. La segunda es el excedente de capacidad en muchas industrias, la gente se cree que la capacidad se ha reducido, y realmente no se ha reducido. Por ejemplo, tenemos un cliente que es Ford que, aunque Detroit se ha reducido en terminos de capacidad, esta se ha recolocado desde 2008 en China, en India y en Corea del Sur; el resultado es que aun se pueden producir mas autos de los que podemos consumir. En tercer lugar, esta la amenaza a los diarios tradicionales, ya que la gente joven se siente mas atraida por la tecnologia. En cuarto lugar esta el crecimiento del retailing, y las ventas online. En quinto, la comunicacion interna: las empresas deben explicar internamente lo que significan. En tanto, vemos a las companias hacerse cada vez mas globales, pero a su vez volverse mas locales. Otro punto son los gobiernos, cuyo rol se ha acentuado luego de las ultimas crisis. El siguiente es el balance entre finanzas, compras y marketing, la gente esta muy preocupada por el recorte de gastos, entonces en 2013 debemos pensar como crecer. El ultimo tema es la responsabilidad social, ya que la sustentabidad se vuelve cada vez mas un buen negocio y cada vez hay mas areas donde actuar. ¿Considera que todas las empresas deberian estar en digital? Todo el mundo dice eso, y probablemente tengan razon, seria un gran error ignorarlo. El gran asunto, para mi, para establecer retailers, lo que sea que vendan, deben poder hacerlo por Internet, porque la gente no tiene tiempo para comprar. Las ventas online son verdaderamente poderosas. Entonces, cuando me preguntas: ¿Deberian estar todos en digital? La respuesta es si, es decir, los consumidores consumen de esa manera. ¿Que cree que sucedera con los diarios? Los diarios tradicionales no van a morir nunca, aunque van a declinar. Los online si van a sobrevivir. ¿Como llego a construir el imperio que tiene hoy? Por accidente (risas). ¿Sono alguna vez con lo que logro despues? Yo tenia 40 anos, queria empezar algo y manejarlo, pero no queria que fuera una compania pequena. ¿Si me imaginaba hace 20 anos que hoy iba a estar aqui sentado contigo hablando de esto? No, seguro que no. ¿Cual seria un buen consejo para un emprendedor? La persistencia es muy importante. Y la rapidez tambien. No tenes que tener un gran cerebro, no necesitas ser Albert Einstein, pero si tenes que hacer las cosas que disfrutas, no se hace dinero diciendo: <<Voy a hacer dinero>>, se hace dinero haciendo las cosas que uno disfruta. En tanto, la suerte y las conexiones son muy importantes, cuantas mas veces interactues con gente, mas oportunidades tendras. Tarde de premios y networking El PuntaTech Meetup es un evento anual cuyo eje es el networking y reune a los lideres tecnologicos, emprendedores e inversores de America Latina y es organizado por Pablo Brenner, Sergio Fogel y Ariel Pfeffer, junto a Riverwood Capital. La ultima edicion, de la que el director ejecutivo de WPP, Sir Martin Sorrel fue expositor, se realizo el martes pasado en Manantiales y en la ocasion se entregaron los premios LatAmChallenge, una competencia que busca emprendedores de America Latina para que presenten ideas de negocios innovadoras sobre tecnologia, conectandolos con oportunidades de networking entre Silicon Valley y America Latina. Tras una convocatoria, que segun sus organizadores alcanzo las 500 aplicaciones, los jueces del certamen eligieron a dos empresas ganadoras: el marketplace de insumos para el cuidado de mascotas 4vets, de Brasil, y Zoop, un sistema de comercio movil del mismo pais. Ambos recibieron un impulso de capital para desarrollar sus startups. Las otras finalistas fueron: Workana, Redes Nevoa, Checkout10 y ClickSign.\n",
            "\n"
          ]
        }
      ],
      "source": [
        "text = sanitice_text(lines[64557])\n",
        "print('ANTES')\n",
        "print(text)\n",
        "\n",
        "replace_pattern = r\"(\\w)(\\s*Por \\w* \\w* \\|)\"\n",
        "text = re.sub(replace_pattern, r'\\1.', text, re.IGNORECASE)\n",
        "\n",
        "replace_pattern = r\"\\s*Por \\w* \\w* \\|\"\n",
        "text = re.sub(replace_pattern, '', text, 0, re.IGNORECASE)\n",
        "\n",
        "print('DESPUES')\n",
        "print(text)\n",
        "\n",
        "text = sanitice_text(lines[21151])\n",
        "print('ANTES')\n",
        "print(text)\n",
        "\n",
        "replace_pattern = r\"(\\w)(\\s*Por \\w* \\w* \\|)\"\n",
        "text = re.sub(replace_pattern, r'\\1.', text, re.IGNORECASE)\n",
        "\n",
        "replace_pattern = r\"\\s*Por \\w* \\w* \\|\"\n",
        "text = re.sub(replace_pattern, '', text, 0, re.IGNORECASE)\n",
        "\n",
        "print('DESPUES')\n",
        "print(text)"
      ]
    },
    {
      "cell_type": "code",
      "execution_count": 63,
      "metadata": {
        "colab": {
          "base_uri": "https://localhost:8080/"
        },
        "id": "spLtvv2fbc3g",
        "outputId": "ed7ded13-62c8-46d9-fe55-338af2f0935e"
      },
      "outputs": [
        {
          "name": "stdout",
          "output_type": "stream",
          "text": [
            "ANTES\n",
            "598\n",
            "REEMPLAZO\n",
            "DESPUES\n",
            "0\n"
          ]
        }
      ],
      "source": [
        "str_text = auxiliar_full_lines\n",
        "print('ANTES')\n",
        "# cantidad de ocurrencias con texto -AUTOR-\n",
        "\n",
        "pattern = r\"Por \\w* \\w* \\|\"\n",
        "results = re.findall(pattern, str_text, re.IGNORECASE)\n",
        "print(len(results))\n",
        "\n",
        "print('REEMPLAZO')\n",
        "\n",
        "replace_pattern = r\"(\\w)(\\s*Por \\w* \\w* \\|)\"\n",
        "text = re.sub(replace_pattern, r'\\1.', str_text, re.IGNORECASE)\n",
        "\n",
        "replace_pattern = r\"\\s*Por \\w* \\w* \\|\"\n",
        "text = re.sub(replace_pattern, '', str_text, 0, re.IGNORECASE)\n",
        "\n",
        "\n",
        "print('DESPUES')\n",
        "# cantidad de ocurrencias con texto -AUTOR-\n",
        "\n",
        "pattern = r\"Por \\w* \\w* \\|\"\n",
        "results = re.findall(pattern, text, re.IGNORECASE)\n",
        "print(len(results))\n"
      ]
    },
    {
      "cell_type": "markdown",
      "metadata": {
        "id": "YUNrc4YtofjJ"
      },
      "source": [
        "### String \"AFP\"\n"
      ]
    },
    {
      "cell_type": "code",
      "execution_count": 64,
      "metadata": {
        "colab": {
          "base_uri": "https://localhost:8080/"
        },
        "id": "X6ytyYsJofjR",
        "outputId": "e90c39ca-b683-42bb-e18a-b192b3d8b6e5"
      },
      "outputs": [
        {
          "name": "stdout",
          "output_type": "stream",
          "text": [
            "x Lanzan proyecto de vehículos híbridos Berlín - El gobierno alemán, junto con Volkswagen y otros industriales, lanzó hoy en Berlín un ambicioso programa destinado a alentar el desarrollo de vehículos híbridos, es decir, con motores que combinan el carburante y la electricidad. El ministro alemán de Medio Ambiente, Sigmar Gabriel, prometió 15 millones de euros para apoyar este proyecto que pretende lanzar en cuatro años varios prototipos alimentados con electricidad procedente de fuentes renovables (viento, sol, agua). Otro de los objetivos fijados es el desarrollo de baterías de mayor capacidad. Además de Volkswagen, que aprovechó el jueves la ocasión para presentar su Golf TwinDrive, equipado de una nueva tecnología de motor híbrido, el programa cuenta con la participación del número uno de la energía alemán EON. El patrón del constructor, Martin Winterkorn, estimó imposible por el momento prescindir totalmente del carburante, pero aseguró que \"el futuro pertenece\" al vehículo 100% eléctrico. Volkswagen, así como su competidor Daimler, presentarán en 2010 sus primeros modelos de funcionamiento completamente eléctrico. El investigador Ferdinand Dudenhoeffer, considerado en Alemania un oráculo de la industria automóvil, estimó en una entrevista publicada el jueves en el Neue Ruhr/Neue Rhein Zeitung que en 2025, \"todos los autos vendidos en Europa serán eléctricos o híbridos\". AFP\n",
            "\n"
          ]
        }
      ],
      "source": [
        "print(lines[93949])"
      ]
    },
    {
      "cell_type": "markdown",
      "metadata": {
        "id": "M7nt7rQGp8eK"
      },
      "source": [
        "x Lanzan proyecto de vehículos híbridos Berlín - El gobierno alemán, junto con Volkswagen y otros industriales, lanzó hoy en Berlín un ambicioso programa destinado a alentar el desarrollo de vehículos híbridos, es decir, con motores que combinan el carburante y la electricidad. El ministro alemán de Medio Ambiente, Sigmar Gabriel, prometió 15 millones de euros para apoyar este proyecto que pretende lanzar en cuatro años varios prototipos alimentados con electricidad procedente de fuentes renovables (viento, sol, agua). Otro de los objetivos fijados es el desarrollo de baterías de mayor capacidad. Además de Volkswagen, que aprovechó el jueves la ocasión para presentar su Golf TwinDrive, equipado de una nueva tecnología de motor híbrido, el programa cuenta con la participación del número uno de la energía alemán EON. El patrón del constructor, Martin Winterkorn, estimó imposible por el momento prescindir totalmente del carburante, pero aseguró que \"el futuro pertenece\" al vehículo 100% eléctrico. Volkswagen, así como su competidor Daimler, presentarán en 2010 sus primeros modelos de funcionamiento completamente eléctrico. El investigador Ferdinand Dudenhoeffer, considerado en Alemania un oráculo de la industria automóvil, estimó en una entrevista publicada el jueves en el Neue Ruhr/Neue Rhein Zeitung que en 2025, \"todos los autos vendidos en Europa serán eléctricos o híbridos\". `AFP`\n"
      ]
    },
    {
      "cell_type": "code",
      "execution_count": 65,
      "metadata": {
        "colab": {
          "base_uri": "https://localhost:8080/"
        },
        "id": "1AhXfTQkwwku",
        "outputId": "671a88dd-03e5-4e6f-b824-e383b9f24cbb"
      },
      "outputs": [
        {
          "name": "stdout",
          "output_type": "stream",
          "text": [
            "ARGENTINA Fiscal pide ocho años de cárcel para Menem Se lo acusa de contrabando de armas a Croacia y Ecuador durante su mandato.La sentencia estará en dos semanas.  Carlos Menem en el juzgado.  Foto: LA NACION | GDA Temas Contrabando de armas AFPvie may 31 2013 18:01 Un fiscal argentino pidió este viernes ocho años de prisión para el expresidente Carlos Menem por el contrabando de armas a Croacia y Ecuador durante su mandato, informó Infojus, portal que depende del ministerio de Justicia. El fiscal Marcelo Agüero Vera reclamó además el desafuero de Menem, actual senador, y su inhabilitación por 16 años para ejercer cargos públicos. Por otro lado, la fiscalía solicitó siete años de cárcel para el excanciller Oscar Camilión y ocho años para Diego Palleros, acusado como traficante de armas en la causa, según Infojus. Menem (82 años) y Camilión fueron encontrados culpables por \"contrabando agravado de 6.500 toneladas de armamento y municiones a Croacia y Ecuador\". El expresidente, quien estuvo presente en la audiencia, ocupa una banca por el gubernamental peronismo y por lo tanto tiene fueros que lo protegen de la cárcel, salvo que se promueva un juicio político. Los cañones, fusiles y otros pertrechos embarcados en Buenos Aires tenían como presunto destino Panamá y Venezuela, pero fueron desviados en una maniobra para eludir sendos embargos de armas que pesaban sobre Ecuador y Croacia, ambos envueltos en respectivas guerras en aquel entonces. El tribunal volverá a reunirse el viernes próximo y luego tendrá cinco días hábiles para fijar las penas. Menem y Camilión habían sido absueltos en 2011 por un tribunal oral, pero la Cámara de Casación revocó el fallo a comienzos de marzo. El delito de contrabando agravado contempla penas entre cuatro y 12 años de prisión. Vota por esta noticia:\n",
            "\n"
          ]
        }
      ],
      "source": [
        "print(lines[124])"
      ]
    },
    {
      "cell_type": "markdown",
      "metadata": {
        "id": "A9jXZ1HEw03m"
      },
      "source": [
        "ARGENTINA Fiscal pide ocho años de cárcel para Menem Se lo acusa de contrabando de armas a Croacia y Ecuador durante su mandato.La sentencia estará en dos semanas.  Carlos Menem en el juzgado.  Foto: LA NACION | GDA Temas Contrabando de armas `AFP`vie may 31 2013 18:01 Un fiscal argentino pidió este viernes ocho años de prisión para el expresidente Carlos Menem por el contrabando de armas a Croacia y Ecuador durante su mandato, informó Infojus, portal que depende del ministerio de Justicia. El fiscal Marcelo Agüero Vera reclamó además el desafuero de Menem, actual senador, y su inhabilitación por 16 años para ejercer cargos públicos. Por otro lado, la fiscalía solicitó siete años de cárcel para el excanciller Oscar Camilión y ocho años para Diego Palleros, acusado como traficante de armas en la causa, según Infojus. Menem (82 años) y Camilión fueron encontrados culpables por \"contrabando agravado de 6.500 toneladas de armamento y municiones a Croacia y Ecuador\". El expresidente, quien estuvo presente en la audiencia, ocupa una banca por el gubernamental peronismo y por lo tanto tiene fueros que lo protegen de la cárcel, salvo que se promueva un juicio político. Los cañones, fusiles y otros pertrechos embarcados en Buenos Aires tenían como presunto destino Panamá y Venezuela, pero fueron desviados en una maniobra para eludir sendos embargos de armas que pesaban sobre Ecuador y Croacia, ambos envueltos en respectivas guerras en aquel entonces. El tribunal volverá a reunirse el viernes próximo y luego tendrá cinco días hábiles para fijar las penas. Menem y Camilión habían sido absueltos en 2011 por un tribunal oral, pero la Cámara de Casación revocó el fallo a comienzos de marzo. El delito de contrabando agravado contempla penas entre cuatro y 12 años de prisión. Vota por esta noticia:\n"
      ]
    },
    {
      "cell_type": "markdown",
      "metadata": {
        "id": "5XpANu1dgkeG"
      },
      "source": [
        "#### Solucion\n"
      ]
    },
    {
      "cell_type": "code",
      "execution_count": 66,
      "metadata": {
        "colab": {
          "base_uri": "https://localhost:8080/"
        },
        "id": "0Z645Z1pgmD0",
        "outputId": "50630847-abaf-4412-ae1b-a41c14f6f4ac"
      },
      "outputs": [
        {
          "name": "stdout",
          "output_type": "stream",
          "text": [
            "11553\n"
          ]
        }
      ],
      "source": [
        "str_text = auxiliar_full_lines\n",
        "# cantidad de ocurrencias con texto ¿Te interesa esta noticia?\n",
        "pattern = r\"AFP\"\n",
        "results = re.findall(pattern, str_text)\n",
        "print(len(results))\n"
      ]
    },
    {
      "cell_type": "code",
      "execution_count": 67,
      "metadata": {
        "colab": {
          "base_uri": "https://localhost:8080/"
        },
        "id": "eScuTKhGhKrS",
        "outputId": "a587bf65-6305-4622-8aea-e95196baccd4"
      },
      "outputs": [
        {
          "name": "stdout",
          "output_type": "stream",
          "text": [
            "x Lanzan proyecto de vehículos híbridos Berlín - El gobierno alemán, junto con Volkswagen y otros industriales, lanzó hoy en Berlín un ambicioso programa destinado a alentar el desarrollo de vehículos híbridos, es decir, con motores que combinan el carburante y la electricidad. El ministro alemán de Medio Ambiente, Sigmar Gabriel, prometió 15 millones de euros para apoyar este proyecto que pretende lanzar en cuatro años varios prototipos alimentados con electricidad procedente de fuentes renovables (viento, sol, agua). Otro de los objetivos fijados es el desarrollo de baterías de mayor capacidad. Además de Volkswagen, que aprovechó el jueves la ocasión para presentar su Golf TwinDrive, equipado de una nueva tecnología de motor híbrido, el programa cuenta con la participación del número uno de la energía alemán EON. El patrón del constructor, Martin Winterkorn, estimó imposible por el momento prescindir totalmente del carburante, pero aseguró que \"el futuro pertenece\" al vehículo 100% eléctrico. Volkswagen, así como su competidor Daimler, presentarán en 2010 sus primeros modelos de funcionamiento completamente eléctrico. El investigador Ferdinand Dudenhoeffer, considerado en Alemania un oráculo de la industria automóvil, estimó en una entrevista publicada el jueves en el Neue Ruhr/Neue Rhein Zeitung que en 2025, \"todos los autos vendidos en Europa serán eléctricos o híbridos\". \n",
            "\n",
            "\n"
          ]
        }
      ],
      "source": [
        "# REEMPLAZO:\n",
        "testing_str = lines[93949]\n",
        "\n",
        "replace_pattern = r\"AFP\"\n",
        "result = re.sub(replace_pattern, '', testing_str)  \n",
        "print(result)\n",
        "print('')"
      ]
    },
    {
      "cell_type": "markdown",
      "metadata": {
        "id": "59ZI5Ja8__Cm"
      },
      "source": [
        "### Fechas"
      ]
    },
    {
      "cell_type": "markdown",
      "metadata": {
        "id": "OSbR4251yHTZ"
      },
      "source": [
        "#### String de fecha de publicacion en formato \"dia mes dd aaaa hh:mm\""
      ]
    },
    {
      "cell_type": "code",
      "execution_count": 68,
      "metadata": {
        "colab": {
          "base_uri": "https://localhost:8080/"
        },
        "id": "l6rfccrbwpUa",
        "outputId": "9ed9e7e9-937a-4fad-c240-9760f99ba13e"
      },
      "outputs": [
        {
          "name": "stdout",
          "output_type": "stream",
          "text": [
            "ARGENTINA Fiscal pide ocho años de cárcel para Menem Se lo acusa de contrabando de armas a Croacia y Ecuador durante su mandato.La sentencia estará en dos semanas.  Carlos Menem en el juzgado.  Foto: LA NACION | GDA Temas Contrabando de armas AFPvie may 31 2013 18:01 Un fiscal argentino pidió este viernes ocho años de prisión para el expresidente Carlos Menem por el contrabando de armas a Croacia y Ecuador durante su mandato, informó Infojus, portal que depende del ministerio de Justicia. El fiscal Marcelo Agüero Vera reclamó además el desafuero de Menem, actual senador, y su inhabilitación por 16 años para ejercer cargos públicos. Por otro lado, la fiscalía solicitó siete años de cárcel para el excanciller Oscar Camilión y ocho años para Diego Palleros, acusado como traficante de armas en la causa, según Infojus. Menem (82 años) y Camilión fueron encontrados culpables por \"contrabando agravado de 6.500 toneladas de armamento y municiones a Croacia y Ecuador\". El expresidente, quien estuvo presente en la audiencia, ocupa una banca por el gubernamental peronismo y por lo tanto tiene fueros que lo protegen de la cárcel, salvo que se promueva un juicio político. Los cañones, fusiles y otros pertrechos embarcados en Buenos Aires tenían como presunto destino Panamá y Venezuela, pero fueron desviados en una maniobra para eludir sendos embargos de armas que pesaban sobre Ecuador y Croacia, ambos envueltos en respectivas guerras en aquel entonces. El tribunal volverá a reunirse el viernes próximo y luego tendrá cinco días hábiles para fijar las penas. Menem y Camilión habían sido absueltos en 2011 por un tribunal oral, pero la Cámara de Casación revocó el fallo a comienzos de marzo. El delito de contrabando agravado contempla penas entre cuatro y 12 años de prisión. Vota por esta noticia:\n",
            "\n"
          ]
        }
      ],
      "source": [
        "print(lines[124])\n"
      ]
    },
    {
      "cell_type": "markdown",
      "metadata": {
        "id": "aai4AqMHxg8H"
      },
      "source": [
        "ARGENTINA Fiscal pide ocho años de cárcel para Menem Se lo acusa de contrabando de armas a Croacia y Ecuador durante su mandato.La sentencia estará en dos semanas.  Carlos Menem en el juzgado.  Foto: LA NACION | GDA Temas Contrabando de armas AFP`vie may 31 2013 18:01` Un fiscal argentino pidió este viernes ocho años de prisión para el expresidente Carlos Menem por el contrabando de armas a Croacia y Ecuador durante su mandato, informó Infojus, portal que depende del ministerio de Justicia. El fiscal Marcelo Agüero Vera reclamó además el desafuero de Menem, actual senador, y su inhabilitación por 16 años para ejercer cargos públicos. Por otro lado, la fiscalía solicitó siete años de cárcel para el excanciller Oscar Camilión y ocho años para Diego Palleros, acusado como traficante de armas en la causa, según Infojus. Menem (82 años) y Camilión fueron encontrados culpables por \"contrabando agravado de 6.500 toneladas de armamento y municiones a Croacia y Ecuador\". El expresidente, quien estuvo presente en la audiencia, ocupa una banca por el gubernamental peronismo y por lo tanto tiene fueros que lo protegen de la cárcel, salvo que se promueva un juicio político. Los cañones, fusiles y otros pertrechos embarcados en Buenos Aires tenían como presunto destino Panamá y Venezuela, pero fueron desviados en una maniobra para eludir sendos embargos de armas que pesaban sobre Ecuador y Croacia, ambos envueltos en respectivas guerras en aquel entonces. El tribunal volverá a reunirse el viernes próximo y luego tendrá cinco días hábiles para fijar las penas. Menem y Camilión habían sido absueltos en 2011 por un tribunal oral, pero la Cámara de Casación revocó el fallo a comienzos de marzo. El delito de contrabando agravado contempla penas entre cuatro y 12 años de prisión. Vota por esta noticia:\n"
      ]
    },
    {
      "cell_type": "code",
      "execution_count": 69,
      "metadata": {
        "colab": {
          "base_uri": "https://localhost:8080/"
        },
        "id": "tqgfY0IezYov",
        "outputId": "038a9801-c8f0-43ad-f072-9baaea495ace"
      },
      "outputs": [
        {
          "name": "stdout",
          "output_type": "stream",
          "text": [
            "SEGUIDILLA Otra tragedia en Rosario, cayó una \"rueda gigante\" y hay dos muertos Tras la explosión de principios de semana que mató a 13 personas y dejó varios desaparecidos, ahora hubo un accidente en un parque de diversiones. Foto: La Capital de Rosario. Temas Ascienden a 14 los muertos por la explosión de la ciudad de Rosario sáb ago 10 2013 19:35 Dos personas murieron y varias resultaron heridas en el parque de diversiones del Parque de la Independencia, en Rosario. Un carro de la famosa atracción \"La vuelta al mundo\" se desprendió desde la parte superior  y provocó la tragedia, según publican varios medios argentinos.  Según publica el diario La Capital de Rosario tres pequeños fueron derivados al Hospital de Niños Víctor Vilela, mientras el resto de los heridos, un total de diez, habrían sido trasladados al Hospital de Emergencias Clemente Alvarez. Según testigos que se encontraban el el parque de diversiones, el siniestro se produjo cuando \"se desprendió un arnés, el carro hizo columpio y se cayó. El muchacho que trabaja con la rueda hizo todo el esfuerzo, pero se descontroló totalmente\", contó un testigo.  International Park está ubicado en pleno Parque de la Independencia, a sólo 15 cuadras del edificio que explotó el día martes. De hecho personal especializado en rescate, Bomberos y policías que estaban trabajando en la búsqueda de personas ausentes de la tragedia en Salta y Oroño llegaron al lugar para asistir a las víctimas. Vea el video que grabó una testigo en el momento del accidente y otro de los segundos posteriores: Vota por esta noticia:\n",
            "\n"
          ]
        }
      ],
      "source": [
        "print(lines[26])"
      ]
    },
    {
      "cell_type": "markdown",
      "metadata": {
        "id": "evmOtBN6zYov"
      },
      "source": [
        "SEGUIDILLA Otra tragedia en Rosario, cayó una \"rueda gigante\" y hay dos muertos Tras la explosión de principios de semana que mató a 13 personas y dejó varios desaparecidos, ahora hubo un accidente en un parque de diversiones. Foto: La Capital de Rosario. Temas Ascienden a 14 los muertos por la explosión de la ciudad de Rosario `sáb ago 10 2013 19:35` Dos personas murieron y varias resultaron heridas en el parque de diversiones del Parque de la Independencia, en Rosario. Un carro de la famosa atracción \"La vuelta al mundo\" se desprendió desde la parte superior  y provocó la tragedia, según publican varios medios argentinos.  Según publica el diario La Capital de Rosario tres pequeños fueron derivados al Hospital de Niños Víctor Vilela, mientras el resto de los heridos, un total de diez, habrían sido trasladados al Hospital de Emergencias Clemente Alvarez. Según testigos que se encontraban el el parque de diversiones, el siniestro se produjo cuando \"se desprendió un arnés, el carro hizo columpio y se cayó. El muchacho que trabaja con la rueda hizo todo el esfuerzo, pero se descontroló totalmente\", contó un testigo.  International Park está ubicado en pleno Parque de la Independencia, a sólo 15 cuadras del edificio que explotó el día martes. De hecho personal especializado en rescate, Bomberos y policías que estaban trabajando en la búsqueda de personas ausentes de la tragedia en Salta y Oroño llegaron al lugar para asistir a las víctimas. Vea el video que grabó una testigo en el momento del accidente y otro de los segundos posteriores: Vota por esta noticia:\n"
      ]
    },
    {
      "cell_type": "markdown",
      "metadata": {
        "id": "fMD0W_ZHie6d"
      },
      "source": [
        "#### Solucion\n"
      ]
    },
    {
      "cell_type": "code",
      "execution_count": 70,
      "metadata": {
        "colab": {
          "base_uri": "https://localhost:8080/"
        },
        "id": "EJp-H8-bii0I",
        "outputId": "ff7b0ac2-7369-432c-b110-5984db04c238"
      },
      "outputs": [
        {
          "name": "stdout",
          "output_type": "stream",
          "text": [
            "11562\n",
            "['mar jun 10 2014 18:42', 'sáb ago 10 2013 19:35', 'lun nov 11 2013 20:05', 'lun dic 23 2013 10:09', 'lun may 27 2013 09:32']\n",
            "11236\n",
            "['rísAFPmar jun 10 2014 18:42 En u', 'sario sáb ago 10 2013 19:35 Dos ', 'cedes lun nov 11 2013 20:05 Ocho', ' a AFPlun dic 23 2013 10:09 Las ', 'borto lun may 27 2013 09:32 En d', 'ernes mar jun 17 2014 17:41 En e', 'Temas mié may 14 2014 11:06 Si n', ' hoy? jue jun 12 2014 21:26 La a', 'París vie dic 20 2013 03:00 La m', ' Rojaslun sep 16 2013 09:56 El h']\n",
            "260\n",
            "['sáb ago 17 2013 17:36', 'lun ago 11 2014 04:00', 'lun jun 16 2014 04:00', 'mié abr 23 2014 04:00', 'mié may 14 2014 04:00', 'mié jun 25 2014 16:44', 'lun ene 20 2014 03:01', 'sáb mar 29 2014 04:00', 'sáb abr 26 2014 04:05', 'dom jun 29 2014 04:00']\n"
          ]
        }
      ],
      "source": [
        "# str_text = sanitice_text(auxiliar_full_lines)\n",
        "# cantidad de ocurrencias con fechas formato  dia mes nn YYYY hh:mm \n",
        "pattern = r\"\\w\\w\\w \\w\\w\\w \\d\\d \\d\\d\\d\\d \\d\\d:\\d\\d\"\n",
        "results = re.findall(pattern, str_text)\n",
        "print(len(results))\n",
        "print(results[:5])\n",
        "\n",
        "\n",
        "# Analizo el contexto de los casos encontrados\n",
        "pattern = r\"......\\w\\w\\w \\w\\w\\w \\d\\d \\d\\d\\d\\d \\d\\d:\\d\\d.....\"\n",
        "results = re.findall(pattern, str_text)\n",
        "print(len(results))\n",
        "print(results[:10])\n",
        "\n",
        "# Fechas al inicio del texto\n",
        "pattern = r\"^\\w\\w\\w \\w\\w\\w \\d\\d \\d\\d\\d\\d \\d\\d:\\d\\d\"\n",
        "results = re.findall(pattern, str_text, re.MULTILINE)\n",
        "print(len(results))\n",
        "print(results[:10])\n"
      ]
    },
    {
      "cell_type": "code",
      "execution_count": 71,
      "metadata": {
        "colab": {
          "base_uri": "https://localhost:8080/",
          "height": 110
        },
        "id": "0ue3rpQNkVE3",
        "outputId": "de7afb92-76e6-451a-e4a6-deb5938e464a"
      },
      "outputs": [
        {
          "data": {
            "text/plain": [
              "'ANA INÉS MARTÍNEZ (Periodista y presentadora en Subrayado) Así lo vio Los temas que estuvieron en la vuelta analizados por una figura invitada. Temas Así lo vio Aguada campeón luego de 36 años. Hay dos lecturas para hacer. Por un lado lo deportivo. Por momentos, Aguada dependió de Leandro García Morales, pero tuvo juego en equipo y mucha garra, y por eso ganó varios partidos en el cierre. A veces se dice que los árbitros miden a García Morales, la figura del basquet nacional, con otra vara. Eso es cuestionable, pero me pareció un justo campeón. El otro tema es la hinchada. Ahora está de moda la frase \"ah, ahora todos son hinchas de aguada\". Yo estuve en la cancha con mi hijo, y realmente me impresionó la pasión de los hinchas, vi gente llorar en serio, con ruido. Cuando me iba, le pedí al taxi que pasara junto a los hinchas que caminaban del Palacio Peñarol a la sede del club, e hicieron una parada en el Palacio Legislativo para sacar fotos y tirar fuegos. Nunca vi una pasión así, ni en fútbol por la Copa Libertadores. La mayoría promediaba 20, 30 años y nunca había visto a Aguada campeón. Visita de Nicolás Maduro a Uruguay. Nos habíamos acostumbrado a Venezuela con Chávez y era difícil imaginarse al país con otro presidente. La visita la tomo como algo positivo, en el sentido de que puede favorecernos la buena relación entre ambos gobiernos. Ya existía esa relación con Chávez, la visita parece reafirmar que esta va a continuar. Un hecho no menor es la elección de Maduro, que escogió a Uruguay como el primer país de la región para visitar luego de ser electo presidente. Secuestro en Ohio. Quizás los periodistas tomamos estas noticias duras con mayor naturalidad, porque estamos más acostumbrados. Pero cuesta creer que un hecho tan grave pase en el siglo XXI. Tantos años, tres mujeres, un hijo con una. Cuesta creer, parece de ficción. Y al ser el implicado latino choca aún mas, porque lo vemos cercano. Pero es algo repudiable. Vota por esta noticia:\\n'"
            ]
          },
          "execution_count": 71,
          "metadata": {},
          "output_type": "execute_result"
        }
      ],
      "source": [
        "lines[88926]"
      ]
    },
    {
      "cell_type": "markdown",
      "metadata": {
        "id": "-A_Isil_ASe1"
      },
      "source": [
        "#### Fecha con formato -dia mmm dd `YYYY- (sin hora)"
      ]
    },
    {
      "cell_type": "code",
      "execution_count": 72,
      "metadata": {
        "colab": {
          "base_uri": "https://localhost:8080/"
        },
        "id": "uiyot0bSjGRV",
        "outputId": "bf1e16ab-9a31-4eb8-e81f-090d19c378c4"
      },
      "outputs": [
        {
          "name": "stdout",
          "output_type": "stream",
          "text": [
            "2650\n",
            "['jue jul 17 2014 E', 'lun may 12 2014 E', 'jue jul 10 2014 E', 'lun jul 28 2014 N', 'mar jun 24 2014 E']\n",
            "2538\n",
            "[' Agustini jue jul 17 2014 El pro', 'ris Brown lun may 12 2014 El jue', 'it fiscal jue jul 10 2014 Este e', 'RATT VIÑESlun jul 28 2014 Nacida', 'NACIÓN/GDAmar jun 24 2014 El est', 'EGO CASTROmié jun 25 2014 El pit', 'A RUGGIEROdom jul 13 2014 Belén ', 'a y Rusia mar jun 24 2014 Una gu', 'RLOS TAPIAvie jul 11 2014 El MSP', 'curio/ GDAdom jun 15 2014 Mientr', 'ANSA Y EFEmar ago 12 2014 Sin em', 'L CAIROAFPmar jun 24 2014 A nive', 'án Cabrerasáb may 24 2014 Todo e', 'EVANSA/AFPsáb jun 21 2014 Según ', 'ANDO MEXÍAlun ago 11 2014 True D']\n"
          ]
        }
      ],
      "source": [
        "# Hay casos donde no tienen la hora\n",
        "\n",
        "# str_text = auxiliar_full_lines\n",
        "# cantidad de ocurrencias con formato  dia mes nn YYYY --- SIN HORA\n",
        "pattern = r\"\\w\\w\\w \\w\\w\\w \\d\\d \\d\\d\\d\\d [^\\d\\d:\\d\\d]\"\n",
        "results = re.findall(pattern, str_text)\n",
        "print(len(results))\n",
        "print(results[:5])\n",
        "\n",
        "# Analizo el contexto de los casos encontrados\n",
        "pattern = r\"..........\\w\\w\\w \\w\\w\\w \\d\\d \\d\\d\\d\\d [^.\\d\\d:\\d\\d].....\"\n",
        "results = re.findall(pattern, str_text)\n",
        "print(len(results))\n",
        "print(results[:15])"
      ]
    },
    {
      "cell_type": "markdown",
      "metadata": {
        "id": "N9bC9klYA76R"
      },
      "source": [
        "#### Fecha formato dd mmm YYYY"
      ]
    },
    {
      "cell_type": "code",
      "execution_count": 73,
      "metadata": {
        "colab": {
          "base_uri": "https://localhost:8080/"
        },
        "id": "wKGveqGFhxKx",
        "outputId": "196244a8-b8b4-4ed9-db30-a8b25492a964"
      },
      "outputs": [
        {
          "name": "stdout",
          "output_type": "stream",
          "text": [
            "23 ene 2014 La carrera, que va por la 69a edición, se disputará el sábado 8 de febrero. La prueba clásica del balneario de los cerros, se disputará en un circuito que abarca ocho kilómetros y parte de Rambla de los Argentinos y Simón del Pino, continúa por la rambla hasta la calle Maipú, sigue por Uruguay, sube al San Antonio y retorna al lugar en que se efectuó la largada. Las inscripciones se realizarán los días 6, 7 y 8 de febrero, entre las 9:00 y las 20:00 horas, en el Campus Municipal (Hall Estadio); en Cedemcar (San Carlos); en la Pista de Atletismo de Montevideo y en la Casa de la Cultura de Piriápolis. El costo de la inscripción es de $ 250 y se puede abonar previamente en locales de Red Pagos de todo el país. Los menores de 18 años necesitan la firma de un adulto responsable en el formulario de inscripción; los participantes con discapacidades y los menores de 14 años podrán participar en forma gratuita. Los niños partirán a las 20:30 horas y competirán en tres categorías: menores de 7 años (750 metros), menores de 12 años (mil metros) y menores de 15 años (dos mil metros); los adultos largarán a las 21:30 horas. La inscripción incluye el número de corredor, el chip de control de tiempo, la hidratación y medalla al final de la prueba. Entre 3.000 atletas, en 2013, el piriapolense Santiago Casco obtuvo el primer puesto, haciendo historia, no sólo por ser primer lugareño que ganó la carrera, sino también la San Felipe y Santiago en Montevideo y la San Fernando en Maldonado. El atleta de Pueblo Obrero también se había despachado con un triunfo en el Interplayas de Las Cañas, en Fray Bentos. Vota por esta noticia:\n",
            "\n"
          ]
        }
      ],
      "source": [
        "print(lines[107373])"
      ]
    },
    {
      "cell_type": "markdown",
      "metadata": {
        "id": "p8keXzoAhrTU"
      },
      "source": [
        "`23 ene 2014` La carrera, que va por la 69a edición, se disputará el sábado 8 de febrero. La prueba clásica del balneario de los cerros, se disputará en un circuito que abarca ocho kilómetros y parte de Rambla de los Argentinos y Simón del Pino, continúa por la rambla hasta la calle Maipú, sigue por Uruguay, sube al San Antonio y retorna al lugar en que se efectuó la largada. Las inscripciones se realizarán los días 6, 7 y 8 de febrero, entre las 9:00 y las 20:00 horas, en el Campus Municipal (Hall Estadio); en Cedemcar (San Carlos); en la Pista de Atletismo de Montevideo y en la Casa de la Cultura de Piriápolis. El costo de la inscripción es de $ 250 y se puede abonar previamente en locales de Red Pagos de todo el país. Los menores de 18 años necesitan la firma de un adulto responsable en el formulario de inscripción; los participantes con discapacidades y los menores de 14 años podrán participar en forma gratuita. Los niños partirán a las 20:30 horas y competirán en tres categorías: menores de 7 años (750 metros), menores de 12 años (mil metros) y menores de 15 años (dos mil metros); los adultos largarán a las 21:30 horas. La inscripción incluye el número de corredor, el chip de control de tiempo, la hidratación y medalla al final de la prueba. Entre 3.000 atletas, en 2013, el piriapolense Santiago Casco obtuvo el primer puesto, haciendo historia, no sólo por ser primer lugareño que ganó la carrera, sino también la San Felipe y Santiago en Montevideo y la San Fernando en Maldonado. El atleta de Pueblo Obrero también se había despachado con un triunfo en el Interplayas de Las Cañas, en Fray Bentos. Vota por esta noticia:\n"
      ]
    },
    {
      "cell_type": "code",
      "execution_count": 74,
      "metadata": {
        "colab": {
          "base_uri": "https://localhost:8080/"
        },
        "id": "-TWZ8FoD_FwK",
        "outputId": "865f97fc-ce3c-4ded-c920-2908c4cdfef6"
      },
      "outputs": [
        {
          "name": "stdout",
          "output_type": "stream",
          "text": [
            "6114\n",
            "['06 feb 2014', '04 abr 2014', '08 may 2014', '09 may 2014', '03 may 2014', '06 abr 2014', '26 abr 2014', '24 abr 2014', '24 ene 2014', '16 mar 2014', '20 mar 2014', '23 abr 2014', '17 feb 2014', '01 feb 2014', '27 abr 2014', '01 feb 2014', '26 feb 2014', '10 mar 2014', '07 ago 2014', '30 abr 2014', '14 abr 2014', '04 jul 2014', '21 feb 2014', '17 mar 2014', '01 800 5520', '15 jun 2014', '04 feb 2014', '09 abr 2014', '19 feb 2014', '29 abr 2014', '08 may 2014', '21 mar 2014', '13 abr 2014', '12 abr 2014', '20 mar 2014', '14 mar 2014', '15 jun 2014', '10 feb 2014', '21 feb 2014', '04 jul 2014', '20 feb 2014', '01 feb 2014', '28 mar 2014', '26 feb 2014', '17 mar 2014', '05 may 2014', '09 abr 2014', '07 feb 2014', '06 abr 2014', '29 abr 2014']\n",
            "5931\n",
            "['STOK06 feb 2014 La ent', 'mas 04 abr 2014 POR AN', 'ELIN08 may 2014 A medi', 'ARDO09 may 2014 Jorge ', 'sta 03 may 2014 Brenta', ' EFE06 abr 2014 El est', 'das 26 abr 2014 Consen', ' EFE24 abr 2014 En un ', 'ARCO20 mar 2014 El 8 d', 'rto 23 abr 2014 \"Sturl', 'GADO17 feb 2014 Donde ', ' EFE01 feb 2014 Ganó 1', 'go\" 27 abr 2014 El esp', 'nes 01 feb 2014 La pri', 'sky 26 feb 2014 El fil', 'ta\" 07 ago 2014 Los ju', 'uay 30 abr 2014 En un ', 'EYES14 abr 2014 \"En es', 'ANSA04 jul 2014 La emi', 'pia 21 feb 2014 Según ', 'res 17 mar 2014 La med', 'sto 01 800 5520360. Ha', 'hol 15 jun 2014 El sec', 'ÚNEZ04 feb 2014 La col', 'AÚJO09 abr 2014 En el ', 'ANGO19 feb 2014 El pri', 'ril 29 abr 2014 En un ', 'FAP 08 may 2014 Por su', 'dos 21 mar 2014 Frente', ' EFE13 abr 2014 \"Es me', 'as. 12 abr 2014 Sobre ', 'gal 20 mar 2014 En los', 'UTTI14 mar 2014 Un bol', ' EFE15 jun 2014 \"Tenem', 'mía 10 feb 2014 En la ', 'ARDO21 feb 2014 Para l', 'TERS04 jul 2014 El BCE', 'nas 20 feb 2014 Así, 4', 'es. 01 feb 2014Lucía B', 'lig 28 mar 2014 A medi', 'sis 26 feb 2014 La ini', 'bre 17 mar 2014 Los fo', 'UTTI05 may 2014 Carlos', 'NAFP09 abr 2014 \"Entre', 'nes 07 feb 2014 Tras c', 'mas 06 abr 2014 DANIEL', 'ESÓN29 abr 2014 \"A los', ' Gil09 feb 2014 El min', 'llo 08 mar 2014 La ini', 'cho 25 abr 2014 Quiene']\n",
            "180\n",
            "['24 ene 2014', '16 mar 2014', '10 mar 2014', '01 feb 2014', '26 ene 2014', '26 ene 2014', '25 mar 2014', '02 feb 2014', '05 feb 2014', '28 mar 2014', '15 abr 2014', '08 feb 2014', '11 mar 2014', '06 abr 2014', '14 abr 2014', '02 mar 2014', '02 may 2014', '09 feb 2014', '21 mar 2014', '04 abr 2014', '11 abr 2014', '27 abr 2014', '20 abr 2014', '17 mar 2014', '22 may 2014', '07 abr 2014', '26 mar 2014', '13 mar 2014', '27 ene 2014', '14 mar 2014', '06 mar 2014', '17 feb 2014', '25 ene 2014', '21 mar 2014', '20 abr 2014', '01 feb 2014', '27 ene 2014', '15 jun 2014', '30 ene 2014', '28 ene 2014', '02 may 2014', '21 abr 2014', '06 mar 2014', '30 mar 2014', '09 mar 2014', '09 feb 2014', '04 feb 2014', '02 mar 2014', '06 abr 2014', '15 mar 2014']\n"
          ]
        }
      ],
      "source": [
        "#  str_text = sanitice_text(auxiliar_full_lines)\n",
        "# cantidad de ocurrencias con fechas formato  nn mes YYYY \n",
        "pattern = r\"\\d\\d \\w\\w\\w \\d\\d\\d\\d\"\n",
        "results = re.findall(pattern, str_text)\n",
        "print(len(results))\n",
        "\n",
        "print(results[:50])\n",
        "\n",
        "pattern = r\"....\\d\\d \\w\\w\\w \\d\\d\\d\\d.......\"\n",
        "results = re.findall(pattern, str_text)\n",
        "print(len(results))\n",
        "print(results[:50])\n",
        "\n",
        "pattern = r\"^\\d\\d \\w\\w\\w \\d\\d\\d\\d\"\n",
        "results = re.findall(pattern, str_text, re.MULTILINE)\n",
        "print(len(results))\n",
        "print(results[:50])\n"
      ]
    },
    {
      "cell_type": "markdown",
      "metadata": {
        "id": "5PKRl5BKpITB"
      },
      "source": [
        "#### Conclusiones sobre fechas"
      ]
    },
    {
      "cell_type": "code",
      "execution_count": 75,
      "metadata": {
        "colab": {
          "base_uri": "https://localhost:8080/"
        },
        "id": "ayXKrGxXBhHP",
        "outputId": "5a139810-1e47-4817-d779-470d7a570e92"
      },
      "outputs": [
        {
          "name": "stdout",
          "output_type": "stream",
          "text": [
            "ANTES\n",
            "23 ene 2014 La carrera, que va por la 69a edición, se disputará el sábado 8 de febrero. La prueba clásica del balneario de los cerros, se disputará en un circuito que abarca ocho kilómetros y parte de Rambla de los Argentinos y Simón del Pino, continúa por la rambla hasta la calle Maipú, sigue por Uruguay, sube al San Antonio y retorna al lugar en que se efectuó la largada. Las inscripciones se realizarán los días 6, 7 y 8 de febrero, entre las 9:00 y las 20:00 horas, en el Campus Municipal (Hall Estadio); en Cedemcar (San Carlos); en la Pista de Atletismo de Montevideo y en la Casa de la Cultura de Piriápolis. El costo de la inscripción es de $ 250 y se puede abonar previamente en locales de Red Pagos de todo el país. Los menores de 18 años necesitan la firma de un adulto responsable en el formulario de inscripción; los participantes con discapacidades y los menores de 14 años podrán participar en forma gratuita. Los niños partirán a las 20:30 horas y competirán en tres categorías: menores de 7 años (750 metros), menores de 12 años (mil metros) y menores de 15 años (dos mil metros); los adultos largarán a las 21:30 horas. La inscripción incluye el número de corredor, el chip de control de tiempo, la hidratación y medalla al final de la prueba. Entre 3.000 atletas, en 2013, el piriapolense Santiago Casco obtuvo el primer puesto, haciendo historia, no sólo por ser primer lugareño que ganó la carrera, sino también la San Felipe y Santiago en Montevideo y la San Fernando en Maldonado. El atleta de Pueblo Obrero también se había despachado con un triunfo en el Interplayas de Las Cañas, en Fray Bentos. Vota por esta noticia:\n",
            "\n",
            "DESPUES\n",
            " La carrera, que va por la 69a edición, se disputará el sábado 8 de febrero. La prueba clásica del balneario de los cerros, se disputará en un circuito que abarca ocho kilómetros y parte de Rambla de los Argentinos y Simón del Pino, continúa por la rambla hasta la calle Maipú, sigue por Uruguay, sube al San Antonio y retorna al lugar en que se efectuó la largada. Las inscripciones se realizarán los días 6, 7 y 8 de febrero, entre las 9:00 y las 20:00 horas, en el Campus Municipal (Hall Estadio); en Cedemcar (San Carlos); en la Pista de Atletismo de Montevideo y en la Casa de la Cultura de Piriápolis. El costo de la inscripción es de $ 250 y se puede abonar previamente en locales de Red Pagos de todo el país. Los menores de 18 años necesitan la firma de un adulto responsable en el formulario de inscripción; los participantes con discapacidades y los menores de 14 años podrán participar en forma gratuita. Los niños partirán a las 20:30 horas y competirán en tres categorías: menores de 7 años (750 metros), menores de 12 años (mil metros) y menores de 15 años (dos mil metros); los adultos largarán a las 21:30 horas. La inscripción incluye el número de corredor, el chip de control de tiempo, la hidratación y medalla al final de la prueba. Entre 3.000 atletas, en 2013, el piriapolense Santiago Casco obtuvo el primer puesto, haciendo historia, no sólo por ser primer lugareño que ganó la carrera, sino también la San Felipe y Santiago en Montevideo y la San Fernando en Maldonado. El atleta de Pueblo Obrero también se había despachado con un triunfo en el Interplayas de Las Cañas, en Fray Bentos. Vota por esta noticia:\n",
            "\n",
            "----------------------------------------------------------------\n",
            "ANTES\n",
            "Puede complicar a las exportaciones uruguayas Argentina dificulta acceso a dólares para importación A contramano de la parcial flexibilización del cepo cambiario para el ahorro en dólares, el Banco Central argentino cerró casi por completo desde el miércoles de la semana pasada el grifo de divisas para el pago de importaciones. Kicillof desarmó algunas trabas para importar, pero impuso nuevas medidas. Foto: AP Temas exportaciones uruguayas a Argentina BUENOS AIRESGUSTAVO STOK06 feb 2014 La entidad solo autoriza 10% del volumen diario de compras de importadores y pagos al exterior que permitía en enero. \"El Banco Central no está permitiendo pagar operaciones de importación que habían sido autorizadas por el propio gobierno. Eso está generando mucha incertidumbre, el peor escenario para el comercio exterior\", dijo a El País Diego Pérez Santisteban, presidente de la Cámara de Importadores de la República Argentina (CIRA). Tras perder US$ 2.851 millones de sus reservas en enero, el Banco Central de la República Argentina (BCRA) está poniendo en marcha diversas alternativas para detener la sangría. Además de la postergación de los pagos por importaciones, desde el lunes pasado el Central solo permite giros de utilidades a las compañías en condiciones de ingresar dólares por el mismo monto que derivan al exterior. Esas medidas se completarán con un nuevo esquema para importadores, que comenzará a regir el 17 de febrero y tendrá, en principio, vigencia por 90 días, según anticipó el diario Ámbito Financiero. Consiste en que el BCRA dejará de aportar divisas para pagar las importaciones, por lo que las empresas deberán financiar esas operaciones con dólares propios, créditos internacionales o mediante el fondeo de sus casas matrices. \"Esa medida es absolutamente inviable porque la gran mayoría de los importadores no tienen la menor posibilidad de conseguir financiamiento a un año. Implicaría una quiebra para muchos importadores y sería un golpe más a la producción en Argentina\", señaló Santisteban. A su vez pueden complicar aún más las exportaciones uruguayas a Argentina, que ya cayeron 24,4% en enero respecto al mismo mes de 2013. El torniquete a las importaciones se ajustó luego de la flexibilización del cepo cambiario para la tenencia de dólares, que implica un nuevo canal de pérdida de reservas. En los primeros siete días hábiles desde que se permite, en forma muy acotada, la compra de divisas, los bancos vendieron US$ 140 millones a particulares. Pese a la devaluación del 32,6% del peso argentino aplicada desde que Axel Kicillof asumió como ministro de Economía a fines de noviembre pasado, la paridad actual de 8 pesos argentinos por dólar en el mercado oficial no ha incentivado una mayor liquidación de la cosecha por parte de las grandes cadenas agroexportadoras. Si bien el gobierno de Cristina Kirchner mantuvo varias reuniones en los últimos días con las compañías cerealeras y las emplazó para que liquiden su soja de la campaña pasada, ese flujo avanza a ritmo lento y el BCRA actúa casi en soledad del lado de la oferta de dólares. En sentido contrario, la amenaza de una nueva devaluación acelera las importaciones y, en consecuencia, la demanda de divisas. \"Si antes un importador compraba a 120 días, en el último tiempo prefirió hacerlo al contado o por pago anticipado para asegurarse el tipo de cambio y poder costear la venta de ese producto en Argentina sobre una base cierta. Es probable que, una vez ocurrida la devaluación, el gobierno esté pretendiendo con la postergación de las autorizaciones que se vuelva a un perfil de pago no tan concentrado en el pago anticipado o inmediato, pero no es la mejor manera de hacerlo\", dijo Santisteban. Además de abastecer el goteo diario de la venta de divisas para el ahorro de personas físicas, el BCRA debe sacrificar un monto creciente de reservas para financiar al Tesoro y pagar las importaciones de energía. En ese marco, la autoridad monetaria decidió obstruir la salida de dólares para buena parte de las compras al exterior y elevar con fuerza el nivel de las tasas de interés con el objetivo de llegar con la menor pérdida de reservas posible a abril, cuando empiezan a ingresar divisas por la liquidación de la cosecha gruesa. El \"1 a 1\" de Moreno que no está más Además del nuevo esquema (ver nota principal) que instrumenta Argentina para disminuir las importaciones, siguen vigentes otro tipo de trabas. Una es la Declaraciones Juradas Anticipadas de Importación (DJAI) que ahora se espera se tramiten más rápido y otra es la aplicación de licencias no automáticas a la importación de ciertos productos. De todas maneras, quedó por el camino otra traba a las importaciones ideada por el exsecretario de Comercio Interior, Guillermo Moreno: el llamado \"1 a 1\". Esto consistía en exportar un dólar por cada uno que se gastaba en importar. En la práctica derivó en que empresas desesperadas por la necesidad de importar compraran saldos exportables a productores que ya exportan esos productos, pero que, a cambio de una comisión, se los cedían. Así se dio que una automotriz se comprometió a exportar vinos y arroz y una firma de accesorios para impresoras, a vender afuera productos de molinería. Vota por esta noticia:\n",
            "\n",
            "DESPUES\n",
            "Puede complicar a las exportaciones uruguayas Argentina dificulta acceso a dólares para importación A contramano de la parcial flexibilización del cepo cambiario para el ahorro en dólares, el Banco Central argentino cerró casi por completo desde el miércoles de la semana pasada el grifo de divisas para el pago de importaciones. Kicillof desarmó algunas trabas para importar, pero impuso nuevas medidas. Foto: AP Temas exportaciones uruguayas a Argentina BUENOS AIRESGUSTAVO STOK. La entidad solo autoriza 10% del volumen diario de compras de importadores y pagos al exterior que permitía en enero. \"El Banco Central no está permitiendo pagar operaciones de importación que habían sido autorizadas por el propio gobierno. Eso está generando mucha incertidumbre, el peor escenario para el comercio exterior\", dijo a El País Diego Pérez Santisteban, presidente de la Cámara de Importadores de la República Argentina (CIRA). Tras perder US$ 2.851 millones de sus reservas en enero, el Banco Central de la República Argentina (BCRA) está poniendo en marcha diversas alternativas para detener la sangría. Además de la postergación de los pagos por importaciones, desde el lunes pasado el Central solo permite giros de utilidades a las compañías en condiciones de ingresar dólares por el mismo monto que derivan al exterior. Esas medidas se completarán con un nuevo esquema para importadores, que comenzará a regir el 17 de febrero y tendrá, en principio, vigencia por 90 días, según anticipó el diario Ámbito Financiero. Consiste en que el BCRA dejará de aportar divisas para pagar las importaciones, por lo que las empresas deberán financiar esas operaciones con dólares propios, créditos internacionales o mediante el fondeo de sus casas matrices. \"Esa medida es absolutamente inviable porque la gran mayoría de los importadores no tienen la menor posibilidad de conseguir financiamiento a un año. Implicaría una quiebra para muchos importadores y sería un golpe más a la producción en Argentina\", señaló Santisteban. A su vez pueden complicar aún más las exportaciones uruguayas a Argentina, que ya cayeron 24,4% en enero respecto al mismo mes de 2013. El torniquete a las importaciones se ajustó luego de la flexibilización del cepo cambiario para la tenencia de dólares, que implica un nuevo canal de pérdida de reservas. En los primeros siete días hábiles desde que se permite, en forma muy acotada, la compra de divisas, los bancos vendieron US$ 140 millones a particulares. Pese a la devaluación del 32,6% del peso argentino aplicada desde que Axel Kicillof asumió como ministro de Economía a fines de noviembre pasado, la paridad actual de 8 pesos argentinos por dólar en el mercado oficial no ha incentivado una mayor liquidación de la cosecha por parte de las grandes cadenas agroexportadoras. Si bien el gobierno de Cristina Kirchner mantuvo varias reuniones en los últimos días con las compañías cerealeras y las emplazó para que liquiden su soja de la campaña pasada, ese flujo avanza a ritmo lento y el BCRA actúa casi en soledad del lado de la oferta de dólares. En sentido contrario, la amenaza de una nueva devaluación acelera las importaciones y, en consecuencia, la demanda de divisas. \"Si antes un importador compraba a 120 días, en el último tiempo prefirió hacerlo al contado o por pago anticipado para asegurarse el tipo de cambio y poder costear la venta de ese producto en Argentina sobre una base cierta. Es probable que, una vez ocurrida la devaluación, el gobierno esté pretendiendo con la postergación de las autorizaciones que se vuelva a un perfil de pago no tan concentrado en el pago anticipado o inmediato, pero no es la mejor manera de hacerlo\", dijo Santisteban. Además de abastecer el goteo diario de la venta de divisas para el ahorro de personas físicas, el BCRA debe sacrificar un monto creciente de reservas para financiar al Tesoro y pagar las importaciones de energía. En ese marco, la autoridad monetaria decidió obstruir la salida de dólares para buena parte de las compras al exterior y elevar con fuerza el nivel de las tasas de interés con el objetivo de llegar con la menor pérdida de reservas posible a abril, cuando empiezan a ingresar divisas por la liquidación de la cosecha gruesa. El \"1 a 1\" de Moreno que no está más Además del nuevo esquema (ver nota principal) que instrumenta Argentina para disminuir las importaciones, siguen vigentes otro tipo de trabas. Una es la Declaraciones Juradas Anticipadas de Importación (DJAI) que ahora se espera se tramiten más rápido y otra es la aplicación de licencias no automáticas a la importación de ciertos productos. De todas maneras, quedó por el camino otra traba a las importaciones ideada por el exsecretario de Comercio Interior, Guillermo Moreno: el llamado \"1 a 1\". Esto consistía en exportar un dólar por cada uno que se gastaba en importar. En la práctica derivó en que empresas desesperadas por la necesidad de importar compraran saldos exportables a productores que ya exportan esos productos, pero que, a cambio de una comisión, se los cedían. Así se dio que una automotriz se comprometió a exportar vinos y arroz y una firma de accesorios para impresoras, a vender afuera productos de molinería. Vota por esta noticia:\n",
            "\n",
            "----------------------------------------------------------------\n",
            "ANTES\n",
            "vie jun 14 2013 04:00 Andrés Cerisola | acerisola@ferrere.com Un país sin recursos naturales y en constante estado de guerra, rodeado de enemigos y con apenas sesenta años de existencia, genera proporcionalmente más Start-Ups que Japón, China, Corea, Canadá y el Reino Unido, todos países estables y mucho más grande. Israel, con poco más de siete millones de habitantes, es el segundo centro emprendedor del planeta, apenas detrás de Sillicon Valley. Éste fenómeno es detalladamente descripto en un libro que se ha transformado en un best seller global, \"Star-Up Nation\" de Dan Senor y Saul Singer. Los autores relatan la historia del desarrollo empresarial Israelí, que hoy supone casi un 50% de bienes manufacturados de alta tecnología y gran valor agregado. Eso quiere decir excelentes oportunidades y trabajo de buena calidad para la población. Y, también, mejoras sustanciales en la vida de cientos de millones de personas en el resto del planeta. Que vivan los estudiantes y los gerentes Desde finales de la década de los ochenta, cuando Israel vivió una gran crisis bancaria que obligó al Estado a rescatar el sistema financiero y recibió cerca de un millón de inmigrantes altamente calificados, en su mayoría provenientes del \"paraíso soviético\", el país acentuó su tránsito desde un modelo tibiamente socialista a uno prudentemente capitalista. De la cultura comunal de los kibutz a la dinámica existencia actual de una industria de \"venture capital\" o fondos de capital de riesgo público- privados, destinados a catalizar buenos negocios, puede rastrearse la presencia de figuras emblemáticas como el laborista Simón Peres y empresarios de nuevas generaciones como Kramer (Check Point Software, Imperva, etc.) y Shay (Canaan Partners). Cientos de empresas están cambiando el mundo en que vivimos y viviremos desde un territorio de tamaño similar al de Tacuarembó. La base de ese \"milagro\" es la transformar ideas surgidas en las universidades, en conceptos empresariales y proyectos de negocios que se prueban rápidamente en la realidad. Ello se sustenta, además, en la mundialmente reconocida calidad del gerenciamiento y capacidad de ejecución de los emprendedores israelíes. Obviamente, los emprendedores necesitan fondos. El primer impulso es, lógicamente, local: en 2012, el 24% del capital de riesgo, que permitió el arranque de 660 compañías israelíes de alta tecnología, provino de inversores locales. Entre ellos se cuenta el Estado que prioriza los emprendimientos riesgosos en su etapa inicial. La eficiencia de la apuesta a estimular e incentivar el talento como principal recurso estratégico nunca puede enfatizarse lo suficiente. Y, para los uruguayos, esa cultura podría ser exponencialmente multiplicadora, dados nuestros recursos y situación geopolítica. Techo de vidrio Muchos emprendedores uruguayos arrancan con buenas ideas pero no logran quebrar lo que podemos llamar el \"techo de vidrio\". Ya sea porque la estrategia no está suficientemente afinada o porque la fortaleza de su gerenciamiento habilita el éxito inicial pero no el verdadero crecimiento, la empresa queda atrapada en una escala de PYME o poco más. O logra crecer pero no puede compatibilizar los intereses de los accionistas fundadores y los inversores externos, ya que los contratos carecen de la flexibilidad y precisión imprescindibles. O no se estructuró tributariamente el emprendimiento pensando en el crecimiento o la venta. O la empresa tiene flancos laborales, contables, tributarios u otros que no le permiten superar la auditoría de compra que invariablemente hará un inversor institucional o mínimamente sofisticado. Felizmente, organizaciones como Endeavor y otras, así como decenas de emprendedores exitosos comparten sus aprendizajes y permiten pensar en quebrar el \"vidrio\" y ascender. Los grandes vinos Alcanzar y mantener el éxito no es sencillo. Como ocurre con los grandes vinos, no hay una única causa, son una infinidad de factores los que producen el milagro. Algunos factores son institucionales y en Uruguay tenemos debes y haberes. La Justicia es independiente y honesta, y los derechos de propiedad están razonablemente definidos, pese a sobresaltos esporádicos. Pero las regulación laboral es difícilmente compatible con las necesidades de emprendedores tecnológicos. Y aunque el sistema tributario no es malo presenta una inestabilidad crónica que debilita la confianza. La educación ha dejado de producir el tipo de innovador que requiere un sector emprendedor dinámico. Las tareas pendientes no son menores, pero no son insolubles con un liderazgo adecuado al desafío. Otro factor es el entorno de negocios. Uruguay no tiene hoy la inquietud y pasión empresarial de nuestros bisabuelos y abuelos, pero hay más muchos más y mejores emprendedores ahora que hace 20 años. Seguimos sin un mercado de capitales que brinde liquidez a los inversores, pero hay una ANII que, en sus buenos momentos, le da el impulso inicial a proyectos interesantes. Vota por esta noticia:\n",
            "\n",
            "DESPUES\n",
            " Andrés Cerisola | acerisola@ferrere.com Un país sin recursos naturales y en constante estado de guerra, rodeado de enemigos y con apenas sesenta años de existencia, genera proporcionalmente más Start-Ups que Japón, China, Corea, Canadá y el Reino Unido, todos países estables y mucho más grande. Israel, con poco más de siete millones de habitantes, es el segundo centro emprendedor del planeta, apenas detrás de Sillicon Valley. Éste fenómeno es detalladamente descripto en un libro que se ha transformado en un best seller global, \"Star-Up Nation\" de Dan Senor y Saul Singer. Los autores relatan la historia del desarrollo empresarial Israelí, que hoy supone casi un 50% de bienes manufacturados de alta tecnología y gran valor agregado. Eso quiere decir excelentes oportunidades y trabajo de buena calidad para la población. Y, también, mejoras sustanciales en la vida de cientos de millones de personas en el resto del planeta. Que vivan los estudiantes y los gerentes Desde finales de la década de los ochenta, cuando Israel vivió una gran crisis bancaria que obligó al Estado a rescatar el sistema financiero y recibió cerca de un millón de inmigrantes altamente calificados, en su mayoría provenientes del \"paraíso soviético\", el país acentuó su tránsito desde un modelo tibiamente socialista a uno prudentemente capitalista. De la cultura comunal de los kibutz a la dinámica existencia actual de una industria de \"venture capital\" o fondos de capital de riesgo público- privados, destinados a catalizar buenos negocios, puede rastrearse la presencia de figuras emblemáticas como el laborista Simón Peres y empresarios de nuevas generaciones como Kramer (Check Point Software, Imperva, etc.) y Shay (Canaan Partners). Cientos de empresas están cambiando el mundo en que vivimos y viviremos desde un territorio de tamaño similar al de Tacuarembó. La base de ese \"milagro\" es la transformar ideas surgidas en las universidades, en conceptos empresariales y proyectos de negocios que se prueban rápidamente en la realidad. Ello se sustenta, además, en la mundialmente reconocida calidad del gerenciamiento y capacidad de ejecución de los emprendedores israelíes. Obviamente, los emprendedores necesitan fondos. El primer impulso es, lógicamente, local: en 2012, el 24% del capital de riesgo, que permitió el arranque de 660 compañías israelíes de alta tecnología, provino de inversores locales. Entre ellos se cuenta el Estado que prioriza los emprendimientos riesgosos en su etapa inicial. La eficiencia de la apuesta a estimular e incentivar el talento como principal recurso estratégico nunca puede enfatizarse lo suficiente. Y, para los uruguayos, esa cultura podría ser exponencialmente multiplicadora, dados nuestros recursos y situación geopolítica. Techo de vidrio Muchos emprendedores uruguayos arrancan con buenas ideas pero no logran quebrar lo que podemos llamar el \"techo de vidrio\". Ya sea porque la estrategia no está suficientemente afinada o porque la fortaleza de su gerenciamiento habilita el éxito inicial pero no el verdadero crecimiento, la empresa queda atrapada en una escala de PYME o poco más. O logra crecer pero no puede compatibilizar los intereses de los accionistas fundadores y los inversores externos, ya que los contratos carecen de la flexibilidad y precisión imprescindibles. O no se estructuró tributariamente el emprendimiento pensando en el crecimiento o la venta. O la empresa tiene flancos laborales, contables, tributarios u otros que no le permiten superar la auditoría de compra que invariablemente hará un inversor institucional o mínimamente sofisticado. Felizmente, organizaciones como Endeavor y otras, así como decenas de emprendedores exitosos comparten sus aprendizajes y permiten pensar en quebrar el \"vidrio\" y ascender. Los grandes vinos Alcanzar y mantener el éxito no es sencillo. Como ocurre con los grandes vinos, no hay una única causa, son una infinidad de factores los que producen el milagro. Algunos factores son institucionales y en Uruguay tenemos debes y haberes. La Justicia es independiente y honesta, y los derechos de propiedad están razonablemente definidos, pese a sobresaltos esporádicos. Pero las regulación laboral es difícilmente compatible con las necesidades de emprendedores tecnológicos. Y aunque el sistema tributario no es malo presenta una inestabilidad crónica que debilita la confianza. La educación ha dejado de producir el tipo de innovador que requiere un sector emprendedor dinámico. Las tareas pendientes no son menores, pero no son insolubles con un liderazgo adecuado al desafío. Otro factor es el entorno de negocios. Uruguay no tiene hoy la inquietud y pasión empresarial de nuestros bisabuelos y abuelos, pero hay más muchos más y mejores emprendedores ahora que hace 20 años. Seguimos sin un mercado de capitales que brinde liquidez a los inversores, pero hay una ANII que, en sus buenos momentos, le da el impulso inicial a proyectos interesantes. Vota por esta noticia:\n",
            "\n",
            "----------------------------------------------------------------\n",
            "ANTES\n",
            "Rusia Liberaron a las dos Pussy Riot presas desde 2012 Fueron liberadas las dos Pussy Riot que permanecían encarceladas desde febrero de 2012. María Aliójina y  Nadezhda Tolokónnikova, fueron puestas en libertad luego que el parlamento ruso aprobara una amnistía.  Nadezhda Tolokónnikova y María Aliójina. Foto: AFP Temas La música: un asunto de Estado En base a AFPlun dic 23 2013 10:09 Las dos Pussy Riot que estaban detenidas en Rusia desde febrero de 2012 recuperaron su libertad este lunes en el marco de la ley de amnistía del gobierno Ruso. La primera en abandonar la cárcel fue María Aliójina, quien al salir denunció que la ley de amnistía que permitió su liberación es una \"operación de comunicación\" del presidente ruso Vladimir Putin. \"No creo que esta amnistía sea un gesto de humanismo, es más bien una operación de comunicación\", declaró Aliójina, 25 años, al canal de televisión Dojd. \"Si hubiera tenido la posibilidad, la hubiera rechazado\", agregó Aliójina, que denunció una ley que permite la liberación de muy pocos presos, ni siquiera el 10%. \"Lo más difícil en la prisión es ver como destruyen a la gente\", comentó Aliójina al referirse a sus condiciones de detención. Nadezhda Tolokónnikova, la integrante que aún no había sido liberada, también salió este lunes, anunció su marido en Twitter.  \"Nadia está libre\", escribió en la cuenta del grupo contestatario Voina, que publica una foto de la joven libre. Tolokónnikova, de 24 años, salió del hospital penitenciario en la ciudad siberiana de Krasnoiarsk, tras ser amnistiada por el Kremlin, al igual que su compañera María Aliójina. Aliójina, madre de un niño, fue condenada a dos años de prisión en 2012 por \"vandalismo\" e \"incitación al odio religioso\", junto a Nadezhda Tolokónnikova y Ekaterina Samutsévich. Las tres Pussy Riot habían cantado una \"oración punk\" contra Putin en la catedral Cristo Salvador de Moscú en febrero de 2012. Aliójiina y Tolokónnikova, fueron amnistiadas la semana pasada por una ley votada por la Duma, cámara baja del parlamento ruso. Samutsévich había sido liberada en 2012, pocos meses después de ser condenada, debido a que la pena fue dejada en suspenso. La justicia adujo que Samutsévich había sido interceptada por los guardias de la catedral antes de que pudiera participar en la acción. Su pena acababa en marzo de 2014. Vota por esta noticia:\n",
            "\n",
            "DESPUES\n",
            "Rusia Liberaron a las dos Pussy Riot presas desde 2012 Fueron liberadas las dos Pussy Riot que permanecían encarceladas desde febrero de 2012. María Aliójina y  Nadezhda Tolokónnikova, fueron puestas en libertad luego que el parlamento ruso aprobara una amnistía.  Nadezhda Tolokónnikova y María Aliójina. Foto: AFP Temas La música: un asunto de Estado En base a AFP. Las dos Pussy Riot que estaban detenidas en Rusia desde febrero de 2012 recuperaron su libertad este lunes en el marco de la ley de amnistía del gobierno Ruso. La primera en abandonar la cárcel fue María Aliójina, quien al salir denunció que la ley de amnistía que permitió su liberación es una \"operación de comunicación\" del presidente ruso Vladimir Putin. \"No creo que esta amnistía sea un gesto de humanismo, es más bien una operación de comunicación\", declaró Aliójina, 25 años, al canal de televisión Dojd. \"Si hubiera tenido la posibilidad, la hubiera rechazado\", agregó Aliójina, que denunció una ley que permite la liberación de muy pocos presos, ni siquiera el 10%. \"Lo más difícil en la prisión es ver como destruyen a la gente\", comentó Aliójina al referirse a sus condiciones de detención. Nadezhda Tolokónnikova, la integrante que aún no había sido liberada, también salió este lunes, anunció su marido en Twitter.  \"Nadia está libre\", escribió en la cuenta del grupo contestatario Voina, que publica una foto de la joven libre. Tolokónnikova, de 24 años, salió del hospital penitenciario en la ciudad siberiana de Krasnoiarsk, tras ser amnistiada por el Kremlin, al igual que su compañera María Aliójina. Aliójina, madre de un niño, fue condenada a dos años de prisión en 2012 por \"vandalismo\" e \"incitación al odio religioso\", junto a Nadezhda Tolokónnikova y Ekaterina Samutsévich. Las tres Pussy Riot habían cantado una \"oración punk\" contra Putin en la catedral Cristo Salvador de Moscú en febrero de 2012. Aliójiina y Tolokónnikova, fueron amnistiadas la semana pasada por una ley votada por la Duma, cámara baja del parlamento ruso. Samutsévich había sido liberada en 2012, pocos meses después de ser condenada, debido a que la pena fue dejada en suspenso. La justicia adujo que Samutsévich había sido interceptada por los guardias de la catedral antes de que pudiera participar en la acción. Su pena acababa en marzo de 2014. Vota por esta noticia:\n",
            "\n",
            "----------------------------------------------------------------\n",
            "ANTES\n",
            "dom may 18 2014 Claudio Gaete I El Mercurio/GDA A Matthieu Ricard le conectaron 256 electrodos a su cráneo y fue sometido a una serie de resonancias magnéticas. El resultado mostró que su nivel de actividad en la corteza cerebral prefrontal izquierda, asociada con las emociones positivas, era mucho mayor que el promedio. Algo nunca visto en otro ser humano. Cuando se dieron a conocer las conclusiones, en 2007, Ricard se quedó con un no deseado título que lo persigue hasta ahora: El hombre más feliz del mundo. \"No podemos medir la felicidad en el cerebro, no se pueden medir las emociones positivas como la empatía o el afecto. O el miedo y la rabia. Eso que llamamos felicidad, no existe. Es algo que viene con muchas cualidades humanas que se juntan; ¿cómo se puede medir la felicidad en el cerebro? ¡No tiene sentido! Hay emociones positivas y negativas. Yo he tratado de dejar en claro esto, pero no sé qué más hacer. Si vengo acá, me dicen que soy la persona más feliz del mundo, si voy a Singapur es lo mismo\", dice. Matthieu Ricard nació en París hace 68 años. Es hijo del afamado escritor y filósofo Jean François Ravel y de la pintora Yahne Le Toumelin. Creció en un mundo privilegiado, rodeado de intelectuales y artistas, como Buñuel y Henri Cartier-Bresson. Estudió biología molecular en el prestigioso Instituto Pasteur en el París de los 60. Hasta que en 1967 viajó por primera vez a India y cambió su visión del mundo. Volvió a ese país en seis ocasiones y terminó su tesis doctoral en 1972, antes de abandonar su vida como científico y dedicarse a la meditación de la mano de Kangyur Rinpoche, su maestro y mentor en las artes budistas. A partir de entonces, su transformación fue total. Dejó su ropa occidental y el delantal de laboratorio por la vestimenta tibetana amarilla y bordeaux, y se fue a vivir a un monasterio en Nepal, al lado de los Himalaya, en una suerte de Shangri La espiritual. \"Existe algo llamado biofilia, que es cuando la gente, espontáneamente, prefiere un ambiente natural -dice-. Por ejemplo, los prados verdes significan prosperidad; las montañas, seguridad; y estar en la naturaleza, biológicamente, ayuda a sentirte en armonía contigo mismo, con los otros, con el mundo. Si tu ocupación es hacer meditación y trabajar tu mente, y tienes que estar por un par de meses en un lugar, ¿por qué no hacerlo en un lugar armonioso? Es por eso que nos vamos a las montañas\". En sus charlas, lejos de la imagen seria y contemplativa de los monjes tibetanos, Ricard demuestra un gran sentido del humor, haciendo reír con frecuencia a quienes lo escuchan. \"Mi sentido del humor no se basa en hacer bromas, sino en tomar las cosas sin que te afecten y no ser tan vulnerable a las pequeñeces. Algunas personas son tan egoístas, que solo piensan en cómo se sienten ellas. Y ni siquiera son capaces de soportar un poco de frío. Yo creo que si uno es más resiliente, las cosas son más divertidas\". Ricard cita a Buda: \"Quieres felicidad, pero le das la espalda; no queremos sufrimiento, pero corremos hacia él\". Dice que eso sucede porque existe ignorancia y confusión. Lo explica así: \"Si pensamos que encontrar la felicidad es simplemente un ejercicio de poder, fama y obsesión por el placer, entonces buscamos algo que nos lleva a la decepción, porque ninguna de esas cosas provee bienestar, son solo ilusiones. La gente tiende a observar a alguien famoso que es bello y rico, un actor, lo que sea. Y cuando escuchan que tiene un ataque de nervios, dicen: `¿Pero qué le pasa? Si yo fuera cómo él o ella sería muy feliz`. ¡No! Eso no tiene nada que ver con la felicidad. La felicidad es una forma de ser, está basada en cualidades humanas, no en fama, fortuna o poder\". -Pero la gente también siente rabia, odio, celos... -Primero, tienes que ver cuál es el resultado de esas emociones. Tienes que reconocer su efecto destructivo. Si yo digo que estamos trabajando una causa en la que te garantizo que te sentirás celoso al final. ¿Te sumarías a la causa? ¡No! Porque sabes que eso no te ayudará a construir felicidad, sino que la destruirá. Pero si te digo que trabajemos en una causa en la que verás amor y bondad, tú dirás \"ok, eso se ve interesante\". Entonces sabes que hay ciertos estados mentales personales que son el camino para la felicidad y nos hacen actuar de cierta forma y nos permiten ayudar a otros. Una vez hecho eso, podemos decir ¿qué hago con los celos?, ¿con la rabia?, ¿hay alguno antídoto? -¿Y los hay? -Claro, hay millones de antídotos. Imagina que quieres herir a alguien, ¿cuál es lo opuesto a eso? Hacer el bien por el otro. No se puede en un mismo gesto dar un golpe y después dar la mano de forma amable, son mutuamente incompatibles. Mientras más bondad desarrolles en tu mente, menos espacio hay para pensar en el odio. Ese es un tipo de antídoto. El otro es no identificarse con la emoción negativa. Supongamos que me siento ansioso porque voy a perder mi vuelo, y mi mente está empapada en ansiedad. Yo puedo tomar conciencia de esa ansiedad, verla dentro de la mente; así, esa ansiedad pasa a ser solo una manera de sentirse. Ese es un antídoto. Lo otro: no relacionarse con la rabia. Supongamos que alguien tiene un resfrío, un dolor de cabeza; uno no es un dolor de cabeza, lo sufre. Yo sufro de rabia, no soy la rabia. Mi conciencia no es la rabia, sino que es un estado construido mentalmente, y si la veo así puedo cambiar las cosas. -Si eso es así, ¿por qué no lo hacemos todos? -La causa del sufrimiento es la ignorancia, el delirio, la confusión. En un nivel muy profundo, el delirio es una mala construcción de la realidad. HERENCIA Ricard ha escrito una decena de libros, tanto científicos, como filosóficos. Y también ha publicado cinco sobre sus trabajos fotográficos. Pero el más renombrado es El monje y el filósofo, producto de una serie de conversaciones con su padre y que se ha convertido en un best seller a nivel mundial en 21 idiomas. Sin embargo, fue su madre, según confiesa, quien más ha influido en su vida. \"Porque es tan buena persona. Todavía vive, tiene 91 años, y tiene un gran corazón, y pese a que sus habilidades físicas van en declive, cada vez hay más bondad en ella. La gente que supuestamente viene a ayudarla, porque vive sola, en realidad viene a buscar tranquilidad y apoyo\". Sus padres se divorciaron cuando tenía 18 años y su madre se hizo monja budista. Su padre, con quien tenía opiniones completamente opuestas en muchos temas, murió en 2006, siete años después del libro de conversaciones entre ambos. Ricard cuenta que desde que dejó su estilo de vida occidental, se las ha arreglado para vivir con unos 15 dólares al mes \"como máximo\". Dice que su vida en Nepal, Bután e India transcurría plácidamente, con muchas horas dedicadas a la meditación y la contemplación. \"Era totalmente feliz, no tenía ningún problema. Pero no podía hacer mucho, terminé mi trabajo y me quedé sin salario ni ahorros. Mi vida estaba bien, pero no podía hacer muchas cosas por otros. Entonces, cuando hice el libro con mi padre se vendieron cientos de miles de copias en Francia y comenzó a llegar mucho dinero\", sostiene. Dice que lo que en principio le pareció un problema, porque lo obligaba a meterse en el sistema de nuevo, lo convirtió en una solución. Con el dinero recaudado creó el año 2000 una fundación -Karuna Shechen, cuyo significado es compasión- y se abocó a levantar escuelas para educar niños pobres y clínicas para atender pacientes en lugares remotos de India y Nepal. LA MENTE Y EL PLACER MENTE Y ENEMIGOS. \"La depresión en la mente es la peor enemiga. Si una persona es paranoica, el mundo se convierte en su enemigo. Y si su mente está llena de compasión y libertad interior, todo se convierte en su amigo y se transforma en algo bueno. Uno tiene que enfrentar su mente de la mañana hasta la tarde, y si uno cambia un poco la forma en que trabaja la mente, puede cambiar todo su mundo\". PLACER Y BIENES. \"Lo hedónico no funciona muy bien, porque si lo que se quiere son interminables dosis de placer, se convierte en una receta para el cansancio, no para la felicidad. Si quieres un pedazo de torta de chocolate, lo puedes comer y es increíble; dos pedazos, está bien; pero si te comes cinco, te enfermarás. Si te tomas una ducha después de haber trabajado en una mina de carbón, es casi una bendición. Pero ducharte por 24 horas sin parar, es una tortura\". ¿INFELIZ A VECES?. \"Claro, (responde entre risas). Cuando veo odio, eso es lo peor. Pero infeliz en el sentido de tristeza, no en el de desesperación o de perder el sentido de mi vida. Si piensas en la felicidad como compasión, coraje y como un sentido de dirección, entonces ves de manera clara esta necesidad de ser tratado con compasión y sabiduría. Verdadera felicidad, el sentirse bien, está relacionado con una mente saludable. Esa mente que es capaz de encontrar un remedio para el odio\". Vota por esta noticia:\n",
            "\n",
            "DESPUES\n",
            " Claudio Gaete I El Mercurio/GDA A Matthieu Ricard le conectaron 256 electrodos a su cráneo y fue sometido a una serie de resonancias magnéticas. El resultado mostró que su nivel de actividad en la corteza cerebral prefrontal izquierda, asociada con las emociones positivas, era mucho mayor que el promedio. Algo nunca visto en otro ser humano. Cuando se dieron a conocer las conclusiones, en 2007, Ricard se quedó con un no deseado título que lo persigue hasta ahora: El hombre más feliz del mundo. \"No podemos medir la felicidad en el cerebro, no se pueden medir las emociones positivas como la empatía o el afecto. O el miedo y la rabia. Eso que llamamos felicidad, no existe. Es algo que viene con muchas cualidades humanas que se juntan; ¿cómo se puede medir la felicidad en el cerebro? ¡No tiene sentido! Hay emociones positivas y negativas. Yo he tratado de dejar en claro esto, pero no sé qué más hacer. Si vengo acá, me dicen que soy la persona más feliz del mundo, si voy a Singapur es lo mismo\", dice. Matthieu Ricard nació en París hace 68 años. Es hijo del afamado escritor y filósofo Jean François Ravel y de la pintora Yahne Le Toumelin. Creció en un mundo privilegiado, rodeado de intelectuales y artistas, como Buñuel y Henri Cartier-Bresson. Estudió biología molecular en el prestigioso Instituto Pasteur en el París de los 60. Hasta que en 1967 viajó por primera vez a India y cambió su visión del mundo. Volvió a ese país en seis ocasiones y terminó su tesis doctoral en 1972, antes de abandonar su vida como científico y dedicarse a la meditación de la mano de Kangyur Rinpoche, su maestro y mentor en las artes budistas. A partir de entonces, su transformación fue total. Dejó su ropa occidental y el delantal de laboratorio por la vestimenta tibetana amarilla y bordeaux, y se fue a vivir a un monasterio en Nepal, al lado de los Himalaya, en una suerte de Shangri La espiritual. \"Existe algo llamado biofilia, que es cuando la gente, espontáneamente, prefiere un ambiente natural -dice-. Por ejemplo, los prados verdes significan prosperidad; las montañas, seguridad; y estar en la naturaleza, biológicamente, ayuda a sentirte en armonía contigo mismo, con los otros, con el mundo. Si tu ocupación es hacer meditación y trabajar tu mente, y tienes que estar por un par de meses en un lugar, ¿por qué no hacerlo en un lugar armonioso? Es por eso que nos vamos a las montañas\". En sus charlas, lejos de la imagen seria y contemplativa de los monjes tibetanos, Ricard demuestra un gran sentido del humor, haciendo reír con frecuencia a quienes lo escuchan. \"Mi sentido del humor no se basa en hacer bromas, sino en tomar las cosas sin que te afecten y no ser tan vulnerable a las pequeñeces. Algunas personas son tan egoístas, que solo piensan en cómo se sienten ellas. Y ni siquiera son capaces de soportar un poco de frío. Yo creo que si uno es más resiliente, las cosas son más divertidas\". Ricard cita a Buda: \"Quieres felicidad, pero le das la espalda; no queremos sufrimiento, pero corremos hacia él\". Dice que eso sucede porque existe ignorancia y confusión. Lo explica así: \"Si pensamos que encontrar la felicidad es simplemente un ejercicio de poder, fama y obsesión por el placer, entonces buscamos algo que nos lleva a la decepción, porque ninguna de esas cosas provee bienestar, son solo ilusiones. La gente tiende a observar a alguien famoso que es bello y rico, un actor, lo que sea. Y cuando escuchan que tiene un ataque de nervios, dicen: `¿Pero qué le pasa? Si yo fuera cómo él o ella sería muy feliz`. ¡No! Eso no tiene nada que ver con la felicidad. La felicidad es una forma de ser, está basada en cualidades humanas, no en fama, fortuna o poder\". -Pero la gente también siente rabia, odio, celos... -Primero, tienes que ver cuál es el resultado de esas emociones. Tienes que reconocer su efecto destructivo. Si yo digo que estamos trabajando una causa en la que te garantizo que te sentirás celoso al final. ¿Te sumarías a la causa? ¡No! Porque sabes que eso no te ayudará a construir felicidad, sino que la destruirá. Pero si te digo que trabajemos en una causa en la que verás amor y bondad, tú dirás \"ok, eso se ve interesante\". Entonces sabes que hay ciertos estados mentales personales que son el camino para la felicidad y nos hacen actuar de cierta forma y nos permiten ayudar a otros. Una vez hecho eso, podemos decir ¿qué hago con los celos?, ¿con la rabia?, ¿hay alguno antídoto? -¿Y los hay? -Claro, hay millones de antídotos. Imagina que quieres herir a alguien, ¿cuál es lo opuesto a eso? Hacer el bien por el otro. No se puede en un mismo gesto dar un golpe y después dar la mano de forma amable, son mutuamente incompatibles. Mientras más bondad desarrolles en tu mente, menos espacio hay para pensar en el odio. Ese es un tipo de antídoto. El otro es no identificarse con la emoción negativa. Supongamos que me siento ansioso porque voy a perder mi vuelo, y mi mente está empapada en ansiedad. Yo puedo tomar conciencia de esa ansiedad, verla dentro de la mente; así, esa ansiedad pasa a ser solo una manera de sentirse. Ese es un antídoto. Lo otro: no relacionarse con la rabia. Supongamos que alguien tiene un resfrío, un dolor de cabeza; uno no es un dolor de cabeza, lo sufre. Yo sufro de rabia, no soy la rabia. Mi conciencia no es la rabia, sino que es un estado construido mentalmente, y si la veo así puedo cambiar las cosas. -Si eso es así, ¿por qué no lo hacemos todos? -La causa del sufrimiento es la ignorancia, el delirio, la confusión. En un nivel muy profundo, el delirio es una mala construcción de la realidad. HERENCIA Ricard ha escrito una decena de libros, tanto científicos, como filosóficos. Y también ha publicado cinco sobre sus trabajos fotográficos. Pero el más renombrado es El monje y el filósofo, producto de una serie de conversaciones con su padre y que se ha convertido en un best seller a nivel mundial en 21 idiomas. Sin embargo, fue su madre, según confiesa, quien más ha influido en su vida. \"Porque es tan buena persona. Todavía vive, tiene 91 años, y tiene un gran corazón, y pese a que sus habilidades físicas van en declive, cada vez hay más bondad en ella. La gente que supuestamente viene a ayudarla, porque vive sola, en realidad viene a buscar tranquilidad y apoyo\". Sus padres se divorciaron cuando tenía 18 años y su madre se hizo monja budista. Su padre, con quien tenía opiniones completamente opuestas en muchos temas, murió en 2006, siete años después del libro de conversaciones entre ambos. Ricard cuenta que desde que dejó su estilo de vida occidental, se las ha arreglado para vivir con unos 15 dólares al mes \"como máximo\". Dice que su vida en Nepal, Bután e India transcurría plácidamente, con muchas horas dedicadas a la meditación y la contemplación. \"Era totalmente feliz, no tenía ningún problema. Pero no podía hacer mucho, terminé mi trabajo y me quedé sin salario ni ahorros. Mi vida estaba bien, pero no podía hacer muchas cosas por otros. Entonces, cuando hice el libro con mi padre se vendieron cientos de miles de copias en Francia y comenzó a llegar mucho dinero\", sostiene. Dice que lo que en principio le pareció un problema, porque lo obligaba a meterse en el sistema de nuevo, lo convirtió en una solución. Con el dinero recaudado creó el año 2000 una fundación -Karuna Shechen, cuyo significado es compasión- y se abocó a levantar escuelas para educar niños pobres y clínicas para atender pacientes en lugares remotos de India y Nepal. LA MENTE Y EL PLACER MENTE Y ENEMIGOS. \"La depresión en la mente es la peor enemiga. Si una persona es paranoica, el mundo se convierte en su enemigo. Y si su mente está llena de compasión y libertad interior, todo se convierte en su amigo y se transforma en algo bueno. Uno tiene que enfrentar su mente de la mañana hasta la tarde, y si uno cambia un poco la forma en que trabaja la mente, puede cambiar todo su mundo\". PLACER Y BIENES. \"Lo hedónico no funciona muy bien, porque si lo que se quiere son interminables dosis de placer, se convierte en una receta para el cansancio, no para la felicidad. Si quieres un pedazo de torta de chocolate, lo puedes comer y es increíble; dos pedazos, está bien; pero si te comes cinco, te enfermarás. Si te tomas una ducha después de haber trabajado en una mina de carbón, es casi una bendición. Pero ducharte por 24 horas sin parar, es una tortura\". ¿INFELIZ A VECES?. \"Claro, (responde entre risas). Cuando veo odio, eso es lo peor. Pero infeliz en el sentido de tristeza, no en el de desesperación o de perder el sentido de mi vida. Si piensas en la felicidad como compasión, coraje y como un sentido de dirección, entonces ves de manera clara esta necesidad de ser tratado con compasión y sabiduría. Verdadera felicidad, el sentirse bien, está relacionado con una mente saludable. Esa mente que es capaz de encontrar un remedio para el odio\". Vota por esta noticia:\n",
            "\n",
            "----------------------------------------------------------------\n",
            "ANTES\n",
            "Admitió haber violado la libertad condicional Chris Brown volvió a la cárcel tras incidente El problemático cantante Chris Brown admitió el viernes haber violado su libertad condicional y fue encarcelado por un año en Los Angeles, a pesar de que se le dio crédito por cerca de ocho meses ya cumplidos.  Chris Brown lun may 12 2014 El juez también renovó la libertad condicional de Brown y la extendió hasta enero de 2015, después de que la estrella admitiera haber violado los términos de su libertad vinculados a un incidente violento hace cinco años con su entonces novia, la cantante Rihanna. Brown, que también enfrenta acciones legales por un presunto ataque en Washington DC, ha estado en libertad condicional desde que admitió la agresión a Rihanna la víspera de la entrega de premios Grammy de 2009. La libertad condicional fue revocada primero el verano pasado después de las acusaciones derivadas de un accidente de automóvil, pero se restableció en agosto, cuando el juez de Los Angeles James Brandlin le ordenó cumplir una pena adicional de 1.000 horas de trabajo comunitario. Brown, de 24 años, y su guardaespaldas Chris Hollosy, de 35, fueron entonces acusados de golpear a un hombre en octubre pasado frente a un hotel de moda en Washington. Vota por esta noticia:\n",
            "\n",
            "DESPUES\n",
            "Admitió haber violado la libertad condicional Chris Brown volvió a la cárcel tras incidente El problemático cantante Chris Brown admitió el viernes haber violado su libertad condicional y fue encarcelado por un año en Los Angeles, a pesar de que se le dio crédito por cerca de ocho meses ya cumplidos.  Chris Brown . El juez también renovó la libertad condicional de Brown y la extendió hasta enero de 2015, después de que la estrella admitiera haber violado los términos de su libertad vinculados a un incidente violento hace cinco años con su entonces novia, la cantante Rihanna. Brown, que también enfrenta acciones legales por un presunto ataque en Washington DC, ha estado en libertad condicional desde que admitió la agresión a Rihanna la víspera de la entrega de premios Grammy de 2009. La libertad condicional fue revocada primero el verano pasado después de las acusaciones derivadas de un accidente de automóvil, pero se restableció en agosto, cuando el juez de Los Angeles James Brandlin le ordenó cumplir una pena adicional de 1.000 horas de trabajo comunitario. Brown, de 24 años, y su guardaespaldas Chris Hollosy, de 35, fueron entonces acusados de golpear a un hombre en octubre pasado frente a un hotel de moda en Washington. Vota por esta noticia:\n",
            "\n",
            "----------------------------------------------------------------\n"
          ]
        }
      ],
      "source": [
        "# CONCLUSIONES SOBRE LAS FECHAS:\n",
        "#  - Se detectaron 3 formatos: < dia mes dd aaaa hh:mm >, <dia mes dd aaaa>, <dd mmm aaaa>\n",
        "#  - A veces las fechas estan al inicio\n",
        "#  - A continuacion de las fechas, siempre hay un inicio de Oracion --> tendria que haber un punto a continuacion\n",
        "\n",
        "# Formato dd mmm YYYY\n",
        "# al inicio\n",
        "print('ANTES')\n",
        "testing_str = lines[107373]\n",
        "print(testing_str)\n",
        "replace_pattern = r\"^\\d\\d \\w\\w\\w \\d\\d\\d\\d\"\n",
        "result = re.sub(replace_pattern, '', testing_str)  \n",
        "print('DESPUES')\n",
        "print(result)\n",
        "print('----------------------------------------------------------------')\n",
        "\n",
        "# dentro el string\n",
        "print('ANTES')\n",
        "testing_str = lines[39]\n",
        "print(testing_str)\n",
        "replace_pattern = r\"\\d\\d \\w\\w\\w \\d\\d\\d\\d\"\n",
        "result = re.sub(replace_pattern, '.', testing_str)  \n",
        "print('DESPUES')\n",
        "print(result)\n",
        "print('----------------------------------------------------------------')\n",
        "\n",
        "# Formato  dia mes nn YYYY hh:mm \n",
        "# al inicio\n",
        "print('ANTES')\n",
        "testing_str = lines[15719]\n",
        "print(testing_str)\n",
        "replace_pattern = r\"^\\w\\w\\w \\w\\w\\w \\d\\d \\d\\d\\d\\d \\d\\d:\\d\\d\"\n",
        "result = re.sub(replace_pattern, '', testing_str)\n",
        "print('DESPUES')\n",
        "print(result)\n",
        "print('----------------------------------------------------------------')\n",
        "\n",
        "# dentro del string\n",
        "print('ANTES')\n",
        "testing_str = lines[51]\n",
        "print(testing_str)\n",
        "replace_pattern = r\"\\w\\w\\w \\w\\w\\w \\d\\d \\d\\d\\d\\d \\d\\d:\\d\\d\"\n",
        "result = re.sub(replace_pattern, '.', testing_str)\n",
        "print('DESPUES')\n",
        "print(result)\n",
        "print('----------------------------------------------------------------')\n",
        "\n",
        "\n",
        "# Formato -dia mmm dd YYYY- (sin hora)\n",
        "# al inicio\n",
        "print('ANTES')\n",
        "testing_str = lines[6267]\n",
        "print(testing_str)\n",
        "replace_pattern = r\"^\\w\\w\\w \\w\\w\\w \\d\\d \\d\\d\\d\\d\"\n",
        "result = re.sub(replace_pattern, '', testing_str)\n",
        "print('DESPUES')\n",
        "print(result)\n",
        "print('----------------------------------------------------------------')\n",
        "\n",
        "\n",
        "# dentro del string\n",
        "print('ANTES')\n",
        "testing_str = lines[229]\n",
        "print(testing_str)\n",
        "replace_pattern = r\"\\w\\w\\w \\w\\w\\w \\d\\d \\d\\d\\d\\d\"\n",
        "result = re.sub(replace_pattern, '.', testing_str)\n",
        "print('DESPUES')\n",
        "print(result)\n",
        "print('----------------------------------------------------------------')"
      ]
    },
    {
      "cell_type": "code",
      "execution_count": 76,
      "metadata": {
        "colab": {
          "base_uri": "https://localhost:8080/"
        },
        "id": "jl-LURdotxnI",
        "outputId": "3bc295a1-260a-427f-a14c-0e02f8f501c2"
      },
      "outputs": [
        {
          "name": "stdout",
          "output_type": "stream",
          "text": [
            "==== ANTES ====\n",
            "nn mes YYYY\n",
            "inicio - 180\n",
            "medio - 5934\n",
            "dia mes dd aaaa hh:mm\n",
            "inicio - 260\n",
            "medio - 11302\n",
            "dia mes dd aaaa\n",
            "inicio - 48\n",
            "medio - 2602\n",
            "=========\n",
            "==== REEMPLAZO ====\n",
            "=========\n",
            "==== DESPUES ====\n",
            "nn mes YYYY\n",
            "inicio - 0\n",
            "medio - 0\n",
            "dia mes dd aaaa hh:mm\n",
            "inicio - 0\n",
            "medio - 0\n",
            "dia mes dd aaaa\n",
            "inicio - 0\n",
            "medio - 0\n"
          ]
        }
      ],
      "source": [
        "# str_text = sanitice_text(auxiliar_full_lines)\n",
        "print('==== ANTES ====')\n",
        "print('nn mes YYYY')\n",
        "pattern = r\"^\\d\\d \\w\\w\\w \\d\\d\\d\\d\"\n",
        "results = re.findall(pattern, str_text, re.MULTILINE)\n",
        "print(f'inicio - {len(results)}')\n",
        "\n",
        "pattern = r\".\\d\\d \\w\\w\\w \\d\\d\\d\\d\"\n",
        "results = re.findall(pattern, str_text)\n",
        "print(f'medio - {len(results)}')\n",
        "\n",
        "\n",
        "print('dia mes dd aaaa hh:mm')\n",
        "pattern = r\"^\\w\\w\\w \\w\\w\\w \\d\\d \\d\\d\\d\\d \\d\\d:\\d\\d\"\n",
        "results = re.findall(pattern, str_text, re.MULTILINE)\n",
        "print(f'inicio - {len(results)}')\n",
        "\n",
        "pattern = r\".\\w\\w\\w \\w\\w\\w \\d\\d \\d\\d\\d\\d \\d\\d:\\d\\d\"\n",
        "results = re.findall(pattern, str_text)\n",
        "print(f'medio - {len(results)}')\n",
        "\n",
        "\n",
        "print('dia mes dd aaaa')\n",
        "pattern = r\"^\\w\\w\\w \\w\\w\\w \\d\\d \\d\\d\\d\\d [^\\d\\d:\\d\\d]\"\n",
        "results = re.findall(pattern, str_text, re.MULTILINE)\n",
        "print(f'inicio - {len(results)}')\n",
        "\n",
        "pattern = r\".\\w\\w\\w \\w\\w\\w \\d\\d \\d\\d\\d\\d [^\\d\\d:\\d\\d]\"\n",
        "results = re.findall(pattern, str_text)\n",
        "print(f'medio - {len(results)}')\n",
        "print('=========')\n",
        "print('==== REEMPLAZO ====')\n",
        "\n",
        "# pipeline de reemplazo\n",
        "text = str_text\n",
        "# Formato dd mmm YYYY\n",
        "# al inicio\n",
        "replace_pattern = r\"^\\d\\d \\w\\w\\w \\d\\d\\d\\d\"\n",
        "text = re.sub(replace_pattern, '', text, re.MULTILINE)  \n",
        "\n",
        "# dentro el string\n",
        "replace_pattern = r\"\\d\\d \\w\\w\\w \\d\\d\\d\\d\"\n",
        "text = re.sub(replace_pattern, '.', text)  \n",
        "\n",
        "# Formato  dia mes nn YYYY hh:mm \n",
        "# al inicio\n",
        "replace_pattern = r\"^\\w\\w\\w \\w\\w\\w \\d\\d \\d\\d\\d\\d \\d\\d:\\d\\d\"\n",
        "text = re.sub(replace_pattern, '', text, re.MULTILINE)\n",
        "\n",
        "# dentro del string\n",
        "replace_pattern = r\"\\w\\w\\w \\w\\w\\w \\d\\d \\d\\d\\d\\d \\d\\d:\\d\\d\"\n",
        "text = re.sub(replace_pattern, '.', text)\n",
        "\n",
        "# Formato -dia mmm dd YYYY- (sin hora)\n",
        "# al inicio\n",
        "replace_pattern = r\"^\\w\\w\\w \\w\\w\\w \\d\\d \\d\\d\\d\\d\"\n",
        "text = re.sub(replace_pattern, '', text, re.MULTILINE)\n",
        "\n",
        "# dentro del string\n",
        "replace_pattern = r\"\\w\\w\\w \\w\\w\\w \\d\\d \\d\\d\\d\\d\"\n",
        "text = re.sub(replace_pattern, '.', text)\n",
        "\n",
        "print('=========')\n",
        "print('==== DESPUES ====')\n",
        "print('nn mes YYYY')\n",
        "pattern = r\"^\\d\\d \\w\\w\\w \\d\\d\\d\\d\"\n",
        "results = re.findall(pattern, text, re.MULTILINE)\n",
        "print(f'inicio - {len(results)}')\n",
        "\n",
        "pattern = r\".\\d\\d \\w\\w\\w \\d\\d\\d\\d\"\n",
        "results = re.findall(pattern, text)\n",
        "print(f'medio - {len(results)}')\n",
        "\n",
        "\n",
        "print('dia mes dd aaaa hh:mm')\n",
        "pattern = r\"^\\w\\w\\w \\w\\w\\w \\d\\d \\d\\d\\d\\d \\d\\d:\\d\\d\"\n",
        "results = re.findall(pattern, text, re.MULTILINE)\n",
        "print(f'inicio - {len(results)}')\n",
        "\n",
        "pattern = r\".\\w\\w\\w \\w\\w\\w \\d\\d \\d\\d\\d\\d \\d\\d:\\d\\d\"\n",
        "results = re.findall(pattern, text)\n",
        "print(f'medio - {len(results)}')\n",
        "\n",
        "\n",
        "print('dia mes dd aaaa')\n",
        "pattern = r\"^\\w\\w\\w \\w\\w\\w \\d\\d \\d\\d\\d\\d [^\\d\\d:\\d\\d]\"\n",
        "results = re.findall(pattern, text, re.MULTILINE)\n",
        "print(f'inicio - {len(results)}')\n",
        "\n",
        "pattern = r\".\\w\\w\\w \\w\\w\\w \\d\\d \\d\\d\\d\\d [^\\d\\d:\\d\\d]\"\n",
        "results = re.findall(pattern, text)\n",
        "print(f'medio - {len(results)}')"
      ]
    },
    {
      "cell_type": "markdown",
      "metadata": {
        "id": "Jk6TzBInyUO9"
      },
      "source": [
        "### String \"Foto: -origen-\""
      ]
    },
    {
      "cell_type": "code",
      "execution_count": 77,
      "metadata": {
        "colab": {
          "base_uri": "https://localhost:8080/"
        },
        "id": "h2Im17sly5dO",
        "outputId": "24453f31-c547-424a-a766-cf6f0cea8968"
      },
      "outputs": [
        {
          "name": "stdout",
          "output_type": "stream",
          "text": [
            "ARGENTINA Fiscal pide ocho años de cárcel para Menem Se lo acusa de contrabando de armas a Croacia y Ecuador durante su mandato.La sentencia estará en dos semanas.  Carlos Menem en el juzgado.  Foto: LA NACION | GDA Temas Contrabando de armas AFPvie may 31 2013 18:01 Un fiscal argentino pidió este viernes ocho años de prisión para el expresidente Carlos Menem por el contrabando de armas a Croacia y Ecuador durante su mandato, informó Infojus, portal que depende del ministerio de Justicia. El fiscal Marcelo Agüero Vera reclamó además el desafuero de Menem, actual senador, y su inhabilitación por 16 años para ejercer cargos públicos. Por otro lado, la fiscalía solicitó siete años de cárcel para el excanciller Oscar Camilión y ocho años para Diego Palleros, acusado como traficante de armas en la causa, según Infojus. Menem (82 años) y Camilión fueron encontrados culpables por \"contrabando agravado de 6.500 toneladas de armamento y municiones a Croacia y Ecuador\". El expresidente, quien estuvo presente en la audiencia, ocupa una banca por el gubernamental peronismo y por lo tanto tiene fueros que lo protegen de la cárcel, salvo que se promueva un juicio político. Los cañones, fusiles y otros pertrechos embarcados en Buenos Aires tenían como presunto destino Panamá y Venezuela, pero fueron desviados en una maniobra para eludir sendos embargos de armas que pesaban sobre Ecuador y Croacia, ambos envueltos en respectivas guerras en aquel entonces. El tribunal volverá a reunirse el viernes próximo y luego tendrá cinco días hábiles para fijar las penas. Menem y Camilión habían sido absueltos en 2011 por un tribunal oral, pero la Cámara de Casación revocó el fallo a comienzos de marzo. El delito de contrabando agravado contempla penas entre cuatro y 12 años de prisión. Vota por esta noticia:\n",
            "\n"
          ]
        }
      ],
      "source": [
        "print(lines[124])"
      ]
    },
    {
      "cell_type": "markdown",
      "metadata": {
        "id": "qClmJkUpxkKQ"
      },
      "source": [
        "ARGENTINA Fiscal pide ocho años de cárcel para Menem Se lo acusa de contrabando de armas a Croacia y Ecuador durante su mandato.La sentencia estará en dos semanas.  Carlos Menem en el juzgado.  `Foto: LA NACION` | GDA Temas Contrabando de armas AFPvie may 31 2013 18:01 Un fiscal argentino pidió este viernes ocho años de prisión para el expresidente Carlos Menem por el contrabando de armas a Croacia y Ecuador durante su mandato, informó Infojus, portal que depende del ministerio de Justicia. El fiscal Marcelo Agüero Vera reclamó además el desafuero de Menem, actual senador, y su inhabilitación por 16 años para ejercer cargos públicos. Por otro lado, la fiscalía solicitó siete años de cárcel para el excanciller Oscar Camilión y ocho años para Diego Palleros, acusado como traficante de armas en la causa, según Infojus. Menem (82 años) y Camilión fueron encontrados culpables por \"contrabando agravado de 6.500 toneladas de armamento y municiones a Croacia y Ecuador\". El expresidente, quien estuvo presente en la audiencia, ocupa una banca por el gubernamental peronismo y por lo tanto tiene fueros que lo protegen de la cárcel, salvo que se promueva un juicio político. Los cañones, fusiles y otros pertrechos embarcados en Buenos Aires tenían como presunto destino Panamá y Venezuela, pero fueron desviados en una maniobra para eludir sendos embargos de armas que pesaban sobre Ecuador y Croacia, ambos envueltos en respectivas guerras en aquel entonces. El tribunal volverá a reunirse el viernes próximo y luego tendrá cinco días hábiles para fijar las penas. Menem y Camilión habían sido absueltos en 2011 por un tribunal oral, pero la Cámara de Casación revocó el fallo a comienzos de marzo. El delito de contrabando agravado contempla penas entre cuatro y 12 años de prisión. Vota por esta noticia:\n"
      ]
    },
    {
      "cell_type": "code",
      "execution_count": 78,
      "metadata": {
        "colab": {
          "base_uri": "https://localhost:8080/"
        },
        "id": "PvCraEMAy79O",
        "outputId": "4518b5d3-205a-43e3-b106-0ab74bceaab7"
      },
      "outputs": [
        {
          "name": "stdout",
          "output_type": "stream",
          "text": [
            "SEGUIDILLA Otra tragedia en Rosario, cayó una \"rueda gigante\" y hay dos muertos Tras la explosión de principios de semana que mató a 13 personas y dejó varios desaparecidos, ahora hubo un accidente en un parque de diversiones. Foto: La Capital de Rosario. Temas Ascienden a 14 los muertos por la explosión de la ciudad de Rosario sáb ago 10 2013 19:35 Dos personas murieron y varias resultaron heridas en el parque de diversiones del Parque de la Independencia, en Rosario. Un carro de la famosa atracción \"La vuelta al mundo\" se desprendió desde la parte superior  y provocó la tragedia, según publican varios medios argentinos.  Según publica el diario La Capital de Rosario tres pequeños fueron derivados al Hospital de Niños Víctor Vilela, mientras el resto de los heridos, un total de diez, habrían sido trasladados al Hospital de Emergencias Clemente Alvarez. Según testigos que se encontraban el el parque de diversiones, el siniestro se produjo cuando \"se desprendió un arnés, el carro hizo columpio y se cayó. El muchacho que trabaja con la rueda hizo todo el esfuerzo, pero se descontroló totalmente\", contó un testigo.  International Park está ubicado en pleno Parque de la Independencia, a sólo 15 cuadras del edificio que explotó el día martes. De hecho personal especializado en rescate, Bomberos y policías que estaban trabajando en la búsqueda de personas ausentes de la tragedia en Salta y Oroño llegaron al lugar para asistir a las víctimas. Vea el video que grabó una testigo en el momento del accidente y otro de los segundos posteriores: Vota por esta noticia:\n",
            "\n"
          ]
        }
      ],
      "source": [
        "print(lines[26])"
      ]
    },
    {
      "cell_type": "markdown",
      "metadata": {
        "id": "gAoDBoLrzBCm"
      },
      "source": [
        "SEGUIDILLA Otra tragedia en Rosario, cayó una \"rueda gigante\" y hay dos muertos Tras la explosión de principios de semana que mató a 13 personas y dejó varios desaparecidos, ahora hubo un accidente en un parque de diversiones. `Foto: La Capital de Rosario`. Temas Ascienden a 14 los muertos por la explosión de la ciudad de Rosario sáb ago 10 2013 19:35 Dos personas murieron y varias resultaron heridas en el parque de diversiones del Parque de la Independencia, en Rosario. Un carro de la famosa atracción \"La vuelta al mundo\" se desprendió desde la parte superior  y provocó la tragedia, según publican varios medios argentinos.  Según publica el diario La Capital de Rosario tres pequeños fueron derivados al Hospital de Niños Víctor Vilela, mientras el resto de los heridos, un total de diez, habrían sido trasladados al Hospital de Emergencias Clemente Alvarez. Según testigos que se encontraban el el parque de diversiones, el siniestro se produjo cuando \"se desprendió un arnés, el carro hizo columpio y se cayó. El muchacho que trabaja con la rueda hizo todo el esfuerzo, pero se descontroló totalmente\", contó un testigo.  International Park está ubicado en pleno Parque de la Independencia, a sólo 15 cuadras del edificio que explotó el día martes. De hecho personal especializado en rescate, Bomberos y policías que estaban trabajando en la búsqueda de personas ausentes de la tragedia en Salta y Oroño llegaron al lugar para asistir a las víctimas. Vea el video que grabó una testigo en el momento del accidente y otro de los segundos posteriores: Vota por esta noticia:\n"
      ]
    },
    {
      "cell_type": "code",
      "execution_count": 79,
      "metadata": {
        "colab": {
          "base_uri": "https://localhost:8080/",
          "height": 110
        },
        "id": "kt5Vdq6WtR8E",
        "outputId": "5b659ec7-644a-477e-b3d7-8f3f4c8e9d36"
      },
      "outputs": [
        {
          "data": {
            "text/plain": [
              "'Semana de la Moda La española Desigual se presentó en New York Con el desembarco de la marca española Desigual y un primer desfile consagrado a las mujeres \"rellenitas\", la Fashion Week arrancó este jueves en Nueva York. Las gemelas Olsen. Foto: AP Heidi Klumm en el desfile de BCBG de Max Azria. Foto: AP La protagonista de Sex and the City, Sarah Jessica Parker dijo presente. Foto: AP La marca española Desigual presentó sus diseños. Foto: EFE La marca española Desigual presentó sus diseños. Foto: EFE La marca española Desigual presentó sus diseños. Foto: EFE La marca española Desigual presentó sus diseños. Foto: EFE Foto: AP Max y Luvob Azria luego de su desfile. Foto: AP Foto: AP Desigual AFPvie sep 6 2013 09:28 Con modelos simulando a veces pasos de un baile de rock y que enviaban besos al público, Desigual dio este jueves sus primeros pasos llenos de energía en la cita obligada de la moda neoyorquina. La atmósfera era decididamente Desigual, con colores estampados, flores, muchos minivestidos sin mangas y minipantalones. También rayas, derivadas a veces en puntos, y grandes sombreros, para recrear un ambiente \"muy de Provence, muy Saint Tropez en los años 70\", según el director ejecutivo Manel Jadraque. Las modelos sonreían detrás de sus gafas de sol, bailando a veces al ritmo de la música... Aunque en la colección también contó con piezas más sofisticadas y sobrias, abrigos de marfil con jacquard, faldas de seda negra plisada, pequeños detalles de algodón y encaje. \"Es el nuevo Desigual, más chic, más calmado, un poco vintage\", explicó a la AFP Jadraque, en bambalinas, tras el desfile, precisando que era \"prácticamente (Christian) Lacroix\". Hasta el próximo jueves 12 de septiembre en la Gran Manzana están previstos unos 350 desfiles, que se espera atraigan a unas 100.000 personas entre diseñadores, modelos, maquilladores, peluqueros, periodistas, blogueros, fotógrafos y, por supuesto, compradores y amantes de la moda en general. De América Latina, el viernes se presentará por cuarta vez una selección de diseñadores argentinos, en esta ocasión integrada por Agostina Bianchi, Mariana Dappiano, Marcelo Giacobbe, Daniela Sartori, Tenaz, Viviana Uchitel y Fabian Zitta. El venezolano Angel Sánchez, en tanto, celebrará su desfile el lunes, al igual que la chilena María Cornejo. Si bien el Lincoln Center, cerca de Central Park, es la sede oficial de la Semana de la Moda neoyorquina, hay desfiles organizados en toda la ciudad, desde la costanera del río Hudson a terrazas de hoteles, pasando por galerías de arte de Chelsea. Y como una semana parece no ser suficiente, antes del primer desfile de este jueves por la mañana reservado tradicionalmente a Nicholas K, una veintena de creadores ya presentaron sus colecciones el miércoles por la noche. Junto al debut de Desigual, que también abre una tienda en la Quinta Avenida, también se iniciará en la moda neoyorquina la británica AllSaints, que con dos presentaciones anunciadas para el sábado y el domingo promete \"revisar el formato del desfile tradicional\". Eden Miller, una diseñadora neoyorquina que creó su marca Cabiria en abril pasado, promete causar revuelo el viernes cuando exhiba una colección para mujeres \"rellenitas\" en el Lincoln Center, en el marco de una presentación de seis creadores bajo los auspicios del Fashion Law Institute. \"Es fantástico, es un honor increíble\", confió Miller a la AFP antes de su desfile, que mezcla colores y estampados para vestimentas con cortes cuidadosamente estructurados para las curvas. En directo por Internet  Para los amantes de la moda, la New York Fashion Week es más accesible que nunca. Todos los desfiles serán difundidos en directo a través de Internet en el sitio mbfashionweek.com, en Facebook y YouTube. Algunos diseñadores harán lo mismo a través de sus propios sitios en Internet y legiones de blogueros los comentarán en directo con fotos y las redes sociales. El hogar de la fashion week podría cambiar Estos últimos días volvió el debate sobre la posibilidad de que la Semana de la Moda, que se había mudado de Bryant Park al Lincoln Center en 2010, vuelva a cambiar de sede en 2015, cuando concluye el contrato con este lugar. \"No sabemos si el Lincoln Center seguirá\", confió al diario New York Times la presidenta del Consejo de Diseñadores Estadounidenses (CFDA, según sus siglas en inglés), Diane Von Furstenberg. En marzo pasado, se presentó una demanda contra la instalación de gigantescas tiendas dos veces por año en lo que es un parque durante el año. A esto se agrega la confesada reticencia de algunos diseñadores por un lugar repleto de gente y en el que los auspiciantes se muestran abiertamente. Esta nueva edición de la Fashion Week también esta marcada por la desaparición de la Fashion Night out, una velada glamurosa con eventos comerciales creada en 2009 para impulsar las ventas y que no había dado los resultados esperados. Vota por esta noticia:\\n'"
            ]
          },
          "execution_count": 79,
          "metadata": {},
          "output_type": "execute_result"
        }
      ],
      "source": [
        "lines[1215]"
      ]
    },
    {
      "cell_type": "markdown",
      "metadata": {
        "id": "qTeNZtP-HgHI"
      },
      "source": [
        "#### Solucion\n"
      ]
    },
    {
      "cell_type": "code",
      "execution_count": 80,
      "metadata": {
        "colab": {
          "base_uri": "https://localhost:8080/"
        },
        "id": "JwayYet_Hjqh",
        "outputId": "cff92321-b38a-4358-90ea-c333f699b60f"
      },
      "outputs": [
        {
          "name": "stdout",
          "output_type": "stream",
          "text": [
            "Ocurrencias de texto \"Foto:\" - 10096\n",
            "CONTEXTO de texto \"Foto:\" - 9565\n",
            "[' Almagro. Foto: Francisco Flores / ', 'ersiones. Foto: La Capital de Rosar', 'S digital Foto: El País. Fotógrafo:', 'Mercedes. Foto: Daniel Rojas. Temas', ' medidas. Foto: AP Temas exportacio', 'Aliójina. Foto: AFP Temas La música', 'r García. Foto: Archivo El País Tem', 'a Brasil\".Foto: Archivo El País. Te', ' Perrone. Foto: Daniel Ayala Temas ', 'sociales. Foto: Julio Barcelos Tema', 'juzgado.  Foto: LA NACION | GDA Tem', 'enedores. Foto: Archivo Temas Parag', 'gravedad. Foto: Gentileza de José L', 'ue Viana. Foto: Archivo de El País.', 'diactiva. Foto: AFP Temas robaron m', 'y Chávez. Foto: Archivo El País Tem', 'de clase. Foto: Archivo El País Tem', 'ya Mansa. Foto: Marcelo Bonjour Tem', 'daptarse. Foto:archivo El País Tema', 'pietario. Foto: Agencias Temas Trib']\n",
            "Ocurrencias de texto \"Foto:\" - 9740\n",
            "Ocurrencias de texto \"Foto: PATTERN\" - 9557\n",
            "[('Foto: Francisco Flores ', '/'), ('Foto: La Capital de Rosario', '.'), ('Foto: El País', '.'), ('Foto: Daniel Rojas', '.'), ('Foto: ', 'AP'), ('Foto: ', 'AFP'), ('Foto: Archivo El País ', 'Temas'), ('Foto: Archivo El País', '.'), ('Foto: Daniel Ayala ', 'Temas'), ('Foto: Julio Barcelos ', 'Temas'), ('Foto: LA NACION | GDA ', 'Temas'), ('Foto: Archivo ', 'Temas'), ('Foto: Gentileza de José Luis Cuña ', 'Temas'), ('Foto: Archivo de El País', '.'), ('Foto: ', 'AFP'), ('Foto: Archivo El País ', 'Temas'), ('Foto: Archivo El País ', 'Temas'), ('Foto: Marcelo Bonjour ', 'Temas'), ('Foto:archivo El País ', 'Temas'), ('Foto: Agencias ', 'Temas')]\n",
            "limpiado! \n",
            " \n",
            "\n",
            "Ocurrencias de texto prelimpiado \"Foto: PATTERN\" - 23\n",
            "['Foto: Facebook Comité de los Derechos del Niño', 'Foto: Facebook Comité de los Derechos del Niño', 'Foto: Facebook Comité de los Derechos del Niño', 'Foto: Facebook Comité de los Derechos del Niño', 'Foto: Facebook Comité de los Derechos del Niño', 'Foto: Facebook Comité de los Derechos del Niño', 'Foto: Facebook Comité de los Derechos del Niño', 'Foto: Facebook Comité de los Derechos del Niño', 'Foto: Facebook Comité de los Derechos del Niño', 'Foto: Facebook Comité de los Derechos del Niño', 'Foto: Facebook Comité de los Derechos del Niño', 'Foto: Facebook Comité de los Derechos del Niño', 'Foto: Facebook Comité de los Derechos del Niño', 'Foto: Facebook Comité de los Derechos del Niño', 'Foto: Facebook Comité de los Derechos del Niño', 'Foto: Facebook Comité de los Derechos del Niño', 'Foto: Facebook Comité de los Derechos del Niño', 'Foto: Facebook Comité de los Derechos del Niño', 'Foto: Facebook Comité de los Derechos del Niño', 'Foto: El País Entierro del policía Ariel Silva']\n"
          ]
        }
      ],
      "source": [
        "# Ocurrencias de texto \"Foto:\"\n",
        "pattern = r\"Foto:\"\n",
        "results = re.findall(pattern, auxiliar_full_lines)\n",
        "print(f'Ocurrencias de texto \"Foto:\" - {len(results)}')\n",
        "\n",
        "pattern = r\"..........Foto:....................\"\n",
        "results = re.findall(pattern, auxiliar_full_lines)\n",
        "print(f'CONTEXTO de texto \"Foto:\" - {len(results)}')\n",
        "print(results[:20])\n",
        "\n",
        "# hay separadores como . | /\n",
        "pattern = \"Foto:.*?\\.\"\n",
        "results = re.findall(pattern, auxiliar_full_lines)\n",
        "print(f'Ocurrencias de texto \"Foto:\" - {len(results)}')\n",
        "\n",
        "# comentario: hay casos como \"Foto: AP .... \" que incluyen la descripcion de la foto\n",
        "# Semana de la Moda La española Desigual se presentó en New York Con el desembarco de la marca española Desigual \n",
        "# y un primer desfile consagrado a las mujeres \"rellenitas\", la Fashion Week arrancó este jueves en Nueva York. Las gemelas Olsen.\n",
        "# Foto: AP Heidi Klumm en el desfile de BCBG de Max Azria. Foto: AP La protagonista de Sex and the City, Sarah Jessica Parker dijo \n",
        "# presente. Foto: AP La marca española Desigual presentó sus diseños. Foto: EFE La marca española Desigual presentó sus diseños.\n",
        "# Foto: EFE La marca española Desigual presentó sus diseños. Foto: EFE La marca española Desigual presentó sus diseños. Foto: EFE\n",
        "# Foto: AP Max y Luvob Azria luego de su desfile. Foto: AP Foto: AP Desigual AFPvie sep 6 2013 09:28 Con modelos simulando a veces p\n",
        "\n",
        "# Lo mimso con \"Foto: EFE\", creo que de momento voy a eliminar solo el string siguiente een esos casos, estan complejos\n",
        "\n",
        "pattern = r\"(Foto:.*?)(\\/|\\.|AP|EFE|AFP|Archivo El Pais|Temas|Facebook Comite de los Derechos del Nino del Uruguay Centros del Sirpa|Alexis Ferreira|Gentileza Policia de San Jose|Maria Ines Hiriart|Ricardo Figueredo|Facebook Carolina Mallo Sosa|Facebook Jose Maria Techera|Facebook Roberto Caseres|Facebook Richard Silveira|Dilva Devita|Facebook Comite de los Derechos del Nino|El Pais Entierro del policia Ariel Silva|Ariel Colmegna Primera boda  bajo la ley) \"\n",
        "results = re.findall(pattern, auxiliar_full_lines)\n",
        "print(f'Ocurrencias de texto \"Foto: PATTERN\" - {len(results)}')\n",
        "print(results[:20])\n",
        "\n",
        "replace_pattern = pattern\n",
        "cleaned = re.sub(replace_pattern, '.', auxiliar_full_lines)\n",
        "\n",
        "print('limpiado! \\n \\n')\n",
        "pattern = r\"Foto:.........................................\"\n",
        "results = re.findall(pattern, cleaned)\n",
        "print(f'Ocurrencias de texto prelimpiado \"Foto: PATTERN\" - {len(results)}')\n",
        "print(results[:20])\n"
      ]
    },
    {
      "cell_type": "code",
      "execution_count": 81,
      "metadata": {
        "id": "Gh5IHJQjI9Ie"
      },
      "outputs": [
        {
          "name": "stdout",
          "output_type": "stream",
          "text": [
            "Foto: Facebook Comité de los Derechos del Niño\n",
            "Foto: Facebook Comité de los Derechos del Niño\n",
            "Foto: Facebook Comité de los Derechos del Niño\n",
            "Foto: Facebook Comité de los Derechos del Niño\n",
            "Foto: Facebook Comité de los Derechos del Niño\n",
            "Foto: Facebook Comité de los Derechos del Niño\n",
            "Foto: Facebook Comité de los Derechos del Niño\n",
            "Foto: Facebook Comité de los Derechos del Niño\n",
            "Foto: Facebook Comité de los Derechos del Niño\n",
            "Foto: Facebook Comité de los Derechos del Niño\n",
            "Foto: Facebook Comité de los Derechos del Niño\n",
            "Foto: Facebook Comité de los Derechos del Niño\n",
            "Foto: Facebook Comité de los Derechos del Niño\n",
            "Foto: Facebook Comité de los Derechos del Niño\n",
            "Foto: Facebook Comité de los Derechos del Niño\n",
            "Foto: Facebook Comité de los Derechos del Niño\n",
            "Foto: Facebook Comité de los Derechos del Niño\n",
            "Foto: Facebook Comité de los Derechos del Niño\n",
            "Foto: Facebook Comité de los Derechos del Niño\n",
            "Foto: El País Entierro del policía Ariel Silva\n",
            "Foto: Gentileza Policía de San José No salgas \n",
            "Foto: María Inés Hiriart Foto: Agustín Martíne\n",
            "Foto: Gerardo Pérez Basura acumulada en Montev\n"
          ]
        }
      ],
      "source": [
        "for text in results:\n",
        "  print(text)"
      ]
    },
    {
      "cell_type": "markdown",
      "metadata": {
        "id": "XZHRn3PPnjJe"
      },
      "source": [
        "\n",
        "\n",
        "---\n",
        "\n"
      ]
    },
    {
      "cell_type": "markdown",
      "metadata": {
        "id": "MnWjcSUgwaEf"
      },
      "source": [
        "### String \"Otras Ediciones\" (probablemente al final del texto)\n"
      ]
    },
    {
      "cell_type": "code",
      "execution_count": 82,
      "metadata": {
        "colab": {
          "base_uri": "https://localhost:8080/"
        },
        "id": "qlLmPxD6waEh",
        "outputId": "93dcb450-2444-4d58-d0ab-a6a9dced61fe"
      },
      "outputs": [
        {
          "name": "stdout",
          "output_type": "stream",
          "text": [
            "Los sucesores de Nelson Mandela no consiguen inspirar una integración más armoniosa El legado del \"apartheid\" Un video grabado en una universidad sudafricana recuerda los días de racismo institucionalizado en ese país, y le atesta un nuevo golpe al sueño de la Nación Arcoiris. THE ECONOMIST LA RAZA VOLVIÓ A OCUPAR los titulares de la prensa y las ondas de radio y televisión sudafricana. Un video filmado por cuatro estudiantes universitarios blancos retrata un humillante rito de iniciación para cuatro limpiadoras negras a la residencia estudiantil. En la filmación se las ve de rodillas, comiendo de un plato en el cual los estudiantes, aparentemente, habían orinado. El video, claramente destinado a socavar la integración racial en las residencias estudiantiles del país, generó un shock que se propagó en una onda expansiva en la sociedad sudafricana y más allá. El video se conoció poco tiempo después de otros desagradables incidentes raciales. En enero, un adolescente blanco y armado, mató a cuatro personas, incluida una madre y su bebé, en una zona rural. Aparentemente, sus móviles eran racistas. El mes pasado, Irvin Khoza, el líder negro encargado de organizar el próximo campeonato mundial de fútbol, a realizarse en Sudáfrica dentro de dos años, generó reacciones iracundas cuando le dijo a un periodista que dejara de pensar como un \"kaffir\", término ofensivo para un sudafricano negro. Y el Foro de Periodistas Negros se metió en un brete cuando le prohibió a colegas blancos asistir a una reunión con Jacob Zuma, el nuevo presidente del Congreso Nacional Africano, el partido en el poder. Catorce años después del fin del \"apartheid\", la pregunta es: ¿se está desvaneciendo el ideal de la Nación Arcoiris ? Para nada. Sudáfrica ha recorrido un largo camino desde los días del racismo institucionalizado. La transición a la democracia ha sido extraordinariamente fluida, considerando el amargo pasado del país. No es corriente que se informe sobre violencia motivada por cuestiones raciales. La vasta mayoría de los sudafricanos quieren una democracia no-racial que respete las diferencias. Y hay leyes que castigan la discriminación injusta, además de una política de \"fortalecimiento económico negro\", destinada a corregir pasadas injusticias. Aunque los negros siguen estando representados excesivamente en las estadísticas sobre pobres y desempleados, una emergente clase media negra está lentamente disolviendo las fronteras raciales y sociales. Escuelas y universidades que antes tenían una política de segregación, hoy incluyen estudiantes de todos los colores. Hasta la University of the Free State, donde se filmó el video racista y donde las clases se impartían en afrikaans (la lengua de los colonos holandeses), tiene una mayoría de estudiantes negros. Y una mayoría de sudafricanos opina que las relaciones raciales están mejorando. Integración a la fuerza Aún así, Sudáfrica está lejos de ser una nación daltónica. Personas de distintas razas se sientan en los mismos restaurantes. Pero en diferentes mesas. La coexistencia pacífica, algo de lo que el país disfruta, no es lo mismo que integración. La población de las zonas rurales, además, es menos propensa a la mezcla que la gente de las grandes ciudades como Johannesburg. De acuerdo a David Maimela, del Congreso Estudiantil de Sudáfrica, la integración de las razas en las universidades es de la boca para afuera. El Frente de la Libertad Plus, un pequeño partido en la oposición que representa mayoritariamente a los afrikaners, se opone a lo que llama la \"integración a la fuerza\" de las residencias estudiantiles. El partido sostiene que aquellos afrikaners que temen por su identidad cultural y por su idioma, corren el riesgo de no ser tenidos en cuenta. Pero Tim Du Plessis, editor del Rapport, un semanario afrikaans, dice que preocupaciones legítimas, como la del idioma, han sido usadas como pretexto para resistirse a la integración racial. Muchos sudafricanos blancos -tanto los que hablan inglés como los que se expresan en afrikaans- se sienten cada vez más frustrados por la discriminación positiva. Mientras que Nelson Mandela inspiraba a muchos de ellos con su visión acerca del país y su futuro, sus sucesores, incluido el presidente Thabo Mbeki, no han logrado lo mismo. Muchos blancos piensan que el Congreso Nacional Africano está perdiendo su estatura moral y derivando en una fuerza política más insular y emigran. Al mismo tiempo, muchos de sus compatriotas negros se sienten frustrados por la lentitud en el ritmo de los cambios. Aún así, la mayoría de los sudafricanos, sin distinción, rechazan el racismo crudo. El video ha indignado a casi todos, y ha sido condenado de forma unánime. La medida del éxito de Sudáfrica en este tema no es la erradicación del racismo -ningún país multiracial ha logrado eso- sino cómo maneja ese urticante problema. Las protestas contra el video han sido, hasta ahora, pacíficas. Los cuatro estudiantes responsables pueden enfrentar demandas judiciales. El señor Khoza fue censurado. Y la comisión de Derechos Humanos sudafricana investiga las quejas contra el Foro de los Periodistas Negros. Tseliso Thipanyane, director de la comisión, dice que \"deberíamos involucrarnos activamente en estos temas, en vez de desear que desaparezcan por arte de magia\". La intolerancia grupal no es un tema que pueda tratarse de manera maniquea y reducirla a una cuestión de blanco o negro. Una reciente investigación llevada a cabo por una encuestadora local comprobó que el 42 % de los habitantes de los barrios más pobres -aquellos que sienten más cercana la competencia por trabajo y servicios- se consideran amenazados por \"otras culturas\". Esa cifra es alarmantemente más alta que el promedio nacional, que se ubica en un 29 %. Ataques de sudafricanos negros a comerciantes somalíes e inmigrantes de Zimbabwe parecen cada vez más comunes. Y la escasez de vivienda en el Cabo Occidental alimenta la tensión entre sudafricanos \"de color\" (mestizos) y negros. En un país tan diverso como Sudáfrica, esto es algo que está dentro de lo previsible. El video, en tanto, obligó a todos a esforzarse más para idear distintas maneras de promover una mayor armonía. Otras Ediciones\n",
            "\n"
          ]
        }
      ],
      "source": [
        "print(lines[44335])"
      ]
    },
    {
      "cell_type": "markdown",
      "metadata": {
        "id": "HkFEgIbRwaEj"
      },
      "source": [
        "Los sucesores de Nelson Mandela no consiguen inspirar una integración más armoniosa El legado del \"apartheid\" Un video grabado en una universidad sudafricana recuerda los días de racismo institucionalizado en ese país, y le atesta un nuevo golpe al sueño de la Nación Arcoiris. THE ECONOMIST LA RAZA VOLVIÓ A OCUPAR los titulares de la prensa y las ondas de radio y televisión sudafricana. Un video filmado por cuatro estudiantes universitarios blancos retrata un humillante rito de iniciación para cuatro limpiadoras negras a la residencia estudiantil. En la filmación se las ve de rodillas, comiendo de un plato en el cual los estudiantes, aparentemente, habían orinado. El video, claramente destinado a socavar la integración racial en las residencias estudiantiles del país, generó un shock que se propagó en una onda expansiva en la sociedad sudafricana y más allá. El video se conoció poco tiempo después de otros desagradables incidentes raciales. En enero, un adolescente blanco y armado, mató a cuatro personas, incluida una madre y su bebé, en una zona rural. Aparentemente, sus móviles eran racistas. El mes pasado, Irvin Khoza, el líder negro encargado de organizar el próximo campeonato mundial de fútbol, a realizarse en Sudáfrica dentro de dos años, generó reacciones iracundas cuando le dijo a un periodista que dejara de pensar como un \"kaffir\", término ofensivo para un sudafricano negro. Y el Foro de Periodistas Negros se metió en un brete cuando le prohibió a colegas blancos asistir a una reunión con Jacob Zuma, el nuevo presidente del Congreso Nacional Africano, el partido en el poder. Catorce años después del fin del \"apartheid\", la pregunta es: ¿se está desvaneciendo el ideal de la Nación Arcoiris ? Para nada. Sudáfrica ha recorrido un largo camino desde los días del racismo institucionalizado. La transición a la democracia ha sido extraordinariamente fluida, considerando el amargo pasado del país. No es corriente que se informe sobre violencia motivada por cuestiones raciales. La vasta mayoría de los sudafricanos quieren una democracia no-racial que respete las diferencias. Y hay leyes que castigan la discriminación injusta, además de una política de \"fortalecimiento económico negro\", destinada a corregir pasadas injusticias. Aunque los negros siguen estando representados excesivamente en las estadísticas sobre pobres y desempleados, una emergente clase media negra está lentamente disolviendo las fronteras raciales y sociales. Escuelas y universidades que antes tenían una política de segregación, hoy incluyen estudiantes de todos los colores. Hasta la University of the Free State, donde se filmó el video racista y donde las clases se impartían en afrikaans (la lengua de los colonos holandeses), tiene una mayoría de estudiantes negros. Y una mayoría de sudafricanos opina que las relaciones raciales están mejorando. Integración a la fuerza Aún así, Sudáfrica está lejos de ser una nación daltónica. Personas de distintas razas se sientan en los mismos restaurantes. Pero en diferentes mesas. La coexistencia pacífica, algo de lo que el país disfruta, no es lo mismo que integración. La población de las zonas rurales, además, es menos propensa a la mezcla que la gente de las grandes ciudades como Johannesburg. De acuerdo a David Maimela, del Congreso Estudiantil de Sudáfrica, la integración de las razas en las universidades es de la boca para afuera. El Frente de la Libertad Plus, un pequeño partido en la oposición que representa mayoritariamente a los afrikaners, se opone a lo que llama la \"integración a la fuerza\" de las residencias estudiantiles. El partido sostiene que aquellos afrikaners que temen por su identidad cultural y por su idioma, corren el riesgo de no ser tenidos en cuenta. Pero Tim Du Plessis, editor del Rapport, un semanario afrikaans, dice que preocupaciones legítimas, como la del idioma, han sido usadas como pretexto para resistirse a la integración racial. Muchos sudafricanos blancos -tanto los que hablan inglés como los que se expresan en afrikaans- se sienten cada vez más frustrados por la discriminación positiva. Mientras que Nelson Mandela inspiraba a muchos de ellos con su visión acerca del país y su futuro, sus sucesores, incluido el presidente Thabo Mbeki, no han logrado lo mismo. Muchos blancos piensan que el Congreso Nacional Africano está perdiendo su estatura moral y derivando en una fuerza política más insular y emigran. Al mismo tiempo, muchos de sus compatriotas negros se sienten frustrados por la lentitud en el ritmo de los cambios. Aún así, la mayoría de los sudafricanos, sin distinción, rechazan el racismo crudo. El video ha indignado a casi todos, y ha sido condenado de forma unánime. La medida del éxito de Sudáfrica en este tema no es la erradicación del racismo -ningún país multiracial ha logrado eso- sino cómo maneja ese urticante problema. Las protestas contra el video han sido, hasta ahora, pacíficas. Los cuatro estudiantes responsables pueden enfrentar demandas judiciales. El señor Khoza fue censurado. Y la comisión de Derechos Humanos sudafricana investiga las quejas contra el Foro de los Periodistas Negros. Tseliso Thipanyane, director de la comisión, dice que \"deberíamos involucrarnos activamente en estos temas, en vez de desear que desaparezcan por arte de magia\". La intolerancia grupal no es un tema que pueda tratarse de manera maniquea y reducirla a una cuestión de blanco o negro. Una reciente investigación llevada a cabo por una encuestadora local comprobó que el 42 % de los habitantes de los barrios más pobres -aquellos que sienten más cercana la competencia por trabajo y servicios- se consideran amenazados por \"otras culturas\". Esa cifra es alarmantemente más alta que el promedio nacional, que se ubica en un 29 %. Ataques de sudafricanos negros a comerciantes somalíes e inmigrantes de Zimbabwe parecen cada vez más comunes. Y la escasez de vivienda en el Cabo Occidental alimenta la tensión entre sudafricanos \"de color\" (mestizos) y negros. En un país tan diverso como Sudáfrica, esto es algo que está dentro de lo previsible. El video, en tanto, obligó a todos a esforzarse más para idear distintas maneras de promover una mayor armonía. `Otras Ediciones`\n"
      ]
    },
    {
      "cell_type": "code",
      "execution_count": 83,
      "metadata": {
        "colab": {
          "base_uri": "https://localhost:8080/"
        },
        "id": "RQ8l81343PTE",
        "outputId": "b3fcb81a-c0a6-4bdb-c62c-d37dd168b9c1"
      },
      "outputs": [
        {
          "name": "stdout",
          "output_type": "stream",
          "text": [
            "IRIS DEL PÚBLICO Los Iris del público en la web Desde el sábado pasado, está disponible en El País Digital el formulario que permite a los lectores elegir a los ganadores de los Premios Iris del Público, que se otorgan por segundo año consecutivo. Los mismos se votan vía Internet y premian a el Mejor Programa de Televisión Nacional, Mejor Banda de Rock Nacional y Mejor Obra de Teatro. Los votos se acumulan durante dos semanas (quedan sólo ocho días para seguir participando) y los ganadores se darán a conocer en la ceremonia de entrega de los Iris, el próximo 20 de mayo en el Salón Flamingo. Los ganadores del año pasado fueron Víctimas y victimarios (Televisión), No Te Va Gustar (Rock) y El método Gronholm (Teatro). Otras Ediciones\n",
            "\n"
          ]
        }
      ],
      "source": [
        "print(lines[61726])"
      ]
    },
    {
      "cell_type": "markdown",
      "metadata": {
        "id": "KGI1QQWH3PTF"
      },
      "source": [
        "IRIS DEL PÚBLICO Los Iris del público en la web Desde el sábado pasado, está disponible en El País Digital el formulario que permite a los lectores elegir a los ganadores de los Premios Iris del Público, que se otorgan por segundo año consecutivo. Los mismos se votan vía Internet y premian a el Mejor Programa de Televisión Nacional, Mejor Banda de Rock Nacional y Mejor Obra de Teatro. Los votos se acumulan durante dos semanas (quedan sólo ocho días para seguir participando) y los ganadores se darán a conocer en la ceremonia de entrega de los Iris, el próximo 20 de mayo en el Salón Flamingo. Los ganadores del año pasado fueron Víctimas y victimarios (Televisión), No Te Va Gustar (Rock) y El método Gronholm (Teatro). `Otras Ediciones`\n"
      ]
    },
    {
      "cell_type": "markdown",
      "metadata": {
        "id": "vee0I4u1d5sB"
      },
      "source": [
        "#### Solucion"
      ]
    },
    {
      "cell_type": "code",
      "execution_count": 84,
      "metadata": {
        "colab": {
          "base_uri": "https://localhost:8080/"
        },
        "id": "jlpCKgvVd8lz",
        "outputId": "b12b7f3c-656e-4e69-d78f-1a6b32b5a3c8"
      },
      "outputs": [
        {
          "name": "stdout",
          "output_type": "stream",
          "text": [
            "3418\n",
            "3418\n",
            "3445\n"
          ]
        }
      ],
      "source": [
        "str_text = auxiliar_full_lines\n",
        "# cantidad de ocurrencias con texto -Otras ediciones-\n",
        "pattern = r\"Otras Ediciones\"\n",
        "results = re.findall(pattern, str_text)\n",
        "print(len(results))\n",
        "\n",
        "# cantidad de ocurrencias con texto  -Otras ediciones- y salto de linea\n",
        "pattern_1 = r\"Otras Ediciones\\n\"\n",
        "results_1 = re.findall(pattern_1, str_text)\n",
        "print(len(results_1))\n",
        "\n",
        "# cantidad de ocurrencias con texto -Otras ediciones-\n",
        "pattern = r\"Otras Ediciones\"\n",
        "results = re.findall(pattern, str_text, re.IGNORECASE)\n",
        "print(len(results))\n",
        "\n",
        "# CONCLUSION\n",
        "# siempre estan al final del texto.\n",
        "# existen casos en minusculas QUE NO DEBO BORRAR."
      ]
    },
    {
      "cell_type": "code",
      "execution_count": 85,
      "metadata": {
        "colab": {
          "base_uri": "https://localhost:8080/"
        },
        "id": "hghWF86ge1-F",
        "outputId": "29448085-0825-4bec-ec05-d9896bf1b53b"
      },
      "outputs": [
        {
          "name": "stdout",
          "output_type": "stream",
          "text": [
            "ANTES:\n",
            "cantidad de ocurrencias: 3418\n",
            "DESPUES:\n",
            "cantidad de ocurrencias: 0\n"
          ]
        }
      ],
      "source": [
        "print(\"ANTES:\")\n",
        "pattern = r\"Otras Ediciones\\n\"\n",
        "results = re.findall(pattern, str_text)\n",
        "print(f'cantidad de ocurrencias: {len(results)}')\n",
        "\n",
        "# analisis de recorrer todo el texto\n",
        "replace_pattern = r\"Otras Ediciones\\n\"\n",
        "total_result = re.sub(replace_pattern, '', str_text)  \n",
        "\n",
        "print(\"DESPUES:\")\n",
        "pattern = r\"Otras Ediciones\\n\"\n",
        "results = re.findall(pattern, total_result)\n",
        "print(f'cantidad de ocurrencias: {len(results)}')\n"
      ]
    },
    {
      "cell_type": "markdown",
      "metadata": {
        "id": "7-CN1Ro31eWm"
      },
      "source": [
        "### String del formato \"| -Lugar- @ |\"\n",
        "\n"
      ]
    },
    {
      "cell_type": "code",
      "execution_count": 86,
      "metadata": {
        "colab": {
          "base_uri": "https://localhost:8080/"
        },
        "id": "85HUSw0roKf-",
        "outputId": "71e4bc7e-5b4a-4868-e0c5-5e43b1728ea8"
      },
      "outputs": [
        {
          "name": "stdout",
          "output_type": "stream",
          "text": [
            "Trampear la voluntad popular José Luis Bringa | Montevideo @| \"Increíblemente los temas y el tiempo para nuestro país no pasan. Todo parece moverse en tiempos pretéritos. Una vez más se intenta por el Frente Amplio modificar una ley (la de Caducidad) que ha tenido por dos veces el respaldo de la gente. Esta vez, según el senador Agazzi, el argumento es que la ciudadanía no estaba lo `suficientemente informada`, cuando en octubre de 2009 el 53% de los votantes no votó la cláusula por la cual se anulaba dicha ley. O según el vicecanciller de la República, Roberto Conde, `si la gente se hubiese ilustrado más, quizá su voto hubiera sido diferente`. Anteriormente, en abril de 1989 la ley de Caducidad fue sometida a referéndum obteniendo el apoyo del 57% de los votantes. En aquel momento se hablaba de temor y de miedo. No debe existir en la historia del país ley con mayor respaldo popular que la ley de Caducidad. El pueblo, el cuerpo electoral haciendo uso de su soberanía en forma libre y directa, se expresó rotunda y elocuentemente. No son demócratas los que no acatan las decisiones del pueblo. Ni la propia dictadura en 1980 desconoció un plebiscito adverso. Por otro lado, la ley de Caducidad hay que entenderla en el marco de lo que fue el Pacto del Club Naval y de una serie de leyes que se votaron para salir de la dictadura e ingresar a la democracia con el menor trauma posible. La ley de restitución de los funcionarios públicos, la ley de amnistía, por la cual se liberaron todos los presos políticos, computando tres días por cada día de prisión, y la ley de amnistía para los presos comunes. Razonando por el absurdo y siguiendo los planteamientos de Agazzi y Conde, podríamos sostener que el pueblo no estaba lo suficientemente `informado e ilustrado` cuando los votó a ellos para gobernar. Pero somos demócratas y acatamos lo que vota la gente. No quieran ustedes interpretar a la gente. Si hubo plebiscitos y referendos donde la gente sabía qué votaba, fueron precisamente éstos, donde lo que estaba en juego no era la caducidad de la pretensión punitiva del Estado, sino la paz del país. Doña María y Don José sabían perfectamente qué se estaba votando. El veredicto popular es sagrado. No nos hagan pasar la vergüenza de vivir en un país donde no se respeta lo que vota la gente\". Un juego peligroso Alejandro Ciasullo | Montevideo @| \"Cada vez que Rafael Michelini abre la boca me asombra. Ahora invita a votar el proyecto de ley interpretativo de la ley de Caducidad a los únicos demócratas del FA, Saravia y Nin Novoa, y que luego se plebiscite. Esto es como hacer trampa al solitario, o este senador cree que la ciudadanía es tonta. ¿Qué pasa si el plebiscito rechaza por tercera vez la ley? ¿Se vuelve todo para atrás? Y si se aprueba, ¿la minoría que pierda puede proponer más plebiscitos y que gane el mejor de tres? Seguir plebiscitando una propuesta ya votada y rechazada, incluso bajo gobierno del FA, me parece una actitud peligrosa. Sepa el ciudadano que los golpes de Estado pueden darse de facto esgrimiendo armas, pero también en forma técnica, atropellando con formalidades y jurisprudencia. Este es el caso, pues obviamente las palabras plebiscito, mayoría y democracia, no figuran en el manual de estadista del FA.\" La muerte del Sr. Kirchner Ricardo González F. | Montevideo @| \"Felicito al Sr. Senador Alfredo Solari por su actitud en el Senado de la República al homenajearse al ex presidente argentino. Ante la muerte de un ser humano, respeto, pero no la inconsecuencia de llegar al homenaje de alguien que en vida, como presidente y como copartícipe del poder posteriormente, procuró llevar por delante a dos presidentes uruguayos de absoluto diferente pensamiento político entre sí. Intentó `patotear` a todos los orientales con sucesivas `bravatas` en todos los foros de su país e internacionales. Promovió a Uruguay un juicio en un tribunal internacional, a sabiendas de la falsedad de sus razones, pero contando que ello era parte del armamento con que avasalló a varios (sobre todo a compatriotas suyos): la prepotencia. Esta aventura kirchnerista en La Haya buen dinero nos costó a todos los uruguayos. Recordemos que también estuvo indudablemente detrás del destrato al presidente de todos los uruguayos a que lo sometió su esposa-sucesora cuando asumió el cargo, destratándonos en consecuencia a todos los uruguayos, hubiéramos votado o no al Dr. Vázquez. Y recordemos aún que incluso hace pocos días, desde Gualeguaychú, continuó con sus diatribas contra nuestra nación. Me pareció correctísimo lo actuado y aplaudo al señor senador Solari. Respeto ante la muerte de un ser humano. Ni nos alegra ni entristece. Pero por más poco diplomático que quede y por mejor y `necesario` que sea llevarse bien con el gobierno argentino, no es con obsecuencias que lograremos los mejores resultados a nuestros intereses. Y si no se concuerda con esa posición, recúrrase a la opinión de quienes deben negociar cualquier cosa con esta Argentina gobernada (ahora, se supone a plenitud) por Cristina F. de K.\". Paros y COFE Vecina indignada | Montevideo @| \"¡Realmente es indignante lo de COFE. ¿Peleando por el mínimo de 6 horas de trabajo? ¡Es de no creer! No necesitan más nada que decir. Claramente se ve que son todos unos vagos, que no quieren trabajar. Que los echen a todos y tomen gente que realmente quiera y necesite trabajar. Están todos muy cómodos. O que los pasen a todos al sector privado, para que sepan lo que es bueno\". OSE y la Ursea Andrés Freire | Canelones @| \"Soy el titular del expediente 296/2009 presentado ante la Ursea en mayo de ese año, luego de gestiones infructuosas ante OSE donde literalmente me tomaron el pelo, ya que vivo en una zona de la ciudad de Progreso donde habitualmente hay baja presión de octubre hasta julio. Esta situación me afecta gravemente porque tengo el baño en la planta alta de mi casa. De la lectura del expediente se desprende que la única responsable es OSE, que desde 1992 no ha realizado las obras requeridas en la zona. Solicité que OSE arregle el problema y mientras tanto me exonere de parte de la tarifa, debido a que se me cobra como si yo tuviera el servicio en forma permanente como cualquier usuario, cosa que no es así. Si mañana yo dejara de pagar, OSE me cortaría el servicio, mientras que ellos escudándose en su propia ineficiencia se arrogan la potestad de cortarme el servicio o dármelo en forma deficitaria cuando se les antoja. Después de más de un año, la Ursea no ha podido obligar a OSE a hacer lo que tiene que hacer. Me han atendido muy amablemente y el expediente ha recorrido todos los pasos, pero se viene otro verano y las soluciones no aparecen. Estoy pues muy disconforme. No tendrían que haber cambiado el directorio de la Ursea; tendrían que haberla eliminado, porque de mi cartita de reclamo se generó un expediente de más de 100 hojas, pero las soluciones no aparecen\". Leonel Viera y El Cilindro Arq. Roberto Falco | Montevideo @| \"Un ícono de la ingeniería nacional y mundial. La idea más brillante que se aportó al hormigón armado en los primeros 50 años del S. XX. No lo digo yo. Lo dijo el Ing. Mario G. Salvadori, Decano de la Columbia University in the City of New York, en un viaje a los Estados Unidos que tuve el privilegio de ir con Leonel Viera en el año 1960. No es el único aporte que realizó Leonel Viera para concretar avances de la ingeniería, pero quedémonos con éste. El proyecto fue motivo de inspiración para la construcción del Madison Square Garden de Nueva York, que se realizó con el mismo procedimiento; el Aeropuerto Dulles en Washington, que no es circular pero tiene un techo colgante en catenaria y otras obras más de envergadura. No conozco las razones por las que colapsó el Cilindro, pero, si para evitar que las goteras afectaran a los espectadores se le colocaban telas colgadas del techo, éstas habrían servido de mortaja para los que, la noche anterior al colapso, asistían a un espectáculo en ese lugar. Para realizar el mantenimiento de algo hay que conocer las causas que puedan afectarlo. Es como si un médico tratara a un paciente de algo que no sabe, lo que le produce la patología, y le hace tratamientos que no inciden sobre la enfermedad. Primero hay que saber cuál es la causa y después actuar. Ya en el año 1958, Leonel Viera advirtió que el mantenimiento de la estructura no era la correcta porque el agua ya estaba corrosionando los hierros. Por lo que he leído en los medios de comunicación, a los técnicos que actuaron y actúan en la problemática, no les he oído advertir del efecto de la `Stress Corrotion`, que como dije antes, ya lo había advertido Viera. ¿No será ésta la causa? ¿Por qué no indagar esta posible patología? Si esto fuera así, ha habido una omisión muy lamentable de quienes actuaron en el mantenimiento durante 54 años. Por suerte no hay que lamentar víctimas humanas, pero sí hay que lamentar el colapso de ese gigante aplaudido en el mundo entero por los técnicos más calificados. Mi homenaje al genio es éste: se produjo un hecho imperdonable, colapsó el Cilindro Municipal. Hay que recuperarlo\". Reserva de pasajes P.G.O. | Montevideo @| \"Desde hace dos años que viajo diariamente desde Maldonado hasta Montevideo utilizando los servicios de la compañía Copsa. Para poder contar con asiento, reservo el mismo vía web desde la página de dicha empresa de transporte. Pero desde hace más de dos semanas que el servicio de reservas no está disponible, no habiendo en la página principal ninguna referencia al problema. El personal de atención al público tampoco tiene noticias de lo que ocurre con dicho servicio, limitándose a responder: `me parece que hay analistas trabajando en el problema`. Quisiera conocer de parte de las autoridades de la empresa una fecha probable de resolución del problema. Como dato anecdótico, recuerdo que luego del gran incendio en el Palacio de la Luz los sistemas informáticos estaban funcionando a los pocos días de ocurrido el tremendo siniestro\". El País Digital No salgas a la calle sin saber de qué se habla...\n",
            "\n"
          ]
        }
      ],
      "source": [
        "print(lines[80883])"
      ]
    },
    {
      "cell_type": "markdown",
      "metadata": {
        "id": "ZF_3Jq-n1eWt"
      },
      "source": [
        "Trampear la voluntad popular José Luis Bringa | `Montevideo @`| \"Increíblemente los temas y el tiempo para nuestro país no pasan. Todo parece moverse en tiempos pretéritos. Una vez más se intenta por el Frente Amplio modificar una ley (la de Caducidad) que ha tenido por dos veces el respaldo de la gente. Esta vez, según el senador Agazzi, el argumento es que la ciudadanía no estaba lo \"suficientemente informada\", cuando en octubre de 2009 el 53% de los votantes no votó la cláusula por la cual se anulaba dicha ley. O según el vicecanciller de la República, Roberto Conde, \"si la gente se hubiese ilustrado más, quizá su voto hubiera sido diferente\". Anteriormente, en abril de 1989 la ley de Caducidad fue sometida a referéndum obteniendo el apoyo del 57% de los votantes. En aquel momento se hablaba de temor y de miedo. No debe existir en la historia del país ley con mayor respaldo popular que la ley de Caducidad. El pueblo, el cuerpo electoral haciendo uso de su soberanía en forma libre y directa, se expresó rotunda y elocuentemente. No son demócratas los que no acatan las decisiones del pueblo. Ni la propia dictadura en 1980 desconoció un plebiscito adverso. Por otro lado, la ley de Caducidad hay que entenderla en el marco de lo que fue el Pacto del Club Naval y de una serie de leyes que se votaron para salir de la dictadura e ingresar a la democracia con el menor trauma posible. La ley de restitución de los funcionarios públicos, la ley de amnistía, por la cual se liberaron todos los presos políticos, computando tres días por cada día de prisión, y la ley de amnistía para los presos comunes. Razonando por el absurdo y siguiendo los planteamientos de Agazzi y Conde, podríamos sostener que el pueblo no estaba lo suficientemente \"informado e ilustrado\" cuando los votó a ellos para gobernar. Pero somos demócratas y acatamos lo que vota la gente. No quieran ustedes interpretar a la gente. Si hubo plebiscitos y referendos donde la gente sabía qué votaba, fueron precisamente éstos, donde lo que estaba en juego no era la caducidad de la pretensión punitiva del Estado, sino la paz del país. Doña María y Don José sabían perfectamente qué se estaba votando. El veredicto popular es sagrado. No nos hagan pasar la vergüenza de vivir en un país donde no se respeta lo que vota la gente\". Un juego peligroso Alejandro Ciasullo `| Montevideo @|` \"Cada vez que Rafael Michelini abre la boca me asombra. Ahora invita a votar el proyecto de ley interpretativo de la ley de Caducidad a los únicos demócratas del FA, Saravia y Nin Novoa, y que luego se plebiscite. Esto es como hacer trampa al solitario, o este senador cree que la ciudadanía es tonta. ¿Qué pasa si el plebiscito rechaza por tercera vez la ley? ¿Se vuelve todo para atrás? Y si se aprueba, ¿la minoría que pierda puede proponer más plebiscitos y que gane el mejor de tres? Seguir plebiscitando una propuesta ya votada y rechazada, incluso bajo gobierno del FA, me parece una actitud peligrosa. Sepa el ciudadano que los golpes de Estado pueden darse de facto esgrimiendo armas, pero también en forma técnica, atropellando con formalidades y jurisprudencia. Este es el caso, pues obviamente las palabras plebiscito, mayoría y democracia, no figuran en el manual de estadista del FA.\" La muerte del Sr. Kirchner Ricardo González F. `| Montevideo @|` \"Felicito al Sr. Senador Alfredo Solari por su actitud en el Senado de la República al homenajearse al ex presidente argentino. Ante la muerte de un ser humano, respeto, pero no la inconsecuencia de llegar al homenaje de alguien que en vida, como presidente y como copartícipe del poder posteriormente, procuró llevar por delante a dos presidentes uruguayos de absoluto diferente pensamiento político entre sí. Intentó \"patotear\" a todos los orientales con sucesivas \"bravatas\" en todos los foros de su país e internacionales. Promovió a Uruguay un juicio en un tribunal internacional, a sabiendas de la falsedad de sus razones, pero contando que ello era parte del armamento con que avasalló a varios (sobre todo a compatriotas suyos): la prepotencia. Esta aventura kirchnerista en La Haya buen dinero nos costó a todos los uruguayos. Recordemos que también estuvo indudablemente detrás del destrato al presidente de todos los uruguayos a que lo sometió su esposa-sucesora cuando asumió el cargo, destratándonos en consecuencia a todos los uruguayos, hubiéramos votado o no al Dr. Vázquez. Y recordemos aún que incluso hace pocos días, desde Gualeguaychú, continuó con sus diatribas contra nuestra nación. Me pareció correctísimo lo actuado y aplaudo al señor senador Solari. Respeto ante la muerte de un ser humano. Ni nos alegra ni entristece. Pero por más poco diplomático que quede y por mejor y \"necesario\" que sea llevarse bien con el gobierno argentino, no es con obsecuencias que lograremos los mejores resultados a nuestros intereses. Y si no se concuerda con esa posición, recúrrase a la opinión de quienes deben negociar cualquier cosa con esta Argentina gobernada (ahora, se supone a plenitud) por Cristina F. de K.\". Paros y COFE Vecina indignada `| Montevideo @|` \"¡Realmente es indignante lo de COFE. ¿Peleando por el mínimo de 6 horas de trabajo? ¡Es de no creer! No necesitan más nada que decir. Claramente se ve que son todos unos vagos, que no quieren trabajar. Que los echen a todos y tomen gente que realmente quiera y necesite trabajar. Están todos muy cómodos. O que los pasen a todos al sector privado, para que sepan lo que es bueno\". OSE y la Ursea Andrés Freire `| Canelones @|` \"Soy el titular del expediente 296/2009 presentado ante la Ursea en mayo de ese año, luego de gestiones infructuosas ante OSE donde literalmente me tomaron el pelo, ya que vivo en una zona de la ciudad de Progreso donde habitualmente hay baja presión de octubre hasta julio. Esta situación me afecta gravemente porque tengo el baño en la planta alta de mi casa. De la lectura del expediente se desprende que la única responsable es OSE, que desde 1992 no ha realizado las obras requeridas en la zona. Solicité que OSE arregle el problema y mientras tanto me exonere de parte de la tarifa, debido a que se me cobra como si yo tuviera el servicio en forma permanente como cualquier usuario, cosa que no es así. Si mañana yo dejara de pagar, OSE me cortaría el servicio, mientras que ellos escudándose en su propia ineficiencia se arrogan la potestad de cortarme el servicio o dármelo en forma deficitaria cuando se les antoja. Después de más de un año, la Ursea no ha podido obligar a OSE a hacer lo que tiene que hacer. Me han atendido muy amablemente y el expediente ha recorrido todos los pasos, pero se viene otro verano y las soluciones no aparecen. Estoy pues muy disconforme. No tendrían que haber cambiado el directorio de la Ursea; tendrían que haberla eliminado, porque de mi cartita de reclamo se generó un expediente de más de 100 hojas, pero las soluciones no aparecen\". Leonel Viera y El Cilindro Arq. Roberto Falco *`| Montevideo @|`* \"Un ícono de la ingeniería nacional y mundial. La idea más brillante que se aportó al hormigón armado en los primeros 50 años del S. XX. No lo digo yo. Lo dijo el Ing. Mario G. Salvadori, Decano de la Columbia University in the City of New York, en un viaje a los Estados Unidos que tuve el privilegio de ir con Leonel Viera en el año 1960. No es el único aporte que realizó Leonel Viera para concretar avances de la ingeniería, pero quedémonos con éste. El proyecto fue motivo de inspiración para la construcción del Madison Square Garden de Nueva York, que se realizó con el mismo procedimiento; el Aeropuerto Dulles en Washington, que no es circular pero tiene un techo colgante en catenaria y otras obras más de envergadura. No conozco las razones por las que colapsó el Cilindro, pero, si para evitar que las goteras afectaran a los espectadores se le colocaban telas colgadas del techo, éstas habrían servido de mortaja para los que, la noche anterior al colapso, asistían a un espectáculo en ese lugar. Para realizar el mantenimiento de algo hay que conocer las causas que puedan afectarlo. Es como si un médico tratara a un paciente de algo que no sabe, lo que le produce la patología, y le hace tratamientos que no inciden sobre la enfermedad. Primero hay que saber cuál es la causa y después actuar. Ya en el año 1958, Leonel Viera advirtió que el mantenimiento de la estructura no era la correcta porque el agua ya estaba corrosionando los hierros. Por lo que he leído en los medios de comunicación, a los técnicos que actuaron y actúan en la problemática, no les he oído advertir del efecto de la \"Stress Corrotion\", que como dije antes, ya lo había advertido Viera. ¿No será ésta la causa? ¿Por qué no indagar esta posible patología? Si esto fuera así, ha habido una omisión muy lamentable de quienes actuaron en el mantenimiento durante 54 años. Por suerte no hay que lamentar víctimas humanas, pero sí hay que lamentar el colapso de ese gigante aplaudido en el mundo entero por los técnicos más calificados. Mi homenaje al genio es éste: se produjo un hecho imperdonable, colapsó el Cilindro Municipal. Hay que recuperarlo\". Reserva de pasajes P.G.O. `| Montevideo @|` \"Desde hace dos años que viajo diariamente desde Maldonado hasta Montevideo utilizando los servicios de la compañía Copsa. Para poder contar con asiento, reservo el mismo vía web desde la página de dicha empresa de transporte. Pero desde hace más de dos semanas que el servicio de reservas no está disponible, no habiendo en la página principal ninguna referencia al problema. El personal de atención al público tampoco tiene noticias de lo que ocurre con dicho servicio, limitándose a responder: \"me parece que hay analistas trabajando en el problema\". Quisiera conocer de parte de las autoridades de la empresa una fecha probable de resolución del problema. Como dato anecdótico, recuerdo que luego del gran incendio en el Palacio de la Luz los sistemas informáticos estaban funcionando a los pocos días de ocurrido el tremendo siniestro\". El País Digital No salgas a la calle sin saber de qué se habla...\n"
      ]
    },
    {
      "cell_type": "code",
      "execution_count": 87,
      "metadata": {
        "colab": {
          "base_uri": "https://localhost:8080/"
        },
        "id": "rXa5Lnla1eWt",
        "outputId": "2c966b6b-bafb-471c-f357-d437ffa5ffcd"
      },
      "outputs": [
        {
          "name": "stdout",
          "output_type": "stream",
          "text": [
            "Trampear la voluntad popular José Luis Bringa | Montevideo @| \"Increíblemente los temas y el tiempo para nuestro país no pasan. Todo parece moverse en tiempos pretéritos. Una vez más se intenta por el Frente Amplio modificar una ley (la de Caducidad) que ha tenido por dos veces el respaldo de la gente. Esta vez, según el senador Agazzi, el argumento es que la ciudadanía no estaba lo `suficientemente informada`, cuando en octubre de 2009 el 53% de los votantes no votó la cláusula por la cual se anulaba dicha ley. O según el vicecanciller de la República, Roberto Conde, `si la gente se hubiese ilustrado más, quizá su voto hubiera sido diferente`. Anteriormente, en abril de 1989 la ley de Caducidad fue sometida a referéndum obteniendo el apoyo del 57% de los votantes. En aquel momento se hablaba de temor y de miedo. No debe existir en la historia del país ley con mayor respaldo popular que la ley de Caducidad. El pueblo, el cuerpo electoral haciendo uso de su soberanía en forma libre y directa, se expresó rotunda y elocuentemente. No son demócratas los que no acatan las decisiones del pueblo. Ni la propia dictadura en 1980 desconoció un plebiscito adverso. Por otro lado, la ley de Caducidad hay que entenderla en el marco de lo que fue el Pacto del Club Naval y de una serie de leyes que se votaron para salir de la dictadura e ingresar a la democracia con el menor trauma posible. La ley de restitución de los funcionarios públicos, la ley de amnistía, por la cual se liberaron todos los presos políticos, computando tres días por cada día de prisión, y la ley de amnistía para los presos comunes. Razonando por el absurdo y siguiendo los planteamientos de Agazzi y Conde, podríamos sostener que el pueblo no estaba lo suficientemente `informado e ilustrado` cuando los votó a ellos para gobernar. Pero somos demócratas y acatamos lo que vota la gente. No quieran ustedes interpretar a la gente. Si hubo plebiscitos y referendos donde la gente sabía qué votaba, fueron precisamente éstos, donde lo que estaba en juego no era la caducidad de la pretensión punitiva del Estado, sino la paz del país. Doña María y Don José sabían perfectamente qué se estaba votando. El veredicto popular es sagrado. No nos hagan pasar la vergüenza de vivir en un país donde no se respeta lo que vota la gente\". Un juego peligroso Alejandro Ciasullo | Montevideo @| \"Cada vez que Rafael Michelini abre la boca me asombra. Ahora invita a votar el proyecto de ley interpretativo de la ley de Caducidad a los únicos demócratas del FA, Saravia y Nin Novoa, y que luego se plebiscite. Esto es como hacer trampa al solitario, o este senador cree que la ciudadanía es tonta. ¿Qué pasa si el plebiscito rechaza por tercera vez la ley? ¿Se vuelve todo para atrás? Y si se aprueba, ¿la minoría que pierda puede proponer más plebiscitos y que gane el mejor de tres? Seguir plebiscitando una propuesta ya votada y rechazada, incluso bajo gobierno del FA, me parece una actitud peligrosa. Sepa el ciudadano que los golpes de Estado pueden darse de facto esgrimiendo armas, pero también en forma técnica, atropellando con formalidades y jurisprudencia. Este es el caso, pues obviamente las palabras plebiscito, mayoría y democracia, no figuran en el manual de estadista del FA.\" La muerte del Sr. Kirchner Ricardo González F. | Montevideo @| \"Felicito al Sr. Senador Alfredo Solari por su actitud en el Senado de la República al homenajearse al ex presidente argentino. Ante la muerte de un ser humano, respeto, pero no la inconsecuencia de llegar al homenaje de alguien que en vida, como presidente y como copartícipe del poder posteriormente, procuró llevar por delante a dos presidentes uruguayos de absoluto diferente pensamiento político entre sí. Intentó `patotear` a todos los orientales con sucesivas `bravatas` en todos los foros de su país e internacionales. Promovió a Uruguay un juicio en un tribunal internacional, a sabiendas de la falsedad de sus razones, pero contando que ello era parte del armamento con que avasalló a varios (sobre todo a compatriotas suyos): la prepotencia. Esta aventura kirchnerista en La Haya buen dinero nos costó a todos los uruguayos. Recordemos que también estuvo indudablemente detrás del destrato al presidente de todos los uruguayos a que lo sometió su esposa-sucesora cuando asumió el cargo, destratándonos en consecuencia a todos los uruguayos, hubiéramos votado o no al Dr. Vázquez. Y recordemos aún que incluso hace pocos días, desde Gualeguaychú, continuó con sus diatribas contra nuestra nación. Me pareció correctísimo lo actuado y aplaudo al señor senador Solari. Respeto ante la muerte de un ser humano. Ni nos alegra ni entristece. Pero por más poco diplomático que quede y por mejor y `necesario` que sea llevarse bien con el gobierno argentino, no es con obsecuencias que lograremos los mejores resultados a nuestros intereses. Y si no se concuerda con esa posición, recúrrase a la opinión de quienes deben negociar cualquier cosa con esta Argentina gobernada (ahora, se supone a plenitud) por Cristina F. de K.\". Paros y COFE Vecina indignada | Montevideo @| \"¡Realmente es indignante lo de COFE. ¿Peleando por el mínimo de 6 horas de trabajo? ¡Es de no creer! No necesitan más nada que decir. Claramente se ve que son todos unos vagos, que no quieren trabajar. Que los echen a todos y tomen gente que realmente quiera y necesite trabajar. Están todos muy cómodos. O que los pasen a todos al sector privado, para que sepan lo que es bueno\". OSE y la Ursea Andrés Freire | Canelones @| \"Soy el titular del expediente 296/2009 presentado ante la Ursea en mayo de ese año, luego de gestiones infructuosas ante OSE donde literalmente me tomaron el pelo, ya que vivo en una zona de la ciudad de Progreso donde habitualmente hay baja presión de octubre hasta julio. Esta situación me afecta gravemente porque tengo el baño en la planta alta de mi casa. De la lectura del expediente se desprende que la única responsable es OSE, que desde 1992 no ha realizado las obras requeridas en la zona. Solicité que OSE arregle el problema y mientras tanto me exonere de parte de la tarifa, debido a que se me cobra como si yo tuviera el servicio en forma permanente como cualquier usuario, cosa que no es así. Si mañana yo dejara de pagar, OSE me cortaría el servicio, mientras que ellos escudándose en su propia ineficiencia se arrogan la potestad de cortarme el servicio o dármelo en forma deficitaria cuando se les antoja. Después de más de un año, la Ursea no ha podido obligar a OSE a hacer lo que tiene que hacer. Me han atendido muy amablemente y el expediente ha recorrido todos los pasos, pero se viene otro verano y las soluciones no aparecen. Estoy pues muy disconforme. No tendrían que haber cambiado el directorio de la Ursea; tendrían que haberla eliminado, porque de mi cartita de reclamo se generó un expediente de más de 100 hojas, pero las soluciones no aparecen\". Leonel Viera y El Cilindro Arq. Roberto Falco | Montevideo @| \"Un ícono de la ingeniería nacional y mundial. La idea más brillante que se aportó al hormigón armado en los primeros 50 años del S. XX. No lo digo yo. Lo dijo el Ing. Mario G. Salvadori, Decano de la Columbia University in the City of New York, en un viaje a los Estados Unidos que tuve el privilegio de ir con Leonel Viera en el año 1960. No es el único aporte que realizó Leonel Viera para concretar avances de la ingeniería, pero quedémonos con éste. El proyecto fue motivo de inspiración para la construcción del Madison Square Garden de Nueva York, que se realizó con el mismo procedimiento; el Aeropuerto Dulles en Washington, que no es circular pero tiene un techo colgante en catenaria y otras obras más de envergadura. No conozco las razones por las que colapsó el Cilindro, pero, si para evitar que las goteras afectaran a los espectadores se le colocaban telas colgadas del techo, éstas habrían servido de mortaja para los que, la noche anterior al colapso, asistían a un espectáculo en ese lugar. Para realizar el mantenimiento de algo hay que conocer las causas que puedan afectarlo. Es como si un médico tratara a un paciente de algo que no sabe, lo que le produce la patología, y le hace tratamientos que no inciden sobre la enfermedad. Primero hay que saber cuál es la causa y después actuar. Ya en el año 1958, Leonel Viera advirtió que el mantenimiento de la estructura no era la correcta porque el agua ya estaba corrosionando los hierros. Por lo que he leído en los medios de comunicación, a los técnicos que actuaron y actúan en la problemática, no les he oído advertir del efecto de la `Stress Corrotion`, que como dije antes, ya lo había advertido Viera. ¿No será ésta la causa? ¿Por qué no indagar esta posible patología? Si esto fuera así, ha habido una omisión muy lamentable de quienes actuaron en el mantenimiento durante 54 años. Por suerte no hay que lamentar víctimas humanas, pero sí hay que lamentar el colapso de ese gigante aplaudido en el mundo entero por los técnicos más calificados. Mi homenaje al genio es éste: se produjo un hecho imperdonable, colapsó el Cilindro Municipal. Hay que recuperarlo\". Reserva de pasajes P.G.O. | Montevideo @| \"Desde hace dos años que viajo diariamente desde Maldonado hasta Montevideo utilizando los servicios de la compañía Copsa. Para poder contar con asiento, reservo el mismo vía web desde la página de dicha empresa de transporte. Pero desde hace más de dos semanas que el servicio de reservas no está disponible, no habiendo en la página principal ninguna referencia al problema. El personal de atención al público tampoco tiene noticias de lo que ocurre con dicho servicio, limitándose a responder: `me parece que hay analistas trabajando en el problema`. Quisiera conocer de parte de las autoridades de la empresa una fecha probable de resolución del problema. Como dato anecdótico, recuerdo que luego del gran incendio en el Palacio de la Luz los sistemas informáticos estaban funcionando a los pocos días de ocurrido el tremendo siniestro\". El País Digital No salgas a la calle sin saber de qué se habla...\n",
            "\n"
          ]
        }
      ],
      "source": [
        "print(lines[80883])"
      ]
    },
    {
      "cell_type": "markdown",
      "metadata": {
        "id": "12xm59-mlBw_"
      },
      "source": [
        "##### Solucion"
      ]
    },
    {
      "cell_type": "code",
      "execution_count": 88,
      "metadata": {
        "colab": {
          "base_uri": "https://localhost:8080/"
        },
        "id": "P-MogekklBfO",
        "outputId": "d8467cde-718d-4e90-c29d-33f8de0ef3c7"
      },
      "outputs": [
        {
          "name": "stdout",
          "output_type": "stream",
          "text": [
            "4592\n",
            "49\n",
            "| Tacuarembó @|\n",
            "| Salto @|\n",
            "| Maldonado (|\n",
            "| Perú @|\n",
            "| Florida @|\n",
            "| Suiza @|\n",
            "| Rocha *|\n",
            "| Panamá @|\n",
            "| Montevideo *|\n",
            "| Argentina @|\n",
            "| Antel @|\n",
            "| Agentina @|\n",
            "| México @|\n",
            "| Colonia @|\n",
            "| Francia @|\n",
            "| Alemania @|\n",
            "| Maldonado @|\n",
            "| Soriano *|\n",
            "| Brasil @|\n",
            "| Australia @|\n",
            "| Canadá @|\n",
            "| España @|\n",
            "| Colonia *|\n",
            "| Venezuela @|\n",
            "| LATU @|\n",
            "| Rivera @|\n",
            "| Ecqus @|\n",
            "| Montevideo (|\n",
            "| BPS @|\n",
            "| Lavalleja @|\n",
            "| Copsa @|\n",
            "| Israel @|\n",
            "| Diputado *|\n",
            "| Artigas @|\n",
            "| Flores @|\n",
            "| Canelones *|\n",
            "| Pocitos @|\n",
            "| BID @|\n",
            "| Durazno @|\n",
            "| Chile @|\n",
            "| Canelones @|\n",
            "| Lavalleja *|\n",
            "| Rocha @|\n",
            "| Paysandú *|\n",
            "| Montevideo @|\n",
            "| Presidente @|\n",
            "| Paysandú @|\n",
            "| Soriano @|\n",
            "| Maldonado *|\n"
          ]
        }
      ],
      "source": [
        "str_text = auxiliar_full_lines\n",
        "# cantidad de ocurrencias con texto entre | | - (con cierto formato)\n",
        "pattern = r\"\\| \\w*? .\\|\"\n",
        "results = re.findall(pattern, str_text)\n",
        "print(len(results))\n",
        "print(len(set(results)))\n",
        "for example in set(results):\n",
        "  print(example)\n"
      ]
    },
    {
      "cell_type": "code",
      "execution_count": 89,
      "metadata": {
        "colab": {
          "base_uri": "https://localhost:8080/"
        },
        "id": "-4JSkkiymBuP",
        "outputId": "c0649ce7-c37e-438f-d4c0-100faeb9cb97"
      },
      "outputs": [
        {
          "name": "stdout",
          "output_type": "stream",
          "text": [
            "5959\n",
            "84\n",
            "| Recomendado |\n",
            "| Salto @|\n",
            "| Suiza @|\n",
            "| Rocha *|\n",
            "| Argentina @|\n",
            "| insertar |\n",
            "| Alemania @|\n",
            "| Soriano *|\n",
            "| Gamexán |\n",
            "| Australia @|\n",
            "| Colonia |\n",
            "| Corresponsal |\n",
            "| Actor |\n",
            "| Diputado *|\n",
            "| Flores @|\n",
            "| Canelones *|\n",
            "| Videojuegos |\n",
            "| Presidente @|\n",
            "| Paysandú @|\n",
            "| peñarol |\n",
            "| ESTEIO |\n",
            "| cancelar |\n",
            "| cable |\n",
            "| Agentina @|\n",
            "| Francia @|\n",
            "| cantando |\n",
            "| Brasil @|\n",
            "| Venezuela @|\n",
            "| Canadá @|\n",
            "| LATU @|\n",
            "| Colonia *|\n",
            "| gargano |\n",
            "| ARTIGAS |\n",
            "| Israel @|\n",
            "| Pocitos @|\n",
            "| Marte |\n",
            "| Opinión |\n",
            "| Televisión |\n",
            "| aceptacion |\n",
            "| Soriano @|\n",
            "| Canelones |\n",
            "| Tacuarembó @|\n",
            "| Florida @|\n",
            "| adaptaciones |\n",
            "| todos |\n",
            "| Antel @|\n",
            "| México @|\n",
            "| España @|\n",
            "| Titán |\n",
            "| Ecqus @|\n",
            "| Lavalleja @|\n",
            "| formulario |\n",
            "| xvi |\n",
            "| ingresar |\n",
            "| BID @|\n",
            "| AFP |\n",
            "| Lavalleja *|\n",
            "| Canelones @|\n",
            "| Rocha @|\n",
            "| Maldonado (|\n",
            "| Perú @|\n",
            "| Panamá @|\n",
            "| Montevideo *|\n",
            "| futuro |\n",
            "| Colonia @|\n",
            "| Maldonado @|\n",
            "| Rivera @|\n",
            "| Montevideo (|\n",
            "| CORRESPONSAL |\n",
            "| VJ |\n",
            "| BPS @|\n",
            "| Copsa @|\n",
            "| Artigas @|\n",
            "| estrategia |\n",
            "| Montevideo |\n",
            "| Durazno @|\n",
            "| Chile @|\n",
            "| ENVIADO |\n",
            "| pases |\n",
            "| Paysandú *|\n",
            "| Montevideo @|\n",
            "| reglamento |\n",
            "| CORRESPONSA |\n",
            "| Maldonado *|\n"
          ]
        }
      ],
      "source": [
        "str_text = auxiliar_full_lines\n",
        "\n",
        "pattern = r\"\\| \\w*? .?\\|\"\n",
        "results = re.findall(pattern, str_text)\n",
        "print(len(results))\n",
        "print(len(set(results)))\n",
        "for example in set(results):\n",
        "  print(example)\n",
        "\n",
        "\n",
        "# CONCLUSION\n",
        "# tengo que eliminar todo esto\n"
      ]
    },
    {
      "cell_type": "code",
      "execution_count": 90,
      "metadata": {
        "colab": {
          "base_uri": "https://localhost:8080/"
        },
        "id": "faWwCrz9nP8T",
        "outputId": "01387ee6-6ed8-4048-d3bb-c2920261beb6"
      },
      "outputs": [
        {
          "name": "stdout",
          "output_type": "stream",
          "text": [
            "ANTES:\n",
            "cantidad de ocurrencias: 5959\n",
            "DESPUES:\n",
            "cantidad de ocurrencias: 0\n"
          ]
        }
      ],
      "source": [
        "print(\"ANTES:\")\n",
        "pattern = r\"\\| \\w*? .?\\|\"\n",
        "results = re.findall(pattern, str_text)\n",
        "print(f'cantidad de ocurrencias: {len(results)}')\n",
        "\n",
        "# analisis de recorrer todo el texto\n",
        "replace_pattern = r\"\\| \\w*? .?\\|\"\n",
        "total_result = re.sub(replace_pattern, '', str_text)  \n",
        "\n",
        "print(\"DESPUES:\")\n",
        "pattern = r\"\\| \\w*? .?\\|\"\n",
        "results = re.findall(pattern, total_result)\n",
        "print(f'cantidad de ocurrencias: {len(results)}')\n"
      ]
    },
    {
      "cell_type": "code",
      "execution_count": 91,
      "metadata": {
        "colab": {
          "base_uri": "https://localhost:8080/"
        },
        "id": "jPmKrDc6oX35",
        "outputId": "5aa67507-2288-43a9-8955-de6a6ec3a720"
      },
      "outputs": [
        {
          "name": "stdout",
          "output_type": "stream",
          "text": [
            "Trampear la voluntad popular José Luis Bringa  \"Increíblemente los temas y el tiempo para nuestro país no pasan. Todo parece moverse en tiempos pretéritos. Una vez más se intenta por el Frente Amplio modificar una ley (la de Caducidad) que ha tenido por dos veces el respaldo de la gente. Esta vez, según el senador Agazzi, el argumento es que la ciudadanía no estaba lo `suficientemente informada`, cuando en octubre de 2009 el 53% de los votantes no votó la cláusula por la cual se anulaba dicha ley. O según el vicecanciller de la República, Roberto Conde, `si la gente se hubiese ilustrado más, quizá su voto hubiera sido diferente`. Anteriormente, en abril de 1989 la ley de Caducidad fue sometida a referéndum obteniendo el apoyo del 57% de los votantes. En aquel momento se hablaba de temor y de miedo. No debe existir en la historia del país ley con mayor respaldo popular que la ley de Caducidad. El pueblo, el cuerpo electoral haciendo uso de su soberanía en forma libre y directa, se expresó rotunda y elocuentemente. No son demócratas los que no acatan las decisiones del pueblo. Ni la propia dictadura en 1980 desconoció un plebiscito adverso. Por otro lado, la ley de Caducidad hay que entenderla en el marco de lo que fue el Pacto del Club Naval y de una serie de leyes que se votaron para salir de la dictadura e ingresar a la democracia con el menor trauma posible. La ley de restitución de los funcionarios públicos, la ley de amnistía, por la cual se liberaron todos los presos políticos, computando tres días por cada día de prisión, y la ley de amnistía para los presos comunes. Razonando por el absurdo y siguiendo los planteamientos de Agazzi y Conde, podríamos sostener que el pueblo no estaba lo suficientemente `informado e ilustrado` cuando los votó a ellos para gobernar. Pero somos demócratas y acatamos lo que vota la gente. No quieran ustedes interpretar a la gente. Si hubo plebiscitos y referendos donde la gente sabía qué votaba, fueron precisamente éstos, donde lo que estaba en juego no era la caducidad de la pretensión punitiva del Estado, sino la paz del país. Doña María y Don José sabían perfectamente qué se estaba votando. El veredicto popular es sagrado. No nos hagan pasar la vergüenza de vivir en un país donde no se respeta lo que vota la gente\". Un juego peligroso Alejandro Ciasullo  \"Cada vez que Rafael Michelini abre la boca me asombra. Ahora invita a votar el proyecto de ley interpretativo de la ley de Caducidad a los únicos demócratas del FA, Saravia y Nin Novoa, y que luego se plebiscite. Esto es como hacer trampa al solitario, o este senador cree que la ciudadanía es tonta. ¿Qué pasa si el plebiscito rechaza por tercera vez la ley? ¿Se vuelve todo para atrás? Y si se aprueba, ¿la minoría que pierda puede proponer más plebiscitos y que gane el mejor de tres? Seguir plebiscitando una propuesta ya votada y rechazada, incluso bajo gobierno del FA, me parece una actitud peligrosa. Sepa el ciudadano que los golpes de Estado pueden darse de facto esgrimiendo armas, pero también en forma técnica, atropellando con formalidades y jurisprudencia. Este es el caso, pues obviamente las palabras plebiscito, mayoría y democracia, no figuran en el manual de estadista del FA.\" La muerte del Sr. Kirchner Ricardo González F.  \"Felicito al Sr. Senador Alfredo Solari por su actitud en el Senado de la República al homenajearse al ex presidente argentino. Ante la muerte de un ser humano, respeto, pero no la inconsecuencia de llegar al homenaje de alguien que en vida, como presidente y como copartícipe del poder posteriormente, procuró llevar por delante a dos presidentes uruguayos de absoluto diferente pensamiento político entre sí. Intentó `patotear` a todos los orientales con sucesivas `bravatas` en todos los foros de su país e internacionales. Promovió a Uruguay un juicio en un tribunal internacional, a sabiendas de la falsedad de sus razones, pero contando que ello era parte del armamento con que avasalló a varios (sobre todo a compatriotas suyos): la prepotencia. Esta aventura kirchnerista en La Haya buen dinero nos costó a todos los uruguayos. Recordemos que también estuvo indudablemente detrás del destrato al presidente de todos los uruguayos a que lo sometió su esposa-sucesora cuando asumió el cargo, destratándonos en consecuencia a todos los uruguayos, hubiéramos votado o no al Dr. Vázquez. Y recordemos aún que incluso hace pocos días, desde Gualeguaychú, continuó con sus diatribas contra nuestra nación. Me pareció correctísimo lo actuado y aplaudo al señor senador Solari. Respeto ante la muerte de un ser humano. Ni nos alegra ni entristece. Pero por más poco diplomático que quede y por mejor y `necesario` que sea llevarse bien con el gobierno argentino, no es con obsecuencias que lograremos los mejores resultados a nuestros intereses. Y si no se concuerda con esa posición, recúrrase a la opinión de quienes deben negociar cualquier cosa con esta Argentina gobernada (ahora, se supone a plenitud) por Cristina F. de K.\". Paros y COFE Vecina indignada  \"¡Realmente es indignante lo de COFE. ¿Peleando por el mínimo de 6 horas de trabajo? ¡Es de no creer! No necesitan más nada que decir. Claramente se ve que son todos unos vagos, que no quieren trabajar. Que los echen a todos y tomen gente que realmente quiera y necesite trabajar. Están todos muy cómodos. O que los pasen a todos al sector privado, para que sepan lo que es bueno\". OSE y la Ursea Andrés Freire  \"Soy el titular del expediente 296/2009 presentado ante la Ursea en mayo de ese año, luego de gestiones infructuosas ante OSE donde literalmente me tomaron el pelo, ya que vivo en una zona de la ciudad de Progreso donde habitualmente hay baja presión de octubre hasta julio. Esta situación me afecta gravemente porque tengo el baño en la planta alta de mi casa. De la lectura del expediente se desprende que la única responsable es OSE, que desde 1992 no ha realizado las obras requeridas en la zona. Solicité que OSE arregle el problema y mientras tanto me exonere de parte de la tarifa, debido a que se me cobra como si yo tuviera el servicio en forma permanente como cualquier usuario, cosa que no es así. Si mañana yo dejara de pagar, OSE me cortaría el servicio, mientras que ellos escudándose en su propia ineficiencia se arrogan la potestad de cortarme el servicio o dármelo en forma deficitaria cuando se les antoja. Después de más de un año, la Ursea no ha podido obligar a OSE a hacer lo que tiene que hacer. Me han atendido muy amablemente y el expediente ha recorrido todos los pasos, pero se viene otro verano y las soluciones no aparecen. Estoy pues muy disconforme. No tendrían que haber cambiado el directorio de la Ursea; tendrían que haberla eliminado, porque de mi cartita de reclamo se generó un expediente de más de 100 hojas, pero las soluciones no aparecen\". Leonel Viera y El Cilindro Arq. Roberto Falco  \"Un ícono de la ingeniería nacional y mundial. La idea más brillante que se aportó al hormigón armado en los primeros 50 años del S. XX. No lo digo yo. Lo dijo el Ing. Mario G. Salvadori, Decano de la Columbia University in the City of New York, en un viaje a los Estados Unidos que tuve el privilegio de ir con Leonel Viera en el año 1960. No es el único aporte que realizó Leonel Viera para concretar avances de la ingeniería, pero quedémonos con éste. El proyecto fue motivo de inspiración para la construcción del Madison Square Garden de Nueva York, que se realizó con el mismo procedimiento; el Aeropuerto Dulles en Washington, que no es circular pero tiene un techo colgante en catenaria y otras obras más de envergadura. No conozco las razones por las que colapsó el Cilindro, pero, si para evitar que las goteras afectaran a los espectadores se le colocaban telas colgadas del techo, éstas habrían servido de mortaja para los que, la noche anterior al colapso, asistían a un espectáculo en ese lugar. Para realizar el mantenimiento de algo hay que conocer las causas que puedan afectarlo. Es como si un médico tratara a un paciente de algo que no sabe, lo que le produce la patología, y le hace tratamientos que no inciden sobre la enfermedad. Primero hay que saber cuál es la causa y después actuar. Ya en el año 1958, Leonel Viera advirtió que el mantenimiento de la estructura no era la correcta porque el agua ya estaba corrosionando los hierros. Por lo que he leído en los medios de comunicación, a los técnicos que actuaron y actúan en la problemática, no les he oído advertir del efecto de la `Stress Corrotion`, que como dije antes, ya lo había advertido Viera. ¿No será ésta la causa? ¿Por qué no indagar esta posible patología? Si esto fuera así, ha habido una omisión muy lamentable de quienes actuaron en el mantenimiento durante 54 años. Por suerte no hay que lamentar víctimas humanas, pero sí hay que lamentar el colapso de ese gigante aplaudido en el mundo entero por los técnicos más calificados. Mi homenaje al genio es éste: se produjo un hecho imperdonable, colapsó el Cilindro Municipal. Hay que recuperarlo\". Reserva de pasajes P.G.O.  \"Desde hace dos años que viajo diariamente desde Maldonado hasta Montevideo utilizando los servicios de la compañía Copsa. Para poder contar con asiento, reservo el mismo vía web desde la página de dicha empresa de transporte. Pero desde hace más de dos semanas que el servicio de reservas no está disponible, no habiendo en la página principal ninguna referencia al problema. El personal de atención al público tampoco tiene noticias de lo que ocurre con dicho servicio, limitándose a responder: `me parece que hay analistas trabajando en el problema`. Quisiera conocer de parte de las autoridades de la empresa una fecha probable de resolución del problema. Como dato anecdótico, recuerdo que luego del gran incendio en el Palacio de la Luz los sistemas informáticos estaban funcionando a los pocos días de ocurrido el tremendo siniestro\". El País Digital No salgas a la calle sin saber de qué se habla...\n",
            "\n"
          ]
        }
      ],
      "source": [
        "\n",
        "replace_pattern = r\"\\| \\w*? .?\\|\"\n",
        "total_result = re.sub(replace_pattern, '', lines[80883])  \n",
        "\n",
        "print(total_result)"
      ]
    },
    {
      "cell_type": "markdown",
      "metadata": {
        "id": "4h64FU3rm9TV"
      },
      "source": [
        "#### UPDATE: Tengo que seguir revisando casos entre | pipes |"
      ]
    },
    {
      "cell_type": "markdown",
      "metadata": {
        "id": "E4zb1FtX0sv3"
      },
      "source": [
        "### String \"El País Digital\" al final\n"
      ]
    },
    {
      "cell_type": "code",
      "execution_count": 92,
      "metadata": {
        "colab": {
          "base_uri": "https://localhost:8080/"
        },
        "id": "mKoKRvU20swA",
        "outputId": "b737d5c2-33cf-45c0-faa3-42891ee5a9ab"
      },
      "outputs": [
        {
          "name": "stdout",
          "output_type": "stream",
          "text": [
            "Todos los murguistas del presidente ¿Te interesa esta noticia?   | Pablo Melgar Los sectores más enfrentados con el gobierno son los más castigados en el carnaval. Adeom, COFE, los anestesistas y la oposición, son el blanco predilecto para las críticas de las murgas más populares, que admiten sin ruborizarse que son oficialistas. El olfato de los letristas de las murgas indica que los conflictos sindicales y el Mundial de Fútbol fueron los temas centrales de 2010. Dentro de los gremios, Adeom se lleva todas las menciones, pero también hay espacio para COFE y AEBU. Tres sindicatos que se enfrentaron con el gobierno. Sin embargo, los partidos de oposición y el reclamo de la anulación de la ley de Caducidad son un refugio ineludible para la mayoría de los conjuntos. Otro tema al que todas las murgas le dedican buena parte del espectáculo son los casos de corrupción en la Armada. Anestesistas y escribanos y sus respectivos conflictos con el gobierno también son tema para las murgas que le dedican mucho espacio y críticas. La batalla interna en el Frente Amplio y el Pit-Cnt es tocada por varios conjuntos, que en todos los casos les aconsejan \"defender la unidad\" para que \"no los coman los de afuera\". El abogado Gonzalo Fernández, ex secretario de Presidencia y ex ministro del gobierno de Tabaré Vázquez, también es fustigado por el caso que dejó sin antecedentes penales a los hermanos Peirano Basso. Abandono. Agarrate Catalina, la murga que realizó el jingle de la campaña del presidente José Mujica, comienza su espectáculo ironizando sobre su abandono al primer mandatario. Sin profundizar demasiado, en la primera parte del espec-táculo hacen una rápida mirada por los personajes del mundo sindical. Hay referencias a Juan Castillo, Pablo Cabrera, José Lorenzo López y los dirigentes de Adeom y AEBU. La Catalina, varias veces ganadora del certamen, provocó polémica este año por un cuplé dedicado a la violencia. \"Yo soy el terror de la sociedad / el plan perfecto que ha salido mal / vengo del basurero que el sistema dejó al costado / las leyes del mercado me convirtieron en funcional / soy un montón de mierda brotando de las alcantarillas / soy una pesadilla de la que no vas a despertar\", dice la letra, una de las más aplaudidas en el Teatro de Verano. Danilo. La murga Falta y Resto, una de las más populares del carnaval, apostaba fuerte a su cuplé \"Juancito atrás del mostrador\", una crítica a quienes llegan a un sitio de privilegio y se olvidan de sus amigos. Para quienes lo vieron se trata de una feroz crítica al gobierno. Sin embargo, el 1° de febrero, día de la presentación frente al jurado en el Teatro de Verano, la pieza no apareció en el espectáculo. Los comentarios de la hinchada no se hicieron esperar. Muchos de los seguidores de la murga especularon con que la posible presencia en las gradas del vicepresidente Danilo Astori, un hincha histórico de La Falta, inhibió a los componentes del conjunto que finalmente resolvieron no presentar el cuplé. Ese día también resolvieron excluir el cuplé llamado \"Bruno Díaz\", que habían presentado en la prueba de admisión, lo que les costó una sanción. Quienes vieron la presentación completa del espectáculo en otros tablados, narraron a El País que \"Juancito atrás del mostrador\" narra la historia de un grupo de amigos que se reunían habitualmente en un bar hasta que uno de ellos, Juan, tiene la posibilidad de comprar el comercio. Cuando Juan pasa al otro lado del mostrador ve la realidad de otra forma y comienza a actuar diferente frente a sus amigos. La anécdota es utilizada por la murga para criticar, sin nombrarlos, a los distintos actores de gobierno que hasta no hace mucho eran simples dirigentes políticos. Para Hugo Brocos, letrista y fundador junto a Raúl Castro de Falta y Resto, el cuplé de Juancito se retiró por razones de tiempo. \"No lo hicimos porque nos pasábamos de tiempo\", aclaró el murguista, quien no ocultó la cercanía de Astori con el grupo. \"Danilo es un hincha más que en este momento es vicepresidente. Él se sube a la bañadera cuando quiere, a veces viene a los ensayos y se toma un whisky con nosotros. Dice eso me gusta, eso no me gusta, lo escuchamos, pero al final decidimos nosotros\", dijo Brocos. El viernes por la tarde el director de la Falta, Raúl Castro, viajó a Gualeguaychú donde la municipalidad le otorgó un reconocimiento. La murga fue la última en tocar antes del cierre del puente General San Martín y la primera en cruzarlo tras su apertura. Falta y Resto es de las murgas que tiene público propio en el exterior. El País Digital\n",
            "\n"
          ]
        }
      ],
      "source": [
        "print(lines[20643])"
      ]
    },
    {
      "cell_type": "markdown",
      "metadata": {
        "id": "vXQqu6cy0swB"
      },
      "source": [
        "Todos los murguistas del presidente ¿Te interesa esta noticia?   | Pablo Melgar Los sectores más enfrentados con el gobierno son los más castigados en el carnaval. Adeom, COFE, los anestesistas y la oposición, son el blanco predilecto para las críticas de las murgas más populares, que admiten sin ruborizarse que son oficialistas. El olfato de los letristas de las murgas indica que los conflictos sindicales y el Mundial de Fútbol fueron los temas centrales de 2010. Dentro de los gremios, Adeom se lleva todas las menciones, pero también hay espacio para COFE y AEBU. Tres sindicatos que se enfrentaron con el gobierno. Sin embargo, los partidos de oposición y el reclamo de la anulación de la ley de Caducidad son un refugio ineludible para la mayoría de los conjuntos. Otro tema al que todas las murgas le dedican buena parte del espectáculo son los casos de corrupción en la Armada. Anestesistas y escribanos y sus respectivos conflictos con el gobierno también son tema para las murgas que le dedican mucho espacio y críticas. La batalla interna en el Frente Amplio y el Pit-Cnt es tocada por varios conjuntos, que en todos los casos les aconsejan \"defender la unidad\" para que \"no los coman los de afuera\". El abogado Gonzalo Fernández, ex secretario de Presidencia y ex ministro del gobierno de Tabaré Vázquez, también es fustigado por el caso que dejó sin antecedentes penales a los hermanos Peirano Basso. Abandono. Agarrate Catalina, la murga que realizó el jingle de la campaña del presidente José Mujica, comienza su espectáculo ironizando sobre su abandono al primer mandatario. Sin profundizar demasiado, en la primera parte del espec-táculo hacen una rápida mirada por los personajes del mundo sindical. Hay referencias a Juan Castillo, Pablo Cabrera, José Lorenzo López y los dirigentes de Adeom y AEBU. La Catalina, varias veces ganadora del certamen, provocó polémica este año por un cuplé dedicado a la violencia. \"Yo soy el terror de la sociedad / el plan perfecto que ha salido mal / vengo del basurero que el sistema dejó al costado / las leyes del mercado me convirtieron en funcional / soy un montón de mierda brotando de las alcantarillas / soy una pesadilla de la que no vas a despertar\", dice la letra, una de las más aplaudidas en el Teatro de Verano. Danilo. La murga Falta y Resto, una de las más populares del carnaval, apostaba fuerte a su cuplé \"Juancito atrás del mostrador\", una crítica a quienes llegan a un sitio de privilegio y se olvidan de sus amigos. Para quienes lo vieron se trata de una feroz crítica al gobierno. Sin embargo, el 1° de febrero, día de la presentación frente al jurado en el Teatro de Verano, la pieza no apareció en el espectáculo. Los comentarios de la hinchada no se hicieron esperar. Muchos de los seguidores de la murga especularon con que la posible presencia en las gradas del vicepresidente Danilo Astori, un hincha histórico de La Falta, inhibió a los componentes del conjunto que finalmente resolvieron no presentar el cuplé. Ese día también resolvieron excluir el cuplé llamado \"Bruno Díaz\", que habían presentado en la prueba de admisión, lo que les costó una sanción. Quienes vieron la presentación completa del espectáculo en otros tablados, narraron a El País que \"Juancito atrás del mostrador\" narra la historia de un grupo de amigos que se reunían habitualmente en un bar hasta que uno de ellos, Juan, tiene la posibilidad de comprar el comercio. Cuando Juan pasa al otro lado del mostrador ve la realidad de otra forma y comienza a actuar diferente frente a sus amigos. La anécdota es utilizada por la murga para criticar, sin nombrarlos, a los distintos actores de gobierno que hasta no hace mucho eran simples dirigentes políticos. Para Hugo Brocos, letrista y fundador junto a Raúl Castro de Falta y Resto, el cuplé de Juancito se retiró por razones de tiempo. \"No lo hicimos porque nos pasábamos de tiempo\", aclaró el murguista, quien no ocultó la cercanía de Astori con el grupo. \"Danilo es un hincha más que en este momento es vicepresidente. Él se sube a la bañadera cuando quiere, a veces viene a los ensayos y se toma un whisky con nosotros. Dice eso me gusta, eso no me gusta, lo escuchamos, pero al final decidimos nosotros\", dijo Brocos. El viernes por la tarde el director de la Falta, Raúl Castro, viajó a Gualeguaychú donde la municipalidad le otorgó un reconocimiento. La murga fue la última en tocar antes del cierre del puente General San Martín y la primera en cruzarlo tras su apertura. Falta y Resto es de las murgas que tiene público propio en el exterior. `El País Digital`\n"
      ]
    },
    {
      "cell_type": "code",
      "execution_count": 93,
      "metadata": {
        "colab": {
          "base_uri": "https://localhost:8080/"
        },
        "id": "53UIOpk7d8Ie",
        "outputId": "6f89a276-bb8f-48a7-b14f-178181ea99fc"
      },
      "outputs": [
        {
          "name": "stdout",
          "output_type": "stream",
          "text": [
            "0\n",
            "Con texto \"El País Digital\" al final de la linea\" - 0\n",
            "[]\n",
            "Texto con formato 'seis meses. El País Digital se reserva ...' - 0\n",
            "[]\n",
            "[]\n",
            "Textos con el estilo 'dijo/dijeron/informo... a El País Digital' - 0\n",
            "Textos con el estilo '.. de El País Digital' - 0\n",
            "[]\n",
            "[]\n",
            "Textos con el estilo '.. AFP El País Digital' EL TEXTO NO ESTA AL FINAL DEL STRING - 0\n"
          ]
        }
      ],
      "source": [
        "str_text = auxiliar_full_lines\n",
        "# cantidad de ocurrencias con texto -El País Digital-\n",
        "pattern = r\"El País Digital\"\n",
        "results = re.findall(pattern, str_text, re.IGNORECASE)\n",
        "print(len(results))\n",
        "\n",
        "# cantidad de ocurrencias con texto -El País Digital- al final\n",
        "pattern_1 = r\"(AFP)? El País Digital\\n\"\n",
        "results_1 = re.findall(pattern_1, str_text, re.IGNORECASE)\n",
        "print(f'Con texto \"El País Digital\" al final de la linea\" - {len(results_1)}')\n",
        "\n",
        "\n",
        "# analizo la diferencia\n",
        "pattern_diff = r\"....... El País Digital....\"\n",
        "results_diff = re.findall(pattern_diff, str_text, re.IGNORECASE)\n",
        "print(results_diff[:50])\n",
        "\n",
        "pattern_diff = r\"......meses. El País Digital..........\"\n",
        "results_diff = re.findall(pattern_diff, str_text, re.IGNORECASE)\n",
        "print(f\"Texto con formato 'seis meses. El País Digital se reserva ...' - {len(results_diff)}\")\n",
        "print(results_diff[:50])\n",
        "\n",
        "pattern_diff = r\"......[^meses.] El País Digital....\"\n",
        "results_diff = re.findall(pattern_diff, str_text, re.IGNORECASE)\n",
        "print(results_diff[:50])\n",
        "\n",
        "pattern_diff = r\"........ a El País Digital....\"\n",
        "results_diff = re.findall(pattern_diff, str_text, re.IGNORECASE)\n",
        "print(f\"Textos con el estilo 'dijo/dijeron/informo... a El País Digital' - {len(results_diff)}\")\n",
        "\n",
        "\n",
        "pattern_diff = r\".......... de El País Digital....\"\n",
        "results_diff = re.findall(pattern_diff, str_text, re.IGNORECASE)\n",
        "print(f\"Textos con el estilo '.. de El País Digital' - {len(results_diff)}\")\n",
        "print(results_diff[:50])\n",
        "\n",
        "pattern_diff = r\"........ [^meses.][^a][^de] El País Digital....\"\n",
        "results_diff = re.findall(pattern_diff, str_text, re.IGNORECASE)\n",
        "print(results_diff[:50])\n",
        "\n",
        "pattern_diff = r\"........ AFP El País Digital.\"\n",
        "results_diff = re.findall(pattern_diff, str_text, re.IGNORECASE)\n",
        "print(f\"Textos con el estilo '.. AFP El País Digital' EL TEXTO NO ESTA AL FINAL DEL STRING - {len(results_diff)}\")\n",
        "\n",
        "\n",
        "\n",
        "# CONCLUSION:\n",
        "# Hay casos que no se deben eliminar, pertenecen a la redaccion.\n",
        "# El mismo string esta en mayusculas y minusculas\n",
        "# Casos a borrar: \n",
        "#   - (AFP)? El País Digital\\n  --> el texto esta al final, a veces puede estar acompaniado de AFP.\n",
        "#   - AFP El País Digital.  --> el texto NO esta al final, ESTA acompaniado de AFP.\n",
        "\n",
        "# Casos a mantener\n",
        "#   - tiene algo de la forma 'seis meses. El País Digital se reserva ...'  -> esto lo analizo mas adelante\n",
        "#   - referencia a alguien hablando \"a El Pais Digital\"\n",
        "#   - estilo \".. de El País Digital\""
      ]
    },
    {
      "cell_type": "code",
      "execution_count": 94,
      "metadata": {
        "colab": {
          "base_uri": "https://localhost:8080/"
        },
        "id": "ve81n6hdd8If",
        "outputId": "db878ba0-f191-44f3-e807-6d1524b5a95c"
      },
      "outputs": [
        {
          "name": "stdout",
          "output_type": "stream",
          "text": [
            "Todos los murguistas del presidente ¿Te interesa esta noticia?   | Pablo Melgar Los sectores más enfrentados con el gobierno son los más castigados en el carnaval. Adeom, COFE, los anestesistas y la oposición, son el blanco predilecto para las críticas de las murgas más populares, que admiten sin ruborizarse que son oficialistas. El olfato de los letristas de las murgas indica que los conflictos sindicales y el Mundial de Fútbol fueron los temas centrales de 2010. Dentro de los gremios, Adeom se lleva todas las menciones, pero también hay espacio para COFE y AEBU. Tres sindicatos que se enfrentaron con el gobierno. Sin embargo, los partidos de oposición y el reclamo de la anulación de la ley de Caducidad son un refugio ineludible para la mayoría de los conjuntos. Otro tema al que todas las murgas le dedican buena parte del espectáculo son los casos de corrupción en la Armada. Anestesistas y escribanos y sus respectivos conflictos con el gobierno también son tema para las murgas que le dedican mucho espacio y críticas. La batalla interna en el Frente Amplio y el Pit-Cnt es tocada por varios conjuntos, que en todos los casos les aconsejan \"defender la unidad\" para que \"no los coman los de afuera\". El abogado Gonzalo Fernández, ex secretario de Presidencia y ex ministro del gobierno de Tabaré Vázquez, también es fustigado por el caso que dejó sin antecedentes penales a los hermanos Peirano Basso. Abandono. Agarrate Catalina, la murga que realizó el jingle de la campaña del presidente José Mujica, comienza su espectáculo ironizando sobre su abandono al primer mandatario. Sin profundizar demasiado, en la primera parte del espec-táculo hacen una rápida mirada por los personajes del mundo sindical. Hay referencias a Juan Castillo, Pablo Cabrera, José Lorenzo López y los dirigentes de Adeom y AEBU. La Catalina, varias veces ganadora del certamen, provocó polémica este año por un cuplé dedicado a la violencia. \"Yo soy el terror de la sociedad / el plan perfecto que ha salido mal / vengo del basurero que el sistema dejó al costado / las leyes del mercado me convirtieron en funcional / soy un montón de mierda brotando de las alcantarillas / soy una pesadilla de la que no vas a despertar\", dice la letra, una de las más aplaudidas en el Teatro de Verano. Danilo. La murga Falta y Resto, una de las más populares del carnaval, apostaba fuerte a su cuplé \"Juancito atrás del mostrador\", una crítica a quienes llegan a un sitio de privilegio y se olvidan de sus amigos. Para quienes lo vieron se trata de una feroz crítica al gobierno. Sin embargo, el 1° de febrero, día de la presentación frente al jurado en el Teatro de Verano, la pieza no apareció en el espectáculo. Los comentarios de la hinchada no se hicieron esperar. Muchos de los seguidores de la murga especularon con que la posible presencia en las gradas del vicepresidente Danilo Astori, un hincha histórico de La Falta, inhibió a los componentes del conjunto que finalmente resolvieron no presentar el cuplé. Ese día también resolvieron excluir el cuplé llamado \"Bruno Díaz\", que habían presentado en la prueba de admisión, lo que les costó una sanción. Quienes vieron la presentación completa del espectáculo en otros tablados, narraron a El País que \"Juancito atrás del mostrador\" narra la historia de un grupo de amigos que se reunían habitualmente en un bar hasta que uno de ellos, Juan, tiene la posibilidad de comprar el comercio. Cuando Juan pasa al otro lado del mostrador ve la realidad de otra forma y comienza a actuar diferente frente a sus amigos. La anécdota es utilizada por la murga para criticar, sin nombrarlos, a los distintos actores de gobierno que hasta no hace mucho eran simples dirigentes políticos. Para Hugo Brocos, letrista y fundador junto a Raúl Castro de Falta y Resto, el cuplé de Juancito se retiró por razones de tiempo. \"No lo hicimos porque nos pasábamos de tiempo\", aclaró el murguista, quien no ocultó la cercanía de Astori con el grupo. \"Danilo es un hincha más que en este momento es vicepresidente. Él se sube a la bañadera cuando quiere, a veces viene a los ensayos y se toma un whisky con nosotros. Dice eso me gusta, eso no me gusta, lo escuchamos, pero al final decidimos nosotros\", dijo Brocos. El viernes por la tarde el director de la Falta, Raúl Castro, viajó a Gualeguaychú donde la municipalidad le otorgó un reconocimiento. La murga fue la última en tocar antes del cierre del puente General San Martín y la primera en cruzarlo tras su apertura. Falta y Resto es de las murgas que tiene público propio en el exterior.\n"
          ]
        }
      ],
      "source": [
        "# REEMPLAZO\n",
        "testing_str = lines[20643]\n",
        "\n",
        "replace_pattern = r\"(AFP)? El País Digital\\n\"\n",
        "result = re.sub(replace_pattern, '', testing_str, re.IGNORECASE)  \n",
        "\n",
        "replace_pattern = r\"AFP El País Digital.\"\n",
        "result = re.sub(replace_pattern, '', result, re.IGNORECASE)  \n",
        "print(result)\n"
      ]
    },
    {
      "cell_type": "code",
      "execution_count": 95,
      "metadata": {
        "colab": {
          "base_uri": "https://localhost:8080/"
        },
        "id": "OrVPdqYZd8Ig",
        "outputId": "9e9b5620-19cc-4902-809d-9adaf7a630f0"
      },
      "outputs": [
        {
          "name": "stdout",
          "output_type": "stream",
          "text": [
            "ANTES:::\n",
            "Ocurrencias -El País Digital- : 0\n",
            "Ocurrencias \"El País Digital\" al final de la linea\" : 0\n",
            "Ocurrencias '.. AFP El País Digital' EL TEXTO NO ESTA AL FINAL DEL STRING : 0\n",
            "Ocurrencias 'seis meses. El País Digital se reserva ...' : 0\n",
            "Ocurrencias 'dijo/dijeron/informo... a El País Digital' : 0\n",
            "Ocurrencias '.. de El País Digital' : 0\n",
            "DESPUES:::\n",
            "Ocurrencias -El País Digital- : 0\n",
            "Ocurrencias \"El País Digital\" al final de la linea\" : 0\n",
            "Ocurrencias '.. AFP El País Digital' EL TEXTO NO ESTA AL FINAL DEL STRING : 0\n",
            "Ocurrencias 'seis meses. El País Digital se reserva ...' : 0\n",
            "Ocurrencias 'dijo/dijeron/informo... a El País Digital' : 0\n",
            "Ocurrencias '.. de El País Digital' : 0\n"
          ]
        }
      ],
      "source": [
        "#  HACER!\n",
        "\n",
        "str_text = auxiliar_full_lines\n",
        "\n",
        "print('ANTES:::')\n",
        "pattern = r\"El País Digital\"\n",
        "results = re.findall(pattern, str_text, re.IGNORECASE)\n",
        "print(f\"Ocurrencias -El País Digital- : {len(results)}\")\n",
        "\n",
        "pattern_1 = r\"(AFP)? El País Digital\\n\"\n",
        "results_1 = re.findall(pattern_1, str_text, re.IGNORECASE)\n",
        "print(f'Ocurrencias \"El País Digital\" al final de la linea\" : {len(results_1)}')\n",
        "\n",
        "pattern_5 = r\"AFP El País Digital.\"\n",
        "results_5 = re.findall(pattern_5, str_text, re.IGNORECASE)\n",
        "print(f\"Ocurrencias '.. AFP El País Digital' EL TEXTO NO ESTA AL FINAL DEL STRING : {len(results_5)}\")\n",
        "\n",
        "pattern_2 = r\"......meses. El País Digital..........\"\n",
        "results_2 = re.findall(pattern_2, str_text, re.IGNORECASE)\n",
        "print(f\"Ocurrencias 'seis meses. El País Digital se reserva ...' : {len(results_2)}\")\n",
        "\n",
        "pattern_3 = r\"........ a El País Digital....\"\n",
        "results_3 = re.findall(pattern_3, str_text, re.IGNORECASE)\n",
        "print(f\"Ocurrencias 'dijo/dijeron/informo... a El País Digital' : {len(results_3)}\")\n",
        "\n",
        "pattern_4 = r\".......... de El País Digital....\"\n",
        "results_4 = re.findall(pattern_4, str_text, re.IGNORECASE)\n",
        "print(f\"Ocurrencias '.. de El País Digital' : {len(results_4)}\")\n",
        "\n",
        "# REEMPLAZO!\n",
        "\n",
        "replace_pattern = r\"(AFP)? El País Digital\\n\"\n",
        "result = re.sub(replace_pattern, '', str_text, re.IGNORECASE)  \n",
        "\n",
        "replace_pattern = r\"AFP El País Digital.\"\n",
        "result = re.sub(replace_pattern, '', result, re.IGNORECASE)  \n",
        "\n",
        "# FIN REEMPLAZO!\n",
        "\n",
        "print('DESPUES:::')\n",
        "pattern = r\"El País Digital\"\n",
        "results = re.findall(pattern, result, re.IGNORECASE)\n",
        "print(f\"Ocurrencias -El País Digital- : {len(results)}\")\n",
        "\n",
        "pattern_1 = r\"(AFP)? El País Digital\\n\"\n",
        "results_1 = re.findall(pattern_1, result, re.IGNORECASE)\n",
        "print(f'Ocurrencias \"El País Digital\" al final de la linea\" : {len(results_1)}')\n",
        "\n",
        "pattern_5 = r\"AFP El País Digital.\"\n",
        "results_5 = re.findall(pattern_5, result, re.IGNORECASE)\n",
        "print(f\"Ocurrencias '.. AFP El País Digital' EL TEXTO NO ESTA AL FINAL DEL STRING : {len(results_5)}\")\n",
        "\n",
        "pattern_2 = r\"......meses. El País Digital..........\"\n",
        "results_2 = re.findall(pattern_2, result, re.IGNORECASE)\n",
        "print(f\"Ocurrencias 'seis meses. El País Digital se reserva ...' : {len(results_2)}\")\n",
        "\n",
        "pattern_3 = r\"........ a El País Digital....\"\n",
        "results_3 = re.findall(pattern_3, result, re.IGNORECASE)\n",
        "print(f\"Ocurrencias 'dijo/dijeron/informo... a El País Digital' : {len(results_3)}\")\n",
        "\n",
        "pattern_4 = r\".......... de El País Digital....\"\n",
        "results_4 = re.findall(pattern_4, result, re.IGNORECASE)\n",
        "print(f\"Ocurrencias '.. de El País Digital' : {len(results_4)}\")\n",
        "\n",
        "\n",
        "## REVISAR ##\n",
        "# no se si esta funcionando"
      ]
    },
    {
      "cell_type": "markdown",
      "metadata": {
        "id": "dNGrFptk239U"
      },
      "source": [
        "### Texto \"El País Digital se reserva el derecho de editar los mensajes que usted envíe a los efectos de su mejor comprensión por otros usuarios. Nuevo seudonimo\"\n"
      ]
    },
    {
      "cell_type": "code",
      "execution_count": 96,
      "metadata": {
        "colab": {
          "base_uri": "https://localhost:8080/"
        },
        "id": "zHD3biqh239V",
        "outputId": "177f4169-7581-45c9-b8ff-f1a1be5bbede"
      },
      "outputs": [
        {
          "name": "stdout",
          "output_type": "stream",
          "text": [
            "Detenida se prendió fuego en seccional policial ¿Te interesa esta noticia?     Una mujer fue trasladada en estado delicado al Centro Nacional de Quemados (Cenaque), tras prenderse fuego en una Seccional 9o. La joven, de 26 años, había sido detenida en el marco de la investigación por el hurto de una moto que finalmente encontraron en su vivienda. Sufrió quemaduras de segundo y tercer grado en gran parte de su cuerpo y en vías respiratorias. Es ésta la segunda vez que un detenido prende fuego un colchón e intenta inmolarse. RIVERA - Freddy Fernández Carranza Ver Comentarios Filtrar por: Si desea comentar los contenidos de nuestras noticias, utilice el formulario y envíenos su comentario. REGLAS Y NORMAS Procesando.. Usuario: Solo usuarios registrados pueden comentar y/o denunciar. Mantenga y vigile el nivel de debate y recuerde que nuestras Normas de Participación implican obligaciones y responsabilidades. Contraseña: | cancelar | Si usted considera que se ha incurrido agravios o no se respeta el reglamento de esta sección, puede DENUNCIAR al autor. En ese caso, automáticamente ese mensaje desaparece y es enviado al correo del Administrador de Foros/Comentarios. El Administrador puede avalar su decisión o discrepar con ella, en cuyo caso el mensaje es restituido. Se advierte que la reiteración de violaciones al reglamento, tanto como la reiteración de Denuncias injustificadas, pueden determinar que el usuario sea borrado del registro, perdiendo sus privilegios por seis meses. El País Digital se reserva el derecho de editar los mensajes que usted envíe a los efectos de su mejor comprensión por otros usuarios. Nuevo seudonimo:\n",
            "\n"
          ]
        }
      ],
      "source": [
        "print(lines[137])"
      ]
    },
    {
      "cell_type": "markdown",
      "metadata": {
        "id": "nZd1FG0n239W"
      },
      "source": [
        "Detenida se prendió fuego en seccional policial ¿Te interesa esta noticia?     Una mujer fue trasladada en estado delicado al Centro Nacional de Quemados (Cenaque), tras prenderse fuego en una Seccional 9o. La joven, de 26 años, había sido detenida en el marco de la investigación por el hurto de una moto que finalmente encontraron en su vivienda. Sufrió quemaduras de segundo y tercer grado en gran parte de su cuerpo y en vías respiratorias. Es ésta la segunda vez que un detenido prende fuego un colchón e intenta inmolarse. RIVERA - Freddy Fernández Carranza Ver Comentarios Filtrar por: Si desea comentar los contenidos de nuestras noticias, utilice el formulario y envíenos su comentario. REGLAS Y NORMAS Procesando.. Usuario: Solo usuarios registrados pueden comentar y/o denunciar. Mantenga y vigile el nivel de debate y recuerde que nuestras Normas de Participación implican obligaciones y responsabilidades. Contraseña: | cancelar | Si usted considera que se ha incurrido agravios o no se respeta el reglamento de esta sección, puede DENUNCIAR al autor. En ese caso, automáticamente ese mensaje desaparece y es enviado al correo del Administrador de Foros/Comentarios. El Administrador puede avalar su decisión o discrepar con ella, en cuyo caso el mensaje es restituido. Se advierte que la reiteración de violaciones al reglamento, tanto como la reiteración de Denuncias injustificadas, pueden determinar que el usuario sea borrado del registro, perdiendo sus privilegios por seis meses. `El País Digital se reserva el derecho de editar los mensajes que usted envíe a los efectos de su mejor comprensión por otros usuarios. Nuevo seudonimo:`\n"
      ]
    },
    {
      "cell_type": "markdown",
      "metadata": {
        "id": "2ieTx4-7W6ma"
      },
      "source": [
        "#### Solucion"
      ]
    },
    {
      "cell_type": "code",
      "execution_count": 97,
      "metadata": {
        "colab": {
          "base_uri": "https://localhost:8080/"
        },
        "id": "WTmh0H5It8PY",
        "outputId": "aa01a1d5-d73b-4440-ffc7-dcf53ef42065"
      },
      "outputs": [
        {
          "name": "stdout",
          "output_type": "stream",
          "text": [
            "0\n",
            "Con texto \"El Pais Digital\" al final de la linea\" - 0\n"
          ]
        }
      ],
      "source": [
        "str_text = auxiliar_full_lines\n",
        "# cantidad de ocurrencias con texto -El País Digital-\n",
        "pattern = r\"El Pais Digital se reserva el derecho de editar\"\n",
        "results = re.findall(pattern, str_text)\n",
        "print(len(results))\n",
        "\n",
        "# cantidad de ocurrencias con texto -El País Digital- al final\n",
        "pattern = r\"El Pais Digital se reserva el derecho de editar los mensajes que usted envie a los efectos de su mejor comprension por otros usuarios. (Nuevo seudonimo:)?\"\n",
        "results_1 = re.findall(pattern, str_text)\n",
        "print(f'Con texto \"El Pais Digital\" al final de la linea\" - {len(results_1)}')"
      ]
    },
    {
      "cell_type": "markdown",
      "metadata": {
        "id": "RFHi7JrI4fsB"
      },
      "source": [
        "### Texto \":: El Empresario ::\" ya incluido en version de :: .* ::"
      ]
    },
    {
      "cell_type": "code",
      "execution_count": 100,
      "metadata": {
        "colab": {
          "base_uri": "https://localhost:8080/"
        },
        "id": "gkoxADuw4fsI",
        "outputId": "5fcf8aa1-2d97-450e-8472-16be59186b8b"
      },
      "outputs": [
        {
          "name": "stdout",
          "output_type": "stream",
          "text": [
            "Absolut Vodka estrena diseño artesanal ¿Te interesa esta noticia?     Absolut Vodka, el vodka premium líder a nivel mundial, fue creado por Lars Olsson Smith y aún se produce bajo su método en la pequeña ciudad Ahüs en el sur de Suecia. En 1979 Absolut Vodka introdujo una botella de diseño pionero. Ahora Absolut Vodka presenta Absolut Vodka Crystal Botlle, diseñado como una verdadera pieza de arte, combinando en su botella los diseños de Skogsberg y Smart y el arte de Reijmyre, hecha a mano en su totalidad. Ver Comentarios Filtrar por: Si desea comentar los contenidos de nuestras noticias, utilice el formulario y envíenos su comentario. REGLAS Y NORMAS Procesando.. Usuario: Solo usuarios registrados pueden comentar y/o denunciar. Mantenga y vigile el nivel de debate y recuerde que nuestras Normas de Participación implican obligaciones y responsabilidades. Contraseña: | cancelar | Si usted considera que se ha incurrido agravios o no se respeta el reglamento de esta sección, puede DENUNCIAR al autor. En ese caso, automáticamente ese mensaje desaparece y es enviado al correo del Administrador de Foros/Comentarios. El Administrador puede avalar su decisión o discrepar con ella, en cuyo caso el mensaje es restituido. Se advierte que la reiteración de violaciones al reglamento, tanto como la reiteración de Denuncias injustificadas, pueden determinar que el usuario sea borrado del registro, perdiendo sus privilegios por seis meses. El País Digital se reserva el derecho de editar los mensajes que usted envíe a los efectos de su mejor comprensión por otros usuarios. Nuevo seudonimo: Con precios por las nubes las ventas de inmuebles siguen en alza y sólo 9% recurre al crédito. :: El Empresario :: Fuerte apuesta de AOC para ganar terreno en televisores Tras once años de presencia en Uruguay y líder en monitores (con 45% del mercado), la marca china AOC quiere fortalecer su posición también en televisores LCD y conquistar hasta un 15% de la torta de esos productos en el correr .. :: El Empresario :: En la opinión pública se habla de los malos funcionarios del Estado y lo que nunca se habla es de los muy buenos funcionarios que se desempeñan allí. Hay muchos con la camiseta bien puesta y mucho empuje. :: El Empresario :: Cuando el entonces Banco de Boston (hoy Itaú) lanzó los primeros beneficios asociados a la compra con tarjeta de crédito en Punta del Este, seguramente sus autoridades ni se imaginaron que una década después esos se .. :: El Empresario :: Con Facebook, Twitter y LinkedIn como líderes indiscutidos de la movida los uruguayos se sumaron en masa al uso de las redes sociales y, aunque las plataformas procuran distinguirse entre las de uso personal y profesional, los .. :: El Empresario :: Las empresas de Estados Unidos han saneado sus finanzas y ahora, con abundante dinero en los bolsillos, se disponen a gastar en fábricas, tiendas y personal. :: El Empresario :: Comenzaron trabajando en una tabla sobre dos caballetes, y hoy, casi un año más tarde, llevan realizadas unas 60 piezas publicitarias y ajustan detalles para presentar su nuevo programa televisivo de archivo \"Sonríe (Te estamos ..\n",
            "\n"
          ]
        }
      ],
      "source": [
        "print(lines[71850])"
      ]
    },
    {
      "cell_type": "markdown",
      "metadata": {
        "id": "JwiY3G564fsI"
      },
      "source": [
        "Absolut Vodka estrena diseño artesanal ¿Te interesa esta noticia?     Absolut Vodka, el vodka premium líder a nivel mundial, fue creado por Lars Olsson Smith y aún se produce bajo su método en la pequeña ciudad Ahüs en el sur de Suecia. En 1979 Absolut Vodka introdujo una botella de diseño pionero. Ahora Absolut Vodka presenta Absolut Vodka Crystal Botlle, diseñado como una verdadera pieza de arte, combinando en su botella los diseños de Skogsberg y Smart y el arte de Reijmyre, hecha a mano en su totalidad. Ver Comentarios Filtrar por: Si desea comentar los contenidos de nuestras noticias, utilice el formulario y envíenos su comentario. REGLAS Y NORMAS Procesando.. Usuario: Solo usuarios registrados pueden comentar y/o denunciar. Mantenga y vigile el nivel de debate y recuerde que nuestras Normas de Participación implican obligaciones y responsabilidades. Contraseña: | cancelar | Si usted considera que se ha incurrido agravios o no se respeta el reglamento de esta sección, puede DENUNCIAR al autor. En ese caso, automáticamente ese mensaje desaparece y es enviado al correo del Administrador de Foros/Comentarios. El Administrador puede avalar su decisión o discrepar con ella, en cuyo caso el mensaje es restituido. Se advierte que la reiteración de violaciones al reglamento, tanto como la reiteración de Denuncias injustificadas, pueden determinar que el usuario sea borrado del registro, perdiendo sus privilegios por seis meses. El País Digital se reserva el derecho de editar los mensajes que usted envíe a los efectos de su mejor comprensión por otros usuarios. Nuevo seudonimo: Con precios por las nubes las ventas de inmuebles siguen en alza y sólo 9% recurre al crédito. `:: El Empresario ::` Fuerte apuesta de AOC para ganar terreno en televisores Tras once años de presencia en Uruguay y líder en monitores (con 45% del mercado), la marca china AOC quiere fortalecer su posición también en televisores LCD y conquistar hasta un 15% de la torta de esos productos en el correr .. `:: El Empresario ::` En la opinión pública se habla de los malos funcionarios del Estado y lo que nunca se habla es de los muy buenos funcionarios que se desempeñan allí. Hay muchos con la camiseta bien puesta y mucho empuje. `:: El Empresario ::` Cuando el entonces Banco de Boston (hoy Itaú) lanzó los primeros beneficios asociados a la compra con tarjeta de crédito en Punta del Este, seguramente sus autoridades ni se imaginaron que una década después esos se .. `:: El Empresario ::` Con Facebook, Twitter y LinkedIn como líderes indiscutidos de la movida los uruguayos se sumaron en masa al uso de las redes sociales y, aunque las plataformas procuran distinguirse entre las de uso personal y profesional, los .. `:: El Empresario ::` Las empresas de Estados Unidos han saneado sus finanzas y ahora, con abundante dinero en los bolsillos, se disponen a gastar en fábricas, tiendas y personal. `:: El Empresario ::` Comenzaron trabajando en una tabla sobre dos caballetes, y hoy, casi un año más tarde, llevan realizadas unas 60 piezas publicitarias y ajustan detalles para presentar su nuevo programa televisivo de archivo \"Sonríe (Te estamos ..\n"
      ]
    },
    {
      "cell_type": "markdown",
      "metadata": {
        "id": "Ozeyvd56StcB"
      },
      "source": [
        "### BUSCAR CRUCIGRAMAS - algunos hechos por Leonardo Conde, palabra HORIZONTAL, tambien hay soluciones"
      ]
    },
    {
      "cell_type": "code",
      "execution_count": 101,
      "metadata": {
        "colab": {
          "base_uri": "https://localhost:8080/"
        },
        "id": "IitQAqFLZe7V",
        "outputId": "f1b37fc2-15ea-44ff-a803-9b6ff0bf1499"
      },
      "outputs": [
        {
          "name": "stdout",
          "output_type": "stream",
          "text": [
            "1133\n",
            "1131\n",
            "Horizontales. 1) Óxido de calcio. \n",
            "Horizontales 1) Criatura de pecho\n",
            "HORIZONTALES 1) Cruel, refinada y\n",
            "Horizontales 1) Sitio donde se pi\n",
            "HORIZONTALES 1) Cálculo superstic\n",
            "HORIZONTALES 1) Lecho nupcial. 6)\n",
            "Horizontales 1) Juego de pelota e\n",
            "Horizontales 2) Enredadera silves\n",
            "Horizontales 1) Veneno. 7) Soldad\n",
            "Horizontales 1) Pajarito conirros\n",
            "HORIZONTALES 1) Perteneciente o r\n",
            "HORIZONTALES 1) Región antigua de\n",
            "Horizontales 1) Hombre tonto, o r\n",
            "Horizontales 1) Castor, roedor fl\n",
            "Horizontales 1) Utensilio de cost\n",
            "Horizontales. 1) Palo en forma de \n",
            "Horizontales. 2) Sombrero de copa \n",
            "Horizontales 1) Exclamación tauri\n",
            "Horizontales.    1) Superficie. 5) Bo\n",
            "Horizontales 1) Vid levantada art\n",
            "Horizontales 1) Plaza de las ciud\n",
            "Horizontales 1) Demostración exce\n",
            "Horizontales.   1) Valor o importanc\n",
            "Horizontales 1) Califa de la dina\n",
            "Horizontales 1) Hogar. 4) Instrum\n",
            "Horizontales 1) Calisto, constela\n",
            "Horizontales 1) El Hijo de Dios, \n",
            "Horizontales 1) Amapola. 6) Llega\n",
            "Horizontales 2) Mazo pequeño que \n",
            "Horizontales.   1) Ritmo urbano nort\n",
            "Horizontales 1) Río de Uruguay, e\n",
            "Horizontales 1) Hijo mayor de Noé\n",
            "Horizontales 1) Punto cardinal. 4\n",
            "Horizontales 1) Motón de driza co\n",
            "Horizontales 1) Estrella de la ma\n",
            "Horizontales 1) Baldwin o Guinnes\n",
            "Horizontales 1) Pájaro pacífico, \n",
            "Horizontales 1) Madre de Ismael. \n",
            "Horizontales 1) Mofeta, zorrillo \n",
            "Horizontales 1) Liso y blando al \n",
            "Horizontales 1) Princesa que hizo\n",
            "Horizontales 3) Perteneciente o r\n",
            "Horizontales 3) Diosa romana de l\n",
            "HORIZONTALES 1) Probar un licor. \n",
            "Horizontales 1) Bebida medicinal \n",
            "Horizontales 1) Fracción de hora,\n",
            "Horizontales 1) Tranquilidad, sos\n",
            "Horizontales 1) Contracción invol\n",
            "Horizontales 1) Fuertes, robustos\n",
            "Horizontales 1) Sombrero de copa \n"
          ]
        }
      ],
      "source": [
        "str_text = auxiliar_full_lines\n",
        "\n",
        "pattern = r\"horizontales.*?\\d\\)\"\n",
        "results = re.findall(pattern, str_text, re.IGNORECASE)\n",
        "print(len(results))\n",
        "\n",
        "pattern = r\"horizontales.*?\\d\\)............\"\n",
        "results = re.findall(pattern, str_text, re.IGNORECASE)\n",
        "print(len(results))\n",
        "for res in results[:50]:\n",
        "  print(res)\n",
        "\n",
        "\n",
        "# CONCLUSION: Elimino a todos los que cumplen esto\n"
      ]
    },
    {
      "cell_type": "code",
      "execution_count": 102,
      "metadata": {
        "colab": {
          "base_uri": "https://localhost:8080/"
        },
        "id": "OxyDqjPVZ4tb",
        "outputId": "d16303c1-1b6a-423b-f5fd-aaab03aa55fc"
      },
      "outputs": [
        {
          "name": "stdout",
          "output_type": "stream",
          "text": [
            "ANTES::\n",
            "Total de articulos: 120692\n",
            "DESPUES::\n",
            "Total de articulos: 119570\n"
          ]
        }
      ],
      "source": [
        "print('ANTES::')\n",
        "print(f'Total de articulos: {len(lines)}')\n",
        "\n",
        "regex =  r\"horizontales.*?\\d\\)\"\n",
        "resulting_lines = list(filter(lambda line: not(re.search(regex, line, re.IGNORECASE)), lines))\n",
        "\n",
        "print('DESPUES::')\n",
        "print(f'Total de articulos: {len(resulting_lines)}')"
      ]
    },
    {
      "cell_type": "code",
      "execution_count": 103,
      "metadata": {
        "colab": {
          "base_uri": "https://localhost:8080/"
        },
        "id": "5ASpTpIWcoIY",
        "outputId": "61bc0c53-5bda-4569-b449-f083df9da3f4"
      },
      "outputs": [
        {
          "name": "stdout",
          "output_type": "stream",
          "text": [
            "0\n"
          ]
        }
      ],
      "source": [
        "total_result = ''.join(resulting_lines)\n",
        "pattern = r\"horizontales.*?\\d\\)\"\n",
        "results = re.findall(pattern, total_result, re.IGNORECASE)\n",
        "print(len(results))\n"
      ]
    },
    {
      "cell_type": "markdown",
      "metadata": {
        "id": "XqFzNMq7isi_"
      },
      "source": [
        "#### CONTINUAR ANALIZANDO CASOS CON \"Leonardo Conde\""
      ]
    },
    {
      "cell_type": "markdown",
      "metadata": {
        "id": "NK6JCD0OsG1X"
      },
      "source": [
        "index - 117992\n",
        "'octubre 27 . A) Ducha, experimentada. B) Gusano de tierra. C) Celebracion, fiesta. D) Someter, tiranizar. E) Obstinacion ignorante. F) Elemental. G) Dieta, conjunto de sustancias que se ingieren. H) Pablo ..., nom-de-plume del poeta Neftali Reyes. I) Andre Marie ..., celebre matematico y fisico frances, padre del electromagnetismo. J) Primitivo, sin civilizacion avanzada. K) Molde empleado en la acunacion de monedas y medallas. L) Pastor. M) Fenomeno inmunologico por el que un organismo reconoce como extrano a un organo o tejido procedente de otro individuo. N) Moneda, pieza de metal. O) Participio irregular de \"imprimir\". P) Premio o galardon que se da por el trabajo. Q) Transparencia de los vinos dorados. R) Letrero que rodea la figura en las monedas o medallas. S) Pieles rojas, como Carlitos Tevez. T) Palmitato de sodio, explosivo usado en bombas incendiarias. U) Mamifero marino pisciforme, como la ballena, el delfin, etc. V) Alberto ..., celebrado actor comico argentino, desaparecido tragicamente. W) Planta cannabacea usada para elaborar la cerveza. X) Excelente, perfecto en su linea. Y) Personaje de la Comedia dell\\'Arte, ataviado con mascara y traje a losanges de variados colores. SOLUCION 817: A) consul B) atolon C) Sanson D) ofender E) nomade F) adjunto G) lenoso H) acumen I) bloque J) asiduo K) Romeo L) Cronos M) aftosa N) salon O) insumo P) naipes Q) Punjab R) Esdras S) sismos T) cesped U) adios V) duques W) ociosos X) reyuno. Especial para El Pais. No 818. Por Leonardo Conde \\n'\n"
      ]
    },
    {
      "cell_type": "code",
      "execution_count": 104,
      "metadata": {
        "colab": {
          "base_uri": "https://localhost:8080/"
        },
        "id": "ojJrNbwOfRws",
        "outputId": "aa4effe9-721a-4d38-cc9e-d416f289c718"
      },
      "outputs": [
        {
          "name": "stdout",
          "output_type": "stream",
          "text": [
            "242\n"
          ]
        }
      ],
      "source": [
        "total_result = ''.join(resulting_lines)\n",
        "pattern = r\"Leonardo Conde\"\n",
        "results = re.findall(pattern, total_result, re.IGNORECASE)\n",
        "print(len(results))\n"
      ]
    },
    {
      "cell_type": "code",
      "execution_count": 105,
      "metadata": {
        "colab": {
          "background_save": true,
          "base_uri": "https://localhost:8080/"
        },
        "id": "L8Tuoxo0f2Kr",
        "outputId": "437e5e79-269e-4c0b-d86e-500cc702431c"
      },
      "outputs": [
        {
          "name": "stdout",
          "output_type": "stream",
          "text": [
            "119463\n"
          ]
        }
      ],
      "source": [
        "regex = r\"Leonardo Conde\"\n",
        "resulting_lines = list(filter(lambda line: not(re.search(regex, line, re.IGNORECASE)), lines))\n",
        "\n",
        "print(len(resulting_lines))"
      ]
    },
    {
      "cell_type": "markdown",
      "metadata": {
        "id": "HO1wO48HqL32"
      },
      "source": [
        "### Texto EFE"
      ]
    },
    {
      "cell_type": "code",
      "execution_count": 120,
      "metadata": {},
      "outputs": [
        {
          "name": "stdout",
          "output_type": "stream",
          "text": [
            "cantidad de ocurrencias EFE\n",
            "0\n"
          ]
        },
        {
          "ename": "TypeError",
          "evalue": "sub() missing 1 required positional argument: 'string'",
          "output_type": "error",
          "traceback": [
            "\u001b[0;31m---------------------------------------------------------------------------\u001b[0m",
            "\u001b[0;31mTypeError\u001b[0m                                 Traceback (most recent call last)",
            "Cell \u001b[0;32mIn [120], line 8\u001b[0m\n\u001b[1;32m      5\u001b[0m \u001b[39mprint\u001b[39m(\u001b[39mlen\u001b[39m(total_result))\n\u001b[1;32m      7\u001b[0m replace_pattern \u001b[39m=\u001b[39m \u001b[39mr\u001b[39m\u001b[39m\"\u001b[39m\u001b[39m\\\u001b[39m\u001b[39m(EFE\u001b[39m\u001b[39m\\\u001b[39m\u001b[39m)\u001b[39m\u001b[39m\"\u001b[39m\n\u001b[0;32m----> 8\u001b[0m total_result \u001b[39m=\u001b[39m re\u001b[39m.\u001b[39;49msub(replace_pattern, total_result)  \n\u001b[1;32m      9\u001b[0m \u001b[39mprint\u001b[39m(\u001b[39mlen\u001b[39m(total_result))\n",
            "\u001b[0;31mTypeError\u001b[0m: sub() missing 1 required positional argument: 'string'"
          ]
        }
      ],
      "source": [
        "# print('cantidad de ocurrencias EFE')\n",
        "\n",
        "# replace_pattern = r\" EFE \"\n",
        "# total_result = re.findall(replace_pattern, total_result)  \n",
        "# print(len(total_result))\n",
        "\n",
        "# replace_pattern = r\"\\(EFE\\)\"\n",
        "# total_result = re.sub(replace_pattern, total_result)  \n",
        "# print(len(total_result))\n",
        "\n",
        "\n",
        "# results = re.findall(pattern, str_text, re.IGNORECASE)"
      ]
    },
    {
      "cell_type": "markdown",
      "metadata": {
        "id": "lV7Gb6iGHhzc"
      },
      "source": [
        "## elpais20140924173922Noticias.txt"
      ]
    },
    {
      "cell_type": "code",
      "execution_count": 108,
      "metadata": {
        "colab": {
          "base_uri": "https://localhost:8080/"
        },
        "id": "ikSCVrrUJSmD",
        "outputId": "a50293ff-7d16-4648-9d2c-78abef68bc54"
      },
      "outputs": [
        {
          "name": "stdout",
          "output_type": "stream",
          "text": [
            "--2022-10-24 20:07:05--  https://docs.google.com/uc?export=download&confirm=t&id=1SL4yUr2xgS2bX1_pzFWEOXXbrxNoSf0y\n",
            "Resolving docs.google.com (docs.google.com)... 2800:3f0:4002:800::200e, 142.251.133.238\n",
            "Connecting to docs.google.com (docs.google.com)|2800:3f0:4002:800::200e|:443... connected.\n",
            "HTTP request sent, awaiting response... 303 See Other\n",
            "Location: https://doc-00-1o-docs.googleusercontent.com/docs/securesc/ha0ro937gcuc7l7deffksulhg5h7mbp1/h1qs8rcfigdcsdrqd0u1b4ur6apvi5ls/1666652775000/05113844374629647830/*/1SL4yUr2xgS2bX1_pzFWEOXXbrxNoSf0y?e=download&uuid=203d76bd-e398-4577-b58c-7d77e6c3eb18 [following]\n",
            "Warning: wildcards not supported in HTTP.\n",
            "--2022-10-24 20:07:06--  https://doc-00-1o-docs.googleusercontent.com/docs/securesc/ha0ro937gcuc7l7deffksulhg5h7mbp1/h1qs8rcfigdcsdrqd0u1b4ur6apvi5ls/1666652775000/05113844374629647830/*/1SL4yUr2xgS2bX1_pzFWEOXXbrxNoSf0y?e=download&uuid=203d76bd-e398-4577-b58c-7d77e6c3eb18\n",
            "Resolving doc-00-1o-docs.googleusercontent.com (doc-00-1o-docs.googleusercontent.com)... 2800:3f0:4002:80a::2001, 142.251.133.65\n",
            "Connecting to doc-00-1o-docs.googleusercontent.com (doc-00-1o-docs.googleusercontent.com)|2800:3f0:4002:80a::2001|:443... connected.\n",
            "HTTP request sent, awaiting response... 200 OK\n",
            "Length: 126710503 (121M) [text/plain]\n",
            "Saving to: ‘elpais20140924173922Noticias.txt’\n",
            "\n",
            "elpais2014092417392 100%[===================>] 120,84M  39,8MB/s    in 3,0s    \n",
            "\n",
            "2022-10-24 20:07:10 (39,8 MB/s) - ‘elpais20140924173922Noticias.txt’ saved [126710503/126710503]\n",
            "\n",
            "30534\n"
          ]
        }
      ],
      "source": [
        "!wget --load-cookies /tmp/cookies.txt \"https://docs.google.com/uc?export=download&confirm=$(wget --quiet --save-cookies /tmp/cookies.txt --keep-session-cookies --no-check-certificate 'https://docs.google.com/uc?export=download&id=1SL4yUr2xgS2bX1_pzFWEOXXbrxNoSf0y' -O- | sed -rn 's/.*confirm=([0-9A-Za-z_]+).*/\\1\\n/p')&id=1SL4yUr2xgS2bX1_pzFWEOXXbrxNoSf0y\" -O elpais20140924173922Noticias.txt && rm -rf /tmp/cookies.txt\n",
        "reader_3922 = open(\"elpais20140924173922Noticias.txt\", \"r+\")\n",
        "lines_3922 = reader_3922.readlines()\n",
        "print(len(lines_3922))"
      ]
    },
    {
      "cell_type": "code",
      "execution_count": 109,
      "metadata": {
        "colab": {
          "base_uri": "https://localhost:8080/"
        },
        "id": "shBSctH8JkrM",
        "outputId": "87d51837-d410-49aa-98bf-ef1f68eb7241"
      },
      "outputs": [
        {
          "data": {
            "text/plain": [
              "30534"
            ]
          },
          "execution_count": 109,
          "metadata": {},
          "output_type": "execute_result"
        }
      ],
      "source": [
        "len(lines_3922)"
      ]
    },
    {
      "cell_type": "code",
      "execution_count": 110,
      "metadata": {
        "colab": {
          "base_uri": "https://localhost:8080/"
        },
        "id": "_pjTVHv4Op0Y",
        "outputId": "4e683f0f-0276-4293-992b-43d76e34c17e"
      },
      "outputs": [
        {
          "name": "stdout",
          "output_type": "stream",
          "text": [
            "123744\telpais20140924173922Noticias.txt\n"
          ]
        }
      ],
      "source": [
        "!du -H elpais20140924173922Noticias.txt"
      ]
    },
    {
      "cell_type": "markdown",
      "metadata": {
        "id": "0qM7MSnFHzs4"
      },
      "source": [
        "### String \"Foto: -origen-\""
      ]
    },
    {
      "cell_type": "code",
      "execution_count": 111,
      "metadata": {
        "colab": {
          "base_uri": "https://localhost:8080/"
        },
        "id": "LC98jzvbIFlP",
        "outputId": "fb89f878-33a7-4deb-fcef-1c029bd73207"
      },
      "outputs": [
        {
          "name": "stdout",
          "output_type": "stream",
          "text": [
            "TRÁNSITO CAPITALINO IMM aplicó 1.594 multas en feriado de Carnaval También derivó al depósito a 243 vehículos por considerar que representaban un peligro para el tránsito. Control de tránsito en Montevideo. FOTO: Archivo El País. Temas multas de tránsito jue mar 6 2014 13:21 La Intendencia de Montevideo aplicó 1.594 multas de tránsito en el fin de semana largo de Carnaval y trasladó al Depósito de Tránsito y Transporte a 243 vehículos por considerar que representaban un riesgo a los conductores tanto porque el chofer no tenía libreta o las condiciones del auto no eran buenas. Los operativos se realizaron desde el día viernes 28 de febrero hasta el martes 4 de marzo. En el operativo también se detuvieron a varias personas que participaron en picadas y fueron derivadas al Tribunal de Faltas, informó la comuna. Los inspectores aplicaron 357 multas por faltas de conducir, 189 por exceso de velocidad, 149 por condiciones antirreglamentarias, 144 por no uso de cinturón, 116 por no uso del casco, 89 por falta de documentación del vehículo, 51 por alcoholemia positiva, 45 por cruzar con roja, 35 por tener caño de escape libre, 22 por manejo imprudente, 22 por estacionamiento inadecuado y 375 de otras causas.  Vota por esta noticia:\n",
            "\n"
          ]
        }
      ],
      "source": [
        "print(lines_3922[11852])"
      ]
    },
    {
      "cell_type": "markdown",
      "metadata": {
        "id": "eO7qrRdqIGk0"
      },
      "source": [
        "TRÁNSITO CAPITALINO IMM aplicó 1.594 multas en feriado de Carnaval También derivó al depósito a 243 vehículos por considerar que representaban un peligro para el tránsito. Control de tránsito en Montevideo. `FOTO: Archivo El País`. Temas multas de tránsito jue mar 6 2014 13:21 La Intendencia de Montevideo aplicó 1.594 multas de tránsito en el fin de semana largo de Carnaval y trasladó al Depósito de Tránsito y Transporte a 243 vehículos por considerar que representaban un riesgo a los conductores tanto porque el chofer no tenía libreta o las condiciones del auto no eran buenas. Los operativos se realizaron desde el día viernes 28 de febrero hasta el martes 4 de marzo. En el operativo también se detuvieron a varias personas que participaron en picadas y fueron derivadas al Tribunal de Faltas, informó la comuna. Los inspectores aplicaron 357 multas por faltas de conducir, 189 por exceso de velocidad, 149 por condiciones antirreglamentarias, 144 por no uso de cinturón, 116 por no uso del casco, 89 por falta de documentación del vehículo, 51 por alcoholemia positiva, 45 por cruzar con roja, 35 por tener caño de escape libre, 22 por manejo imprudente, 22 por estacionamiento inadecuado y 375 de otras causas.  Vota por esta noticia:\n"
      ]
    },
    {
      "cell_type": "code",
      "execution_count": 112,
      "metadata": {
        "colab": {
          "base_uri": "https://localhost:8080/"
        },
        "id": "RhIZpnAZQh1a",
        "outputId": "c7959676-a7be-4974-e282-eeb592dc3e07"
      },
      "outputs": [
        {
          "name": "stdout",
          "output_type": "stream",
          "text": [
            "accidente aéreo Sacarán el avión con helicópteros de la Fuerza Aérea argentina Esta tarde extraerán la aeronave del Río de la Plata. El Ministerio de Defensa realizó al mediodía una reunión para definir cómo sacarán el avión accidentado. Esta madrugada trasladaron el cuerpo del piloto a Argentina. El accidente ocurrió el martes pasado a 10 kilómetros de Carmelo. Foto: P. Clavijo Temas Iniciarían hoy la extracción del avión vie may 30 2014 12:55 Esta tarde será extraído el avión accidentado el martes pasado en el Río de la Plata, a 10 kilómetros de la ciudad de Carmelo, Colonia. Colaborarán uno o dos helicópteros de la Fuerza Aérea argentina, a pedido del Ministerio de Defensa, informó a El País Jorge Menéndez, subsecretario de esa cartera de Estado.   Aún no está definida exactamente la forma de extracción, que se establecerá en las próximas horas y en ella influirá también el estado del tiempo. Al mediodía se realizó \"la reunión de preparación entre los actores para determinar la forma y el momento, pero va a ser en el correr de la tarde. En principio se va a hacer con fuerzas del Ministerio de Defensa, la Prefectura, del Ejército y desde el Ministerio de Defensa pedimos, en base a un ofrecimiento que tuvimos, la colaboración de la Fuerza Aérea argentina con helicópteros apropiados para levantar este tipo de pesos que en Uruguay no existen\", afirmó Menéndez. El avión será trasladado a Montevideo para que la Comisión Investigadora de Accidentes e Incidentes de Aviación (Ciaia) comience a investigar las causas del accidente aéreo.  Piloto. Esta madrugada trasladaron los restos de Leandro Larriera, piloto del avión accidentado el martes pasado en el Río de la Plata, a Buenos Aires. Tras las pericias forenses realizadas en segunda instancia en Colonia, la empresa Cordoez Aguirre reacondicionó el cuerpo y a las 4:30 trasladó el féretro desde el puerto de Colonia. Una segunda pericia forense solicitada por la justicia uruguaya motivó un insólito trasiego del féretro del piloto y retrasó el traslado de sus restos a Buenos Aires.  Aunque existía una autorización para el traslado del ataúd, cuando el vehículo de la empresa fúnebre Cordobez Aguirre arribó al puerto de Colonia, a las 16:20 horas, llegó una orden de la jueza Alexandra Facal, de no embarcarlo, debido a la necesidad de llevar a cabo una nueva pericia forense. Los propios familiares de la víctima ya habían retornado a Argentina, y esperaban el cuerpo de Larriera a las 17:30 en Buenos Aires. Tras las actuaciones correspondientes, de las que participó el cónsul César Mata y otros funcionarios, se resolvió trasladar el cuerpo a la morgue judicial, ubicada en el Cementerio de Colonia. Vota por esta noticia:\n",
            "\n"
          ]
        }
      ],
      "source": [
        "print(lines_3922[17138])"
      ]
    },
    {
      "cell_type": "markdown",
      "metadata": {
        "id": "TlNJTTgUQlzA"
      },
      "source": [
        "accidente aéreo Sacarán el avión con helicópteros de la Fuerza Aérea argentina Esta tarde extraerán la aeronave del Río de la Plata. El Ministerio de Defensa realizó al mediodía una reunión para definir cómo sacarán el avión accidentado. Esta madrugada trasladaron el cuerpo del piloto a Argentina. El accidente ocurrió el martes pasado a 10 kilómetros de Carmelo. `Foto: P. Clavijo` Temas Iniciarían hoy la extracción del avión vie may 30 2014 12:55 Esta tarde será extraído el avión accidentado el martes pasado en el Río de la Plata, a 10 kilómetros de la ciudad de Carmelo, Colonia. Colaborarán uno o dos helicópteros de la Fuerza Aérea argentina, a pedido del Ministerio de Defensa, informó a El País Jorge Menéndez, subsecretario de esa cartera de Estado.   Aún no está definida exactamente la forma de extracción, que se establecerá en las próximas horas y en ella influirá también el estado del tiempo. Al mediodía se realizó \"la reunión de preparación entre los actores para determinar la forma y el momento, pero va a ser en el correr de la tarde. En principio se va a hacer con fuerzas del Ministerio de Defensa, la Prefectura, del Ejército y desde el Ministerio de Defensa pedimos, en base a un ofrecimiento que tuvimos, la colaboración de la Fuerza Aérea argentina con helicópteros apropiados para levantar este tipo de pesos que en Uruguay no existen\", afirmó Menéndez. El avión será trasladado a Montevideo para que la Comisión Investigadora de Accidentes e Incidentes de Aviación (Ciaia) comience a investigar las causas del accidente aéreo.  Piloto. Esta madrugada trasladaron los restos de Leandro Larriera, piloto del avión accidentado el martes pasado en el Río de la Plata, a Buenos Aires. Tras las pericias forenses realizadas en segunda instancia en Colonia, la empresa Cordoez Aguirre reacondicionó el cuerpo y a las 4:30 trasladó el féretro desde el puerto de Colonia. Una segunda pericia forense solicitada por la justicia uruguaya motivó un insólito trasiego del féretro del piloto y retrasó el traslado de sus restos a Buenos Aires.  Aunque existía una autorización para el traslado del ataúd, cuando el vehículo de la empresa fúnebre Cordobez Aguirre arribó al puerto de Colonia, a las 16:20 horas, llegó una orden de la jueza Alexandra Facal, de no embarcarlo, debido a la necesidad de llevar a cabo una nueva pericia forense. Los propios familiares de la víctima ya habían retornado a Argentina, y esperaban el cuerpo de Larriera a las 17:30 en Buenos Aires. Tras las actuaciones correspondientes, de las que participó el cónsul César Mata y otros funcionarios, se resolvió trasladar el cuerpo a la morgue judicial, ubicada en el Cementerio de Colonia. Vota por esta noticia:\n"
      ]
    },
    {
      "cell_type": "markdown",
      "metadata": {
        "id": "dhdLg43VRL-r"
      },
      "source": [
        "### Practicamente todo el siguiente texto"
      ]
    },
    {
      "cell_type": "code",
      "execution_count": 113,
      "metadata": {
        "colab": {
          "base_uri": "https://localhost:8080/"
        },
        "id": "HaZxltWeRLeA",
        "outputId": "a3a76ac3-e133-42de-b33e-7bc5371ec39b"
      },
      "outputs": [
        {
          "name": "stdout",
          "output_type": "stream",
          "text": [
            "Limpieza del hogar con nueva línea de Lysoform ¿Te interesa esta noticia?   La compañía SC Johnson & Son presentó el nuevo Lysoform Aerosol en versión pocket de 55 cm3. La marca Lysoform en versión pocket elimina en un 99.9% virus y bacterias. Además, posee una presentación pequeña y compacta, que facilita su traslado del producto para hacer más fácil la vida cotidiana. Baños, vestuarios, transportes, oficinas, teléfonos, cambiadores de bebé, ascensores y picaportes integran una larga lista de aplicaciones de la marca de desinfección del hogar. Ver Comentarios Filtrar por: Si desea comentar los contenidos de nuestras noticias, utilice el formulario y envíenos su comentario. REGLAS Y NORMAS Procesando.. Usuario: Solo usuarios registrados pueden comentar y/o denunciar. Mantenga y vigile el nivel de debate y recuerde que nuestras Normas de Participación implican obligaciones y responsabilidades. Contraseña: | cancelar | Si usted considera que se ha incurrido agravios o no se respeta el reglamento de esta sección, puede DENUNCIAR al autor. En ese caso, automáticamente ese mensaje desaparece y es enviado al correo del Administrador de Foros/Comentarios. El Administrador puede avalar su decisión o discrepar con ella, en cuyo caso el mensaje es restituido. Se advierte que la reiteración de violaciones al reglamento, tanto como la reiteración de Denuncias injustificadas, pueden determinar que el usuario sea borrado del registro, perdiendo sus privilegios por seis meses. El País Digital se reserva el derecho de editar los mensajes que usted envíe a los efectos de su mejor comprensión por otros usuarios. Nuevo seudonimo: Maximo caractéres: 600 ( restan: 600 Cuando ellos se convierten en papás primerizos mejora su imagen en el mundo laboral, aunque las empresas uruguayas en general no tienen políticas que atiendan esta realidad. :: El Empresario :: En EE.UU. protegen al rodeo de los coyotes y en Uruguay su uso es incipiente. :: El Empresario :: Nació en Montevideo hace 50 años. Se recibió de ingeniero agrónomo pero se especializó en Marketing, desde los 24 años siendo parte de la empresa y, gracias a ella, haciendo pasantías en otras en el exterior. Hoy, junto a otros .. :: El Empresario :: La representación local del grupo noruego Ragasco negocia con las distribuidoras de supergás la incorporación de una nuevas garrafas que se utilizan en Europa, Estados Unidos y países latinoamericanos como Venezuela y Chile. :: El Empresario :: La cadena dará un giro a su comunicación en busca de jugar fuerte como supermercado. :: El Empresario :: Los programas combinan clases online con algunos cursos presenciales permitiendo a más aspirantes sumarse a la maestría. :: El Empresario :: China, India, Brasil y Rusia sustituyen a EE.UU. y Europa como los mayores compradores de empresas. :: El Empresario ::\n",
            "\n"
          ]
        }
      ],
      "source": [
        "print(lines_3922[19825])"
      ]
    },
    {
      "cell_type": "markdown",
      "metadata": {
        "id": "8znPoKavRaPy"
      },
      "source": [
        "Limpieza del hogar con nueva línea de Lysoform ¿Te interesa esta noticia?   La compañía SC Johnson & Son presentó el nuevo Lysoform Aerosol en versión pocket de 55 cm3. La marca Lysoform en versión pocket elimina en un 99.9% virus y bacterias. Además, posee una presentación pequeña y compacta, que facilita su traslado del producto para hacer más fácil la vida cotidiana. Baños, vestuarios, transportes, oficinas, teléfonos, cambiadores de bebé, ascensores y picaportes integran una larga lista de aplicaciones de la marca de desinfección del hogar. Ver Comentarios Filtrar por: Si desea comentar los contenidos de nuestras noticias, utilice el formulario y envíenos su comentario. REGLAS Y NORMAS Procesando.. Usuario: Solo usuarios registrados pueden comentar y/o denunciar. Mantenga y vigile el nivel de debate y recuerde que nuestras Normas de Participación implican obligaciones y responsabilidades. Contraseña: | cancelar | Si usted considera que se ha incurrido agravios o no se respeta el reglamento de esta sección, puede DENUNCIAR al autor. En ese caso, automáticamente ese mensaje desaparece y es enviado al correo del Administrador de Foros/Comentarios. El Administrador puede avalar su decisión o discrepar con ella, en cuyo caso el mensaje es restituido. Se advierte que la reiteración de violaciones al reglamento, tanto como la reiteración de Denuncias injustificadas, pueden determinar que el usuario sea borrado del registro, perdiendo sus privilegios por seis meses. El País Digital se reserva el derecho de editar los mensajes que usted envíe a los efectos de su mejor comprensión por otros usuarios. Nuevo seudonimo: Maximo caractéres: 600 ( restan: 600 Cuando ellos se convierten en papás primerizos mejora su imagen en el mundo laboral, aunque las empresas uruguayas en general no tienen políticas que atiendan esta realidad. :: El Empresario :: En EE.UU. protegen al rodeo de los coyotes y en Uruguay su uso es incipiente. :: El Empresario :: Nació en Montevideo hace 50 años. Se recibió de ingeniero agrónomo pero se especializó en Marketing, desde los 24 años siendo parte de la empresa y, gracias a ella, haciendo pasantías en otras en el exterior. Hoy, junto a otros .. :: El Empresario :: La representación local del grupo noruego Ragasco negocia con las distribuidoras de supergás la incorporación de una nuevas garrafas que se utilizan en Europa, Estados Unidos y países latinoamericanos como Venezuela y Chile. :: El Empresario :: La cadena dará un giro a su comunicación en busca de jugar fuerte como supermercado. :: El Empresario :: Los programas combinan clases online con algunos cursos presenciales permitiendo a más aspirantes sumarse a la maestría. :: El Empresario :: China, India, Brasil y Rusia sustituyen a EE.UU. y Europa como los mayores compradores de empresas. :: El Empresario ::\n"
      ]
    },
    {
      "cell_type": "markdown",
      "metadata": {
        "id": "3F-mL7NWSFeX"
      },
      "source": [
        "### el siguiente parece ser fecha y hora de publicacion + titular"
      ]
    },
    {
      "cell_type": "code",
      "execution_count": 114,
      "metadata": {
        "colab": {
          "base_uri": "https://localhost:8080/"
        },
        "id": "n1JYRrmySFeY",
        "outputId": "72cb7a68-9c9f-483e-c614-0e639780cbb6"
      },
      "outputs": [
        {
          "name": "stdout",
          "output_type": "stream",
          "text": [
            "Patronal del taxi movilizará 100 unidades al día hacia Economía La Patronal del Taxi aprobó por unanimidad \"descolgarse\" de los convenios de salarios, continuará enviando al seguro de paro a los choferes, movilizará 100 unidades por día hacia el Ministerio de Economía, y se opone a la entrega de más chapas. 14 agosto 2014 | 04:00 La Intendencia de Montevideo aseguró ayer que \"no quedan partidas\" de dinero por rendir cuentas y acusó a El País de \"atacar con intencionalidad política a la institución\" y \"arrojar sombras sobre el honor de las personas\". 12 agosto 2014 | 12:27 Vecinos denunciaron ruidos molestos y picadas que motivaron un operativo en conjunto con la Policía y el INAU. 12 agosto 2014 | 04:00 La Intendencia de Montevideo realizó 353 investigaciones administrativas en un año y destituyó a seis personas; en tanto la Justicia procesó a cinco de sus funcionarios. La Jurídica de IMM incrementó el número de expedientes tratados en 2013. 12 agosto 2014 | 04:00 Tres de los nuevos contenedores de residuos ubicados en el centro de Montevideo fueron quemados durante la madrugada del domingo y uno de los responsables fue detenido por la Policía. 10 agosto 2014 | 04:00 ¿Y usted con qué sueña? Todos tenemos derecho a soñar; es más, yo diría que tenemos el deber de hacerlo. Qué infelices deben ser las personas que no tienen sueños. A través de la edición del viernes de El País me enteré que la Intendencia capitalina tiene una página web denominada Proyecto Montevideo 2030, en la que todos podemos proponer ideas y sueños. 09 agosto 2014 | 04:00 De cara al 2030 la Intendencia de Montevideo propuso un debate en torno a los espacios públicos y grafitis. La mayoría coincide en que el enchastre no aporta a la convivencia, y el grafiti o los murales son otra cosa. 07 agosto 2014 | 13:50 La Intendencia de Montevideo incautó miles de medicamentos en ferias de la ciudad, algunos tenían el sello de ASSE. 07 agosto 2014 | 04:00 Mientras en la familia del taxi prosigue el conflicto por el envío al seguro de paro de 25 radiotelefonistas, los trabajadores sindicalizados en el Suatt criticaron con dureza las nuevas medidas de la Patronal que afectarían a 1.500 choferes. 07 agosto 2014 | 04:00 El Servicio de Inspección General de la Intendencia de Montevideo realizó diversos operativos en periferias de toda la ciudad. 05 agosto 2014 | 09:12 La concesión estaba vencida desde 2007 y la comuna estaba recibiendo $ 30.000 de canon más ajustes mensuales por IPC, lo que fue cuestionado por la oposición. Ahora el canon mínimo anual que pide la comuna es de $ 658.000. 05 agosto 2014 | 04:24 Adeom presentó ante la Comisión de Derechos Humanos de la Junta Departamental unos 25 casos de \"discriminación\" a funcionarios discapacitados o con problemas de salud. Algunos de los trabajadores afectados dieron sus testimonios. 05 agosto 2014 | 04:00 La Intendencia de Montevideo lanzó una licitación para comercializar el inmueble ubicado en la manzana comprendida entre Arenal Grande, Democracia y Gutiérrez, (ex Escuela de Varones). 04 agosto 2014 | 15:32 Las denuncias ante la comuna capitalina se presenten a través de la aplicación \"Por mi barrio\". 04 agosto 2014 | 09:44 Cayó árbol y dejó un cráter en la vereda Un árbol se desplomó en la madrugada del domingo sobre una casa de Carrasco, ubicada en Avenida Bolivia y Beyrouth. El incidente no provocó personas fallecidas ni heridos, según comentó a El País una mujer que habita justo en la casa de enfrente. 03 agosto 2014 | 04:04 El edificio del excine Trocadero será subdividido para la creación de cinco locales comerciales, que se sumarán al inaugurado en su majestuoso hall. La intendencia de Montevideo quiso impedirlo, pero fracasó por falta de herramientas legales. 02 agosto 2014 | 04:23 Después de recientes cuestionadas y cuestionables demoliciones de fincas con valores estéticos o históricos, la Intendencia de Montevideo está puliendo un proyecto de decreto para crear nuevas figuras de protección patrimonial. 01 agosto 2014 | 04:00 La jueza penal Beatriz Larrieu desarchivó el expediente en donde el ex edil nacionalista Daniel Graffigna demandó a jerarcas de la IMM por omisión y negligencia, después de la caída del techo del Cilindro Municipal, ocurrida en 2010. 31 julio 2014 | 09:38 La Intendencia de Montevideo afirma que entre el sábado y el lunes pasado fueron quemados 11 contenedores en el Centro y Ciudad Vieja. 31 julio 2014 | 04:00\n",
            "\n"
          ]
        }
      ],
      "source": [
        "print(lines_3922[30278])"
      ]
    },
    {
      "cell_type": "markdown",
      "metadata": {
        "id": "YEyElImlSOQ7"
      },
      "source": [
        "Patronal del taxi movilizará 100 unidades al día hacia Economía La Patronal del Taxi aprobó por unanimidad \"descolgarse\" de los convenios de salarios, continuará enviando al seguro de paro a los choferes, movilizará 100 unidades por día hacia el Ministerio de Economía, y se opone a la entrega de más chapas. 14 agosto 2014 | 04:00 La Intendencia de Montevideo aseguró ayer que \"no quedan partidas\" de dinero por rendir cuentas y acusó a El País de \"atacar con intencionalidad política a la institución\" y \"arrojar sombras sobre el honor de las personas\". 12 agosto 2014 | 12:27 Vecinos denunciaron ruidos molestos y picadas que motivaron un operativo en conjunto con la Policía y el INAU. 12 agosto 2014 | 04:00 La Intendencia de Montevideo realizó 353 investigaciones administrativas en un año y destituyó a seis personas; en tanto la Justicia procesó a cinco de sus funcionarios. La Jurídica de IMM incrementó el número de expedientes tratados en 2013. 12 agosto 2014 | 04:00 Tres de los nuevos contenedores de residuos ubicados en el centro de Montevideo fueron quemados durante la madrugada del domingo y uno de los responsables fue detenido por la Policía. 10 agosto 2014 | 04:00 ¿Y usted con qué sueña? Todos tenemos derecho a soñar; es más, yo diría que tenemos el deber de hacerlo. Qué infelices deben ser las personas que no tienen sueños. A través de la edición del viernes de El País me enteré que la Intendencia capitalina tiene una página web denominada Proyecto Montevideo 2030, en la que todos podemos proponer ideas y sueños. 09 agosto 2014 | 04:00 De cara al 2030 la Intendencia de Montevideo propuso un debate en torno a los espacios públicos y grafitis. La mayoría coincide en que el enchastre no aporta a la convivencia, y el grafiti o los murales son otra cosa. 07 agosto 2014 | 13:50 La Intendencia de Montevideo incautó miles de medicamentos en ferias de la ciudad, algunos tenían el sello de ASSE. 07 agosto 2014 | 04:00 Mientras en la familia del taxi prosigue el conflicto por el envío al seguro de paro de 25 radiotelefonistas, los trabajadores sindicalizados en el Suatt criticaron con dureza las nuevas medidas de la Patronal que afectarían a 1.500 choferes. 07 agosto 2014 | 04:00 El Servicio de Inspección General de la Intendencia de Montevideo realizó diversos operativos en periferias de toda la ciudad. 05 agosto 2014 | 09:12 La concesión estaba vencida desde 2007 y la comuna estaba recibiendo $ 30.000 de canon más ajustes mensuales por IPC, lo que fue cuestionado por la oposición. Ahora el canon mínimo anual que pide la comuna es de $ 658.000. 05 agosto 2014 | 04:24 Adeom presentó ante la Comisión de Derechos Humanos de la Junta Departamental unos 25 casos de \"discriminación\" a funcionarios discapacitados o con problemas de salud. Algunos de los trabajadores afectados dieron sus testimonios. 05 agosto 2014 | 04:00 La Intendencia de Montevideo lanzó una licitación para comercializar el inmueble ubicado en la manzana comprendida entre Arenal Grande, Democracia y Gutiérrez, (ex Escuela de Varones). 04 agosto 2014 | 15:32 Las denuncias ante la comuna capitalina se presenten a través de la aplicación \"Por mi barrio\". 04 agosto 2014 | 09:44 Cayó árbol y dejó un cráter en la vereda Un árbol se desplomó en la madrugada del domingo sobre una casa de Carrasco, ubicada en Avenida Bolivia y Beyrouth. El incidente no provocó personas fallecidas ni heridos, según comentó a El País una mujer que habita justo en la casa de enfrente. 03 agosto 2014 | 04:04 El edificio del excine Trocadero será subdividido para la creación de cinco locales comerciales, que se sumarán al inaugurado en su majestuoso hall. La intendencia de Montevideo quiso impedirlo, pero fracasó por falta de herramientas legales. 02 agosto 2014 | 04:23 Después de recientes cuestionadas y cuestionables demoliciones de fincas con valores estéticos o históricos, la Intendencia de Montevideo está puliendo un proyecto de decreto para crear nuevas figuras de protección patrimonial. 01 agosto 2014 | 04:00 La jueza penal Beatriz Larrieu desarchivó el expediente en donde el ex edil nacionalista Daniel Graffigna demandó a jerarcas de la IMM por omisión y negligencia, después de la caída del techo del Cilindro Municipal, ocurrida en 2010. 31 julio 2014 | 09:38 La Intendencia de Montevideo afirma que entre el sábado y el lunes pasado fueron quemados 11 contenedores en el Centro y Ciudad Vieja. 31 julio 2014 | 04:00\n"
      ]
    },
    {
      "cell_type": "markdown",
      "metadata": {
        "id": "DDEwiZqbTYd2"
      },
      "source": [
        "### Texto \"Otras notas de Editorial\""
      ]
    },
    {
      "cell_type": "code",
      "execution_count": 115,
      "metadata": {
        "colab": {
          "base_uri": "https://localhost:8080/"
        },
        "id": "qlqZhrw_TbUD",
        "outputId": "cbea836f-8563-446a-82ac-66d4618511b0"
      },
      "outputs": [
        {
          "data": {
            "text/plain": [
              "'Los efectivos militares están siendo repatriados desde Haití a Uruguay para continuar la investigación. :: Último Momento :: Meteorología pronostica que las máximas serán de 16° y las mínimas de 11°. :: Ciudades :: La Policía prestará especial atención a la vigilancia en las zonas aledañas al Montevideo Shopping, donde el domingo falleció un adolescente de 16 años a manos de un joven de 19, tras una grave trifulca, y monitorea mensajes .. :: Internacional :: La Justicia argentina buscaba ayer a los culpables del homicidio de Candela Rodríguez, la niña de 11 años cuyo cuerpo apareció en una bolsa luego de permanecer nueve días secuestrada. :: Último Momento :: La trágica noticia la confirmó el ministro de Defensa chileno, Andrés Allamand. :: Fútbol Nacional :: Peñarol lidera y espera Peñarol le ganó a Defensor Sporting 1 a 0, con gol de Walter López y es líder provisorio del Torneo Apertura, con 10 puntos. Los aurinegros esperan un tropiezo de Danubio, con 9 puntos ganados en tres partidos, mañana ante Rampla .. :: Basketball :: La selección uruguaya de básquetbol le ganó a su similar de Paraguay por 79 a 66, en su último partido de la fase inicial del Preolímpico de Mar de Plata. :: Nacional :: Los abogados defensores de Arana, Muñoz y Rosselli criticaron la falta de garantías en el proceso judicial por el caso de los casinos municipales: aducen que los exjerarcas de la IMM declararon en el juzgado en calidad de .. :: Nacional :: El sector del presidente Mujica dice que se tiene que ir hacia la \"revolución\" y el \"socialismo\". Los liderados por Michelini sostienen que \"no es legítimo imponer\" esa lectura al FA. :: Futbol Internacional :: La UEFA anunció que Diego Forlán no podrá jugar por el Inter en la fase de grupos de la Liga de Campeones por haber jugado con el Atlético la Europa League. Otras notas de Editorial\\n'"
            ]
          },
          "execution_count": 115,
          "metadata": {},
          "output_type": "execute_result"
        }
      ],
      "source": [
        "lines_3922[26340]"
      ]
    },
    {
      "cell_type": "markdown",
      "metadata": {
        "id": "19zfzyQWTaiS"
      },
      "source": [
        "Los efectivos militares están siendo repatriados desde Haití a Uruguay para continuar la investigación. :: Último Momento :: Meteorología pronostica que las máximas serán de 16° y las mínimas de 11°. :: Ciudades :: La Policía prestará especial atención a la vigilancia en las zonas aledañas al Montevideo Shopping, donde el domingo falleció un adolescente de 16 años a manos de un joven de 19, tras una grave trifulca, y monitorea mensajes .. :: Internacional :: La Justicia argentina buscaba ayer a los culpables del homicidio de Candela Rodríguez, la niña de 11 años cuyo cuerpo apareció en una bolsa luego de permanecer nueve días secuestrada. :: Último Momento :: La trágica noticia la confirmó el ministro de Defensa chileno, Andrés Allamand. :: Fútbol Nacional :: Peñarol lidera y espera Peñarol le ganó a Defensor Sporting 1 a 0, con gol de Walter López y es líder provisorio del Torneo Apertura, con 10 puntos. Los aurinegros esperan un tropiezo de Danubio, con 9 puntos ganados en tres partidos, mañana ante Rampla .. :: Basketball :: La selección uruguaya de básquetbol le ganó a su similar de Paraguay por 79 a 66, en su último partido de la fase inicial del Preolímpico de Mar de Plata. :: Nacional :: Los abogados defensores de Arana, Muñoz y Rosselli criticaron la falta de garantías en el proceso judicial por el caso de los casinos municipales: aducen que los exjerarcas de la IMM declararon en el juzgado en calidad de .. :: Nacional :: El sector del presidente Mujica dice que se tiene que ir hacia la \"revolución\" y el \"socialismo\". Los liderados por Michelini sostienen que \"no es legítimo imponer\" esa lectura al FA. :: Futbol Internacional :: La UEFA anunció que Diego Forlán no podrá jugar por el Inter en la fase de grupos de la Liga de Campeones por haber jugado con el Atlético la Europa League. `Otras notas de Editorial`\\n"
      ]
    },
    {
      "cell_type": "markdown",
      "metadata": {
        "id": "HaWqoEoMUAHv"
      },
      "source": [
        "### Texto \"EL PAÍS digital\" al final."
      ]
    },
    {
      "cell_type": "code",
      "execution_count": 116,
      "metadata": {
        "colab": {
          "base_uri": "https://localhost:8080/"
        },
        "id": "Olc8kpyDUFr7",
        "outputId": "6ec3b86a-3be7-4d2c-c796-04f9f2771332"
      },
      "outputs": [
        {
          "data": {
            "text/plain": [
              "'Destacados policiales Accidente con saldo fatal en el Cordón Un violento choque entre un Peugeot 106 y un taxímetro en la esquina de Maldonado y Juan Manuel Blanes dejó el saldo de una persona muerta y otra con traumatismos leves, informó a EL PAÍS digital el jefe de prensa de Bomberos Carlos Nicola. Pablo Durán, de 25 años, que viajaba en el Peugeot perdió la vida a causa de la colisión, explicó Nicola. Un tercer ocupante de ese vehículo, de 26 años, resultó con traumatismos leves y fue atendido en el lugar por un móvil de emergencia médica. Tanto el conductor del auto como el cuarto pasajero resultaron ilesos del accidente. La misma fortuna tuvo el chofer del taxímetro que al momento del choque no llevaba pasaje. El conductor del auto expresó que circulaba por Blanes y al llegar a Maldonado cruzó el semáforo con luz roja, colisionando con el taxímetro. Un cuidacoches le parte la cabeza a otro con un bate de béisbol En horas de la tardecita de ayer, efectivos policiales concurrieron a la calle Enrique Legrand y Rivera, ya que una persona se encontraba caída en la vía pública. En el lugar se supo que un hombre de 42 años, cuidacoches del lugar, había mantenido una discusión con otro sujeto por el lugar. En determinado momento, este último sacó un bate de béisbol de su bolso y le pegó en la cabeza. Al tiempo que el herido caía al pavimento el agresor se dio rápidamente a la fuga. El hombre herido fue atendido por un móvil de emergencia donde se le diagnosticó \"traumatismo encéfalo craneano frontotemporal izquierdo\", siendo derivado al Hospital de Clínicas. Investiga lo ocurrido la seccional 11ra. Seis menores rapiñaron casa de venta de ropa deportiva Ocurrió ayer en la tienda ubicada en 21 de Setiembre y José Ellauri. La víctima, de 26 años, dijo a la Policía que cerca de las 18 horas ingresaron seis sujetos al local \\x97aparentemente menores de edad\\x97 solicitando precios de varios artículos. Se retiraron pero regresaron poco tiempo después gritando y amenazando a la encargada del comercio. Robaron dinero y una gran cantidad de artículos deportivos. Los delincuentes se dieron posteriormente a la fuga en un taxímetro. Investiga personal de la seccional 10ma. El comercio posee seguro. Tres menores rapiñan ómnibus de Raincoop Efectivos de Radio Patrulla concurrieron ayer a Juan José de Amezaga y Democracia. En ese lugar el chofer y guarda del coche de la Línea 79, con destino Ciudadela, denunciaron que cerca de las 21.00 horas partieron de la Terminal de Villa Española, donde subieron tres desconocidos de entre 13 y 14 años. Momentos después fueron amenazados con un arma de fuego, robándoles dinero y objetos personales, para darse luego rápidamente a la fuga. Investiga el delito la Comisariía 4ta. Rapiña a ómnibus de la empresa Coetc A las 11.10 horas de hoy, el vehículo con destino Saint Bois llegó hasta ese lugar, cuando el conductor observa que quedaba un único pasajero en el fondo el cual se había quedado dormido. Cuando se dirige a despertarlo, el sujeto saca una cuchilla de sus ropas y se la pone en el cuello al trabajador del transporte. Luego de conseguir sustraer el dinero recaudado se da rápidamente a la fuga. Efectivos de la seccional 21a. recorrieron la zona sin lograr hasta el momento resultados positivos. EL PAÍS digital\\n'"
            ]
          },
          "execution_count": 116,
          "metadata": {},
          "output_type": "execute_result"
        }
      ],
      "source": [
        "lines_3922[25704]"
      ]
    },
    {
      "cell_type": "markdown",
      "metadata": {
        "id": "fkcVnpK2UJ5l"
      },
      "source": [
        "Destacados policiales Accidente con saldo fatal en el Cordón Un violento choque entre un Peugeot 106 y un taxímetro en la esquina de Maldonado y Juan Manuel Blanes dejó el saldo de una persona muerta y otra con traumatismos leves, informó a EL PAÍS digital el jefe de prensa de Bomberos Carlos Nicola. Pablo Durán, de 25 años, que viajaba en el Peugeot perdió la vida a causa de la colisión, explicó Nicola. Un tercer ocupante de ese vehículo, de 26 años, resultó con traumatismos leves y fue atendido en el lugar por un móvil de emergencia médica. Tanto el conductor del auto como el cuarto pasajero resultaron ilesos del accidente. La misma fortuna tuvo el chofer del taxímetro que al momento del choque no llevaba pasaje. El conductor del auto expresó que circulaba por Blanes y al llegar a Maldonado cruzó el semáforo con luz roja, colisionando con el taxímetro. Un cuidacoches le parte la cabeza a otro con un bate de béisbol En horas de la tardecita de ayer, efectivos policiales concurrieron a la calle Enrique Legrand y Rivera, ya que una persona se encontraba caída en la vía pública. En el lugar se supo que un hombre de 42 años, cuidacoches del lugar, había mantenido una discusión con otro sujeto por el lugar. En determinado momento, este último sacó un bate de béisbol de su bolso y le pegó en la cabeza. Al tiempo que el herido caía al pavimento el agresor se dio rápidamente a la fuga. El hombre herido fue atendido por un móvil de emergencia donde se le diagnosticó \"traumatismo encéfalo craneano frontotemporal izquierdo\", siendo derivado al Hospital de Clínicas. Investiga lo ocurrido la seccional 11ra. Seis menores rapiñaron casa de venta de ropa deportiva Ocurrió ayer en la tienda ubicada en 21 de Setiembre y José Ellauri. La víctima, de 26 años, dijo a la Policía que cerca de las 18 horas ingresaron seis sujetos al local aparentemente menores de edad solicitando precios de varios artículos. Se retiraron pero regresaron poco tiempo después gritando y amenazando a la encargada del comercio. Robaron dinero y una gran cantidad de artículos deportivos. Los delincuentes se dieron posteriormente a la fuga en un taxímetro. Investiga personal de la seccional 10ma. El comercio posee seguro. Tres menores rapiñan ómnibus de Raincoop Efectivos de Radio Patrulla concurrieron ayer a Juan José de Amezaga y Democracia. En ese lugar el chofer y guarda del coche de la Línea 79, con destino Ciudadela, denunciaron que cerca de las 21.00 horas partieron de la Terminal de Villa Española, donde subieron tres desconocidos de entre 13 y 14 años. Momentos después fueron amenazados con un arma de fuego, robándoles dinero y objetos personales, para darse luego rápidamente a la fuga. Investiga el delito la Comisariía 4ta. Rapiña a ómnibus de la empresa Coetc A las 11.10 horas de hoy, el vehículo con destino Saint Bois llegó hasta ese lugar, cuando el conductor observa que quedaba un único pasajero en el fondo el cual se había quedado dormido. Cuando se dirige a despertarlo, el sujeto saca una cuchilla de sus ropas y se la pone en el cuello al trabajador del transporte. Luego de conseguir sustraer el dinero recaudado se da rápidamente a la fuga. Efectivos de la seccional 21a. recorrieron la zona sin lograr hasta el momento resultados positivos. `EL PAÍS digital`\n"
      ]
    },
    {
      "cell_type": "markdown",
      "metadata": {
        "id": "7grwfLUhViib"
      },
      "source": [
        "### Texto con formato (creo que al inicio):  \"Montevideo, Uruguay | 05:34   - aa aa |\""
      ]
    },
    {
      "cell_type": "code",
      "execution_count": 117,
      "metadata": {
        "colab": {
          "base_uri": "https://localhost:8080/"
        },
        "id": "f99PI4S0VzIT",
        "outputId": "b732b2bf-9ff5-4901-fd89-7b3a6f4af526"
      },
      "outputs": [
        {
          "data": {
            "text/plain": [
              "'Montevideo, Uruguay | 05:34   - Economía Informe | Considera alentadora la performance de la construcción aunque la ve muy dependiente de las plantas de celulosa y de Punta del Este Para Cinve la importación de maquinaria está enlentecida La compra de bienes de capital podría ser un indicio inquietante sobre la evolución que tendrá la inversión El Centro de Investigaciones Económicas (Cinve) puso una \"nota de alerta\" sobre \"el pobre\" desempeño reciente de las importaciones de bienes de capital y el efecto de esto sobre el nivel de la inversión futura. En su reporte del viernes 28 sobre Actividad y Comercio se evaluó el comportamiento de varios indicadores que podrían adelantar la evolución del Producto Interno Bruto en los últimos meses del año. Luego de repasar los indicadores sobre industria, importaciones y recaudación el Cinve sostiene que si bien la economía \"está desacelerándose -como era normal y esperado- no lo estaría haciendo a un ritmo mayor al previsto\". La evolución de la importación de bienes de capital es el único indicador que no está mostrando señales alentadoras. Según las estimaciones de Cinve en base a los datos del Banco Central del Uruguay, la tasa de crecimiento subyacente a junio de 2006 \"es incluso levemente negativa\" en 2,3%. Este indicador es el que brinda señales adelantadas de más largo plazo \"dado que pauta la evolución de la inversión física de la economía, condición necesaria para sustentar el crecimiento de los próximos años\". Para los técnicos del Cinve, \"resulta pertinente continuar monitoreando de forma cercana y atenta estos indicadores en los próximos meses\". En cambio, el informe destaca el crecimiento sostenido en la industria y en especial en las empresas manufactureras concentradas en la exportación. Además de las cifras oficiales, el Cinve también estudia la tendencia -excluyendo los comportamientos volátiles- de la industria. Según sus cálculos, la tendencia subyacente en ese sector sin la refinería se encuentra creciendo a un ritmo del orden de 10% anual a mayo de 2006. En el caso de las exportaciones la tendencia subyacente marca que las ventas se están incrementando a \"tasas aún elevadas\" superiores al 11%. La recaudación de impuestos por el consumo interno \"sigue aumentando a buen ritmo\". La suba subyacente de la recaudación de IVA interno era de 8,6% real a mayo de este año. Este indicador \"revela que el mercado interno está mostrando muy buen dinamismo\", destaca el informe. CONSTRUCCION. El reporte de Cinve corrigió al alza sus proyecciones de crecimiento de la construcción luego de los resultados del primer trimestre. Ahora estima que el sector crecerá 11% en el año y que en el primer semestre la suba será de 14,4% respecto a igual período de 2005. Según los técnicos de Cinve, en los primeros tres meses la construcción ingresó \"en una fase expansiva\" dado que crece por encima de su tendencia de largo plazo. Su comportamiento se explica por las plantas de celulosa y las obras en Punta del Este. Para Cinve el sector debe lograr un crecimiento no dependiente de esos factores coyunturales.  Utilidades\\n'"
            ]
          },
          "execution_count": 117,
          "metadata": {},
          "output_type": "execute_result"
        }
      ],
      "source": [
        "lines_3922[875]"
      ]
    },
    {
      "cell_type": "markdown",
      "metadata": {
        "id": "dQts1_l7V263"
      },
      "source": [
        "`Montevideo, Uruguay | 05:34   - Economía Informe | `Considera alentadora la performance de la construcción aunque la ve muy dependiente de las plantas de celulosa y de Punta del Este Para Cinve la importación de maquinaria está enlentecida La compra de bienes de capital podría ser un indicio inquietante sobre la evolución que tendrá la inversión El Centro de Investigaciones Económicas (Cinve) puso una \"nota de alerta\" sobre \"el pobre\" desempeño reciente de las importaciones de bienes de capital y el efecto de esto sobre el nivel de la inversión futura. En su reporte del viernes 28 sobre Actividad y Comercio se evaluó el comportamiento de varios indicadores que podrían adelantar la evolución del Producto Interno Bruto en los últimos meses del año. Luego de repasar los indicadores sobre industria, importaciones y recaudación el Cinve sostiene que si bien la economía \"está desacelerándose -como era normal y esperado- no lo estaría haciendo a un ritmo mayor al previsto\". La evolución de la importación de bienes de capital es el único indicador que no está mostrando señales alentadoras. Según las estimaciones de Cinve en base a los datos del Banco Central del Uruguay, la tasa de crecimiento subyacente a junio de 2006 \"es incluso levemente negativa\" en 2,3%. Este indicador es el que brinda señales adelantadas de más largo plazo \"dado que pauta la evolución de la inversión física de la economía, condición necesaria para sustentar el crecimiento de los próximos años\". Para los técnicos del Cinve, \"resulta pertinente continuar monitoreando de forma cercana y atenta estos indicadores en los próximos meses\". En cambio, el informe destaca el crecimiento sostenido en la industria y en especial en las empresas manufactureras concentradas en la exportación. Además de las cifras oficiales, el Cinve también estudia la tendencia -excluyendo los comportamientos volátiles- de la industria. Según sus cálculos, la tendencia subyacente en ese sector sin la refinería se encuentra creciendo a un ritmo del orden de 10% anual a mayo de 2006. En el caso de las exportaciones la tendencia subyacente marca que las ventas se están incrementando a \"tasas aún elevadas\" superiores al 11%. La recaudación de impuestos por el consumo interno \"sigue aumentando a buen ritmo\". La suba subyacente de la recaudación de IVA interno era de 8,6% real a mayo de este año. Este indicador \"revela que el mercado interno está mostrando muy buen dinamismo\", destaca el informe. CONSTRUCCION. El reporte de Cinve corrigió al alza sus proyecciones de crecimiento de la construcción luego de los resultados del primer trimestre. Ahora estima que el sector crecerá 11% en el año y que en el primer semestre la suba será de 14,4% respecto a igual período de 2005. Según los técnicos de Cinve, en los primeros tres meses la construcción ingresó \"en una fase expansiva\" dado que crece por encima de su tendencia de largo plazo. Su comportamiento se explica por las plantas de celulosa y las obras en Punta del Este. Para Cinve el sector debe lograr un crecimiento no dependiente de esos factores coyunturales.  Utilidades\n"
      ]
    }
  ],
  "metadata": {
    "colab": {
      "collapsed_sections": [
        "Jk6TzBInyUO9",
        "MnWjcSUgwaEf",
        "7-CN1Ro31eWm",
        "E4zb1FtX0sv3",
        "dNGrFptk239U",
        "76Df5cmN3PTD",
        "RFHi7JrI4fsB",
        "yL4NEqzu8uFR",
        "0qM7MSnFHzs4",
        "dhdLg43VRL-r",
        "3F-mL7NWSFeX",
        "DDEwiZqbTYd2",
        "HaWqoEoMUAHv",
        "7grwfLUhViib"
      ],
      "provenance": [],
      "toc_visible": true
    },
    "kernelspec": {
      "display_name": "Python 3.10.6 64-bit",
      "language": "python",
      "name": "python3"
    },
    "language_info": {
      "codemirror_mode": {
        "name": "ipython",
        "version": 3
      },
      "file_extension": ".py",
      "mimetype": "text/x-python",
      "name": "python",
      "nbconvert_exporter": "python",
      "pygments_lexer": "ipython3",
      "version": "3.10.6"
    },
    "vscode": {
      "interpreter": {
        "hash": "916dbcbb3f70747c44a77c7bcd40155683ae19c65e1c03b4aa3499c5328201f1"
      }
    }
  },
  "nbformat": 4,
  "nbformat_minor": 0
}

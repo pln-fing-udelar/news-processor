{
 "cells": [
  {
   "cell_type": "markdown",
   "metadata": {},
   "source": [
    "# Analisis de /output"
   ]
  },
  {
   "cell_type": "markdown",
   "metadata": {},
   "source": [
    "Este notebook hace un analisis del resultado de procesar los distintos diarios:\n",
    "* eliminando etiquetas,\n",
    "* extrayendo texto de JSON,\n",
    "* borrando articulos innecesarios (juegos de crucigrama),\n",
    "* eliminando articulos con caracteres extraños."
   ]
  },
  {
   "cell_type": "markdown",
   "metadata": {},
   "source": [
    "En caso de volver a ejecutar el analisis de los archivos, actualizar la tabla en [este link](https://docs.google.com/spreadsheets/d/1j7Vk2-hx3DwBIxWNb0of6ovTxoiH7DTyG-O9BTvaBt4/edit#gid=489649496), es un excel en \"modelo prensa uy/dataset_noticias/procesado/metadata_corpus\", tab 'texto_depurado'."
   ]
  },
  {
   "cell_type": "code",
   "execution_count": 17,
   "metadata": {},
   "outputs": [],
   "source": [
    "import pandas as pd\n",
    "from pathlib import Path"
   ]
  },
  {
   "cell_type": "markdown",
   "metadata": {},
   "source": [
    "## El pais"
   ]
  },
  {
   "cell_type": "code",
   "execution_count": 18,
   "metadata": {},
   "outputs": [
    {
     "name": "stdout",
     "output_type": "stream",
     "text": [
      "['../output/el_pais/el_pais.txt']\n"
     ]
    }
   ],
   "source": [
    "file_path = '../output/el_pais'\n",
    "el_pais_paths = [str(x) for x in Path(file_path).glob(\"*.txt\")]\n",
    "print(el_pais_paths)"
   ]
  },
  {
   "cell_type": "code",
   "execution_count": 19,
   "metadata": {},
   "outputs": [
    {
     "name": "stdout",
     "output_type": "stream",
     "text": [
      "ANALISIS ../output/el_pais/el_pais.txt\n",
      "  Cantidad de articulos: 284352\n",
      "  Largo promedio de noticia: 3316.65\n",
      "  Cantidad promedio de palabras por noticia: 549.49\n"
     ]
    }
   ],
   "source": [
    "resumen = []\n",
    "for path in el_pais_paths:\n",
    "  print(f'ANALISIS {path}')\n",
    "  \n",
    "  reader = open(path, \"r+\")\n",
    "  lines = reader.readlines()\n",
    "  cantidad = len(lines)\n",
    "  print(f'  Cantidad de articulos: {cantidad}')\n",
    "\n",
    "  largo_noticia = list(map(lambda line: len(line), lines))\n",
    "  promedio_largo_noticia = round(sum(largo_noticia)/len(largo_noticia), 2)\n",
    "  print(f'  Largo promedio de noticia: {promedio_largo_noticia}')\n",
    "\n",
    "  palabras_por_noticia = list(map(lambda line: len(line.split()), lines))\n",
    "  promedio_cantidad_palabras = round(sum(palabras_por_noticia)/len(palabras_por_noticia), 2)\n",
    "  print(f'  Cantidad promedio de palabras por noticia: {promedio_cantidad_palabras}')\n",
    "\n",
    "  resumen.append({'archivo': path, 'cant_articulos': cantidad, 'promedio_largo_noticias': promedio_largo_noticia, 'promedio_cantidad_palabras': promedio_cantidad_palabras})\n"
   ]
  },
  {
   "cell_type": "code",
   "execution_count": 20,
   "metadata": {},
   "outputs": [
    {
     "data": {
      "text/html": [
       "<div>\n",
       "<style scoped>\n",
       "    .dataframe tbody tr th:only-of-type {\n",
       "        vertical-align: middle;\n",
       "    }\n",
       "\n",
       "    .dataframe tbody tr th {\n",
       "        vertical-align: top;\n",
       "    }\n",
       "\n",
       "    .dataframe thead th {\n",
       "        text-align: right;\n",
       "    }\n",
       "</style>\n",
       "<table border=\"1\" class=\"dataframe\">\n",
       "  <thead>\n",
       "    <tr style=\"text-align: right;\">\n",
       "      <th></th>\n",
       "      <th>archivo</th>\n",
       "      <th>cant_articulos</th>\n",
       "      <th>promedio_largo_noticias</th>\n",
       "      <th>promedio_cantidad_palabras</th>\n",
       "    </tr>\n",
       "  </thead>\n",
       "  <tbody>\n",
       "    <tr>\n",
       "      <th>0</th>\n",
       "      <td>../output/el_pais/el_pais.txt</td>\n",
       "      <td>284352</td>\n",
       "      <td>3316.65</td>\n",
       "      <td>549.49</td>\n",
       "    </tr>\n",
       "  </tbody>\n",
       "</table>\n",
       "</div>"
      ],
      "text/plain": [
       "                         archivo  cant_articulos  promedio_largo_noticias  \\\n",
       "0  ../output/el_pais/el_pais.txt          284352                  3316.65   \n",
       "\n",
       "   promedio_cantidad_palabras  \n",
       "0                      549.49  "
      ]
     },
     "execution_count": 20,
     "metadata": {},
     "output_type": "execute_result"
    }
   ],
   "source": [
    "df_el_pais = pd.DataFrame(data=resumen)\n",
    "df_el_pais"
   ]
  },
  {
   "cell_type": "markdown",
   "metadata": {},
   "source": [
    "## La republica"
   ]
  },
  {
   "cell_type": "code",
   "execution_count": 21,
   "metadata": {},
   "outputs": [
    {
     "name": "stdout",
     "output_type": "stream",
     "text": [
      "['../output/la_republica/larepublica20141107112348Noticias.txt']\n"
     ]
    }
   ],
   "source": [
    "file_path = '../output/la_republica'\n",
    "la_republica_paths = [str(x) for x in Path(file_path).glob(\"*.txt\")]\n",
    "print(la_republica_paths)"
   ]
  },
  {
   "cell_type": "code",
   "execution_count": 22,
   "metadata": {},
   "outputs": [
    {
     "name": "stdout",
     "output_type": "stream",
     "text": [
      "ANALISIS ../output/la_republica/larepublica20141107112348Noticias.txt\n",
      "  Cantidad de articulos: 84757\n",
      "  Largo promedio de noticia: 2408.59\n",
      "  Cantidad promedio de palabras por noticia: 391.94\n"
     ]
    }
   ],
   "source": [
    "resumen = []\n",
    "for path in la_republica_paths:\n",
    "  print(f'ANALISIS {path}')\n",
    "  \n",
    "  reader = open(path, \"r+\")\n",
    "  lines = reader.readlines()\n",
    "  cantidad = len(lines)\n",
    "  print(f'  Cantidad de articulos: {cantidad}')\n",
    "\n",
    "  largo_noticia = list(map(lambda line: len(line), lines))\n",
    "  promedio_largo_noticia = round(sum(largo_noticia)/len(largo_noticia), 2)\n",
    "  print(f'  Largo promedio de noticia: {promedio_largo_noticia}')\n",
    "\n",
    "  palabras_por_noticia = list(map(lambda line: len(line.split()), lines))\n",
    "  promedio_cantidad_palabras = round(sum(palabras_por_noticia)/len(palabras_por_noticia), 2)\n",
    "  print(f'  Cantidad promedio de palabras por noticia: {promedio_cantidad_palabras}')\n",
    "\n",
    "  resumen.append({'archivo': path, 'cant_articulos': cantidad, 'promedio_largo_noticias': promedio_largo_noticia, 'promedio_cantidad_palabras': promedio_cantidad_palabras})\n"
   ]
  },
  {
   "cell_type": "code",
   "execution_count": 23,
   "metadata": {},
   "outputs": [
    {
     "data": {
      "text/html": [
       "<div>\n",
       "<style scoped>\n",
       "    .dataframe tbody tr th:only-of-type {\n",
       "        vertical-align: middle;\n",
       "    }\n",
       "\n",
       "    .dataframe tbody tr th {\n",
       "        vertical-align: top;\n",
       "    }\n",
       "\n",
       "    .dataframe thead th {\n",
       "        text-align: right;\n",
       "    }\n",
       "</style>\n",
       "<table border=\"1\" class=\"dataframe\">\n",
       "  <thead>\n",
       "    <tr style=\"text-align: right;\">\n",
       "      <th></th>\n",
       "      <th>archivo</th>\n",
       "      <th>cant_articulos</th>\n",
       "      <th>promedio_largo_noticias</th>\n",
       "      <th>promedio_cantidad_palabras</th>\n",
       "    </tr>\n",
       "  </thead>\n",
       "  <tbody>\n",
       "    <tr>\n",
       "      <th>0</th>\n",
       "      <td>../output/la_republica/larepublica201411071123...</td>\n",
       "      <td>84757</td>\n",
       "      <td>2408.59</td>\n",
       "      <td>391.94</td>\n",
       "    </tr>\n",
       "  </tbody>\n",
       "</table>\n",
       "</div>"
      ],
      "text/plain": [
       "                                             archivo  cant_articulos  \\\n",
       "0  ../output/la_republica/larepublica201411071123...           84757   \n",
       "\n",
       "   promedio_largo_noticias  promedio_cantidad_palabras  \n",
       "0                  2408.59                      391.94  "
      ]
     },
     "execution_count": 23,
     "metadata": {},
     "output_type": "execute_result"
    }
   ],
   "source": [
    "df_la_republica = pd.DataFrame(data=resumen)\n",
    "df_la_republica"
   ]
  }
 ],
 "metadata": {
  "kernelspec": {
   "display_name": "Python 3.10.6 64-bit",
   "language": "python",
   "name": "python3"
  },
  "language_info": {
   "codemirror_mode": {
    "name": "ipython",
    "version": 3
   },
   "file_extension": ".py",
   "mimetype": "text/x-python",
   "name": "python",
   "nbconvert_exporter": "python",
   "pygments_lexer": "ipython3",
   "version": "3.10.6"
  },
  "orig_nbformat": 4,
  "vscode": {
   "interpreter": {
    "hash": "916dbcbb3f70747c44a77c7bcd40155683ae19c65e1c03b4aa3499c5328201f1"
   }
  }
 },
 "nbformat": 4,
 "nbformat_minor": 2
}

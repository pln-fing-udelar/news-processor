{
 "cells": [
  {
   "cell_type": "markdown",
   "metadata": {},
   "source": [
    "# Analisis de /output"
   ]
  },
  {
   "cell_type": "markdown",
   "metadata": {},
   "source": [
    "Este notebook hace un analisis del resultado de procesar los distintos diarios:\n",
    "* eliminando etiquetas,\n",
    "* extrayendo texto de JSON,\n",
    "* borrando articulos innecesarios (juegos de crucigrama),\n",
    "* eliminando articulos con caracteres extraños."
   ]
  },
  {
   "cell_type": "markdown",
   "metadata": {},
   "source": [
    "En caso de volver a ejecutar el analisis de los archivos, actualizar la tabla en [este link](https://docs.google.com/spreadsheets/d/1j7Vk2-hx3DwBIxWNb0of6ovTxoiH7DTyG-O9BTvaBt4/edit#gid=489649496), es un excel en \"modelo prensa uy/dataset_noticias/procesado/metadata_corpus\", tab 'texto_depurado'."
   ]
  },
  {
   "cell_type": "code",
   "execution_count": 1,
   "metadata": {},
   "outputs": [],
   "source": [
    "import pandas as pd\n",
    "from pathlib import Path"
   ]
  },
  {
   "cell_type": "markdown",
   "metadata": {},
   "source": [
    "## El pais"
   ]
  },
  {
   "cell_type": "code",
   "execution_count": 2,
   "metadata": {},
   "outputs": [
    {
     "name": "stdout",
     "output_type": "stream",
     "text": [
      "['../output/el_pais/elpais20140911184708Noticias.txt', '../output/el_pais/elpais20140926203240Noticias-C.txt', '../output/el_pais/elpais20140926203240Noticias-A.txt', '../output/el_pais/elpais20140926203240Noticias-B.txt', '../output/el_pais/elpais20140924173922Noticias.txt', '../output/el_pais/elpais20140926203240Noticias-F.txt', '../output/el_pais/elpais20140926203240Noticias-E.txt', '../output/el_pais/elpais20141107112348Noticias.txt', '../output/el_pais/elpais20140926203240Noticias-D.txt', '../output/el_pais/elpais20141021181153Noticias_0.txt']\n"
     ]
    }
   ],
   "source": [
    "file_path = '../output/el_pais'\n",
    "el_pais_paths = [str(x) for x in Path(file_path).glob(\"*.txt\")]\n",
    "print(el_pais_paths)"
   ]
  },
  {
   "cell_type": "code",
   "execution_count": 3,
   "metadata": {},
   "outputs": [
    {
     "name": "stdout",
     "output_type": "stream",
     "text": [
      "ANALISIS ../output/el_pais/elpais20140911184708Noticias.txt\n",
      "  Cantidad de articulos: 106550\n",
      "  Largo promedio de noticia: 3570.91\n",
      "  Cantidad promedio de palabras por noticia: 594.73\n",
      "ANALISIS ../output/el_pais/elpais20140926203240Noticias-C.txt\n",
      "  Cantidad de articulos: 58528\n",
      "  Largo promedio de noticia: 3798.92\n",
      "  Cantidad promedio de palabras por noticia: 629.64\n",
      "ANALISIS ../output/el_pais/elpais20140926203240Noticias-A.txt\n",
      "  Cantidad de articulos: 68035\n",
      "  Largo promedio de noticia: 3494.81\n",
      "  Cantidad promedio de palabras por noticia: 582.86\n",
      "ANALISIS ../output/el_pais/elpais20140926203240Noticias-B.txt\n",
      "  Cantidad de articulos: 68098\n",
      "  Largo promedio de noticia: 3892.66\n",
      "  Cantidad promedio de palabras por noticia: 648.52\n",
      "ANALISIS ../output/el_pais/elpais20140924173922Noticias.txt\n",
      "  Cantidad de articulos: 29809\n",
      "  Largo promedio de noticia: 4002.45\n",
      "  Cantidad promedio de palabras por noticia: 665.35\n",
      "ANALISIS ../output/el_pais/elpais20140926203240Noticias-F.txt\n",
      "  Cantidad de articulos: 60839\n",
      "  Largo promedio de noticia: 3210.84\n",
      "  Cantidad promedio de palabras por noticia: 530.79\n",
      "ANALISIS ../output/el_pais/elpais20140926203240Noticias-E.txt\n",
      "  Cantidad de articulos: 61774\n",
      "  Largo promedio de noticia: 3373.01\n",
      "  Cantidad promedio de palabras por noticia: 558.92\n",
      "ANALISIS ../output/el_pais/elpais20141107112348Noticias.txt\n",
      "  Cantidad de articulos: 380\n",
      "  Largo promedio de noticia: 2430.86\n",
      "  Cantidad promedio de palabras por noticia: 406.13\n",
      "ANALISIS ../output/el_pais/elpais20140926203240Noticias-D.txt\n",
      "  Cantidad de articulos: 75277\n",
      "  Largo promedio de noticia: 3827.63\n",
      "  Cantidad promedio de palabras por noticia: 637.28\n",
      "ANALISIS ../output/el_pais/elpais20141021181153Noticias_0.txt\n",
      "  Cantidad de articulos: 82888\n",
      "  Largo promedio de noticia: 3041.27\n",
      "  Cantidad promedio de palabras por noticia: 502.34\n"
     ]
    }
   ],
   "source": [
    "resumen = []\n",
    "for path in el_pais_paths:\n",
    "  print(f'ANALISIS {path}')\n",
    "  \n",
    "  reader = open(path, \"r+\")\n",
    "  lines = reader.readlines()\n",
    "  cantidad = len(lines)\n",
    "  print(f'  Cantidad de articulos: {cantidad}')\n",
    "\n",
    "  largo_noticia = list(map(lambda line: len(line), lines))\n",
    "  promedio_largo_noticia = round(sum(largo_noticia)/len(largo_noticia), 2)\n",
    "  print(f'  Largo promedio de noticia: {promedio_largo_noticia}')\n",
    "\n",
    "  palabras_por_noticia = list(map(lambda line: len(line.split()), lines))\n",
    "  promedio_cantidad_palabras = round(sum(palabras_por_noticia)/len(palabras_por_noticia), 2)\n",
    "  print(f'  Cantidad promedio de palabras por noticia: {promedio_cantidad_palabras}')\n",
    "\n",
    "  resumen.append({'archivo': path, 'cant_articulos': cantidad, 'promedio_largo_noticias': promedio_largo_noticia, 'promedio_cantidad_palabras': promedio_cantidad_palabras})\n"
   ]
  },
  {
   "cell_type": "code",
   "execution_count": 4,
   "metadata": {},
   "outputs": [
    {
     "data": {
      "text/html": [
       "<div>\n",
       "<style scoped>\n",
       "    .dataframe tbody tr th:only-of-type {\n",
       "        vertical-align: middle;\n",
       "    }\n",
       "\n",
       "    .dataframe tbody tr th {\n",
       "        vertical-align: top;\n",
       "    }\n",
       "\n",
       "    .dataframe thead th {\n",
       "        text-align: right;\n",
       "    }\n",
       "</style>\n",
       "<table border=\"1\" class=\"dataframe\">\n",
       "  <thead>\n",
       "    <tr style=\"text-align: right;\">\n",
       "      <th></th>\n",
       "      <th>archivo</th>\n",
       "      <th>cant_articulos</th>\n",
       "      <th>promedio_largo_noticias</th>\n",
       "      <th>promedio_cantidad_palabras</th>\n",
       "    </tr>\n",
       "  </thead>\n",
       "  <tbody>\n",
       "    <tr>\n",
       "      <th>0</th>\n",
       "      <td>../output/el_pais/elpais20140911184708Noticias...</td>\n",
       "      <td>106550</td>\n",
       "      <td>3570.91</td>\n",
       "      <td>594.73</td>\n",
       "    </tr>\n",
       "    <tr>\n",
       "      <th>1</th>\n",
       "      <td>../output/el_pais/elpais20140926203240Noticias...</td>\n",
       "      <td>58528</td>\n",
       "      <td>3798.92</td>\n",
       "      <td>629.64</td>\n",
       "    </tr>\n",
       "    <tr>\n",
       "      <th>2</th>\n",
       "      <td>../output/el_pais/elpais20140926203240Noticias...</td>\n",
       "      <td>68035</td>\n",
       "      <td>3494.81</td>\n",
       "      <td>582.86</td>\n",
       "    </tr>\n",
       "    <tr>\n",
       "      <th>3</th>\n",
       "      <td>../output/el_pais/elpais20140926203240Noticias...</td>\n",
       "      <td>68098</td>\n",
       "      <td>3892.66</td>\n",
       "      <td>648.52</td>\n",
       "    </tr>\n",
       "    <tr>\n",
       "      <th>4</th>\n",
       "      <td>../output/el_pais/elpais20140924173922Noticias...</td>\n",
       "      <td>29809</td>\n",
       "      <td>4002.45</td>\n",
       "      <td>665.35</td>\n",
       "    </tr>\n",
       "    <tr>\n",
       "      <th>5</th>\n",
       "      <td>../output/el_pais/elpais20140926203240Noticias...</td>\n",
       "      <td>60839</td>\n",
       "      <td>3210.84</td>\n",
       "      <td>530.79</td>\n",
       "    </tr>\n",
       "    <tr>\n",
       "      <th>6</th>\n",
       "      <td>../output/el_pais/elpais20140926203240Noticias...</td>\n",
       "      <td>61774</td>\n",
       "      <td>3373.01</td>\n",
       "      <td>558.92</td>\n",
       "    </tr>\n",
       "    <tr>\n",
       "      <th>7</th>\n",
       "      <td>../output/el_pais/elpais20141107112348Noticias...</td>\n",
       "      <td>380</td>\n",
       "      <td>2430.86</td>\n",
       "      <td>406.13</td>\n",
       "    </tr>\n",
       "    <tr>\n",
       "      <th>8</th>\n",
       "      <td>../output/el_pais/elpais20140926203240Noticias...</td>\n",
       "      <td>75277</td>\n",
       "      <td>3827.63</td>\n",
       "      <td>637.28</td>\n",
       "    </tr>\n",
       "    <tr>\n",
       "      <th>9</th>\n",
       "      <td>../output/el_pais/elpais20141021181153Noticias...</td>\n",
       "      <td>82888</td>\n",
       "      <td>3041.27</td>\n",
       "      <td>502.34</td>\n",
       "    </tr>\n",
       "  </tbody>\n",
       "</table>\n",
       "</div>"
      ],
      "text/plain": [
       "                                             archivo  cant_articulos  \\\n",
       "0  ../output/el_pais/elpais20140911184708Noticias...          106550   \n",
       "1  ../output/el_pais/elpais20140926203240Noticias...           58528   \n",
       "2  ../output/el_pais/elpais20140926203240Noticias...           68035   \n",
       "3  ../output/el_pais/elpais20140926203240Noticias...           68098   \n",
       "4  ../output/el_pais/elpais20140924173922Noticias...           29809   \n",
       "5  ../output/el_pais/elpais20140926203240Noticias...           60839   \n",
       "6  ../output/el_pais/elpais20140926203240Noticias...           61774   \n",
       "7  ../output/el_pais/elpais20141107112348Noticias...             380   \n",
       "8  ../output/el_pais/elpais20140926203240Noticias...           75277   \n",
       "9  ../output/el_pais/elpais20141021181153Noticias...           82888   \n",
       "\n",
       "   promedio_largo_noticias  promedio_cantidad_palabras  \n",
       "0                  3570.91                      594.73  \n",
       "1                  3798.92                      629.64  \n",
       "2                  3494.81                      582.86  \n",
       "3                  3892.66                      648.52  \n",
       "4                  4002.45                      665.35  \n",
       "5                  3210.84                      530.79  \n",
       "6                  3373.01                      558.92  \n",
       "7                  2430.86                      406.13  \n",
       "8                  3827.63                      637.28  \n",
       "9                  3041.27                      502.34  "
      ]
     },
     "execution_count": 4,
     "metadata": {},
     "output_type": "execute_result"
    }
   ],
   "source": [
    "df_el_pais = pd.DataFrame(data=resumen)\n",
    "df_el_pais"
   ]
  },
  {
   "cell_type": "markdown",
   "metadata": {},
   "source": [
    "## La republica"
   ]
  },
  {
   "cell_type": "code",
   "execution_count": 5,
   "metadata": {},
   "outputs": [
    {
     "name": "stdout",
     "output_type": "stream",
     "text": [
      "['../output/la_republica/larepublica20141107112348Noticias.txt']\n"
     ]
    }
   ],
   "source": [
    "file_path = '../output/la_republica'\n",
    "la_republica_paths = [str(x) for x in Path(file_path).glob(\"*.txt\")]\n",
    "print(la_republica_paths)"
   ]
  },
  {
   "cell_type": "code",
   "execution_count": 6,
   "metadata": {},
   "outputs": [
    {
     "name": "stdout",
     "output_type": "stream",
     "text": [
      "ANALISIS ../output/la_republica/larepublica20141107112348Noticias.txt\n",
      "  Cantidad de articulos: 84757\n",
      "  Largo promedio de noticia: 2408.59\n",
      "  Cantidad promedio de palabras por noticia: 391.94\n"
     ]
    }
   ],
   "source": [
    "resumen = []\n",
    "for path in la_republica_paths:\n",
    "  print(f'ANALISIS {path}')\n",
    "  \n",
    "  reader = open(path, \"r+\")\n",
    "  lines = reader.readlines()\n",
    "  cantidad = len(lines)\n",
    "  print(f'  Cantidad de articulos: {cantidad}')\n",
    "\n",
    "  largo_noticia = list(map(lambda line: len(line), lines))\n",
    "  promedio_largo_noticia = round(sum(largo_noticia)/len(largo_noticia), 2)\n",
    "  print(f'  Largo promedio de noticia: {promedio_largo_noticia}')\n",
    "\n",
    "  palabras_por_noticia = list(map(lambda line: len(line.split()), lines))\n",
    "  promedio_cantidad_palabras = round(sum(palabras_por_noticia)/len(palabras_por_noticia), 2)\n",
    "  print(f'  Cantidad promedio de palabras por noticia: {promedio_cantidad_palabras}')\n",
    "\n",
    "  resumen.append({'archivo': path, 'cant_articulos': cantidad, 'promedio_largo_noticias': promedio_largo_noticia, 'promedio_cantidad_palabras': promedio_cantidad_palabras})\n"
   ]
  },
  {
   "cell_type": "code",
   "execution_count": 7,
   "metadata": {},
   "outputs": [
    {
     "data": {
      "text/html": [
       "<div>\n",
       "<style scoped>\n",
       "    .dataframe tbody tr th:only-of-type {\n",
       "        vertical-align: middle;\n",
       "    }\n",
       "\n",
       "    .dataframe tbody tr th {\n",
       "        vertical-align: top;\n",
       "    }\n",
       "\n",
       "    .dataframe thead th {\n",
       "        text-align: right;\n",
       "    }\n",
       "</style>\n",
       "<table border=\"1\" class=\"dataframe\">\n",
       "  <thead>\n",
       "    <tr style=\"text-align: right;\">\n",
       "      <th></th>\n",
       "      <th>archivo</th>\n",
       "      <th>cant_articulos</th>\n",
       "      <th>promedio_largo_noticias</th>\n",
       "      <th>promedio_cantidad_palabras</th>\n",
       "    </tr>\n",
       "  </thead>\n",
       "  <tbody>\n",
       "    <tr>\n",
       "      <th>0</th>\n",
       "      <td>../output/la_republica/larepublica201411071123...</td>\n",
       "      <td>84757</td>\n",
       "      <td>2408.59</td>\n",
       "      <td>391.94</td>\n",
       "    </tr>\n",
       "  </tbody>\n",
       "</table>\n",
       "</div>"
      ],
      "text/plain": [
       "                                             archivo  cant_articulos  \\\n",
       "0  ../output/la_republica/larepublica201411071123...           84757   \n",
       "\n",
       "   promedio_largo_noticias  promedio_cantidad_palabras  \n",
       "0                  2408.59                      391.94  "
      ]
     },
     "execution_count": 7,
     "metadata": {},
     "output_type": "execute_result"
    }
   ],
   "source": [
    "df_la_republica = pd.DataFrame(data=resumen)\n",
    "df_la_republica"
   ]
  }
 ],
 "metadata": {
  "kernelspec": {
   "display_name": "Python 3.10.6 64-bit",
   "language": "python",
   "name": "python3"
  },
  "language_info": {
   "codemirror_mode": {
    "name": "ipython",
    "version": 3
   },
   "file_extension": ".py",
   "mimetype": "text/x-python",
   "name": "python",
   "nbconvert_exporter": "python",
   "pygments_lexer": "ipython3",
   "version": "3.10.6"
  },
  "orig_nbformat": 4,
  "vscode": {
   "interpreter": {
    "hash": "916dbcbb3f70747c44a77c7bcd40155683ae19c65e1c03b4aa3499c5328201f1"
   }
  }
 },
 "nbformat": 4,
 "nbformat_minor": 2
}

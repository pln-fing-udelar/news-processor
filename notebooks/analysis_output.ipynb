{
 "cells": [
  {
   "cell_type": "markdown",
   "metadata": {},
   "source": [
    "# Analisis de /output"
   ]
  },
  {
   "cell_type": "markdown",
   "metadata": {},
   "source": [
    "Este notebook hace un analisis del resultado de procesar los distintos diarios:\n",
    "* eliminando etiquetas,\n",
    "* extrayendo texto de JSON,\n",
    "* borrando articulos innecesarios (juegos de crucigrama),\n",
    "* eliminando articulos con caracteres extraños."
   ]
  },
  {
   "cell_type": "code",
   "execution_count": 18,
   "metadata": {},
   "outputs": [],
   "source": [
    "import pandas as pd\n",
    "from pathlib import Path"
   ]
  },
  {
   "cell_type": "markdown",
   "metadata": {},
   "source": [
    "## El pais"
   ]
  },
  {
   "cell_type": "code",
   "execution_count": 19,
   "metadata": {},
   "outputs": [
    {
     "name": "stdout",
     "output_type": "stream",
     "text": [
      "['../output/el_pais/elpais20140911184708Noticias.txt', '../output/el_pais/elpais20140926203240Noticias-C.txt', '../output/el_pais/elpais20140926203240Noticias-A.txt', '../output/el_pais/elpais20140926203240Noticias-B.txt', '../output/el_pais/elpais20140924173922Noticias.txt', '../output/el_pais/elpais20140926203240Noticias-F.txt', '../output/el_pais/elpais20140926203240Noticias-E.txt', '../output/el_pais/elpais20141107112348Noticias.txt', '../output/el_pais/elpais20140926203240Noticias-D.txt', '../output/el_pais/elpais20141021181153Noticias_0.txt']\n"
     ]
    }
   ],
   "source": [
    "file_path = '../output/el_pais'\n",
    "el_pais_paths = [str(x) for x in Path(file_path).glob(\"*.txt\")]\n",
    "print(el_pais_paths)"
   ]
  },
  {
   "cell_type": "code",
   "execution_count": 20,
   "metadata": {},
   "outputs": [
    {
     "name": "stdout",
     "output_type": "stream",
     "text": [
      "ANALISIS ../output/el_pais/elpais20140911184708Noticias.txt\n",
      "  Cantidad de articulos: 119328\n",
      "  Largo promedio de noticia: 3676.04\n",
      "  Cantidad promedio de palabras por noticia: 613.96\n",
      "ANALISIS ../output/el_pais/elpais20140926203240Noticias-C.txt\n",
      "  Cantidad de articulos: 77064\n",
      "  Largo promedio de noticia: 3730.83\n",
      "  Cantidad promedio de palabras por noticia: 619.76\n",
      "ANALISIS ../output/el_pais/elpais20140926203240Noticias-A.txt\n",
      "  Cantidad de articulos: 80334\n",
      "  Largo promedio de noticia: 3666.4\n",
      "  Cantidad promedio de palabras por noticia: 613.84\n",
      "ANALISIS ../output/el_pais/elpais20140926203240Noticias-B.txt\n",
      "  Cantidad de articulos: 68843\n",
      "  Largo promedio de noticia: 3882.61\n",
      "  Cantidad promedio de palabras por noticia: 646.9\n",
      "ANALISIS ../output/el_pais/elpais20140924173922Noticias.txt\n",
      "  Cantidad de articulos: 30162\n",
      "  Largo promedio de noticia: 3987.22\n",
      "  Cantidad promedio de palabras por noticia: 662.88\n",
      "ANALISIS ../output/el_pais/elpais20140926203240Noticias-F.txt\n",
      "  Cantidad de articulos: 80324\n",
      "  Largo promedio de noticia: 3267.58\n",
      "  Cantidad promedio de palabras por noticia: 543.41\n",
      "ANALISIS ../output/el_pais/elpais20140926203240Noticias-E.txt\n",
      "  Cantidad de articulos: 78812\n",
      "  Largo promedio de noticia: 3732.17\n",
      "  Cantidad promedio de palabras por noticia: 620.48\n",
      "ANALISIS ../output/el_pais/elpais20141107112348Noticias.txt\n",
      "  Cantidad de articulos: 380\n",
      "  Largo promedio de noticia: 2444.07\n",
      "  Cantidad promedio de palabras por noticia: 408.93\n",
      "ANALISIS ../output/el_pais/elpais20140926203240Noticias-D.txt\n",
      "  Cantidad de articulos: 77894\n",
      "  Largo promedio de noticia: 3803.36\n",
      "  Cantidad promedio de palabras por noticia: 633.28\n",
      "ANALISIS ../output/el_pais/elpais20141021181153Noticias_0.txt\n",
      "  Cantidad de articulos: 83773\n",
      "  Largo promedio de noticia: 3032.87\n",
      "  Cantidad promedio de palabras por noticia: 501.05\n"
     ]
    }
   ],
   "source": [
    "resumen = []\n",
    "for path in el_pais_paths:\n",
    "  print(f'ANALISIS {path}')\n",
    "  \n",
    "  reader = open(path, \"r+\")\n",
    "  lines = reader.readlines()\n",
    "  cantidad = len(lines)\n",
    "  print(f'  Cantidad de articulos: {cantidad}')\n",
    "\n",
    "  largo_noticia = list(map(lambda line: len(line), lines))\n",
    "  promedio_largo_noticia = round(sum(largo_noticia)/len(largo_noticia), 2)\n",
    "  print(f'  Largo promedio de noticia: {promedio_largo_noticia}')\n",
    "\n",
    "  palabras_por_noticia = list(map(lambda line: len(line.split()), lines))\n",
    "  promedio_cantidad_palabras = round(sum(palabras_por_noticia)/len(palabras_por_noticia), 2)\n",
    "  print(f'  Cantidad promedio de palabras por noticia: {promedio_cantidad_palabras}')\n",
    "\n",
    "  resumen.append({'archivo': path, 'cant_articulos': cantidad, 'promedio_largo_noticias': promedio_largo_noticia, 'promedio_cantidad_palabras': promedio_cantidad_palabras})\n"
   ]
  },
  {
   "cell_type": "code",
   "execution_count": 21,
   "metadata": {},
   "outputs": [
    {
     "data": {
      "text/html": [
       "<div>\n",
       "<style scoped>\n",
       "    .dataframe tbody tr th:only-of-type {\n",
       "        vertical-align: middle;\n",
       "    }\n",
       "\n",
       "    .dataframe tbody tr th {\n",
       "        vertical-align: top;\n",
       "    }\n",
       "\n",
       "    .dataframe thead th {\n",
       "        text-align: right;\n",
       "    }\n",
       "</style>\n",
       "<table border=\"1\" class=\"dataframe\">\n",
       "  <thead>\n",
       "    <tr style=\"text-align: right;\">\n",
       "      <th></th>\n",
       "      <th>archivo</th>\n",
       "      <th>cant_articulos</th>\n",
       "      <th>promedio_largo_noticias</th>\n",
       "      <th>promedio_cantidad_palabras</th>\n",
       "    </tr>\n",
       "  </thead>\n",
       "  <tbody>\n",
       "    <tr>\n",
       "      <th>0</th>\n",
       "      <td>../output/el_pais/elpais20140911184708Noticias...</td>\n",
       "      <td>119328</td>\n",
       "      <td>3676.04</td>\n",
       "      <td>613.96</td>\n",
       "    </tr>\n",
       "    <tr>\n",
       "      <th>1</th>\n",
       "      <td>../output/el_pais/elpais20140926203240Noticias...</td>\n",
       "      <td>77064</td>\n",
       "      <td>3730.83</td>\n",
       "      <td>619.76</td>\n",
       "    </tr>\n",
       "    <tr>\n",
       "      <th>2</th>\n",
       "      <td>../output/el_pais/elpais20140926203240Noticias...</td>\n",
       "      <td>80334</td>\n",
       "      <td>3666.40</td>\n",
       "      <td>613.84</td>\n",
       "    </tr>\n",
       "    <tr>\n",
       "      <th>3</th>\n",
       "      <td>../output/el_pais/elpais20140926203240Noticias...</td>\n",
       "      <td>68843</td>\n",
       "      <td>3882.61</td>\n",
       "      <td>646.90</td>\n",
       "    </tr>\n",
       "    <tr>\n",
       "      <th>4</th>\n",
       "      <td>../output/el_pais/elpais20140924173922Noticias...</td>\n",
       "      <td>30162</td>\n",
       "      <td>3987.22</td>\n",
       "      <td>662.88</td>\n",
       "    </tr>\n",
       "    <tr>\n",
       "      <th>5</th>\n",
       "      <td>../output/el_pais/elpais20140926203240Noticias...</td>\n",
       "      <td>80324</td>\n",
       "      <td>3267.58</td>\n",
       "      <td>543.41</td>\n",
       "    </tr>\n",
       "    <tr>\n",
       "      <th>6</th>\n",
       "      <td>../output/el_pais/elpais20140926203240Noticias...</td>\n",
       "      <td>78812</td>\n",
       "      <td>3732.17</td>\n",
       "      <td>620.48</td>\n",
       "    </tr>\n",
       "    <tr>\n",
       "      <th>7</th>\n",
       "      <td>../output/el_pais/elpais20141107112348Noticias...</td>\n",
       "      <td>380</td>\n",
       "      <td>2444.07</td>\n",
       "      <td>408.93</td>\n",
       "    </tr>\n",
       "    <tr>\n",
       "      <th>8</th>\n",
       "      <td>../output/el_pais/elpais20140926203240Noticias...</td>\n",
       "      <td>77894</td>\n",
       "      <td>3803.36</td>\n",
       "      <td>633.28</td>\n",
       "    </tr>\n",
       "    <tr>\n",
       "      <th>9</th>\n",
       "      <td>../output/el_pais/elpais20141021181153Noticias...</td>\n",
       "      <td>83773</td>\n",
       "      <td>3032.87</td>\n",
       "      <td>501.05</td>\n",
       "    </tr>\n",
       "  </tbody>\n",
       "</table>\n",
       "</div>"
      ],
      "text/plain": [
       "                                             archivo  cant_articulos  \\\n",
       "0  ../output/el_pais/elpais20140911184708Noticias...          119328   \n",
       "1  ../output/el_pais/elpais20140926203240Noticias...           77064   \n",
       "2  ../output/el_pais/elpais20140926203240Noticias...           80334   \n",
       "3  ../output/el_pais/elpais20140926203240Noticias...           68843   \n",
       "4  ../output/el_pais/elpais20140924173922Noticias...           30162   \n",
       "5  ../output/el_pais/elpais20140926203240Noticias...           80324   \n",
       "6  ../output/el_pais/elpais20140926203240Noticias...           78812   \n",
       "7  ../output/el_pais/elpais20141107112348Noticias...             380   \n",
       "8  ../output/el_pais/elpais20140926203240Noticias...           77894   \n",
       "9  ../output/el_pais/elpais20141021181153Noticias...           83773   \n",
       "\n",
       "   promedio_largo_noticias  promedio_cantidad_palabras  \n",
       "0                  3676.04                      613.96  \n",
       "1                  3730.83                      619.76  \n",
       "2                  3666.40                      613.84  \n",
       "3                  3882.61                      646.90  \n",
       "4                  3987.22                      662.88  \n",
       "5                  3267.58                      543.41  \n",
       "6                  3732.17                      620.48  \n",
       "7                  2444.07                      408.93  \n",
       "8                  3803.36                      633.28  \n",
       "9                  3032.87                      501.05  "
      ]
     },
     "execution_count": 21,
     "metadata": {},
     "output_type": "execute_result"
    }
   ],
   "source": [
    "df_el_pais = pd.DataFrame(data=resumen)\n",
    "df_el_pais"
   ]
  },
  {
   "cell_type": "markdown",
   "metadata": {},
   "source": [
    "## La republica"
   ]
  },
  {
   "cell_type": "code",
   "execution_count": 22,
   "metadata": {},
   "outputs": [
    {
     "name": "stdout",
     "output_type": "stream",
     "text": [
      "['../output/la_republica/larepublica20141107112348Noticias.txt']\n"
     ]
    }
   ],
   "source": [
    "file_path = '../output/la_republica'\n",
    "la_republica_paths = [str(x) for x in Path(file_path).glob(\"*.txt\")]\n",
    "print(la_republica_paths)"
   ]
  },
  {
   "cell_type": "code",
   "execution_count": 23,
   "metadata": {},
   "outputs": [
    {
     "name": "stdout",
     "output_type": "stream",
     "text": [
      "ANALISIS ../output/la_republica/larepublica20141107112348Noticias.txt\n",
      "  Cantidad de articulos: 84757\n",
      "  Largo promedio de noticia: 2408.59\n",
      "  Cantidad promedio de palabras por noticia: 391.94\n"
     ]
    }
   ],
   "source": [
    "resumen = []\n",
    "for path in la_republica_paths:\n",
    "  print(f'ANALISIS {path}')\n",
    "  \n",
    "  reader = open(path, \"r+\")\n",
    "  lines = reader.readlines()\n",
    "  cantidad = len(lines)\n",
    "  print(f'  Cantidad de articulos: {cantidad}')\n",
    "\n",
    "  largo_noticia = list(map(lambda line: len(line), lines))\n",
    "  promedio_largo_noticia = round(sum(largo_noticia)/len(largo_noticia), 2)\n",
    "  print(f'  Largo promedio de noticia: {promedio_largo_noticia}')\n",
    "\n",
    "  palabras_por_noticia = list(map(lambda line: len(line.split()), lines))\n",
    "  promedio_cantidad_palabras = round(sum(palabras_por_noticia)/len(palabras_por_noticia), 2)\n",
    "  print(f'  Cantidad promedio de palabras por noticia: {promedio_cantidad_palabras}')\n",
    "\n",
    "  resumen.append({'archivo': path, 'cant_articulos': cantidad, 'promedio_largo_noticias': promedio_largo_noticia, 'promedio_cantidad_palabras': promedio_cantidad_palabras})\n"
   ]
  },
  {
   "cell_type": "code",
   "execution_count": 24,
   "metadata": {},
   "outputs": [
    {
     "data": {
      "text/html": [
       "<div>\n",
       "<style scoped>\n",
       "    .dataframe tbody tr th:only-of-type {\n",
       "        vertical-align: middle;\n",
       "    }\n",
       "\n",
       "    .dataframe tbody tr th {\n",
       "        vertical-align: top;\n",
       "    }\n",
       "\n",
       "    .dataframe thead th {\n",
       "        text-align: right;\n",
       "    }\n",
       "</style>\n",
       "<table border=\"1\" class=\"dataframe\">\n",
       "  <thead>\n",
       "    <tr style=\"text-align: right;\">\n",
       "      <th></th>\n",
       "      <th>archivo</th>\n",
       "      <th>cant_articulos</th>\n",
       "      <th>promedio_largo_noticias</th>\n",
       "      <th>promedio_cantidad_palabras</th>\n",
       "    </tr>\n",
       "  </thead>\n",
       "  <tbody>\n",
       "    <tr>\n",
       "      <th>0</th>\n",
       "      <td>../output/la_republica/larepublica201411071123...</td>\n",
       "      <td>84757</td>\n",
       "      <td>2408.59</td>\n",
       "      <td>391.94</td>\n",
       "    </tr>\n",
       "  </tbody>\n",
       "</table>\n",
       "</div>"
      ],
      "text/plain": [
       "                                             archivo  cant_articulos  \\\n",
       "0  ../output/la_republica/larepublica201411071123...           84757   \n",
       "\n",
       "   promedio_largo_noticias  promedio_cantidad_palabras  \n",
       "0                  2408.59                      391.94  "
      ]
     },
     "execution_count": 24,
     "metadata": {},
     "output_type": "execute_result"
    }
   ],
   "source": [
    "df_la_republica = pd.DataFrame(data=resumen)\n",
    "df_la_republica"
   ]
  }
 ],
 "metadata": {
  "kernelspec": {
   "display_name": "Python 3.10.6 64-bit",
   "language": "python",
   "name": "python3"
  },
  "language_info": {
   "codemirror_mode": {
    "name": "ipython",
    "version": 3
   },
   "file_extension": ".py",
   "mimetype": "text/x-python",
   "name": "python",
   "nbconvert_exporter": "python",
   "pygments_lexer": "ipython3",
   "version": "3.10.6"
  },
  "orig_nbformat": 4,
  "vscode": {
   "interpreter": {
    "hash": "916dbcbb3f70747c44a77c7bcd40155683ae19c65e1c03b4aa3499c5328201f1"
   }
  }
 },
 "nbformat": 4,
 "nbformat_minor": 2
}

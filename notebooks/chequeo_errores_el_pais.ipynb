{
  "cells": [
    {
      "cell_type": "markdown",
      "metadata": {},
      "source": [
        "# Chequeo errores el pais\n",
        "El notebook analiza y revisa la presencia de los errores detectados en la etapa de depuracion."
      ]
    },
    {
      "cell_type": "code",
      "execution_count": 2,
      "metadata": {
        "id": "pcQMTTdQsS91"
      },
      "outputs": [],
      "source": [
        "import re"
      ]
    },
    {
      "cell_type": "code",
      "execution_count": 3,
      "metadata": {
        "colab": {
          "base_uri": "https://localhost:8080/"
        },
        "id": "BvZI0DqDmd6v",
        "outputId": "dde071bd-0d0e-407b-ab3b-f009383ec3ec"
      },
      "outputs": [],
      "source": [
        "file_path = '../output/el_pais/elpais20140911184708Noticias.txt'"
      ]
    },
    {
      "cell_type": "code",
      "execution_count": 4,
      "metadata": {
        "colab": {
          "base_uri": "https://localhost:8080/"
        },
        "id": "USGV31PRn3Hw",
        "outputId": "3fd263dd-73a2-4f47-c4d9-0a0f9ccc1908"
      },
      "outputs": [
        {
          "name": "stdout",
          "output_type": "stream",
          "text": [
            "119328\n"
          ]
        }
      ],
      "source": [
        "reader = open(file_path, \"r+\")\n",
        "lines = reader.readlines()\n",
        "full_lines = ''.join(lines)\n",
        "print(len(lines))"
      ]
    },
    {
      "cell_type": "markdown",
      "metadata": {
        "id": "v4L-n1_womxu"
      },
      "source": [
        "## Caracteres extranios"
      ]
    },
    {
      "cell_type": "code",
      "execution_count": 5,
      "metadata": {
        "colab": {
          "base_uri": "https://localhost:8080/"
        },
        "id": "M82UAVCnoeDD",
        "outputId": "e71be68d-02ef-4267-ed0c-3b32e38b9a2f"
      },
      "outputs": [
        {
          "name": "stdout",
          "output_type": "stream",
          "text": [
            "Tiene el caracter extranio �? No\n"
          ]
        }
      ],
      "source": [
        "corrupto = lambda art: '�' in art\n",
        "print(f\"Tiene el caracter extranio �? {'Si' if corrupto(full_lines) else 'No'}\")"
      ]
    },
    {
      "cell_type": "markdown",
      "metadata": {
        "id": "A99pPrrap199"
      },
      "source": [
        "## Tildes incorrectos"
      ]
    },
    {
      "cell_type": "code",
      "execution_count": 6,
      "metadata": {
        "colab": {
          "base_uri": "https://localhost:8080/"
        },
        "id": "OQrpK5InqR4x",
        "outputId": "316a8e98-af0f-4bb1-e510-b710a018981b"
      },
      "outputs": [
        {
          "name": "stdout",
          "output_type": "stream",
          "text": [
            "Tiene el tilde extranio? No\n"
          ]
        }
      ],
      "source": [
        "tildes_incorrectos = ['á','é','í','ó','ú','ñ','Á','É','Í','Ó','Ú','Ñ']\n",
        "contiene = any(letter in full_lines for letter in tildes_incorrectos)\n",
        "print(f\"Tiene el tilde extranio? {'Si' if contiene else 'No'}\")"
      ]
    },
    {
      "cell_type": "markdown",
      "metadata": {
        "id": "tig0BhjNsAtf"
      },
      "source": [
        "## Texto \"Utilidades\" al final"
      ]
    },
    {
      "cell_type": "code",
      "execution_count": 7,
      "metadata": {
        "colab": {
          "base_uri": "https://localhost:8080/"
        },
        "id": "ph1qwVh2sIbq",
        "outputId": "98dbc9c0-a257-4acf-c4a1-d53ccc5e5751"
      },
      "outputs": [
        {
          "name": "stdout",
          "output_type": "stream",
          "text": [
            "Contiene texto 'Utilidades'? No\n"
          ]
        }
      ],
      "source": [
        "# Ocurrencias con texto Utilidades\n",
        "pattern = r\"Utilidades\\n\"\n",
        "results = re.findall(pattern, full_lines)\n",
        "contiene = len(results) > 0\n",
        "print(f\"Contiene texto 'Utilidades'? {'Si' if contiene else 'No'}\")"
      ]
    },
    {
      "cell_type": "markdown",
      "metadata": {
        "id": "d_JJwbfotV1j"
      },
      "source": [
        "## Texto \"Vota por esta noticia:\" al final"
      ]
    },
    {
      "cell_type": "code",
      "execution_count": 8,
      "metadata": {
        "colab": {
          "base_uri": "https://localhost:8080/"
        },
        "id": "2CGFUomEtbYJ",
        "outputId": "437e3739-d236-400c-8546-1c40b028c4d5"
      },
      "outputs": [
        {
          "name": "stdout",
          "output_type": "stream",
          "text": [
            "Contiene texto 'Vota por esta noticia:'? No\n"
          ]
        }
      ],
      "source": [
        "# ocurrencias con texto Vota por esta noticia\n",
        "pattern = r\"Vota por esta noticia:\"\n",
        "results = re.findall(pattern, full_lines)\n",
        "contiene = len(results) > 0\n",
        "print(f\"Contiene texto 'Vota por esta noticia:'? {'Si' if contiene else 'No'}\")"
      ]
    },
    {
      "cell_type": "markdown",
      "metadata": {
        "id": "1uFhkNGVtqou"
      },
      "source": [
        "## Texto \"Escribe tu comentario\" al final"
      ]
    },
    {
      "cell_type": "code",
      "execution_count": 9,
      "metadata": {
        "colab": {
          "base_uri": "https://localhost:8080/"
        },
        "id": "SAzM0fG7uBjw",
        "outputId": "d1a17366-0383-40a9-d73c-daed7d641738"
      },
      "outputs": [
        {
          "name": "stdout",
          "output_type": "stream",
          "text": [
            "Contiene texto 'Escribe tu comentario'? No\n"
          ]
        }
      ],
      "source": [
        "# Ocurrencias con texto Utilidades y salto de linea\n",
        "pattern = r\"Escribe tu comentario\\n\"\n",
        "results = re.findall(pattern, full_lines)\n",
        "contiene = len(results) > 0\n",
        "print(f\"Contiene texto 'Escribe tu comentario'? {'Si' if contiene else 'No'}\")\n"
      ]
    },
    {
      "cell_type": "markdown",
      "metadata": {
        "id": "myagSKguugSP"
      },
      "source": [
        "## Texto formato :: AA ::"
      ]
    },
    {
      "cell_type": "code",
      "execution_count": 10,
      "metadata": {
        "colab": {
          "base_uri": "https://localhost:8080/"
        },
        "id": "V7Bzw1GaulJP",
        "outputId": "a5e690a0-8d0b-422e-f270-b1223b4ae0b3"
      },
      "outputs": [
        {
          "name": "stdout",
          "output_type": "stream",
          "text": [
            "Contiene texto ':: AA ::'? No\n"
          ]
        }
      ],
      "source": [
        "# Ocurrencias con texto :: AA ::\n",
        "pattern = r\":: .*? ::\"\n",
        "results = re.findall(pattern, full_lines)\n",
        "contiene = len(results) > 0\n",
        "print(f\"Contiene texto ':: AA ::'? {'Si' if contiene else 'No'}\")"
      ]
    },
    {
      "cell_type": "markdown",
      "metadata": {
        "id": "NpNa5OQ_vKOR"
      },
      "source": [
        "## Texto \"No salgas a la calle sin\" al final"
      ]
    },
    {
      "cell_type": "code",
      "execution_count": 11,
      "metadata": {
        "colab": {
          "base_uri": "https://localhost:8080/"
        },
        "id": "Ei3tEtn2wBRy",
        "outputId": "554c417e-6c98-4a65-a556-6c75fba7becf"
      },
      "outputs": [
        {
          "name": "stdout",
          "output_type": "stream",
          "text": [
            "Contiene texto 'No salgas a la calle sin..'? Si\n"
          ]
        }
      ],
      "source": [
        "pattern = r\"No salgas a la calle sin\"\n",
        "results = re.findall(pattern, full_lines)\n",
        "contiene = len(results) > 0\n",
        "print(f\"Contiene texto 'No salgas a la calle sin..'? {'Si' if contiene else 'No'}\")"
      ]
    },
    {
      "cell_type": "markdown",
      "metadata": {
        "id": "hMr83bATwX12"
      },
      "source": [
        "## Texto \"¿Te interesa esta noticia?\" en el inicio"
      ]
    },
    {
      "cell_type": "code",
      "execution_count": 12,
      "metadata": {
        "colab": {
          "base_uri": "https://localhost:8080/"
        },
        "id": "wLgOnV_NwXno",
        "outputId": "297c949e-7275-4e50-c4f1-ca4204699d1f"
      },
      "outputs": [
        {
          "name": "stdout",
          "output_type": "stream",
          "text": [
            "Contiene texto '¿Te interesa esta noticia?'? No\n"
          ]
        }
      ],
      "source": [
        "# Ocurrencias con texto -¿Te interesa esta noticia?-\n",
        "pattern = r\"\\¿?Te interesa esta noticia\\?\"\n",
        "results = re.findall(pattern, full_lines)\n",
        "contiene = len(results) > 0\n",
        "print(f\"Contiene texto '¿Te interesa esta noticia?'? {'Si' if contiene else 'No'}\")\n"
      ]
    },
    {
      "cell_type": "markdown",
      "metadata": {
        "id": "O5LV1cMTxcCS"
      },
      "source": [
        "## Correos"
      ]
    },
    {
      "cell_type": "markdown",
      "metadata": {
        "id": "aitF_S_Kxdu5"
      },
      "source": [
        "Tener cuidado aca"
      ]
    },
    {
      "cell_type": "code",
      "execution_count": 27,
      "metadata": {},
      "outputs": [
        {
          "name": "stdout",
          "output_type": "stream",
          "text": [
            "Contiene correos? Si\n"
          ]
        }
      ],
      "source": [
        "from enum import unique\n",
        "\n",
        "regex = r'\\b[\\w.-]+?@\\w+?\\.\\w+?\\b'\n",
        "all_emails = re.findall(regex,full_lines) \n",
        "contiene = len(all_emails) > 0\n",
        "print(f\"Contiene correos? {'Si' if contiene else 'No'}\")"
      ]
    },
    {
      "cell_type": "code",
      "execution_count": 31,
      "metadata": {},
      "outputs": [
        {
          "name": "stdout",
          "output_type": "stream",
          "text": [
            "Total emails: 2259\n",
            "distinct emails: 774\n",
            "                0\n",
            "count  774.000000\n",
            "mean     2.918605\n",
            "std     12.684747\n",
            "min      1.000000\n",
            "25%      1.000000\n",
            "50%      1.000000\n",
            "75%      1.000000\n",
            "max    206.000000\n"
          ]
        },
        {
          "data": {
            "text/html": [
              "<div>\n",
              "<style scoped>\n",
              "    .dataframe tbody tr th:only-of-type {\n",
              "        vertical-align: middle;\n",
              "    }\n",
              "\n",
              "    .dataframe tbody tr th {\n",
              "        vertical-align: top;\n",
              "    }\n",
              "\n",
              "    .dataframe thead th {\n",
              "        text-align: right;\n",
              "    }\n",
              "</style>\n",
              "<table border=\"1\" class=\"dataframe\">\n",
              "  <thead>\n",
              "    <tr style=\"text-align: right;\">\n",
              "      <th></th>\n",
              "      <th>quantity</th>\n",
              "    </tr>\n",
              "  </thead>\n",
              "  <tbody>\n",
              "    <tr>\n",
              "      <th>vvergara@ferrere.com</th>\n",
              "      <td>1</td>\n",
              "    </tr>\n",
              "    <tr>\n",
              "      <th>seminarioactuacion@adinet.com</th>\n",
              "      <td>1</td>\n",
              "    </tr>\n",
              "    <tr>\n",
              "      <th>mcarrier@camaratbwa.com</th>\n",
              "      <td>1</td>\n",
              "    </tr>\n",
              "    <tr>\n",
              "      <th>mr.astrada2012@hotmail.com</th>\n",
              "      <td>1</td>\n",
              "    </tr>\n",
              "    <tr>\n",
              "      <th>fleitas30@msn.com</th>\n",
              "      <td>1</td>\n",
              "    </tr>\n",
              "    <tr>\n",
              "      <th>...</th>\n",
              "      <td>...</td>\n",
              "    </tr>\n",
              "    <tr>\n",
              "      <th>snicola@elpais.com</th>\n",
              "      <td>83</td>\n",
              "    </tr>\n",
              "    <tr>\n",
              "      <th>mgoday@elpais.com</th>\n",
              "      <td>103</td>\n",
              "    </tr>\n",
              "    <tr>\n",
              "      <th>grocha@elpais.com</th>\n",
              "      <td>109</td>\n",
              "    </tr>\n",
              "    <tr>\n",
              "      <th>dferreira@elpais.com</th>\n",
              "      <td>157</td>\n",
              "    </tr>\n",
              "    <tr>\n",
              "      <th>barilarius@yahoo.com</th>\n",
              "      <td>206</td>\n",
              "    </tr>\n",
              "  </tbody>\n",
              "</table>\n",
              "<p>774 rows × 1 columns</p>\n",
              "</div>"
            ],
            "text/plain": [
              "                               quantity\n",
              "vvergara@ferrere.com                  1\n",
              "seminarioactuacion@adinet.com         1\n",
              "mcarrier@camaratbwa.com               1\n",
              "mr.astrada2012@hotmail.com            1\n",
              "fleitas30@msn.com                     1\n",
              "...                                 ...\n",
              "snicola@elpais.com                   83\n",
              "mgoday@elpais.com                   103\n",
              "grocha@elpais.com                   109\n",
              "dferreira@elpais.com                157\n",
              "barilarius@yahoo.com                206\n",
              "\n",
              "[774 rows x 1 columns]"
            ]
          },
          "execution_count": 31,
          "metadata": {},
          "output_type": "execute_result"
        }
      ],
      "source": [
        "# Descomentar el siguiente codigo para analizar los correos presentes\n",
        "print(f\"Total emails: {len(all_emails)}\")\n",
        "unique_emails = list(set(all_emails))\n",
        "print(f\"distinct emails: {len(unique_emails)}\")\n",
        "counter = {}\n",
        "for email in unique_emails:\n",
        "  counter[email] = all_emails.count(email)\n",
        "\n",
        "import pandas as pd\n",
        "\n",
        "a = pd.DataFrame.from_dict(counter, orient='index')\n",
        "print(a.describe())\n",
        "a.columns = ['quantity']\n",
        "a = a.sort_values(by='quantity')\n",
        "a"
      ]
    },
    {
      "cell_type": "markdown",
      "metadata": {
        "id": "LJXq51EJ3XmQ"
      },
      "source": [
        "## Autores"
      ]
    },
    {
      "cell_type": "code",
      "execution_count": null,
      "metadata": {
        "id": "vKyia-12xbsr"
      },
      "outputs": [],
      "source": [
        "# Revisar"
      ]
    },
    {
      "cell_type": "markdown",
      "metadata": {
        "id": "rgmplTHF3gJr"
      },
      "source": [
        "## AFP"
      ]
    },
    {
      "cell_type": "code",
      "execution_count": 13,
      "metadata": {
        "colab": {
          "base_uri": "https://localhost:8080/"
        },
        "id": "TuDSl8ev3yC8",
        "outputId": "a15ca259-f41a-4e5e-e96b-7e72355bc012"
      },
      "outputs": [
        {
          "name": "stdout",
          "output_type": "stream",
          "text": [
            "Contiene texto 'AFP'? No\n"
          ]
        }
      ],
      "source": [
        "# ocurrencias con texto AFP\n",
        "pattern = r\"AFP\"\n",
        "results = re.findall(pattern, full_lines)\n",
        "contiene = len(results) > 0\n",
        "print(f\"Contiene texto 'AFP'? {'Si' if contiene else 'No'}\")\n"
      ]
    },
    {
      "cell_type": "markdown",
      "metadata": {
        "id": "JxngmUe04kcJ"
      },
      "source": [
        "## Fechas"
      ]
    },
    {
      "cell_type": "code",
      "execution_count": 14,
      "metadata": {
        "colab": {
          "base_uri": "https://localhost:8080/"
        },
        "id": "oySmLd394yIE",
        "outputId": "390b6051-741e-4765-f886-6d350ec49ecc"
      },
      "outputs": [
        {
          "name": "stdout",
          "output_type": "stream",
          "text": [
            "Contiene Fechas? No\n"
          ]
        }
      ],
      "source": [
        "# Fechas dia mes nn YYYY \n",
        "pattern_1 = r\"\\w\\w\\w \\w\\w\\w \\d\\d \\d\\d\\d\\d\"\n",
        "results_1 = re.findall(pattern_1, full_lines)\n",
        "\n",
        "# Fechas nn mes YYYY \n",
        "pattern_2 = r\"\\d\\d \\w\\w\\w \\d\\d\\d\\d\"\n",
        "results_2 = re.findall(pattern_2, full_lines)\n",
        "\n",
        "contiene = (len(results_1) + len(results_2)) > 0 \n",
        "print(f\"Contiene Fechas? {'Si' if contiene else 'No'}\")"
      ]
    },
    {
      "cell_type": "markdown",
      "metadata": {
        "id": "bdP7lwQt52fY"
      },
      "source": [
        "## Texto Foto: AA"
      ]
    },
    {
      "cell_type": "code",
      "execution_count": 15,
      "metadata": {
        "colab": {
          "base_uri": "https://localhost:8080/"
        },
        "id": "sx-qImnf6AOw",
        "outputId": "895403e8-73df-4b76-da56-996c1fc331e5"
      },
      "outputs": [
        {
          "name": "stdout",
          "output_type": "stream",
          "text": [
            "Contiene texto 'Foto:'? Si\n"
          ]
        }
      ],
      "source": [
        "# ocurrencias con texto AFP\n",
        "pattern = r\"Foto:\"\n",
        "results = re.findall(pattern, full_lines)\n",
        "contiene = len(results) > 0\n",
        "print(f\"Contiene texto 'Foto:'? {'Si' if contiene else 'No'}\")\n"
      ]
    },
    {
      "cell_type": "markdown",
      "metadata": {
        "id": "ikD831Z66Snc"
      },
      "source": [
        "## Texto \"Otras Ediciones\""
      ]
    },
    {
      "cell_type": "code",
      "execution_count": 16,
      "metadata": {
        "colab": {
          "base_uri": "https://localhost:8080/"
        },
        "id": "a20ic5156eaL",
        "outputId": "a31a76f4-9317-4157-faa4-6b02ce0dbfd5"
      },
      "outputs": [
        {
          "name": "stdout",
          "output_type": "stream",
          "text": [
            "Contiene texto 'Otras Ediciones'? No\n"
          ]
        }
      ],
      "source": [
        "# Ocurrencias con texto  -Otras ediciones- y salto de linea\n",
        "pattern = r\"Otras Ediciones\\n\"\n",
        "results = re.findall(pattern, full_lines)\n",
        "contiene = len(results) > 0\n",
        "print(f\"Contiene texto 'Otras Ediciones'? {'Si' if contiene else 'No'}\")"
      ]
    },
    {
      "cell_type": "markdown",
      "metadata": {
        "id": "7I0tOKgu7TDp"
      },
      "source": [
        "## Texto \"| -Lugar- @ |\""
      ]
    },
    {
      "cell_type": "code",
      "execution_count": 17,
      "metadata": {
        "colab": {
          "base_uri": "https://localhost:8080/"
        },
        "id": "TnT1S8gg7c14",
        "outputId": "a440f89a-6d4f-4ea4-d336-57ce18dd645b"
      },
      "outputs": [
        {
          "name": "stdout",
          "output_type": "stream",
          "text": [
            "Contiene texto '| Lugar |'? No\n"
          ]
        }
      ],
      "source": [
        "# Ocurrencias con texto  | Lugar |\n",
        "pattern = r\"\\| \\w*? .?\\|\"\n",
        "results = re.findall(pattern, full_lines)\n",
        "contiene = len(results) > 0\n",
        "print(f\"Contiene texto '| Lugar |'? {'Si' if contiene else 'No'}\")"
      ]
    },
    {
      "cell_type": "markdown",
      "metadata": {
        "id": "ukgN6sPV8LS3"
      },
      "source": [
        "## Texto \"El Pais Digital\""
      ]
    },
    {
      "cell_type": "code",
      "execution_count": 18,
      "metadata": {
        "colab": {
          "base_uri": "https://localhost:8080/"
        },
        "id": "olCVznDQ8OoS",
        "outputId": "d40165a3-0e92-4233-c53c-0a1e68bceb16"
      },
      "outputs": [
        {
          "name": "stdout",
          "output_type": "stream",
          "text": [
            "Contiene texto 'El País Digital'? Si\n",
            "IMPORTANTE: pueden haber ocurrencias que sea correcto que esten\n"
          ]
        }
      ],
      "source": [
        "# Ocurrencias con texto  El País Digital\n",
        "pattern = r\"El País Digital\"\n",
        "results = re.findall(pattern, full_lines, re.IGNORECASE)\n",
        "contiene = len(results) > 0\n",
        "print(f\"Contiene texto 'El País Digital'? {'Si' if contiene else 'No'}\")\n",
        "print('IMPORTANTE: pueden haber ocurrencias que sea correcto que esten')"
      ]
    },
    {
      "cell_type": "markdown",
      "metadata": {
        "id": "__Gx39U2-tId"
      },
      "source": [
        "## Crucigramas"
      ]
    },
    {
      "cell_type": "code",
      "execution_count": 19,
      "metadata": {
        "colab": {
          "base_uri": "https://localhost:8080/"
        },
        "id": "9GgnXLYnA_uK",
        "outputId": "1021047e-90bb-4fb7-81b4-749bf9147bf4"
      },
      "outputs": [
        {
          "name": "stdout",
          "output_type": "stream",
          "text": [
            "Contiene crucigramas (string 'horizontales')? No\n"
          ]
        }
      ],
      "source": [
        "# Crucigramas\n",
        "\n",
        "pattern = r\"horizontales.*?\\d\\)\"\n",
        "results = re.findall(pattern, full_lines, re.IGNORECASE)\n",
        "contiene = len(results) > 0\n",
        "print(f\"Contiene crucigramas (string 'horizontales')? {'Si' if contiene else 'No'}\")"
      ]
    },
    {
      "cell_type": "markdown",
      "metadata": {
        "id": "3XunfMHVG3Ki"
      },
      "source": [
        "## Texto \"EFE\""
      ]
    },
    {
      "cell_type": "code",
      "execution_count": 20,
      "metadata": {
        "colab": {
          "base_uri": "https://localhost:8080/"
        },
        "id": "1FJYBsjNHJNg",
        "outputId": "095e934f-bb3c-4e17-f8bf-2681da4b14dc"
      },
      "outputs": [
        {
          "name": "stdout",
          "output_type": "stream",
          "text": [
            "Contiene texto 'EFE'? Si\n",
            "IMPORTANTE: pueden haber ocurrencias que sea correcto que esten\n"
          ]
        }
      ],
      "source": [
        "# Ocurrencias con texto  EFE\n",
        "\n",
        "pattern = r\"EFE\"\n",
        "results = re.findall(pattern, full_lines, re.IGNORECASE)\n",
        "contiene = len(results) > 0\n",
        "print(f\"Contiene texto 'EFE'? {'Si' if contiene else 'No'}\")\n",
        "print('IMPORTANTE: pueden haber ocurrencias que sea correcto que esten')\n"
      ]
    },
    {
      "cell_type": "markdown",
      "metadata": {
        "id": "AaalMitIHrT8"
      },
      "source": [
        "## Texto \"Otras notas de Editorial\""
      ]
    },
    {
      "cell_type": "code",
      "execution_count": 21,
      "metadata": {
        "colab": {
          "base_uri": "https://localhost:8080/"
        },
        "id": "o-EzjClXHuWB",
        "outputId": "8d799dc0-1705-4538-d049-24c60c5eaac5"
      },
      "outputs": [
        {
          "name": "stdout",
          "output_type": "stream",
          "text": [
            "Contiene texto 'Otras notas de Editorial'? No\n"
          ]
        }
      ],
      "source": [
        "# Ocurrencias con texto  EFOtras notas de EditorialE\n",
        "\n",
        "pattern = r\"Otras notas de Editorial\"\n",
        "results = re.findall(pattern, full_lines, re.IGNORECASE)\n",
        "contiene = len(results) > 0\n",
        "print(f\"Contiene texto 'Otras notas de Editorial'? {'Si' if contiene else 'No'}\")\n"
      ]
    },
    {
      "cell_type": "markdown",
      "metadata": {
        "id": "B-62kLO9KdPS"
      },
      "source": [
        "# Visualizador de articulos ALEATORIO\n"
      ]
    },
    {
      "cell_type": "code",
      "execution_count": 25,
      "metadata": {
        "colab": {
          "base_uri": "https://localhost:8080/"
        },
        "id": "5lBC6sr0KiTd",
        "outputId": "9a457f2c-0999-4a65-9acd-23d824506b5f"
      },
      "outputs": [
        {
          "name": "stdout",
          "output_type": "stream",
          "text": [
            "index - 64181\n",
            "TENDENCIAS Conmueve carta de un abuelo en defensa de su nieto gay Indignado con la actitud de su hija, que echó al joven de la casa, la acusó por las redes sociales. La carta fue recogida por el diario The Huffington Post y conmovió al público. Madre pide perdón a sus hijas por vivir apurada Emol/GDA. Es una carta intensa, dura e impactante. No es de gran extensión ni contiene sendas reflexiones pero es precisa, concisa y directa. De puño y letra, el abuelo acusó a su hija Christine de ser homofóbica y le dijo \"un padre que repudia a su hijo es lo que va 'contra la naturaleza'\". La carta fue publicada originalmente en la página de Facebook del sitio FCKH8.com, quienes habría confirmado el origen de la misiva asegurando que fue presentada por Chad, el hijo y nieto nombrado en la carta. Tiene más de 20 mil \"likes\" desde los primeros días de octubre que fue posteada. Y se ha compartido cerca de 10.000 veces. Además, la carta se viralizó cuando fue tomada por la sección de notas en video del diario Huffington Post, donde destacaron la lucidez del abuelo, su apertura y sabiduría para acoger y contener a su joven nieto de orientación homosexual. A pesar de que no existen más detalles de la familia, el nombre del abuelo ni la historia completa, el mensaje, se entiende por sí solo. Es una madre que reniega de su hijo porque es gay y además, lo echa de la casa. Esta es la carta completa: \"Querida Christine: Me decepcionas como hija. Tienes razón cuando dices que tenemos una 'verguenza en la familia', pero te equivocas sobre cuál es. Echar a Chad de casa sólo porque te dijo que es gay es la verdadera 'abominación' aquí. Un padre que repudia a su hijo es lo que va 'contra la naturaleza'. La única cosa inteligente que te escuché decir, en todo esto es que 'tú no criaste a tu hijo para que fuera gay'. Por supuesto que no lo hiciste. Él nació de esa manera, y no eligió serlo tal como tampoco (decidió) ser zurdo. Tú, sin embargo, sí elegiste ser hiriente, estrecha de mente y retrógrada. Entonces, como estamos en esto de repudiar a nuestros hijos, creo que aprovecharé el momento para decirte adiós. Ahora tengo un 'fabuloso' (como dicen los gays) nieto para criar y no tengo tiempo para las palabras sin corazón de una hija. Si encuentras tu corazón, llámanos\". \n",
            "\n"
          ]
        }
      ],
      "source": [
        "import random\n",
        "import os\n",
        "\n",
        "\n",
        "def random_article(lines):\n",
        "  length = len(lines)\n",
        "\n",
        "  index = int(random.random() * length)\n",
        "  print(f'index - {index}')\n",
        "  print(lines[index])\n",
        "\n",
        "random_article(lines)"
      ]
    }
  ],
  "metadata": {
    "colab": {
      "provenance": []
    },
    "kernelspec": {
      "display_name": "Python 3.10.6 64-bit",
      "language": "python",
      "name": "python3"
    },
    "language_info": {
      "codemirror_mode": {
        "name": "ipython",
        "version": 3
      },
      "file_extension": ".py",
      "mimetype": "text/x-python",
      "name": "python",
      "nbconvert_exporter": "python",
      "pygments_lexer": "ipython3",
      "version": "3.10.6"
    },
    "vscode": {
      "interpreter": {
        "hash": "916dbcbb3f70747c44a77c7bcd40155683ae19c65e1c03b4aa3499c5328201f1"
      }
    }
  },
  "nbformat": 4,
  "nbformat_minor": 0
}

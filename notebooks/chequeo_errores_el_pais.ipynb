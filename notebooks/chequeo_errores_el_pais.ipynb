{
  "cells": [
    {
      "cell_type": "markdown",
      "metadata": {},
      "source": [
        "# Chequeo errores el pais\n",
        "El notebook analiza y revisa la presencia de los errores detectados en la etapa de depuracion."
      ]
    },
    {
      "cell_type": "code",
      "execution_count": 1,
      "metadata": {
        "id": "pcQMTTdQsS91"
      },
      "outputs": [],
      "source": [
        "import re"
      ]
    },
    {
      "cell_type": "code",
      "execution_count": 2,
      "metadata": {
        "colab": {
          "base_uri": "https://localhost:8080/"
        },
        "id": "BvZI0DqDmd6v",
        "outputId": "dde071bd-0d0e-407b-ab3b-f009383ec3ec"
      },
      "outputs": [],
      "source": [
        "file_path = '../output/el_pais/elpais20140911184708Noticias.txt'"
      ]
    },
    {
      "cell_type": "code",
      "execution_count": 3,
      "metadata": {
        "colab": {
          "base_uri": "https://localhost:8080/"
        },
        "id": "USGV31PRn3Hw",
        "outputId": "3fd263dd-73a2-4f47-c4d9-0a0f9ccc1908"
      },
      "outputs": [
        {
          "name": "stdout",
          "output_type": "stream",
          "text": [
            "106550\n"
          ]
        }
      ],
      "source": [
        "reader = open(file_path, \"r+\")\n",
        "lines = reader.readlines()\n",
        "full_lines = ''.join(lines)\n",
        "print(len(lines))"
      ]
    },
    {
      "cell_type": "markdown",
      "metadata": {
        "id": "v4L-n1_womxu"
      },
      "source": [
        "## Caracteres extranios"
      ]
    },
    {
      "cell_type": "code",
      "execution_count": 4,
      "metadata": {
        "colab": {
          "base_uri": "https://localhost:8080/"
        },
        "id": "M82UAVCnoeDD",
        "outputId": "e71be68d-02ef-4267-ed0c-3b32e38b9a2f"
      },
      "outputs": [
        {
          "name": "stdout",
          "output_type": "stream",
          "text": [
            "Tiene el caracter extranio �? No\n"
          ]
        }
      ],
      "source": [
        "corrupto = lambda art: '�' in art\n",
        "print(f\"Tiene el caracter extranio �? {'Si' if corrupto(full_lines) else 'No'}\")"
      ]
    },
    {
      "cell_type": "markdown",
      "metadata": {
        "id": "A99pPrrap199"
      },
      "source": [
        "## Tildes incorrectos"
      ]
    },
    {
      "cell_type": "code",
      "execution_count": 5,
      "metadata": {
        "colab": {
          "base_uri": "https://localhost:8080/"
        },
        "id": "OQrpK5InqR4x",
        "outputId": "316a8e98-af0f-4bb1-e510-b710a018981b"
      },
      "outputs": [
        {
          "name": "stdout",
          "output_type": "stream",
          "text": [
            "Tiene el tilde extranio? No\n"
          ]
        }
      ],
      "source": [
        "tildes_incorrectos = ['á','é','í','ó','ú','ñ','Á','É','Í','Ó','Ú','Ñ']\n",
        "contiene = any(letter in full_lines for letter in tildes_incorrectos)\n",
        "print(f\"Tiene el tilde extranio? {'Si' if contiene else 'No'}\")"
      ]
    },
    {
      "cell_type": "markdown",
      "metadata": {
        "id": "tig0BhjNsAtf"
      },
      "source": [
        "## Texto \"Utilidades\" al final"
      ]
    },
    {
      "cell_type": "code",
      "execution_count": 6,
      "metadata": {
        "colab": {
          "base_uri": "https://localhost:8080/"
        },
        "id": "ph1qwVh2sIbq",
        "outputId": "98dbc9c0-a257-4acf-c4a1-d53ccc5e5751"
      },
      "outputs": [
        {
          "name": "stdout",
          "output_type": "stream",
          "text": [
            "Contiene texto 'Utilidades'? No\n"
          ]
        }
      ],
      "source": [
        "# Ocurrencias con texto Utilidades\n",
        "pattern = r\"Utilidades\\n\"\n",
        "results = re.findall(pattern, full_lines)\n",
        "contiene = len(results) > 0\n",
        "print(f\"Contiene texto 'Utilidades'? {'Si' if contiene else 'No'}\")"
      ]
    },
    {
      "cell_type": "markdown",
      "metadata": {
        "id": "d_JJwbfotV1j"
      },
      "source": [
        "## Texto \"Vota por esta noticia:\" al final"
      ]
    },
    {
      "cell_type": "code",
      "execution_count": 7,
      "metadata": {
        "colab": {
          "base_uri": "https://localhost:8080/"
        },
        "id": "2CGFUomEtbYJ",
        "outputId": "437e3739-d236-400c-8546-1c40b028c4d5"
      },
      "outputs": [
        {
          "name": "stdout",
          "output_type": "stream",
          "text": [
            "Contiene texto 'Vota por esta noticia:'? No\n"
          ]
        }
      ],
      "source": [
        "# ocurrencias con texto Vota por esta noticia\n",
        "pattern = r\"Vota por esta noticia:\"\n",
        "results = re.findall(pattern, full_lines)\n",
        "contiene = len(results) > 0\n",
        "print(f\"Contiene texto 'Vota por esta noticia:'? {'Si' if contiene else 'No'}\")"
      ]
    },
    {
      "cell_type": "markdown",
      "metadata": {
        "id": "1uFhkNGVtqou"
      },
      "source": [
        "## Texto \"Escribe tu comentario\" al final"
      ]
    },
    {
      "cell_type": "code",
      "execution_count": 8,
      "metadata": {
        "colab": {
          "base_uri": "https://localhost:8080/"
        },
        "id": "SAzM0fG7uBjw",
        "outputId": "d1a17366-0383-40a9-d73c-daed7d641738"
      },
      "outputs": [
        {
          "name": "stdout",
          "output_type": "stream",
          "text": [
            "Contiene texto 'Escribe tu comentario'? No\n"
          ]
        }
      ],
      "source": [
        "# Ocurrencias con texto Utilidades y salto de linea\n",
        "pattern = r\"Escribe tu comentario\\n\"\n",
        "results = re.findall(pattern, full_lines)\n",
        "contiene = len(results) > 0\n",
        "print(f\"Contiene texto 'Escribe tu comentario'? {'Si' if contiene else 'No'}\")\n"
      ]
    },
    {
      "cell_type": "markdown",
      "metadata": {
        "id": "myagSKguugSP"
      },
      "source": [
        "## Texto formato :: AA ::"
      ]
    },
    {
      "cell_type": "code",
      "execution_count": 9,
      "metadata": {
        "colab": {
          "base_uri": "https://localhost:8080/"
        },
        "id": "V7Bzw1GaulJP",
        "outputId": "a5e690a0-8d0b-422e-f270-b1223b4ae0b3"
      },
      "outputs": [
        {
          "name": "stdout",
          "output_type": "stream",
          "text": [
            "Contiene texto ':: AA ::'? No\n"
          ]
        }
      ],
      "source": [
        "# Ocurrencias con texto :: AA ::\n",
        "pattern = r\":: .*? ::\"\n",
        "results = re.findall(pattern, full_lines)\n",
        "contiene = len(results) > 0\n",
        "print(f\"Contiene texto ':: AA ::'? {'Si' if contiene else 'No'}\")"
      ]
    },
    {
      "cell_type": "markdown",
      "metadata": {
        "id": "NpNa5OQ_vKOR"
      },
      "source": [
        "## Texto \"No salgas a la calle sin\" al final"
      ]
    },
    {
      "cell_type": "code",
      "execution_count": 10,
      "metadata": {
        "colab": {
          "base_uri": "https://localhost:8080/"
        },
        "id": "Ei3tEtn2wBRy",
        "outputId": "554c417e-6c98-4a65-a556-6c75fba7becf"
      },
      "outputs": [
        {
          "name": "stdout",
          "output_type": "stream",
          "text": [
            "Contiene texto 'No salgas a la calle sin..'? No\n"
          ]
        }
      ],
      "source": [
        "pattern = r\"No salgas a la calle sin\"\n",
        "results = re.findall(pattern, full_lines)\n",
        "contiene = len(results) > 0\n",
        "print(f\"Contiene texto 'No salgas a la calle sin..'? {'Si' if contiene else 'No'}\")"
      ]
    },
    {
      "cell_type": "markdown",
      "metadata": {
        "id": "hMr83bATwX12"
      },
      "source": [
        "## Texto \"¿Te interesa esta noticia?\" en el inicio"
      ]
    },
    {
      "cell_type": "code",
      "execution_count": 11,
      "metadata": {
        "colab": {
          "base_uri": "https://localhost:8080/"
        },
        "id": "wLgOnV_NwXno",
        "outputId": "297c949e-7275-4e50-c4f1-ca4204699d1f"
      },
      "outputs": [
        {
          "name": "stdout",
          "output_type": "stream",
          "text": [
            "Contiene texto '¿Te interesa esta noticia?'? No\n"
          ]
        }
      ],
      "source": [
        "# Ocurrencias con texto -¿Te interesa esta noticia?-\n",
        "pattern = r\"\\¿?Te interesa esta noticia\\?\"\n",
        "results = re.findall(pattern, full_lines)\n",
        "contiene = len(results) > 0\n",
        "print(f\"Contiene texto '¿Te interesa esta noticia?'? {'Si' if contiene else 'No'}\")\n"
      ]
    },
    {
      "cell_type": "markdown",
      "metadata": {
        "id": "O5LV1cMTxcCS"
      },
      "source": [
        "## Correos"
      ]
    },
    {
      "cell_type": "markdown",
      "metadata": {
        "id": "aitF_S_Kxdu5"
      },
      "source": [
        "Tener cuidado aca"
      ]
    },
    {
      "cell_type": "code",
      "execution_count": 12,
      "metadata": {},
      "outputs": [
        {
          "name": "stdout",
          "output_type": "stream",
          "text": [
            "Contiene correos? Si\n"
          ]
        }
      ],
      "source": [
        "from enum import unique\n",
        "\n",
        "regex = r'\\b[\\w.-]+?@\\w+?\\.\\w+?\\b'\n",
        "all_emails = re.findall(regex,full_lines) \n",
        "contiene = len(all_emails) > 0\n",
        "print(f\"Contiene correos? {'Si' if contiene else 'No'}\")"
      ]
    },
    {
      "cell_type": "code",
      "execution_count": 13,
      "metadata": {},
      "outputs": [
        {
          "name": "stdout",
          "output_type": "stream",
          "text": [
            "Total emails: 669\n",
            "distinct emails: 451\n",
            "                0\n",
            "count  451.000000\n",
            "mean     1.483370\n",
            "std      1.765487\n",
            "min      1.000000\n",
            "25%      1.000000\n",
            "50%      1.000000\n",
            "75%      1.000000\n",
            "max     24.000000\n",
            "                  quantity\n",
            "info@opcion.com         13\n",
            "qpasa@elpais.com        24\n"
          ]
        },
        {
          "data": {
            "text/html": [
              "<div>\n",
              "<style scoped>\n",
              "    .dataframe tbody tr th:only-of-type {\n",
              "        vertical-align: middle;\n",
              "    }\n",
              "\n",
              "    .dataframe tbody tr th {\n",
              "        vertical-align: top;\n",
              "    }\n",
              "\n",
              "    .dataframe thead th {\n",
              "        text-align: right;\n",
              "    }\n",
              "</style>\n",
              "<table border=\"1\" class=\"dataframe\">\n",
              "  <thead>\n",
              "    <tr style=\"text-align: right;\">\n",
              "      <th></th>\n",
              "      <th>quantity</th>\n",
              "    </tr>\n",
              "  </thead>\n",
              "  <tbody>\n",
              "    <tr>\n",
              "      <th>siif-proyecto183-3@bcu.gub</th>\n",
              "      <td>1</td>\n",
              "    </tr>\n",
              "    <tr>\n",
              "      <th>maryrios@internet.com</th>\n",
              "      <td>1</td>\n",
              "    </tr>\n",
              "    <tr>\n",
              "      <th>direcciondelagranja@mgap.gub</th>\n",
              "      <td>1</td>\n",
              "    </tr>\n",
              "    <tr>\n",
              "      <th>dicomplejas@minterior.gub</th>\n",
              "      <td>1</td>\n",
              "    </tr>\n",
              "    <tr>\n",
              "      <th>personasausentes@minterior.gub</th>\n",
              "      <td>1</td>\n",
              "    </tr>\n",
              "    <tr>\n",
              "      <th>...</th>\n",
              "      <td>...</td>\n",
              "    </tr>\n",
              "    <tr>\n",
              "      <th>mcastaldi@elpais.com</th>\n",
              "      <td>9</td>\n",
              "    </tr>\n",
              "    <tr>\n",
              "      <th>alpaseosdeciudad@gmail.com</th>\n",
              "      <td>9</td>\n",
              "    </tr>\n",
              "    <tr>\n",
              "      <th>romairigoyen@gmail.com</th>\n",
              "      <td>10</td>\n",
              "    </tr>\n",
              "    <tr>\n",
              "      <th>info@opcion.com</th>\n",
              "      <td>13</td>\n",
              "    </tr>\n",
              "    <tr>\n",
              "      <th>qpasa@elpais.com</th>\n",
              "      <td>24</td>\n",
              "    </tr>\n",
              "  </tbody>\n",
              "</table>\n",
              "<p>451 rows × 1 columns</p>\n",
              "</div>"
            ],
            "text/plain": [
              "                                quantity\n",
              "siif-proyecto183-3@bcu.gub             1\n",
              "maryrios@internet.com                  1\n",
              "direcciondelagranja@mgap.gub           1\n",
              "dicomplejas@minterior.gub              1\n",
              "personasausentes@minterior.gub         1\n",
              "...                                  ...\n",
              "mcastaldi@elpais.com                   9\n",
              "alpaseosdeciudad@gmail.com             9\n",
              "romairigoyen@gmail.com                10\n",
              "info@opcion.com                       13\n",
              "qpasa@elpais.com                      24\n",
              "\n",
              "[451 rows x 1 columns]"
            ]
          },
          "execution_count": 13,
          "metadata": {},
          "output_type": "execute_result"
        }
      ],
      "source": [
        "# Descomentar el siguiente codigo para analizar los correos presentes\n",
        "print(f\"Total emails: {len(all_emails)}\")\n",
        "unique_emails = list(set(all_emails))\n",
        "print(f\"distinct emails: {len(unique_emails)}\")\n",
        "counter = {}\n",
        "for email in unique_emails:\n",
        "  counter[email] = all_emails.count(email)\n",
        "\n",
        "import pandas as pd\n",
        "\n",
        "a = pd.DataFrame.from_dict(counter, orient='index')\n",
        "print(a.describe())\n",
        "a.columns = ['quantity']\n",
        "a = a.sort_values(by='quantity')\n",
        "\n",
        "print(a[a.quantity > 10])\n",
        "\n",
        "a"
      ]
    },
    {
      "cell_type": "code",
      "execution_count": 14,
      "metadata": {},
      "outputs": [
        {
          "data": {
            "text/html": [
              "<div>\n",
              "<style scoped>\n",
              "    .dataframe tbody tr th:only-of-type {\n",
              "        vertical-align: middle;\n",
              "    }\n",
              "\n",
              "    .dataframe tbody tr th {\n",
              "        vertical-align: top;\n",
              "    }\n",
              "\n",
              "    .dataframe thead th {\n",
              "        text-align: right;\n",
              "    }\n",
              "</style>\n",
              "<table border=\"1\" class=\"dataframe\">\n",
              "  <thead>\n",
              "    <tr style=\"text-align: right;\">\n",
              "      <th></th>\n",
              "      <th>quantity</th>\n",
              "    </tr>\n",
              "  </thead>\n",
              "  <tbody>\n",
              "    <tr>\n",
              "      <th>info@opcion.com</th>\n",
              "      <td>13</td>\n",
              "    </tr>\n",
              "    <tr>\n",
              "      <th>qpasa@elpais.com</th>\n",
              "      <td>24</td>\n",
              "    </tr>\n",
              "  </tbody>\n",
              "</table>\n",
              "</div>"
            ],
            "text/plain": [
              "                  quantity\n",
              "info@opcion.com         13\n",
              "qpasa@elpais.com        24"
            ]
          },
          "execution_count": 14,
          "metadata": {},
          "output_type": "execute_result"
        }
      ],
      "source": [
        "a[a.quantity > 10]"
      ]
    },
    {
      "cell_type": "markdown",
      "metadata": {},
      "source": [
        "Los siguientes correos son parte de los articulos:\n",
        "- info@opcion.com\t\n",
        "- qpasa@elpais.com\t\n",
        "\n",
        "No deberian aparecer los siguietnes correos:\n",
        " - CondeLeonardo@netscape.net\n",
        " - CondeLeonardo@aol.com\n",
        " - jchouy@seragro.com.uy\n",
        " - hluna@seragro.com.uy\n",
        " - gpergola@elpais.com.uy\n",
        " - spanzl@elpais.com.uy\n",
        " - claudio@bizers.com.ar\n",
        " - alarronda@elpais.com.uy\n",
        " - barilari@laraza.com\n",
        " - spusino@elpais.com.uy\n",
        " - mgoday@elpais.com.uy\n",
        " - grocha@elpais.com.uy\n",
        " - dferreira@elpais.com.uy\n",
        " - snicola@elpais.com.uy\n",
        " - jcraffo@elpais.com.uy\n",
        " - vdiaz@elpais.com.uy\n",
        " - pjimenez@seragro.com.uy\n",
        " - lmelendez@elpais.com.uy\n",
        " - nlussich@seragro.com.uy\n",
        " - claudio@bizers.com.ar\n",
        " - barilarius@yahoo.com\n",
        " - elpepepregunton@gmail.com\n"
      ]
    },
    {
      "cell_type": "markdown",
      "metadata": {
        "id": "LJXq51EJ3XmQ"
      },
      "source": [
        "## Autores"
      ]
    },
    {
      "cell_type": "code",
      "execution_count": 15,
      "metadata": {
        "id": "vKyia-12xbsr"
      },
      "outputs": [
        {
          "name": "stdout",
          "output_type": "stream",
          "text": [
            "Contiene autor en formato 'Por AA |'? No\n",
            "IMPORTANTE: pueden haber otros casos que refiera a algun autor con otro formato. Se aconseja revisar.\n"
          ]
        }
      ],
      "source": [
        "# Revisar\n",
        "pattern = r\"Por \\w* \\w* \\|\"\n",
        "results = re.findall(pattern, full_lines)\n",
        "contiene = len(results) > 0\n",
        "print(f\"Contiene autor en formato 'Por AA |'? {'Si' if contiene else 'No'}\")\n",
        "\n",
        "print('IMPORTANTE: pueden haber otros casos que refiera a algun autor con otro formato. Se aconseja revisar.')\n"
      ]
    },
    {
      "cell_type": "markdown",
      "metadata": {
        "id": "rgmplTHF3gJr"
      },
      "source": [
        "## AFP"
      ]
    },
    {
      "cell_type": "code",
      "execution_count": 16,
      "metadata": {
        "colab": {
          "base_uri": "https://localhost:8080/"
        },
        "id": "TuDSl8ev3yC8",
        "outputId": "a15ca259-f41a-4e5e-e96b-7e72355bc012"
      },
      "outputs": [
        {
          "name": "stdout",
          "output_type": "stream",
          "text": [
            "Contiene texto 'AFP'? No\n"
          ]
        }
      ],
      "source": [
        "# ocurrencias con texto AFP\n",
        "pattern = r\"AFP\"\n",
        "results = re.findall(pattern, full_lines)\n",
        "contiene = len(results) > 0\n",
        "print(f\"Contiene texto 'AFP'? {'Si' if contiene else 'No'}\")\n"
      ]
    },
    {
      "cell_type": "markdown",
      "metadata": {
        "id": "JxngmUe04kcJ"
      },
      "source": [
        "## Fechas"
      ]
    },
    {
      "cell_type": "code",
      "execution_count": 17,
      "metadata": {
        "colab": {
          "base_uri": "https://localhost:8080/"
        },
        "id": "oySmLd394yIE",
        "outputId": "390b6051-741e-4765-f886-6d350ec49ecc"
      },
      "outputs": [
        {
          "name": "stdout",
          "output_type": "stream",
          "text": [
            "Contiene Fechas? No\n"
          ]
        }
      ],
      "source": [
        "# Fechas dia mes nn YYYY \n",
        "pattern_1 = r\"\\w\\w\\w \\w\\w\\w \\d\\d \\d\\d\\d\\d\"\n",
        "results_1 = re.findall(pattern_1, full_lines)\n",
        "\n",
        "# Fechas nn mes YYYY \n",
        "pattern_2 = r\"\\d\\d \\w\\w\\w \\d\\d\\d\\d\"\n",
        "results_2 = re.findall(pattern_2, full_lines)\n",
        "\n",
        "contiene = (len(results_1) + len(results_2)) > 0 \n",
        "print(f\"Contiene Fechas? {'Si' if contiene else 'No'}\")"
      ]
    },
    {
      "cell_type": "markdown",
      "metadata": {
        "id": "bdP7lwQt52fY"
      },
      "source": [
        "## Texto Foto: AA"
      ]
    },
    {
      "cell_type": "code",
      "execution_count": 18,
      "metadata": {
        "colab": {
          "base_uri": "https://localhost:8080/"
        },
        "id": "sx-qImnf6AOw",
        "outputId": "895403e8-73df-4b76-da56-996c1fc331e5"
      },
      "outputs": [
        {
          "name": "stdout",
          "output_type": "stream",
          "text": [
            "Contiene texto 'Foto:'? Si\n"
          ]
        }
      ],
      "source": [
        "# ocurrencias con texto AFP\n",
        "pattern = r\"Foto:\"\n",
        "results = re.findall(pattern, full_lines)\n",
        "contiene = len(results) > 0\n",
        "print(f\"Contiene texto 'Foto:'? {'Si' if contiene else 'No'}\")\n"
      ]
    },
    {
      "cell_type": "markdown",
      "metadata": {
        "id": "ikD831Z66Snc"
      },
      "source": [
        "## Texto \"Otras Ediciones\""
      ]
    },
    {
      "cell_type": "code",
      "execution_count": 19,
      "metadata": {
        "colab": {
          "base_uri": "https://localhost:8080/"
        },
        "id": "a20ic5156eaL",
        "outputId": "a31a76f4-9317-4157-faa4-6b02ce0dbfd5"
      },
      "outputs": [
        {
          "name": "stdout",
          "output_type": "stream",
          "text": [
            "Contiene texto 'Otras Ediciones'? No\n"
          ]
        }
      ],
      "source": [
        "# Ocurrencias con texto  -Otras ediciones- y salto de linea\n",
        "pattern = r\"Otras Ediciones\\n\"\n",
        "results = re.findall(pattern, full_lines)\n",
        "contiene = len(results) > 0\n",
        "print(f\"Contiene texto 'Otras Ediciones'? {'Si' if contiene else 'No'}\")"
      ]
    },
    {
      "cell_type": "markdown",
      "metadata": {
        "id": "7I0tOKgu7TDp"
      },
      "source": [
        "## Texto \"| -Lugar- @ |\""
      ]
    },
    {
      "cell_type": "code",
      "execution_count": 20,
      "metadata": {
        "colab": {
          "base_uri": "https://localhost:8080/"
        },
        "id": "TnT1S8gg7c14",
        "outputId": "a440f89a-6d4f-4ea4-d336-57ce18dd645b"
      },
      "outputs": [
        {
          "name": "stdout",
          "output_type": "stream",
          "text": [
            "Contiene texto '| Lugar |'? No\n"
          ]
        }
      ],
      "source": [
        "# Ocurrencias con texto  | Lugar |\n",
        "pattern = r\"\\| \\w*? .?\\|\"\n",
        "results = re.findall(pattern, full_lines)\n",
        "contiene = len(results) > 0\n",
        "print(f\"Contiene texto '| Lugar |'? {'Si' if contiene else 'No'}\")"
      ]
    },
    {
      "cell_type": "markdown",
      "metadata": {
        "id": "ukgN6sPV8LS3"
      },
      "source": [
        "## Texto \"El Pais Digital\""
      ]
    },
    {
      "cell_type": "code",
      "execution_count": 21,
      "metadata": {
        "colab": {
          "base_uri": "https://localhost:8080/"
        },
        "id": "olCVznDQ8OoS",
        "outputId": "d40165a3-0e92-4233-c53c-0a1e68bceb16"
      },
      "outputs": [
        {
          "name": "stdout",
          "output_type": "stream",
          "text": [
            "Contiene texto 'El País Digital'? Si\n",
            "IMPORTANTE: pueden haber ocurrencias que sea correcto que esten\n"
          ]
        }
      ],
      "source": [
        "# Ocurrencias con texto  El País Digital\n",
        "pattern = r\"El País Digital\"\n",
        "results = re.findall(pattern, full_lines, re.IGNORECASE)\n",
        "contiene = len(results) > 0\n",
        "print(f\"Contiene texto 'El País Digital'? {'Si' if contiene else 'No'}\")\n",
        "print('IMPORTANTE: pueden haber ocurrencias que sea correcto que esten')"
      ]
    },
    {
      "cell_type": "markdown",
      "metadata": {
        "id": "__Gx39U2-tId"
      },
      "source": [
        "## Crucigramas"
      ]
    },
    {
      "cell_type": "code",
      "execution_count": 22,
      "metadata": {
        "colab": {
          "base_uri": "https://localhost:8080/"
        },
        "id": "9GgnXLYnA_uK",
        "outputId": "1021047e-90bb-4fb7-81b4-749bf9147bf4"
      },
      "outputs": [
        {
          "name": "stdout",
          "output_type": "stream",
          "text": [
            "Contiene crucigramas (string 'horizontales')? No\n"
          ]
        }
      ],
      "source": [
        "# Crucigramas\n",
        "\n",
        "pattern = r\"horizontales.*?\\d\\)\"\n",
        "results = re.findall(pattern, full_lines, re.IGNORECASE)\n",
        "contiene = len(results) > 0\n",
        "print(f\"Contiene crucigramas (string 'horizontales')? {'Si' if contiene else 'No'}\")"
      ]
    },
    {
      "cell_type": "markdown",
      "metadata": {
        "id": "3XunfMHVG3Ki"
      },
      "source": [
        "## Texto \"EFE\""
      ]
    },
    {
      "cell_type": "code",
      "execution_count": 23,
      "metadata": {
        "colab": {
          "base_uri": "https://localhost:8080/"
        },
        "id": "1FJYBsjNHJNg",
        "outputId": "095e934f-bb3c-4e17-f8bf-2681da4b14dc"
      },
      "outputs": [
        {
          "name": "stdout",
          "output_type": "stream",
          "text": [
            "Contiene texto 'EFE'? Si\n",
            "IMPORTANTE: pueden haber ocurrencias que sea correcto que esten\n"
          ]
        }
      ],
      "source": [
        "# Ocurrencias con texto  EFE\n",
        "\n",
        "pattern = r\"EFE\"\n",
        "results = re.findall(pattern, full_lines, re.IGNORECASE)\n",
        "contiene = len(results) > 0\n",
        "print(f\"Contiene texto 'EFE'? {'Si' if contiene else 'No'}\")\n",
        "print('IMPORTANTE: pueden haber ocurrencias que sea correcto que esten')\n"
      ]
    },
    {
      "cell_type": "markdown",
      "metadata": {
        "id": "AaalMitIHrT8"
      },
      "source": [
        "## Texto \"Otras notas de Editorial\""
      ]
    },
    {
      "cell_type": "code",
      "execution_count": 24,
      "metadata": {
        "colab": {
          "base_uri": "https://localhost:8080/"
        },
        "id": "o-EzjClXHuWB",
        "outputId": "8d799dc0-1705-4538-d049-24c60c5eaac5"
      },
      "outputs": [
        {
          "name": "stdout",
          "output_type": "stream",
          "text": [
            "Contiene texto 'Otras notas de Editorial'? No\n"
          ]
        }
      ],
      "source": [
        "# Ocurrencias con texto  EFOtras notas de EditorialE\n",
        "\n",
        "pattern = r\"Otras notas de Editorial\"\n",
        "results = re.findall(pattern, full_lines, re.IGNORECASE)\n",
        "contiene = len(results) > 0\n",
        "print(f\"Contiene texto 'Otras notas de Editorial'? {'Si' if contiene else 'No'}\")\n"
      ]
    },
    {
      "cell_type": "markdown",
      "metadata": {
        "id": "B-62kLO9KdPS"
      },
      "source": [
        "# Visualizador de articulos ALEATORIO\n"
      ]
    },
    {
      "cell_type": "code",
      "execution_count": 25,
      "metadata": {
        "colab": {
          "base_uri": "https://localhost:8080/"
        },
        "id": "5lBC6sr0KiTd",
        "outputId": "9a457f2c-0999-4a65-9acd-23d824506b5f"
      },
      "outputs": [
        {
          "name": "stdout",
          "output_type": "stream",
          "text": [
            "index - 36460\n",
            "Dean Norris Los Angeles| Fabián Muro Mezcla de ciencia ficción, alegoría sociopolítica y relato multicoral dramático, la serie está libremente basada en una novela de 2009 de Stephen King, quien también es uno de los productores junto, entre otros, a Steven Spielberg. En Uruguay se verá por TNT, a partir de las 23 horas. La serie cuenta con prácticamente todas las características y personajes que han hecho del autor uno de los narradores más exitosos de las últimas décadas: el contexto supuestamente idílico, los vergonzosos o peligrosos secretos que yacen bajo esa fachada de tranquilidad pueblerina, y un grupo de personajes que van revelando rasgos sorprendentes de manera paulatina. Y, claro, el elemento sobrenatural o fantástico. En este caso, una gigantesca cúpula transparente, indestructible y con unas extrañas cualidades. Éxito. La serie ya tuvo su bautismo en el mercado televisivo estadounidense, con resultados lo suficientemente buenos co- mo para que CBS decidiera seguir adelante con el relato en una segunda temporada que aún no está terminada. En el éxito obtenido por la primera temporada de la serie importó bastante Dean Norris, quien hace de Jim Rennie, el concejal de la ciudad. Exvendedor de autos usados, Rennie es viudo desde hace diez años y cría por su cuenta a Junior (interpretado por Alex Koch), un joven perturbadoramente enamorado de Angie (Britt Robertson), la chica bonita que quiere irse de la pequeña ciudad en busca de grandes aventuras. Norris venía de hacer de Hank Schrader, uno de los personajes más importantes de Breaking Bad, algo que puede explicar parte del crédito que le dio la audiencia a La Cúpula durante su primera temporada. Pero como él dijo en el encuentro con la prensa internacional en Los Angeles, se trata de dos papeles y dos series con casi nada en común: \"Elegí estar porque luego de Breaking Bad quería hacer algo lo más distinto posible a eso, y La Cúpula lo es: tanto como serie, como en cuanto a mi personaje. Breaking Bad fue una serie realista cuyo horizonte eran los personajes y sus vidas. En La Cúpula el alcance es otro, mucho más grande, y hay un elemento sobrenatural muy presente. Eso me atrajo, porque te permite estirar los músculos actorales. Uno nunca sabe si el próximo trabajo será un éxito, pero tenía muchas esperanzas que lo fuera por el hecho de que están King y Spielberg involucrados. Y me alegro que lo sea\". El primer capítulo de la serie, el piloto, fue dirigido por el danés Niels Arden Oplev, quien se hizo famoso por la primera entrega en la saga de suspenso político Millenium, del escritor sueco Stieg Larsson. En ese primer capítulo se construyen las bases sobre las que se desarrollará el relato multicoral: la cúpula cae sobre Chester`s Mill, y los personajes van descubriendo que esa gigantesca trasparencia indestructible no solo los aísla del mundo exterior, sino que tiene unas extrañas peculiaridades, como cierta energía que puede alterar aparatos electrónicos, por ejemplo. Todo eso lleva las señas del titiritero King. Eso, para Norris, incidió en su decisión de formar parte de la serie: \"Me parece que la vigencia, y la popularidad, de Stephen King se debe en primer lugar a que es un gran narrador. Conecta con grandes temas: quiénes somos, qué nos define, cuáles son nuestros miedos. Esto último es algo que también está muy presente en La Cúpula: ¿cuán cerca estamos de que nuestra sociedad, o civilización, se desintegre por un hecho dramático o radical, como un terremoto o que una cúpula nos aísle del mundo?\". De todas maneras, Norris aclaró que el libro es solo un punto de partida. Hay margen para que los guionistas hagan su trabajo. Alex Koch, que interpreta al hijo de Big Jim, apodado Junior, dijo que las historias de La Cúpula se desvían bastante del relato original. \"Hay rasgos de Junior que son muy importantes en el libro y que en la serie directamente no se mencionan, al menos no en la primera temporada\". El eje padre-hijo es uno de los más importantes de la serie y Koch no pudo, dijo, tener mejor comienzo en su trayectoria actoral que contar con Norris. \"Es muy experimentado, hizo de todo: cine y series. Fue mi mentor durante el rodaje. Para mí es una gran oportunidad, pero también es una presión importante, porque la serie es una gran apuesta, con nombres de mucho peso involucrados y un elenco numeroso\". Colaboración. Norris, por su lado, dijo que tuvo en Koch un actor dúctil, apropiado para explorar ese eje narrativo. \"Esa relación entre Big Jim y Junior es una de las que más gusta de La Cúpula. Ojalá pueda seguir desarrollándola, pero ya veremos en la segunda temporada. La primera dejó planteada muchas preguntas para las cuales no sé las respuestas pero sí tengo mucha curiosidad\". Su personaje, en tanto, está bien definido: \"Lo que más me gusta de él es que es un personaje sinuoso, como un reptil: hace lo que tiene que hacer para que la situación se adapte a sus intereses y sus planes. Se desliza con facilidad hacia la acción, aunque lo que haga sea moralmente muy cuestionable. Creo que uno co-mo actor tiene que amar a su personaje, sin importar lo que diga la gente. Hay algo liberador en interpretar a un personaje que no tiene restricciones morales\". El desafío de hacer personajes oscuros \"Estamos atrapados\", dice \"Big\" Jim Rennie, el concejal de la pequeña ciudad Chester`s Mill, cuando se para junto a la cúpula que de un día para el otro cae sobre el lugar y aísla a todos. Aunque lo dice con un tono apesadumbrado, también se percibe en su voz la sensación de estar haciendo un descubrimiento. La curiosa y misteriosa energía que emite la cúpula, que los encierra a todos y los obliga a lidiar con un día a día cada vez más incierto, revela aspectos inesperados del personaje. De a poco se lo verá como un individuo sinuoso y con rasgos de reptil se mueve a sus anchas y deja atrás una estela de consecuencias devastadoras. \"No me frustra interpretar personajes detestables, no me hace sentir mal\", afirma Norris con una saludable dosis de cinismo. \"Quiero decir, ¡yo interpreto al personaje que el cheque me dice que tengo que interpretar! Pero me gusta tomar un personaje detestable y tratar de que no lo sea tanto, que tenga un costado agradable, o querible. Es un desafío que disfruto. Y en el caso de Big Jim ese desafío es ciertamente mayúsculo. Eso me excita desde el punto de vista actoral\". Fascinando a periodistas de diversas partes del mundo El carisma de Dean Norris, que tanto rindió en Breaking Bad, funcionó también ante periodistas de todo el mundo (de Rusia a Nueva Zelanda y Uruguay) que hicieron una larga cola para sacarse una foto con él. \"Tengo amigos que cuando supieron que venía para acá, me dijeron que me envidiaban solo porque iba a poder hacerle una pregunta\", le dijo un periodista mexicano a Norris. El fanatismo por la serie Breaking Bad ha sido, para Norris, totalmente positivo: \"Ha sido fantástico\", afirma. \"Un programa solo hubiera sido fantástico, pero la conjunción de ambos al mismo tiempo fue todo un frenesí. Estuve en Europa hace un tiempo y fue muy interesante ver el alcance de ambos programas. Me alegra que me suceda a esta altura de mi vida. Afortunadamente no soy demasiado joven para eso, podría ser algo problemático\". \n",
            "\n"
          ]
        }
      ],
      "source": [
        "import random\n",
        "import os\n",
        "\n",
        "\n",
        "def random_article(lines):\n",
        "  length = len(lines)\n",
        "\n",
        "  index = int(random.random() * length)\n",
        "  print(f'index - {index}')\n",
        "  print(lines[index])\n",
        "\n",
        "random_article(lines)"
      ]
    }
  ],
  "metadata": {
    "colab": {
      "provenance": []
    },
    "kernelspec": {
      "display_name": "Python 3.10.6 64-bit",
      "language": "python",
      "name": "python3"
    },
    "language_info": {
      "codemirror_mode": {
        "name": "ipython",
        "version": 3
      },
      "file_extension": ".py",
      "mimetype": "text/x-python",
      "name": "python",
      "nbconvert_exporter": "python",
      "pygments_lexer": "ipython3",
      "version": "3.10.6"
    },
    "vscode": {
      "interpreter": {
        "hash": "916dbcbb3f70747c44a77c7bcd40155683ae19c65e1c03b4aa3499c5328201f1"
      }
    }
  },
  "nbformat": 4,
  "nbformat_minor": 0
}

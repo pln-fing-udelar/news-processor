{
 "cells": [
  {
   "cell_type": "markdown",
   "id": "d5a81ae7",
   "metadata": {},
   "source": [
    "# Análisis y preprocesamiento del corpus *El País*"
   ]
  },
  {
   "cell_type": "code",
   "execution_count": 1,
   "id": "53c657c1",
   "metadata": {},
   "outputs": [
    {
     "name": "stdout",
     "output_type": "stream",
     "text": [
      "env: CORPUS=../input/el_pais/elpais20140926203240Noticias.largexml\n"
     ]
    }
   ],
   "source": [
    "%env CORPUS=../input/el_pais/elpais20140926203240Noticias.largexml"
   ]
  },
  {
   "cell_type": "code",
   "execution_count": 2,
   "id": "14b66638",
   "metadata": {},
   "outputs": [
    {
     "name": "stdout",
     "output_type": "stream",
     "text": [
      "-rw-rw-r-- 1 jp jp 2245M oct 18 16:02 ../input/el_pais/elpais20140926203240Noticias.largexml\r\n"
     ]
    }
   ],
   "source": [
    "# tamano\n",
    "!ls -lSr --block-size=M $CORPUS"
   ]
  },
  {
   "cell_type": "code",
   "execution_count": 3,
   "id": "b5dae61d",
   "metadata": {},
   "outputs": [
    {
     "name": "stdout",
     "output_type": "stream",
     "text": [
      "<add><doc>\r",
      "\r\n",
      "<field name=\"url\">http://historico.elpais.com.uy/Suple/EconomiaYMercado/10/04/12/ecoymer_481874.asp</field>\r",
      "\r\n"
     ]
    }
   ],
   "source": [
    "# estructura\n",
    "!head -n2 $CORPUS"
   ]
  },
  {
   "cell_type": "markdown",
   "id": "fc8ba433",
   "metadata": {},
   "source": [
    "Notar como el archivo empieza con un `<add>`; sin embago esta etiqueta nunca es cerrada con un `</add>`."
   ]
  },
  {
   "cell_type": "code",
   "execution_count": 4,
   "id": "4a15c252",
   "metadata": {},
   "outputs": [
    {
     "name": "stdout",
     "output_type": "stream",
     "text": [
      "<add><doc>\r",
      "\r\n"
     ]
    }
   ],
   "source": [
    "!cat $CORPUS | grep \"<add>\""
   ]
  },
  {
   "cell_type": "code",
   "execution_count": 5,
   "id": "76fcd8ee",
   "metadata": {},
   "outputs": [],
   "source": [
    "!cat $CORPUS | grep \"</add>\""
   ]
  },
  {
   "cell_type": "markdown",
   "id": "7503c0b9",
   "metadata": {},
   "source": [
    "Debido a esto, resulta conveniente ignorar los primeros 5 caracteres, ya que lo único que hacen es estorbar.\n",
    "\n",
    "Notar que el archivo se organiza en `<doc> ... </doc>`"
   ]
  },
  {
   "cell_type": "code",
   "execution_count": 6,
   "id": "fb1fd2ec",
   "metadata": {},
   "outputs": [
    {
     "name": "stdout",
     "output_type": "stream",
     "text": [
      "<add><doc>\r",
      "\r\n",
      "<field name=\"url\">http://historico.elpais.com.uy/Suple/EconomiaYMercado/10/04/12\r\n",
      "<field name=\"articulo\">RACHA | Acumuló la tercera semana consecutiva de descens\r\n",
      "<field name=\"title\">Dólar con vaivenes - Diario EL PAIS - Montevideo - Uruguay<\r\n",
      "<field name=\"metatitle\"></field>\r",
      "\r\n",
      "<field name=\"h1\">Dólar con vaivenes</field>\r",
      "\r\n",
      "<field name=\"fecha\">2010-04-12T00:00:00Z</field>\r",
      "\r\n",
      "<field name=\"categorias\"></field>\r",
      "\r\n",
      "<field name=\"descripcion\"></field>\r",
      "\r\n",
      "<field name=\"autor\"></field>\r",
      "\r\n",
      "</doc>\r",
      "\r\n",
      "<doc>\r",
      "\r\n",
      "<field name=\"url\">http://historico.elpais.com.uy/Suple/EconomiaYMercado/10/05/10\r\n",
      "<field name=\"articulo\">Los efectos de la trampa del euro PAUL KRUGMAN | DESDE NU\r\n",
      "<field name=\"title\">Los efectos de la trampa del euro - Diario EL PAIS - Montevi\r\n",
      "<field name=\"metatitle\"></field>\r",
      "\r\n",
      "<field name=\"h1\">Los efectos de la trampa del euro</field>\r",
      "\r\n",
      "<field name=\"fecha\">2010-05-10T00:00:00Z</field>\r",
      "\r\n",
      "<field name=\"categorias\"></field>\r",
      "\r\n",
      "<field name=\"descripcion\"></field>\r",
      "\r\n"
     ]
    }
   ],
   "source": [
    "!head -n20 $CORPUS | cut -c -80"
   ]
  },
  {
   "cell_type": "markdown",
   "id": "fcf5da68",
   "metadata": {},
   "source": [
    "De cuantas lineas se compone el corpus?"
   ]
  },
  {
   "cell_type": "code",
   "execution_count": 7,
   "id": "8a20c914",
   "metadata": {},
   "outputs": [
    {
     "name": "stdout",
     "output_type": "stream",
     "text": [
      "5988917\r\n"
     ]
    }
   ],
   "source": [
    "!cat $CORPUS | wc -l"
   ]
  },
  {
   "cell_type": "markdown",
   "id": "1aeba038",
   "metadata": {},
   "source": [
    "De cuantos artículos se compone el corpus?"
   ]
  },
  {
   "cell_type": "code",
   "execution_count": 8,
   "id": "5a35a654",
   "metadata": {},
   "outputs": [
    {
     "name": "stdout",
     "output_type": "stream",
     "text": [
      "544447\r\n"
     ]
    }
   ],
   "source": [
    "!grep -o '</doc>' $CORPUS | wc -l"
   ]
  },
  {
   "cell_type": "code",
   "execution_count": 9,
   "id": "d779c90b",
   "metadata": {},
   "outputs": [],
   "source": [
    "import io\n",
    "import random\n",
    "\n",
    "from tqdm.auto import tqdm\n",
    "from bs4 import BeautifulSoup\n",
    "import matplotlib.pyplot as plt\n",
    "import seaborn as sns\n",
    "\n",
    "total_lines = 5_988_917\n",
    "total_docs  = 544_447"
   ]
  },
  {
   "cell_type": "code",
   "execution_count": 10,
   "id": "69153412",
   "metadata": {},
   "outputs": [
    {
     "name": "stdout",
     "output_type": "stream",
     "text": [
      "              total        used        free      shared  buff/cache   available\r\n",
      "Mem:           7831        2111         136         306        5583        5131\r\n",
      "Swap:          3905          20        3885\r\n"
     ]
    }
   ],
   "source": [
    "!free -m"
   ]
  },
  {
   "cell_type": "code",
   "execution_count": 11,
   "id": "9ae548b9",
   "metadata": {},
   "outputs": [
    {
     "data": {
      "application/vnd.jupyter.widget-view+json": {
       "model_id": "ca44141e0b7e4eeb8b02ad885ed39a27",
       "version_major": 2,
       "version_minor": 0
      },
      "text/plain": [
       "0it [00:00, ?it/s]"
      ]
     },
     "metadata": {},
     "output_type": "display_data"
    },
    {
     "data": {
      "text/plain": [
       "544447"
      ]
     },
     "execution_count": 11,
     "metadata": {},
     "output_type": "execute_result"
    }
   ],
   "source": [
    "pth = '/home/jp/Workspace/pln/news-processor/input/el_pais/elpais20140926203240Noticias.largexml'\n",
    "end_patt = '</doc>'\n",
    "counter = 0\n",
    "with io.open(pth,'r', encoding='utf8') as f:\n",
    "    for line in tqdm(f):\n",
    "        line = line.rstrip('\\n')\n",
    "        if line == end_patt:\n",
    "            counter += 1\n",
    "counter"
   ]
  },
  {
   "cell_type": "markdown",
   "id": "68c1f54f",
   "metadata": {},
   "source": [
    "Consumo de memoria?"
   ]
  },
  {
   "cell_type": "code",
   "execution_count": 12,
   "id": "e6b589e1",
   "metadata": {},
   "outputs": [
    {
     "name": "stdout",
     "output_type": "stream",
     "text": [
      "              total        used        free      shared  buff/cache   available\r\n",
      "Mem:           7831        2112         133         308        5585        5128\r\n",
      "Swap:          3905          20        3885\r\n"
     ]
    }
   ],
   "source": [
    "!free -m"
   ]
  },
  {
   "cell_type": "markdown",
   "id": "f6feab1d",
   "metadata": {},
   "source": [
    "we good.\n",
    "\n",
    "A modo de buffer, vamos a **1.leer ➡️ 2. parsear ➡️ 3. procesar ➡️ 4. escribir** doc-by-doc, evitando así utilizar *gigas upon gigas* de memoria."
   ]
  },
  {
   "cell_type": "markdown",
   "id": "91d9b410",
   "metadata": {},
   "source": [
    "## Muestro aletorio de artículos"
   ]
  },
  {
   "cell_type": "markdown",
   "id": "7d51f403",
   "metadata": {},
   "source": [
    "### Observaciones\n",
    "\n",
    "* el `241506` son como tres noticias en 1? notar que `|` funciona como una especie de separador de nocias por lo que tal vez, sería conveniente reemplazarlo por `\\n\\n`\n",
    "* el `129808` termina en \"Vota por esta noticia:\"\n",
    "* el `447094` es cualquier cosa. El artículo parecería terminar justo antes de `:: Último Momento ::`\n",
    "* notar que el artículo #1 tambíen tiene como esos \"artículos de más\" sobre el pie de página. La sequencia ` :: ` parecería ser un indicador.\n",
    "* el `40758` contiene un link malformado (con un espacio) `http:// dragonage.bioware.com`\n",
    "* el `240310` contiene caracteres `�`, es una noticia de deportes y ademas contiene el título mismo de la noticia en el artículo mismo. Notar que el título de la noticia está en mayúsculas."
   ]
  },
  {
   "cell_type": "code",
   "execution_count": 26,
   "id": "f9231c92",
   "metadata": {},
   "outputs": [],
   "source": [
    "parse        = lambda raw: BeautifulSoup(raw, features=\"lxml\")\n",
    "get_articulo = lambda doc: doc.find(\"field\", {\"name\" : \"fecha\"}).text\n",
    "get_fecha    = lambda doc: doc.find(\"field\", {\"name\" : \"fecha\"}).text\n",
    "# \n",
    "corrupto = lambda art: '�' in art"
   ]
  },
  {
   "cell_type": "code",
   "execution_count": 13,
   "id": "2b183fa9",
   "metadata": {},
   "outputs": [],
   "source": [
    "\"\"\" esta funcion lo que samplear un artículo \n",
    "aleatorio del corpus. Retorna el `idx` del \n",
    "artículo sampleado + el artículo en sí\n",
    "\"\"\"\n",
    "def sample():\n",
    "    art, counter, rix = '', 0, random.randrange(total_docs)\n",
    "    with io.open(pth,'r', encoding='utf8') as f:\n",
    "        # de la primera linea omito el `<add>`\n",
    "        line = next(f)\n",
    "        art += line[len('<add>'):]\n",
    "        # el resto\n",
    "        for line in tqdm(f, total=total_lines-1):\n",
    "            line = line.rstrip('\\n')\n",
    "            art += line + \"\\n\"\n",
    "            if line == end_patt:\n",
    "                if counter == rix: return rix, art;\n",
    "                counter += 1\n",
    "                art = ''"
   ]
  },
  {
   "cell_type": "code",
   "execution_count": 16,
   "id": "a8b71ae3",
   "metadata": {},
   "outputs": [
    {
     "data": {
      "application/vnd.jupyter.widget-view+json": {
       "model_id": "c9e66bf692f34282bd9908bf5a817543",
       "version_major": 2,
       "version_minor": 0
      },
      "text/plain": [
       "  0%|          | 0/5988916 [00:00<?, ?it/s]"
      ]
     },
     "metadata": {},
     "output_type": "display_data"
    },
    {
     "name": "stdout",
     "output_type": "stream",
     "text": [
      "252480 <html><body><doc>\n",
      "<field name=\"url\">http://historico.elpais.com.uy/02/12/29/pciuda_24612.asp</field>\n",
      "<field name=\"articulo\">RENOVACION I El concesionario realizar� una inversi�n de 55 millones de d�lares entre la obra civil y cinco centros de entretenimiento en Montevideo y Canelones Maro�as reabrir� el 15 de marzo El Gran Premio Ram�rez que portradici�n se corre los 6 de enero podr�a trasladarse para la inauguraci�n ANTONIO ALVAREZ Como buen jockey, Fabio Guede sue�a con la recta final. Atr�s van quedando los palos blancos, las chaquetas de seda desti��ndose al viento, los gritos desde la tribuna llenos de palabras incomprensibles. El animal responde con adrenalina, corriendo por el lado de afuera. Saca un cuerpo, dos, tres, cuatro de ventaja. Lo extra�o es que la pista no termina nunca, la carrera jam�s llega a su fin pese a que corre, corre, corre. Es una pesadilla recurrente en la vida de Guede. Y se parece bastante a los �ltimos cinco a�os del Hip�dromo de Maro�as. Con apenas 22 a�os, Fabio corri� all� apenas tres veces como profesional. En el debut, el caballo se le escap� en el paseo y en las restantes dos ocasiones no tuvo mejor suerte. Aquella desventura le sirvi� sobre todo para ser testigo privilegiado del fin de una gloria que muri� con los ojos abiertos despu�s de una lenta agon�a. Cinco a�os despu�s de aquellos comienzos vacilantes, a Fabio Guede no hay caballo que se le resista. Con medidas perfectas para su oficio (1.62 metros, 51 kilos) es el campe�n de la estad�stica por segunda temporada consecutiva y seg�n los expertos el jockey m�s prometedor de la patria de Irineo Leguisamo. Noventa carreras ganadas en el Hip�dromo de Las Piedras durante el 2002, le permitir�n entrar al nuevo Maro�as por la puerta principal. Su trabajo se ver� en todos los pa�ses de la regi�n, en Estados Unidos, en Europa y hasta en el Lejano Oriente gracias a la televisaci�n de las carreras. Hoy gana 220 pesos por subirse al caballo gane o no gane. Es lo que llaman vi�ticos por monta perdida. Pero si �l y su caballo triunfan o salen segundos, Guede se lleva el 10 por ciento del premio. \"Si en Las Piedras corr� 50 carreras por mes, en Maro�as me voy a sentir m�s c�modo. Para el jockey no hay nada mejor que una pista con una buena recta. Las carreras son m�s limpias y te permiten planificar mejor las cosas\". Como sus m�s de cincuenta colegas, Guede est� ansioso. El s�bado 15 de marzo de 2003, Maro�as reabrir� sus puertas. Tal vez con el Gran Premio \"Jos� Pedro Ram�rez\" que debi� correrse el 6 de enero. La idea es distribuir una bolsa principal de 90 mil d�lares, a la par de los grandes hip�dromos del mundo. Ser� la primera jornada de una carta cl�sica con 39 pruebas de grupo y casi 1.1 millones de d�lares en premios. Cuando se le pregunta a los turfmen uruguayos qu� opinan, la alegr�a les ilumina la mirada. Pero no pueden evitar la cautela ante tantos desenga�os amorosos, licitaciones fallidas y decadencia, en especial durante los �ltimos cinco a�os La inversi�n del nuevo concesionario rondar� los 55 millones de d�lares. Nada mal para 70 hect�reas que Un retrato del nuevo inquilino H�pica Rioplatense Uruguay S.A. es un consorcio formado por Sociedad Argentina de Medios (grupo Liberman), Sociedad Latinoamericana de Inversiones y Codere Argentina, del grupo Codere de origen espa�ol. Lone Star Park es el operador h�pico que exig�a el pliego de condiciones dispuesto por el Estado uruguayo como forma de asegurarse un gerenciamiento experto del hip�dromo. Se trata de una pujante empresa �adquirida recientemente por el poderoso grupo austr�aco Stronach� que mont� hace siete a�os un centro h�pico en Dallas, hoy situado entre los diez primeros de los Estados Unidos. Participaron asimismo en la reapertura del Hip�dromo de las Am�ricas en Ciudad de M�xico En este negocio, Lone Star tiene la opci�n de ingresar con hasta un 15 por ciento de las acciones. Luego de una larga y pol�mica pelea cabeza a cabeza con el consorcio Welmir S.A. �vinculado a la secta Moon�, H�pica Rioplatense consigui� convencer al Estado con sus avales. En Uruguay, la gesti�n de Maro�as permitir� a los concesionarios disponer de 400 puestos de trabajo directos entre administrativos y personal de pista, adem�s de 1.500 empleos en forma indirecta solo en el primer a�o de trabajo. Gran debate por hiedra octogenaria Uno de los episodios m�s llamativos del proceso de Maro�as es una disputa muy particular entre H�pica Rioplatense y la Comisi�n de Patrimonio Hist�rico. El concesionario sab�a que de ganar la licitaci�n tendr�a que pasar por una rigurosa revisi�n de sus planes, dado que el Hip�dromo es monumento hist�rico nacional. En conocimiento de ello, H�pica contrat� al arquitecto Manuel Herrera Lussich para proyectar las obras y al mismo restaurador que actu� en Patio Bullrich y Galer�as Pac�fico en Buenos Aires, Argentina. Pero la situaci�n se puso tensa cuando la Comisi�n solicit� que la hiedra que recubre el edificio central de Maro�as no deb�a ser tocada bajo ning�n concepto. El tema anduvo en mesas y lenguas de gobernantes. Aunque nadie confirma ni desmiente, el presidente Batlle era proclive a hacer lugar al reclamo del concesionario, pero el intendente Arana �un fan�tico del rescate patrimonial� se neg� rotundamente a que la planta fuera sacada de su lugar. Muchos se preguntan por qu� no cortar la hiedra para tratar las paredes y luego dejarla crecer. Pero Patrimonio Hist�rico dijo que no. Es esa la hiedra y no otra. Un caso para Her�clito, o un cuento de Borges. \"Es una planta que tiene 80 a�os. Solo autorizamos a realizar alg�n corte aislado, en caso que la pared presentara fisuras o alg�n problema de tipo estructural. Es un edificio que no necesita ser pintado. La hiedra cumple esa funci�n\", asegura Jorge de Arteaga, presidente de la comisi�n instituida por el gobierno. Pese a las cr�ticas que gener� entre los inversores, H�pica Rioplatense zanj� la situaci�n. Repatri� a un ingeniero especialista en bot�nica y paisajismo radicado en Italia para el tratamiento del muro exterior. \"Ha sido un trabajo artesanal, de tratamiento casi hoja por hoja. Y casi est� pronto. La discusi�n sobre la hiedra ya fue. El muro se encuentra restaurado en un 90 por ciento. El resto se har� en marzo, cuando se caigan las hojas. Personalmente creo que est� bien que quede all�. El edificio pintado puede parecer un mausoleo\", argumenta Guzm�n Herrera, del estudio Herrera Lussich. El dilema de ser o no ser \"Zona Roja\" Uno de los temas tab� de Maro�as es la seguridad. En funci�n de que se convertir� en una zona financiera de importancia, muchos se preguntan si el hip�dromo no ser� la tentaci�n de moda para la delincuencia en el 2003. Los empresarios de H�pica Rioplatense y el Ministerio del Interior vienen reuni�ndose desde hace meses por esta situaci�n. \"Ser� un sistema de seguridad combinado. El concesionario pagar� su propio sistema de seguridad privado y contratar� a la Polic�a en r�gimen de servicio 222. Adem�s, habr� otros servicios involucrados como Radiopatrullas. Y se estudia incorporar polic�a militarizada en la zona\". Las palabras son del comisario Jorge M�rquez, titular de la seccional 16 con jurisdicci�n en Maro�as. M�rquez ha estado cerca de las fuerzas vivas del barrio, atendiendo tribulaciones vecinales y buscando generar confianza. \"Es un barrio que ha sido muy golpeado en los �ltimos a�os por el cierre del hip�dromo. Y no quieren que la delincuencia ahuyente a los inversores y a quienes vendr�n a apostar\", afirma el comisario. M�rquez sostiene que Maro�as es una zona \"normal\" dentro del mapa delictivo. \"La situaci�n no es cr�tica. Es m�s la fama que otra cosa. Si se pone bravo el barrio es porque somos una zona de pasaje de delincuentes provenientes de Marconi y el Borro\". El diagn�stico del comisario no coincide con los n�meros, sin embargo. Maro�as es un barrio que se encuentra entre los cinco o seis de mayores �ndices delictivos de la ciudad, seg�n datos de la propia Jefatura de Polic�a de Montevideo. Entre enero y noviembre de 2002, hubo 603 rapi�as, 9 copamientos, 12 homicidios, 652 arrebatos, 704 hurtos en fincas, 207 en comercios y 62 robos de veh�culos. En el mismo per�odo, marcharon a prisi�n 158 personas por los m�s diversos delitos. Son �ndices altos. Sobre todo si se los compara con los registrados en las seccionales 12 (Borro-Marconi), 17 (Gruta de Lourdes), 19 (La Teja, Nuevo Par�s) y 24 (Cerro Norte), ubicadas en todos los casos dentro de la llamada zona roja capitalina. Entre estas cuatro seccionales se concentra el 75 por ciento de los delitos en Montevideo. Maro�as bien podr�a estar en este c�rculo poco privilegiado de la seguridad. Un buen ejemplo es lo que sucede en la seccional 15 de Polic�a (Uni�n), jurisdicci�n vecina a Maro�as, con problemas similares. En el per�odo enero-noviembre 2002, las rapi�as all� fueron casi la mitad: 361. Zonas como esta seccional o la temida �rea de Marconi tuvieron un �ndice de homicidios 50 por ciento inferior al de Maro�as. El nivel de rapi�as en la zona del Hip�dromo es un poco menor al que registra Borro y Marconi. En los primeros once meses de 2002, la Polic�a tuvo que atender all� 686 casos. Pero el consuelo es menor, si se compara a Maro�as con zonas de seguridad normal: su �ndice de rapi�as es cuatro veces mayor al de la seccional 1, que vigila la Ciudad Vieja, donde las denuncias por rapi�a llegaron a ser apenas 134. Accesos a fines de 2003 La Intendencia de Montevideo y el Ministerio de Vivienda trabajan muy ligados en �reas como pol�tica habitacional y medio ambiente, pero rara vez est�n de acuerdo en algo. Cuando se supo que juntos iban a encargarse de solucionar los accesos a Maro�as, m�s de uno de los involucrados, en especial la empresa inversora, pens� que ser�a un dolor de cabeza. No se equivoc�. Pero despu�s de m�s de dos a�os de conversaciones e interminables reuniones, comisiones y visitas al barrio Ituzaingo existe un convenio borrador pronto y casi listo para ser firmado. \"Creo que por primera vez existen buenas perspectivas para solucionar el tema. El nuevo ministro Sa�l Irureta dio muestras de tener este proyecto entre sus prioridades\", admite la arquitecta Rosario Fossatti, directora de Espacios P�blicos de la Intendencia de Montevideo. Fossatti asegura que el terreno para realojar a las 60 familias que viven en la zona expropiada ya se encuentra a disposici�n y que el sistema de construcci�n a cargo del ministerio ser� aplicado con celeridad a partir de la firma del convenio. \"Pero no se puede dar a conocer el lugar porque enseguida ser�a ocupado por intrusos\", reconoce la directora. A partir de la mudanza, la Intendencia de Montevideo realizar� la extensi�n de la avenida Larra�aga hasta el Hip�dromo de Maro�as en unos seis meses. \"Podr�an ser cuatro o cinco meses si logramos mejorar la coordinaci�n con otros servicios p�blicos\", afirma la ingeniera Susana Galli, directora municipal de Vialidad. La obra implica el ensanchamiento y trazado de una calle a trav�s de las siete manzanas hoy ocupadas. Constar� de dos v�as de 9,50 metros y un cantero central de 5 metros. Las veredas tendr�n tambi�n 5 metros de ancho. El costo total de la obra ser� de 900 mil d�lares y su financiamiento ya fue concedido en el presupuesto de la comuna. Un gallego La chacra de Francisco Maro�as fue el comienzo de todo. Maro�as, de origen gallego, hab�a sido militar del regimiento de Mallorca. As� hab�a llegado en 1765 a la Banda Oriental. En los a�os siguientes, gracias a los servicios prestados, la corona espa�ola le otorg� un t�tulo rimbombante y un tanto dif�cil de entender para un uruguayo del siglo XXI. Era \"Visitante de la Renta del Tabaco y Naipes\". Maro�as muri� en 1812. El pueblo que llevaba su nombre fue delineado en 1873 sobre la base de su propiedad. Pero ya cinco a�os antes se hab�a construido en la zona un \"circo h�pico\" en competencia con el que los ingleses hab�an montado en la calle Azotea de Lima, en la zona de Piedras Blancas. El primer nombre para ese hip�dromo fue \"Circo Ituzaing�\".</field>\n",
      "<field name=\"title\">Diario EL PAIS - Uruguay</field>\n",
      "<field name=\"metatitle\">text/html;</field>\n",
      "<field name=\"h1\"></field>\n",
      "<field name=\"fecha\">2002-12-29T00:00:00Z</field>\n",
      "<field name=\"categorias\"></field>\n",
      "<field name=\"descripcion\">FW4 DW4 HTML</field>\n",
      "<field name=\"autor\"></field>\n",
      "</doc>\n",
      "</body></html>\n"
     ]
    }
   ],
   "source": [
    "aix, rart = sample()\n",
    "print(aix, get_articulo(parse(rart)))"
   ]
  },
  {
   "cell_type": "markdown",
   "id": "65568644",
   "metadata": {},
   "source": [
    "Cuantos artículos contienen el caracter raro `�`"
   ]
  },
  {
   "cell_type": "code",
   "execution_count": 17,
   "id": "40bc5caa",
   "metadata": {},
   "outputs": [
    {
     "data": {
      "application/vnd.jupyter.widget-view+json": {
       "model_id": "448f324fce7c4acb9e66fda10661f779",
       "version_major": 2,
       "version_minor": 0
      },
      "text/plain": [
       "  0%|          | 0/5988916 [00:00<?, ?it/s]"
      ]
     },
     "metadata": {},
     "output_type": "display_data"
    },
    {
     "data": {
      "text/plain": [
       "0"
      ]
     },
     "execution_count": 17,
     "metadata": {},
     "output_type": "execute_result"
    }
   ],
   "source": [
    "art, counter = '', 0\n",
    "with io.open(pth,'r', encoding='utf8') as f:\n",
    "    art += next(f)[len('<add>'):]\n",
    "    for line in tqdm(f, total=total_lines-1):\n",
    "        line = line.rstrip('\\n')\n",
    "        art += line + \"\\n\"\n",
    "        if line == end_patt:\n",
    "            art = parse(art)\n",
    "            counter += corrupto(art)\n",
    "            art = ''\n",
    "counter"
   ]
  },
  {
   "cell_type": "code",
   "execution_count": 28,
   "id": "ed569459",
   "metadata": {},
   "outputs": [
    {
     "data": {
      "text/plain": [
       "0.13488365258693683"
      ]
     },
     "execution_count": 28,
     "metadata": {},
     "output_type": "execute_result"
    }
   ],
   "source": [
    "73437 / total_docs"
   ]
  },
  {
   "cell_type": "markdown",
   "id": "2f1a3647",
   "metadata": {},
   "source": [
    "13.4% de los artículos tienen los caracteres raros 🤷"
   ]
  },
  {
   "cell_type": "code",
   "execution_count": 19,
   "id": "93c4a565",
   "metadata": {},
   "outputs": [],
   "source": [
    "# def parse(art):\n",
    "#     art = BeautifulSoup(art, features=\"lxml\")\n",
    "#     art = art.find(\"field\", {\"name\" : \"articulo\"}).text\n",
    "#     return art"
   ]
  },
  {
   "cell_type": "code",
   "execution_count": 20,
   "id": "6d1b9922",
   "metadata": {},
   "outputs": [],
   "source": [
    "def proc(raw):\n",
    "    doc = parse(raw)\n",
    "    art  = get_articulo(doc)\n",
    "    print(art)\n",
    "    print(\"-\" * 80)"
   ]
  },
  {
   "cell_type": "code",
   "execution_count": 21,
   "id": "b8ca6879",
   "metadata": {},
   "outputs": [
    {
     "data": {
      "application/vnd.jupyter.widget-view+json": {
       "model_id": "c4b1605a48404715bf967627200299ff",
       "version_major": 2,
       "version_minor": 0
      },
      "text/plain": [
       "  0%|          | 0/5988916 [00:00<?, ?it/s]"
      ]
     },
     "metadata": {},
     "output_type": "display_data"
    },
    {
     "name": "stdout",
     "output_type": "stream",
     "text": [
      "1\n",
      "<doc>\n",
      "<field name=\"url\">http://historico.elpais.com.uy/Suple/EconomiaYMercado/10/04/12/ecoymer_481874.asp</field>\n",
      "<field name=\"articulo\">RACHA | Acumuló la tercera semana consecutiva de descensos Dólar con vaivenes El billete verde se movió con marcadas oscilaciones a lo largo de la semana pasada, en la que registró descensos en tres de las cinco jornadas, para luego recuperar parte de lo perdido en las restantes dos. El viernes, el dólar interbancario fondo se operó a un promedio de $ 19,314, lo que supuso un descenso semanal de 0,71%. En lo que va de 2010 la caída acumulada llega al 1,59%. En tanto, el Banco República redujo 0,76% la pizarra entre lunes y viernes hasta $ 19,00 y $ 19,60 en cada punta. La divisa tuvo dos tendencias muy claras la semana pasada. Primero se movió a la baja, presionada por la constante búsqueda de pesos, a lo que se le sumó la mayor inflación a la esperada en marzo. Sin embargo, la tónica cambió el miércoles y jueves, con fuertes compras del BROU y de bancos privados, ante la suba del dólar en el exterior. Vota por esta noticia: Usuario: Solo usuarios registrados pueden comentar y/o denunciar. Mantenga y vigile el nivel de debate y recuerde que nuestras Normas de Participación implican obligaciones y responsabilidades. Contraseña: | cancelar | Si usted considera que se ha incurrido agravios o no se respeta el reglamento de esta sección, puede DENUNCIAR al autor. En ese caso, automáticamente ese mensaje desaparece y es enviado al correo del Administrador de Foros/Comentarios. El Administrador puede avalar su decisión o discrepar con ella, en cuyo caso el mensaje es restituido. Se advierte que la reiteración de violaciones al reglamento, tanto como la reiteración de Denuncias injustificadas, pueden determinar que el usuario sea borrado del registro, perdiendo sus privilegios por seis meses. El País Digital se reserva el derecho de editar los mensajes que usted envíe a los efectos de su mejor comprensión por otros usuarios. Nuevo seudonimo: Eficiencia, gestión por resultados, calidad, control e indicadores de gestión, conceptos que se aplican en las empresas, hoy son tenidos en cuenta y llevados a la práctica en la administración pública. :: Economía y Mercado :: El economista Ricardo López Murphy, ex ministro de Economía y de Defensa de la República Argentina, estima un alza de precios del 25% para este año, que resulta de un promedio ponderado entre la tasa de crecimiento del gasto .. :: Economía y Mercado :: Durante los primeros meses de este año el Poder Ejecutivo emitió dos decretos que serán de aplicación obligatoria para los ejercicios económicos finalizados el 31 de diciembre de 2009. :: Economía y Mercado :: El Instituto Bios busca este año consolidar el proceso de expansión iniciado entre 2001 y 2002 como respuesta a la crisis económico-financiera que sufrió Uruguay. :: Economía y Mercado :: El tema más relevante del mes de marzo fue la discusión sobre el uso de las reservas del BCU. Al respecto mucho se ha dicho y escrito, bien y mal, por lo que dejaré mi opinión para otro momento. :: Economía y Mercado :: El gobierno liberó la importación de pollo y es elogiable, no solo por terminar con una condición de excepción, sino porque lo ha fundamentado muy bien. Alguno dirá, por quitarle mérito a la medida, que fue arrancada bajo presión .. :: Economía y Mercado :: Un editorial del diario destacaba días atrás los puntos críticos expresados por el presidente Mujica en sus primeros días de gestión. Subrayamos además la capacidad de graficar realidades complejas que la confusión de la ..  </field>\n",
      "<field name=\"title\">Dólar con vaivenes - Diario EL PAIS - Montevideo - Uruguay</field>\n",
      "<field name=\"metatitle\"></field>\n",
      "<field name=\"h1\">Dólar con vaivenes</field>\n",
      "<field name=\"fecha\">2010-04-12T00:00:00Z</field>\n",
      "<field name=\"categorias\"></field>\n",
      "<field name=\"descripcion\"></field>\n",
      "<field name=\"autor\"></field>\n",
      "</doc>\n",
      "\n",
      "2\n",
      "<doc>\n",
      "<field name=\"url\">http://historico.elpais.com.uy/Suple/EconomiaYMercado/10/05/10/ecoymer_487555.asp</field>\n",
      "<field name=\"articulo\">Los efectos de la trampa del euro PAUL KRUGMAN | DESDE NUEVA YORK No hace mucho, los economistas europeos solían mofarse de sus contrapartes estadounidenses por haber cuestionado los beneficios de la marcha de Europa hacia la unión monetaria. &quot;En su conjunto&quot;, declaró un artículo publicado en enero, &quot;hasta el momento al euro le ha ido mucho mejor que lo pronosticado por muchos economistas estadounidenses&quot;. ¡Ups! El artículo resumió las opiniones de los escépticos del euro como: &quot;No puede ser, es una mala idea, no durará&quot;. Bueno, la moneda sí se creó, pero en estos momentos parece haber sido una mala idea exactamente por los mismos motivos citados por los escépticos. Y en lo que respecta a si durará, repentinamente, parece una pregunta abierta. Para entender el embrollo del euro -y sus lecciones para el resto de nosotros- es necesario ver más allá de los titulares. En la actualidad todo mundo se enfoca en la deuda pública, lo que puede hacer creer que todo se trata de una simple historia de gobiernos que no pudieron controlar su gasto. Pero eso apenas explica parcialmente el caso de Grecia, en menor medida el de Portugal y en nada el de España. El hecho es que hace tres años ninguno de los países actualmente en crisis o cerca de ésta parecían registrar graves problemas fiscales. Incluso, el déficit presupuestal de Grecia de 2007 no fue mayor, como porcentaje del PIB, que el registrado por Estados Unidos a mediados de la década de 1980 -en la era de Ronald Reagan- mientras España de hecho registró superávit. Y todos estos países atraían flujos considerables de capital externo, debido principalmente a que los mercados creían que la pertenencia a la zona del euro hacía que los bonos griegos, portugueses y españoles fueran inversiones seguras. Pero después llegó la crisis financiera. Los flujos de capital se secaron; los ingresos se desplomaron y los déficit crecieron; y la membresía al euro, que había fomentado que los mercados se inclinaran con poco juicio por los países en crisis, se convirtió en una trampa. ¿Cuál es la naturaleza de la trampa? Durante los años de dinero fácil, los salarios y los precios de los países en crisis crecieron más rápido que en el resto de Europa. Ahora que el dinero ya no está llegando, estos países necesitan ajustar a la baja sus costos. Pero ahora es mucho más difícil lograrlo que cuando cada nación europea tenía su propia moneda. En ese entonces, se controlaba los costos ajustando el tipo de cambio. Por ejemplo, Grecia reduciría sus salarios relativos con los alemanes simplemente bajando el valor del dracma en relación con el marco alemán. Ahora que Grecia y Alemania comparten la misma moneda, la única forma de reducir los costos relativos griegos es a través de alguna combinación de inflación alemana y deflación griega. Y dado que Alemania no aceptará inflación, la opción es la deflación. El problema es que la deflación -la caída de los salarios y precios- siempre y en todas partes es un proceso doloroso. Invariablemente conlleva un prolongado desplome del nivel de actividad de la economía y alto desempleo. Y también agrava los problemas de deuda, pública y privada, porque los ingresos caen y la carga de la deuda no. De ahí la crisis. Los problemas fiscales de Grecia serían graves aunque probablemente manejables si el panorama económico del país para los siguientes años luciera incluso moderadamente favorable. Pero no es así. A principios de la semana pasada, al calificar a la baja la deuda del país, Standard &amp; Poor`s sugirió que el valor en euros del PIB de Grecia no regresaría a su nivel de 2008 hasta 2017, lo que significa que Grecia no tiene esperanzas de salir de sus problemas vía crecimiento. Todo esto es exactamente lo que temían los escépticos del euro. Renunciar a la capacidad de ajustar los tipos de cambio, advirtieron, invitaría crisis futuras. Y ya sucedió. Entonces, ¿qué le pasará al euro? Hasta hace poco, la mayoría de los analistas, incluyéndome, consideraban básicamente imposible el rompimiento del euro, dado que cualquier gobierno que insinuara estar considerando el abandono de la moneda estaría invitando a un catastrófico retiro masivo de dinero de sus bancos. Pero si los países en crisis se ven forzados a la moratoria, probablemente de cualquier forma se enfrentarán a crisis bancarias, obligándolos a adoptar medidas de emergencia como restricciones temporales a los retiros bancarios. Esto abriría la puerta al abandono del euro. Entonces, ¿el euro en sí mismo corre peligro? En una palabra, sí. Si los líderes europeos no empiezan a actuar más enérgicamente, brindando a Grecia suficiente ayuda para evitar lo peor, es muy probable que se presente una reacción en cadena que empezará con la moratoria griega y terminará causando más destrozos. Mientras tanto, ¿cuáles son las lecciones para el resto de nosotros? Los críticos del déficit ya están intentando apropiarse de la crisis europea, presentándola como ejemplo de los problemas de los números rojos gubernamentales. Lo que la crisis realmente demuestra, empero, es el peligro de ponerse una camisa de fuerza política. Cuando se unieron al euro, los gobiernos de Grecia, Portugal y España abandonaron la posibilidad de hacer algunas cosas malas, como imprimir demasiado dinero; pero también se negaron la posibilidad de responder flexiblemente a los acontecimientos. Y cuando las crisis golpean, los gobiernos necesitan poder reaccionar. Eso es lo que olvidaron los arquitectos del euro, y es lo que el resto de nosotros necesitamos recordar. THE NEW YORK TIMES</field>\n",
      "<field name=\"title\">Los efectos de la trampa del euro - Diario EL PAIS - Montevideo - Uruguay</field>\n",
      "<field name=\"metatitle\"></field>\n",
      "<field name=\"h1\">Los efectos de la trampa del euro</field>\n",
      "<field name=\"fecha\">2010-05-10T00:00:00Z</field>\n",
      "<field name=\"categorias\"></field>\n",
      "<field name=\"descripcion\"></field>\n",
      "<field name=\"autor\"></field>\n",
      "</doc>\n",
      "\n"
     ]
    }
   ],
   "source": [
    "limit = 2\n",
    "art, counter = '', 0\n",
    "\n",
    "with io.open(pth,'r', encoding='utf8') as f:\n",
    "    art += next(f)[len('<add>'):]\n",
    "    # el resto\n",
    "    for line in tqdm(f, total=total_lines-1):\n",
    "        line = line.rstrip('\\n')\n",
    "        art += line + \"\\n\"\n",
    "        if line == end_patt:\n",
    "            counter += 1\n",
    "            print(counter)\n",
    "            # proc(art)\n",
    "            print(art)\n",
    "            if counter == limit: break;\n",
    "            art = ''"
   ]
  },
  {
   "cell_type": "markdown",
   "id": "527e4b96",
   "metadata": {},
   "source": [
    "Distribución de las fechas"
   ]
  },
  {
   "cell_type": "code",
   "execution_count": 24,
   "id": "6b14851b",
   "metadata": {},
   "outputs": [
    {
     "data": {
      "application/vnd.jupyter.widget-view+json": {
       "model_id": "f0f688b6ddff49c9887647f1cac8789e",
       "version_major": 2,
       "version_minor": 0
      },
      "text/plain": [
       "  0%|          | 0/5988916 [00:00<?, ?it/s]"
      ]
     },
     "metadata": {},
     "output_type": "display_data"
    },
    {
     "data": {
      "text/plain": [
       "{'2010': 29733,\n",
       " '2005': 32332,\n",
       " '2006': 45385,\n",
       " '2007': 37312,\n",
       " '2008': 34938,\n",
       " '2003': 48454,\n",
       " '2004': 20260,\n",
       " '2002': 18533,\n",
       " '2009': 13028,\n",
       " '2014': 102474,\n",
       " '2013': 60612,\n",
       " '2011': 54543,\n",
       " '2015': 517,\n",
       " '2012': 41407,\n",
       " '2000': 601,\n",
       " '2001': 957,\n",
       " '1990': 1469,\n",
       " '2018': 594,\n",
       " '2017': 340,\n",
       " '2016': 524,\n",
       " '2019': 434}"
      ]
     },
     "execution_count": 24,
     "metadata": {},
     "output_type": "execute_result"
    }
   ],
   "source": [
    "# limit = 100\n",
    "art, counter = '', 0\n",
    "dist = dict()\n",
    "\n",
    "with io.open(pth,'r', encoding='utf8') as f:\n",
    "    art += next(f)[len('<add>'):]\n",
    "    for line in tqdm(f, total=total_lines-1):\n",
    "        line = line.rstrip('\\n')\n",
    "        art += line + \"\\n\"\n",
    "        if line == end_patt:\n",
    "            counter += 1\n",
    "            art = parse(art)\n",
    "            year = get_fecha(art)[:4]\n",
    "            if year not in dist: dist[year] = 0\n",
    "            dist[year] += 1\n",
    "            #if counter == limit: break;\n",
    "            art = ''\n",
    "            \n",
    "dist"
   ]
  },
  {
   "cell_type": "code",
   "execution_count": 25,
   "id": "58c9beff",
   "metadata": {},
   "outputs": [
    {
     "data": {
      "image/png": "[encoded data removed]",
      "text/plain": [
       "<Figure size 5000x500 with 1 Axes>"
      ]
     },
     "metadata": {
      "needs_background": "light"
     },
     "output_type": "display_data"
    }
   ],
   "source": [
    "fig, ax = plt.subplots(figsize=(50, 5), dpi=100)\n",
    "lists = sorted(dist.items())\n",
    "X, Y = zip(*lists)\n",
    "sns.barplot(x=list(X), y=list(Y), ax=ax)\n",
    "plt.xticks(rotation=70)\n",
    "plt.show()"
   ]
  }
 ],
 "metadata": {
  "kernelspec": {
   "display_name": "Python 3",
   "language": "python",
   "name": "python3"
  },
  "language_info": {
   "codemirror_mode": {
    "name": "ipython",
    "version": 3
   },
   "file_extension": ".py",
   "mimetype": "text/x-python",
   "name": "python",
   "nbconvert_exporter": "python",
   "pygments_lexer": "ipython3",
   "version": "3.8.8"
  }
 },
 "nbformat": 4,
 "nbformat_minor": 5
}

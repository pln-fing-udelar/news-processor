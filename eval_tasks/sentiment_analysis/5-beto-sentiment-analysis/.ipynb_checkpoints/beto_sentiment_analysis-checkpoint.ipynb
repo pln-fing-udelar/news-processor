{
 "cells": [
  {
   "cell_type": "code",
   "execution_count": 1,
   "metadata": {
    "colab": {
     "base_uri": "https://localhost:8080/"
    },
    "id": "x--YPM5NjG7o",
    "outputId": "0cfdb2b7-3d2f-4ddb-9861-c8dae7a402f2"
   },
   "outputs": [
    {
     "name": "stdout",
     "output_type": "stream",
     "text": [
      "Requirement already satisfied: transformers in /clusteruy/home/gonzalo.marco.mohotse/miniconda3/lib/python3.9/site-packages (4.25.0.dev0)\n",
      "Requirement already satisfied: datasets in /clusteruy/home/gonzalo.marco.mohotse/miniconda3/lib/python3.9/site-packages (2.7.0)\n",
      "Requirement already satisfied: pyyaml>=5.1 in /clusteruy/home/gonzalo.marco.mohotse/miniconda3/lib/python3.9/site-packages (from transformers) (6.0)\n",
      "Requirement already satisfied: numpy>=1.17 in /clusteruy/home/gonzalo.marco.mohotse/.local/lib/python3.9/site-packages (from transformers) (1.21.2)\n",
      "Requirement already satisfied: filelock in /clusteruy/home/gonzalo.marco.mohotse/miniconda3/lib/python3.9/site-packages (from transformers) (3.8.0)\n",
      "Requirement already satisfied: packaging>=20.0 in /clusteruy/home/gonzalo.marco.mohotse/.local/lib/python3.9/site-packages (from transformers) (21.3)\n",
      "Requirement already satisfied: regex!=2019.12.17 in /clusteruy/home/gonzalo.marco.mohotse/miniconda3/lib/python3.9/site-packages (from transformers) (2022.10.31)\n",
      "Requirement already satisfied: tokenizers!=0.11.3,<0.14,>=0.11.1 in /clusteruy/home/gonzalo.marco.mohotse/miniconda3/lib/python3.9/site-packages (from transformers) (0.13.2)\n",
      "Requirement already satisfied: requests in /clusteruy/home/gonzalo.marco.mohotse/miniconda3/lib/python3.9/site-packages (from transformers) (2.27.1)\n",
      "Requirement already satisfied: huggingface-hub<1.0,>=0.10.0 in /clusteruy/home/gonzalo.marco.mohotse/miniconda3/lib/python3.9/site-packages (from transformers) (0.10.1)\n",
      "Requirement already satisfied: tqdm>=4.27 in /clusteruy/home/gonzalo.marco.mohotse/miniconda3/lib/python3.9/site-packages (from transformers) (4.63.0)\n",
      "Requirement already satisfied: pandas in /clusteruy/home/gonzalo.marco.mohotse/.local/lib/python3.9/site-packages (from datasets) (1.3.3)\n",
      "Requirement already satisfied: xxhash in /clusteruy/home/gonzalo.marco.mohotse/miniconda3/lib/python3.9/site-packages (from datasets) (3.1.0)\n",
      "Requirement already satisfied: aiohttp in /clusteruy/home/gonzalo.marco.mohotse/miniconda3/lib/python3.9/site-packages (from datasets) (3.8.3)\n",
      "Requirement already satisfied: multiprocess in /clusteruy/home/gonzalo.marco.mohotse/miniconda3/lib/python3.9/site-packages (from datasets) (0.70.14)\n",
      "Requirement already satisfied: fsspec[http]>=2021.11.1 in /clusteruy/home/gonzalo.marco.mohotse/miniconda3/lib/python3.9/site-packages (from datasets) (2022.11.0)\n",
      "Requirement already satisfied: responses<0.19 in /clusteruy/home/gonzalo.marco.mohotse/miniconda3/lib/python3.9/site-packages (from datasets) (0.18.0)\n",
      "Requirement already satisfied: dill<0.3.7 in /clusteruy/home/gonzalo.marco.mohotse/miniconda3/lib/python3.9/site-packages (from datasets) (0.3.6)\n",
      "Requirement already satisfied: pyarrow>=6.0.0 in /clusteruy/home/gonzalo.marco.mohotse/miniconda3/lib/python3.9/site-packages (from datasets) (10.0.0)\n",
      "Requirement already satisfied: multidict<7.0,>=4.5 in /clusteruy/home/gonzalo.marco.mohotse/miniconda3/lib/python3.9/site-packages (from aiohttp->datasets) (6.0.2)\n",
      "Requirement already satisfied: frozenlist>=1.1.1 in /clusteruy/home/gonzalo.marco.mohotse/miniconda3/lib/python3.9/site-packages (from aiohttp->datasets) (1.3.3)\n",
      "Requirement already satisfied: charset-normalizer<3.0,>=2.0 in /clusteruy/home/gonzalo.marco.mohotse/miniconda3/lib/python3.9/site-packages (from aiohttp->datasets) (2.0.4)\n",
      "Requirement already satisfied: yarl<2.0,>=1.0 in /clusteruy/home/gonzalo.marco.mohotse/miniconda3/lib/python3.9/site-packages (from aiohttp->datasets) (1.8.1)\n",
      "Requirement already satisfied: async-timeout<5.0,>=4.0.0a3 in /clusteruy/home/gonzalo.marco.mohotse/miniconda3/lib/python3.9/site-packages (from aiohttp->datasets) (4.0.2)\n",
      "Requirement already satisfied: attrs>=17.3.0 in /clusteruy/home/gonzalo.marco.mohotse/.local/lib/python3.9/site-packages (from aiohttp->datasets) (22.1.0)\n",
      "Requirement already satisfied: aiosignal>=1.1.2 in /clusteruy/home/gonzalo.marco.mohotse/miniconda3/lib/python3.9/site-packages (from aiohttp->datasets) (1.3.1)\n",
      "Requirement already satisfied: typing-extensions>=3.7.4.3 in /clusteruy/home/gonzalo.marco.mohotse/.local/lib/python3.9/site-packages (from huggingface-hub<1.0,>=0.10.0->transformers) (4.3.0)\n",
      "Requirement already satisfied: pyparsing!=3.0.5,>=2.0.2 in /clusteruy/home/gonzalo.marco.mohotse/.local/lib/python3.9/site-packages (from packaging>=20.0->transformers) (3.0.9)\n",
      "Requirement already satisfied: certifi>=2017.4.17 in /clusteruy/home/gonzalo.marco.mohotse/miniconda3/lib/python3.9/site-packages (from requests->transformers) (2022.6.15)\n",
      "Requirement already satisfied: idna<4,>=2.5 in /clusteruy/home/gonzalo.marco.mohotse/miniconda3/lib/python3.9/site-packages (from requests->transformers) (3.3)\n",
      "Requirement already satisfied: urllib3<1.27,>=1.21.1 in /clusteruy/home/gonzalo.marco.mohotse/miniconda3/lib/python3.9/site-packages (from requests->transformers) (1.26.13)\n",
      "Requirement already satisfied: pytz>=2017.3 in /clusteruy/home/gonzalo.marco.mohotse/.local/lib/python3.9/site-packages (from pandas->datasets) (2022.1)\n",
      "Requirement already satisfied: python-dateutil>=2.7.3 in /clusteruy/home/gonzalo.marco.mohotse/.local/lib/python3.9/site-packages (from pandas->datasets) (2.8.2)\n",
      "Requirement already satisfied: six>=1.5 in /clusteruy/home/gonzalo.marco.mohotse/.local/lib/python3.9/site-packages (from python-dateutil>=2.7.3->pandas->datasets) (1.16.0)\n"
     ]
    }
   ],
   "source": [
    "# Transformers installation\n",
    "! pip install transformers datasets"
   ]
  },
  {
   "cell_type": "code",
   "execution_count": null,
   "metadata": {
    "id": "vzfTcahfoeGx"
   },
   "outputs": [],
   "source": [
    "!pip install -U -q PyDrive\n",
    "from pydrive.auth import GoogleAuth\n",
    "from pydrive.drive import GoogleDrive\n",
    "from google.colab import auth\n",
    "from oauth2client.client import GoogleCredentials\n",
    "import pandas as pd\n",
    "import numpy as np\n",
    "from collections import Counter\n",
    "from datasets import Dataset\n",
    "from sklearn.model_selection import train_test_split\n"
   ]
  },
  {
   "cell_type": "code",
   "execution_count": null,
   "metadata": {},
   "outputs": [],
   "source": [
    "data = pd.read_csv('dataset_final.csv')"
   ]
  },
  {
   "cell_type": "code",
   "execution_count": null,
   "metadata": {
    "id": "PTo94cgStqXI"
   },
   "outputs": [],
   "source": [
    "# Se define el tokenizer y el modelo\n",
    "from transformers import AutoTokenizer, AutoModelForSequenceClassification\n",
    "\n",
    "model_name = \"finiteautomata/beto-sentiment-analysis\"\n",
    "tokenizer = AutoTokenizer.from_pretrained(model_name)\n",
    "model = AutoModelForSequenceClassification.from_pretrained(model_name, num_labels=3)"
   ]
  },
  {
   "cell_type": "code",
   "execution_count": null,
   "metadata": {
    "colab": {
     "base_uri": "https://localhost:8080/"
    },
    "id": "aZLSS7CBu4Zk",
    "outputId": "e6dd01c0-1255-445b-d03b-7b255ec0d0ac"
   },
   "outputs": [],
   "source": [
    "# ----- 1. Preprocesamiento de los datos -----\n",
    "from sklearn.model_selection import train_test_split\n",
    "\n",
    "X = list(data[\"text\"])\n",
    "y = list(data[\"label\"])\n",
    "\n",
    "print(\"Shape of (X, y) (\", len(X), ',', len(y), \")\")\n",
    "\n",
    "X_train, X_rem, y_train, y_rem = train_test_split(X, y, train_size=0.8, random_state=42)\n",
    "X_val, X_test, y_val, y_test = train_test_split(X_rem, y_rem, test_size=0.5, random_state=24)\n",
    "\n",
    "print(\"Shape of (X_train, y_train) (\", len(X_train), ',', len(y_train), \")\")\n",
    "print(\"Shape of (X_val, y_val) (\", len(X_val), ',', len(y_val), \")\")\n",
    "print(\"Shape of (X_test, y_test) (\", len(X_test), ',', len(y_test), \")\")\n",
    "\n",
    "X_train_tokenized = tokenizer(X_train, padding=True, truncation=True, max_length=512)\n",
    "X_val_tokenized = tokenizer(X_val, padding=True, truncation=True, max_length=512)\n",
    "X_test_tokenized = tokenizer(X_test, padding=True, truncation=True, max_length=512)"
   ]
  },
  {
   "cell_type": "code",
   "execution_count": null,
   "metadata": {
    "id": "xUmD56eEu8jy"
   },
   "outputs": [],
   "source": [
    "# Torch dataset\n",
    "import torch\n",
    "\n",
    "class Dataset(torch.utils.data.Dataset):\n",
    "    def __init__(self, encodings, labels=None):\n",
    "        self.encodings = encodings\n",
    "        self.labels = labels\n",
    "\n",
    "    def __getitem__(self, idx):\n",
    "        item = {key: torch.tensor(val[idx]) for key, val in self.encodings.items()}\n",
    "        if self.labels:\n",
    "            item[\"labels\"] = torch.tensor(self.labels[idx])\n",
    "        return item\n",
    "\n",
    "    def __len__(self):\n",
    "        return len(self.encodings[\"input_ids\"])\n",
    "\n"
   ]
  },
  {
   "cell_type": "code",
   "execution_count": null,
   "metadata": {
    "colab": {
     "base_uri": "https://localhost:8080/",
     "height": 509
    },
    "id": "1tDRWDx2JU95",
    "outputId": "780cab3f-0be9-42ae-8ea7-7a2c7b253683"
   },
   "outputs": [],
   "source": [
    "# ----- 3. Predicción -----#\n",
    "import matplotlib.pyplot as plt\n",
    "from sklearn.metrics import classification_report, confusion_matrix, ConfusionMatrixDisplay\n",
    "from transformers import Trainer\n",
    "\n",
    "test_dataset = Dataset(X_test_tokenized)\n",
    "test_trainer = Trainer(model)\n",
    "\n",
    "# Make prediction\n",
    "raw_pred, _, _ = test_trainer.predict(test_dataset)\n",
    "\n",
    "# Preprocess raw predictions\n",
    "y_pred = np.argmax(raw_pred, axis=1)\n",
    "target_names = ['Neg', 'Pos', 'Neu']\n",
    "\n",
    "print(classification_report(y_test, y_pred, target_names=target_names))\n",
    "\n",
    "cm = confusion_matrix(y_test, y_pred, labels=[0,1,2])\n",
    "\n",
    "disp = ConfusionMatrixDisplay(confusion_matrix=cm, display_labels=target_names)\n",
    "disp.plot()\n",
    "plt.show()"
   ]
  },
  {
   "cell_type": "code",
   "execution_count": null,
   "metadata": {
    "id": "elHVRNL4LUMR"
   },
   "outputs": [],
   "source": [
    "df_list = list(zip(X_test, y_test, y_pred))\n",
    "df = pd.DataFrame(df_list, columns = ['Text', 'Label', 'Prediction'])\n",
    "df.to_csv('beto-sentiment-analysis_predictions.csv', index=False)"
   ]
  }
 ],
 "metadata": {
  "accelerator": "GPU",
  "colab": {
   "provenance": []
  },
  "gpuClass": "standard",
  "kernelspec": {
   "display_name": "Python 3 (ipykernel)",
   "language": "python",
   "name": "python3"
  },
  "language_info": {
   "codemirror_mode": {
    "name": "ipython",
    "version": 3
   },
   "file_extension": ".py",
   "mimetype": "text/x-python",
   "name": "python",
   "nbconvert_exporter": "python",
   "pygments_lexer": "ipython3",
   "version": "3.9.12"
  }
 },
 "nbformat": 4,
 "nbformat_minor": 1
}

{
 "cells": [
  {
   "cell_type": "code",
   "execution_count": 1,
   "metadata": {},
   "outputs": [
    {
     "data": {
      "application/vnd.jupyter.widget-view+json": {
       "model_id": "0fb21862578d43188b1bb08954656465",
       "version_major": 2,
       "version_minor": 0
      },
      "text/plain": [
       "Downloading:   0%|          | 0.00/398 [00:00<?, ?B/s]"
      ]
     },
     "metadata": {},
     "output_type": "display_data"
    },
    {
     "data": {
      "application/vnd.jupyter.widget-view+json": {
       "model_id": "c473e4d2b1734c70bb42c84d31befec4",
       "version_major": 2,
       "version_minor": 0
      },
      "text/plain": [
       "Downloading:   0%|          | 0.00/442M [00:00<?, ?B/s]"
      ]
     },
     "metadata": {},
     "output_type": "display_data"
    },
    {
     "name": "stderr",
     "output_type": "stream",
     "text": [
      "Some weights of the model checkpoint at espejelomar/beto-base-cased were not used when initializing BertForMaskedLM: ['cls.seq_relationship.weight', 'cls.seq_relationship.bias']\n",
      "- This IS expected if you are initializing BertForMaskedLM from the checkpoint of a model trained on another task or with another architecture (e.g. initializing a BertForSequenceClassification model from a BertForPreTraining model).\n",
      "- This IS NOT expected if you are initializing BertForMaskedLM from the checkpoint of a model that you expect to be exactly identical (initializing a BertForSequenceClassification model from a BertForSequenceClassification model).\n"
     ]
    },
    {
     "data": {
      "application/vnd.jupyter.widget-view+json": {
       "model_id": "3828554afe874ee9a332d063e377996c",
       "version_major": 2,
       "version_minor": 0
      },
      "text/plain": [
       "Downloading:   0%|          | 0.00/242k [00:00<?, ?B/s]"
      ]
     },
     "metadata": {},
     "output_type": "display_data"
    }
   ],
   "source": [
    "from transformers import pipeline\n",
    "\n",
    "fill_mask = pipeline(\n",
    "    \"fill-mask\",\n",
    "    model=\"espejelomar/beto-base-cased\",\n",
    "    tokenizer=\"espejelomar/beto-base-cased\"\n",
    "    \n",
    ")"
   ]
  },
  {
   "cell_type": "code",
   "execution_count": 4,
   "metadata": {},
   "outputs": [
    {
     "data": {
      "text/plain": [
       "[{'score': 0.04555591195821762,\n",
       "  'token': 3094,\n",
       "  'token_str': 'pueblo',\n",
       "  'sequence': 'q. e. p. d. fallecio en la paz del pueblo.'},\n",
       " {'score': 0.029607154428958893,\n",
       "  'token': 3,\n",
       "  'token_str': '[UNK]',\n",
       "  'sequence': 'q. e. p. d. fallecio en la paz del.'},\n",
       " {'score': 0.028778070583939552,\n",
       "  'token': 1487,\n",
       "  'token_str': 'mar',\n",
       "  'sequence': 'q. e. p. d. fallecio en la paz del mar.'},\n",
       " {'score': 0.02489900402724743,\n",
       "  'token': 1778,\n",
       "  'token_str': 'Sr',\n",
       "  'sequence': 'q. e. p. d. fallecio en la paz del Sr.'},\n",
       " {'score': 0.019798241555690765,\n",
       "  'token': 1577,\n",
       "  'token_str': 'tiempo',\n",
       "  'sequence': 'q. e. p. d. fallecio en la paz del tiempo.'}]"
      ]
     },
     "execution_count": 4,
     "metadata": {},
     "output_type": "execute_result"
    }
   ],
   "source": [
    "fill_mask(\"Q.E.P.D. Falleció en la Paz del [MASK].\")"
   ]
  },
  {
   "cell_type": "code",
   "execution_count": 5,
   "metadata": {},
   "outputs": [
    {
     "data": {
      "text/plain": [
       "[{'score': 0.09394733607769012,\n",
       "  'token': 3746,\n",
       "  'token_str': 'morir',\n",
       "  'sequence': 'el quiere morir rapidamente.'},\n",
       " {'score': 0.08638177812099457,\n",
       "  'token': 8287,\n",
       "  'token_str': 'irse',\n",
       "  'sequence': 'el quiere irse rapidamente.'},\n",
       " {'score': 0.030514810234308243,\n",
       "  'token': 1628,\n",
       "  'token_str': 'ir',\n",
       "  'sequence': 'el quiere ir rapidamente.'},\n",
       " {'score': 0.02730349637567997,\n",
       "  'token': 2791,\n",
       "  'token_str': 'hacerlo',\n",
       "  'sequence': 'el quiere hacerlo rapidamente.'},\n",
       " {'score': 0.02680063620209694,\n",
       "  'token': 3143,\n",
       "  'token_str': 'salir',\n",
       "  'sequence': 'el quiere salir rapidamente.'}]"
      ]
     },
     "execution_count": 5,
     "metadata": {},
     "output_type": "execute_result"
    }
   ],
   "source": [
    "fill_mask(\"El quiere [MASK] rapidamente.\")"
   ]
  },
  {
   "cell_type": "code",
   "execution_count": 6,
   "metadata": {},
   "outputs": [
    {
     "data": {
      "text/plain": [
       "[{'score': 0.33371827006340027,\n",
       "  'token': 6634,\n",
       "  'token_str': 'Colombia',\n",
       "  'sequence': 'montevideo es la capital de Colombia.'},\n",
       " {'score': 0.058427873998880386,\n",
       "  'token': 10645,\n",
       "  'token_str': 'Bolivia',\n",
       "  'sequence': 'montevideo es la capital de Bolivia.'},\n",
       " {'score': 0.052655063569545746,\n",
       "  'token': 11471,\n",
       "  'token_str': 'Nicaragua',\n",
       "  'sequence': 'montevideo es la capital de Nicaragua.'},\n",
       " {'score': 0.0512690432369709,\n",
       "  'token': 9388,\n",
       "  'token_str': 'Uruguay',\n",
       "  'sequence': 'montevideo es la capital de Uruguay.'},\n",
       " {'score': 0.04617500305175781,\n",
       "  'token': 12508,\n",
       "  'token_str': 'Honduras',\n",
       "  'sequence': 'montevideo es la capital de Honduras.'}]"
      ]
     },
     "execution_count": 6,
     "metadata": {},
     "output_type": "execute_result"
    }
   ],
   "source": [
    "fill_mask(\"Montevideo es la capital de [MASK].\")"
   ]
  },
  {
   "cell_type": "code",
   "execution_count": 7,
   "metadata": {},
   "outputs": [
    {
     "data": {
      "text/plain": [
       "[{'score': 0.074603371322155,\n",
       "  'token': 3229,\n",
       "  'token_str': 'España',\n",
       "  'sequence': 'el presidente de España.'},\n",
       " {'score': 0.061569299548864365,\n",
       "  'token': 3,\n",
       "  'token_str': '[UNK]',\n",
       "  'sequence': 'el presidente de.'},\n",
       " {'score': 0.034716296941041946,\n",
       "  'token': 5571,\n",
       "  'token_str': 'Chile',\n",
       "  'sequence': 'el presidente de Chile.'},\n",
       " {'score': 0.0197494775056839,\n",
       "  'token': 2966,\n",
       "  'token_str': 'gobierno',\n",
       "  'sequence': 'el presidente de gobierno.'},\n",
       " {'score': 0.015858598053455353,\n",
       "  'token': 5165,\n",
       "  'token_str': 'EE',\n",
       "  'sequence': 'el presidente de EE.'}]"
      ]
     },
     "execution_count": 7,
     "metadata": {},
     "output_type": "execute_result"
    }
   ],
   "source": [
    "fill_mask(\"El presidente de [MASK].\")\n"
   ]
  },
  {
   "cell_type": "code",
   "execution_count": 8,
   "metadata": {},
   "outputs": [
    {
     "data": {
      "text/plain": [
       "[{'score': 0.24298378825187683,\n",
       "  'token': 18609,\n",
       "  'token_str': 'Montevideo',\n",
       "  'sequence': 'el intendente de Montevideo.'},\n",
       " {'score': 0.04596329480409622,\n",
       "  'token': 27744,\n",
       "  'token_str': 'Valparaíso',\n",
       "  'sequence': 'el intendente de Valparaíso.'},\n",
       " {'score': 0.03182157501578331,\n",
       "  'token': 3,\n",
       "  'token_str': '[UNK]',\n",
       "  'sequence': 'el intendente de.'},\n",
       " {'score': 0.01789376325905323,\n",
       "  'token': 12127,\n",
       "  'token_str': 'Córdoba',\n",
       "  'sequence': 'el intendente de Córdoba.'},\n",
       " {'score': 0.015630828216671944,\n",
       "  'token': 5581,\n",
       "  'token_str': 'departamento',\n",
       "  'sequence': 'el intendente de departamento.'}]"
      ]
     },
     "execution_count": 8,
     "metadata": {},
     "output_type": "execute_result"
    }
   ],
   "source": [
    "fill_mask(\"El intendente de [MASK].\")\n"
   ]
  },
  {
   "cell_type": "code",
   "execution_count": 9,
   "metadata": {},
   "outputs": [
    {
     "data": {
      "text/plain": [
       "[{'score': 0.29304808378219604,\n",
       "  'token': 3,\n",
       "  'token_str': '[UNK]',\n",
       "  'sequence': 'jose pepe.'},\n",
       " {'score': 0.09387725591659546,\n",
       "  'token': 1135,\n",
       "  'token_str': ')',\n",
       "  'sequence': 'jose pepe ).'},\n",
       " {'score': 0.09028423577547073,\n",
       "  'token': 1117,\n",
       "  'token_str': '\"',\n",
       "  'sequence': 'jose pepe \".'},\n",
       " {'score': 0.028504803776741028,\n",
       "  'token': 1009,\n",
       "  'token_str': '.',\n",
       "  'sequence': 'jose pepe..'},\n",
       " {'score': 0.022225871682167053,\n",
       "  'token': 1094,\n",
       "  'token_str': '1',\n",
       "  'sequence': 'jose pepe 1.'}]"
      ]
     },
     "execution_count": 9,
     "metadata": {},
     "output_type": "execute_result"
    }
   ],
   "source": [
    "fill_mask(\"José Pepe [MASK].\")"
   ]
  },
  {
   "cell_type": "code",
   "execution_count": 10,
   "metadata": {},
   "outputs": [
    {
     "data": {
      "text/plain": [
       "[{'score': 0.2642459571361542,\n",
       "  'token': 3,\n",
       "  'token_str': '[UNK]',\n",
       "  'sequence': 'el presidente jose pepe.'},\n",
       " {'score': 0.0670119896531105,\n",
       "  'token': 1117,\n",
       "  'token_str': '\"',\n",
       "  'sequence': 'el presidente jose pepe \".'},\n",
       " {'score': 0.051339637488126755,\n",
       "  'token': 1009,\n",
       "  'token_str': '.',\n",
       "  'sequence': 'el presidente jose pepe..'},\n",
       " {'score': 0.021489929407835007,\n",
       "  'token': 1135,\n",
       "  'token_str': ')',\n",
       "  'sequence': 'el presidente jose pepe ).'},\n",
       " {'score': 0.01302627194672823,\n",
       "  'token': 1013,\n",
       "  'token_str': 'a',\n",
       "  'sequence': 'el presidente jose pepe a.'}]"
      ]
     },
     "execution_count": 10,
     "metadata": {},
     "output_type": "execute_result"
    }
   ],
   "source": [
    "fill_mask(\"El presidente José Pepe [MASK].\")\n"
   ]
  },
  {
   "cell_type": "code",
   "execution_count": 11,
   "metadata": {},
   "outputs": [
    {
     "data": {
      "text/plain": [
       "[{'score': 0.21297387778759003,\n",
       "  'token': 3,\n",
       "  'token_str': '[UNK]',\n",
       "  'sequence': 'la ministra del interior, tourne.'},\n",
       " {'score': 0.033567652106285095,\n",
       "  'token': 17463,\n",
       "  'token_str': 'Catherine',\n",
       "  'sequence': 'la ministra del interior, Catherine tourne.'},\n",
       " {'score': 0.02579817920923233,\n",
       "  'token': 21427,\n",
       "  'token_str': 'Christine',\n",
       "  'sequence': 'la ministra del interior, Christine tourne.'},\n",
       " {'score': 0.022854024544358253,\n",
       "  'token': 13083,\n",
       "  'token_str': 'Marie',\n",
       "  'sequence': 'la ministra del interior, Marie tourne.'},\n",
       " {'score': 0.01691289059817791,\n",
       "  'token': 1030,\n",
       "  'token_str': 'la',\n",
       "  'sequence': 'la ministra del interior, la tourne.'}]"
      ]
     },
     "execution_count": 11,
     "metadata": {},
     "output_type": "execute_result"
    }
   ],
   "source": [
    "MASK = '[MASK]'\n",
    "fill_mask(f\"La ministra del Interior, {MASK} Tourné.\")\n"
   ]
  },
  {
   "cell_type": "markdown",
   "metadata": {},
   "source": [
    "## Buscar sinonimos\n",
    "Ejemplos \n",
    "Manya - Peñarol\n"
   ]
  },
  {
   "cell_type": "code",
   "execution_count": 15,
   "metadata": {},
   "outputs": [
    {
     "data": {
      "text/plain": [
       "[{'score': 0.22071346640586853,\n",
       "  'token': 1181,\n",
       "  'token_str': ':',\n",
       "  'sequence': 'el manya se enfrenta a :'},\n",
       " {'score': 0.135687455534935,\n",
       "  'token': 1009,\n",
       "  'token_str': '.',\n",
       "  'sequence': 'el manya se enfrenta a.'},\n",
       " {'score': 0.09338343888521194,\n",
       "  'token': 1611,\n",
       "  'token_str': 'él',\n",
       "  'sequence': 'el manya se enfrenta a él'},\n",
       " {'score': 0.07994306832551956,\n",
       "  'token': 3,\n",
       "  'token_str': '[UNK]',\n",
       "  'sequence': 'el manya se enfrenta a'},\n",
       " {'score': 0.0782223716378212,\n",
       "  'token': 1065,\n",
       "  'token_str': 'los',\n",
       "  'sequence': 'el manya se enfrenta a los'}]"
      ]
     },
     "execution_count": 15,
     "metadata": {},
     "output_type": "execute_result"
    }
   ],
   "source": [
    "fill_mask(f\"El manya se enfrenta a {MASK}\")\n"
   ]
  },
  {
   "cell_type": "code",
   "execution_count": 16,
   "metadata": {},
   "outputs": [
    {
     "data": {
      "text/plain": [
       "[{'score': 0.15535838901996613,\n",
       "  'token': 3,\n",
       "  'token_str': '[UNK]',\n",
       "  'sequence': 'manyas y se enfrentan el sabado.'},\n",
       " {'score': 0.0569254532456398,\n",
       "  'token': 1759,\n",
       "  'token_str': 'otros',\n",
       "  'sequence': 'manyas y otros se enfrentan el sabado.'},\n",
       " {'score': 0.029612574726343155,\n",
       "  'token': 2018,\n",
       "  'token_str': 'ellos',\n",
       "  'sequence': 'manyas y ellos se enfrentan el sabado.'},\n",
       " {'score': 0.021049367263913155,\n",
       "  'token': 26441,\n",
       "  'token_str': 'leones',\n",
       "  'sequence': 'manyas y leones se enfrentan el sabado.'},\n",
       " {'score': 0.020139353349804878,\n",
       "  'token': 3878,\n",
       "  'token_str': 'ellas',\n",
       "  'sequence': 'manyas y ellas se enfrentan el sabado.'}]"
      ]
     },
     "execution_count": 16,
     "metadata": {},
     "output_type": "execute_result"
    }
   ],
   "source": [
    "fill_mask(f\"manyas y {MASK} se enfrentan el sábado.\")\n"
   ]
  },
  {
   "cell_type": "markdown",
   "metadata": {},
   "source": [
    "## Buscar asociaciones\n",
    "Ejemplo: si se habla de futbol, identificar equipos\n",
    "Ejemplo: conceptos de politica\n",
    "Ejemplo: conceptos de policiales"
   ]
  },
  {
   "cell_type": "code",
   "execution_count": 14,
   "metadata": {},
   "outputs": [
    {
     "data": {
      "text/plain": [
       "[{'score': 0.9600536823272705,\n",
       "  'token': 1009,\n",
       "  'token_str': '.',\n",
       "  'sequence': 'penarol vs.'},\n",
       " {'score': 0.006709551438689232,\n",
       "  'token': 1181,\n",
       "  'token_str': ':',\n",
       "  'sequence': 'penarol vs :'},\n",
       " {'score': 0.003099246183410287,\n",
       "  'token': 3,\n",
       "  'token_str': '[UNK]',\n",
       "  'sequence': 'penarol vs'},\n",
       " {'score': 0.0020519529934972525,\n",
       "  'token': 14459,\n",
       "  'token_str': 'defensor',\n",
       "  'sequence': 'penarol vs defensor'},\n",
       " {'score': 0.0014059061650186777,\n",
       "  'token': 1094,\n",
       "  'token_str': '1',\n",
       "  'sequence': 'penarol vs 1'}]"
      ]
     },
     "execution_count": 14,
     "metadata": {},
     "output_type": "execute_result"
    }
   ],
   "source": [
    "fill_mask(f\"Peñarol vs {MASK}\")\n"
   ]
  },
  {
   "cell_type": "code",
   "execution_count": 17,
   "metadata": {},
   "outputs": [
    {
     "data": {
      "text/plain": [
       "[{'score': 0.32420724630355835,\n",
       "  'token': 1008,\n",
       "  'token_str': 'de',\n",
       "  'sequence': 'el abogado de la decision del tribunal civil.'},\n",
       " {'score': 0.07682076096534729,\n",
       "  'token': 1534,\n",
       "  'token_str': 'contra',\n",
       "  'sequence': 'el abogado contra la decision del tribunal civil.'},\n",
       " {'score': 0.04617536813020706,\n",
       "  'token': 1042,\n",
       "  'token_str': 'y',\n",
       "  'sequence': 'el abogado y la decision del tribunal civil.'},\n",
       " {'score': 0.0285719633102417,\n",
       "  'token': 1036,\n",
       "  'token_str': 'en',\n",
       "  'sequence': 'el abogado en la decision del tribunal civil.'},\n",
       " {'score': 0.026606157422065735,\n",
       "  'token': 1017,\n",
       "  'token_str': ',',\n",
       "  'sequence': 'el abogado, la decision del tribunal civil.'}]"
      ]
     },
     "execution_count": 17,
     "metadata": {},
     "output_type": "execute_result"
    }
   ],
   "source": [
    "# <apelará> la decisión del tribunal civil\n",
    "fill_mask(f\"El abogado {MASK} la decisión del tribunal civil.\")\n"
   ]
  },
  {
   "cell_type": "code",
   "execution_count": null,
   "metadata": {},
   "outputs": [],
   "source": []
  }
 ],
 "metadata": {
  "kernelspec": {
   "display_name": "Python 3.10.6 64-bit",
   "language": "python",
   "name": "python3"
  },
  "language_info": {
   "codemirror_mode": {
    "name": "ipython",
    "version": 3
   },
   "file_extension": ".py",
   "mimetype": "text/x-python",
   "name": "python",
   "nbconvert_exporter": "python",
   "pygments_lexer": "ipython3",
   "version": "3.10.6"
  },
  "orig_nbformat": 4,
  "vscode": {
   "interpreter": {
    "hash": "916dbcbb3f70747c44a77c7bcd40155683ae19c65e1c03b4aa3499c5328201f1"
   }
  }
 },
 "nbformat": 4,
 "nbformat_minor": 2
}

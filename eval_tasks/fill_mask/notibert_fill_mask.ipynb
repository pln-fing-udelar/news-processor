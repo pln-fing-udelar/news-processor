{
 "cells": [
  {
   "cell_type": "code",
   "execution_count": 1,
   "metadata": {},
   "outputs": [],
   "source": [
    "MODEL_PATH = '/home/mago/Documents/Fing/Pasantia/modelos_entrenados/20221127_out_backup_600k_steps'"
   ]
  },
  {
   "cell_type": "code",
   "execution_count": 2,
   "metadata": {},
   "outputs": [],
   "source": [
    "from transformers import pipeline\n",
    "\n",
    "fill_mask = pipeline(\n",
    "    \"fill-mask\",\n",
    "    model=MODEL_PATH,\n",
    "    tokenizer=MODEL_PATH\n",
    "    \n",
    ")"
   ]
  },
  {
   "cell_type": "code",
   "execution_count": 3,
   "metadata": {},
   "outputs": [],
   "source": [
    "MASK = '<mask>'"
   ]
  },
  {
   "cell_type": "code",
   "execution_count": 4,
   "metadata": {},
   "outputs": [
    {
     "data": {
      "text/plain": [
       "[{'score': 0.06768152862787247,\n",
       "  'token': 2540,\n",
       "  'token_str': ' juego',\n",
       "  'sequence': 'Q.E.P.D. Falleció en la Paz del juego.'},\n",
       " {'score': 0.0659201517701149,\n",
       "  'token': 2200,\n",
       "  'token_str': ' domingo',\n",
       "  'sequence': 'Q.E.P.D. Falleció en la Paz del domingo.'},\n",
       " {'score': 0.05884166061878204,\n",
       "  'token': 1292,\n",
       "  'token_str': ' partido',\n",
       "  'sequence': 'Q.E.P.D. Falleció en la Paz del partido.'},\n",
       " {'score': 0.04733465611934662,\n",
       "  'token': 15225,\n",
       "  'token_str': ' cerro',\n",
       "  'sequence': 'Q.E.P.D. Falleció en la Paz del cerro.'},\n",
       " {'score': 0.02996649220585823,\n",
       "  'token': 7776,\n",
       "  'token_str': ' parque',\n",
       "  'sequence': 'Q.E.P.D. Falleció en la Paz del parque.'}]"
      ]
     },
     "execution_count": 4,
     "metadata": {},
     "output_type": "execute_result"
    }
   ],
   "source": [
    "fill_mask(\"Q.E.P.D. Falleció en la Paz del <mask>.\")"
   ]
  },
  {
   "cell_type": "code",
   "execution_count": 5,
   "metadata": {},
   "outputs": [
    {
     "data": {
      "text/plain": [
       "[{'score': 0.49971869587898254,\n",
       "  'token': 10038,\n",
       "  'token_str': ' robar',\n",
       "  'sequence': 'El quiere robar rapidamente.'},\n",
       " {'score': 0.06070375069975853,\n",
       "  'token': 1351,\n",
       "  'token_str': ' ir',\n",
       "  'sequence': 'El quiere ir rapidamente.'},\n",
       " {'score': 0.03820455074310303,\n",
       "  'token': 5300,\n",
       "  'token_str': ' rapi',\n",
       "  'sequence': 'El quiere rapi rapidamente.'},\n",
       " {'score': 0.023355798795819283,\n",
       "  'token': 3082,\n",
       "  'token_str': ' salir',\n",
       "  'sequence': 'El quiere salir rapidamente.'},\n",
       " {'score': 0.02096451446413994,\n",
       "  'token': 1890,\n",
       "  'token_str': ' seguir',\n",
       "  'sequence': 'El quiere seguir rapidamente.'}]"
      ]
     },
     "execution_count": 5,
     "metadata": {},
     "output_type": "execute_result"
    }
   ],
   "source": [
    "fill_mask(\"El quiere <mask> rapidamente.\")"
   ]
  },
  {
   "cell_type": "code",
   "execution_count": 6,
   "metadata": {},
   "outputs": [
    {
     "data": {
      "text/plain": [
       "[{'score': 0.35000747442245483,\n",
       "  'token': 817,\n",
       "  'token_str': ' uruguay',\n",
       "  'sequence': 'Montevideo es la capital de uruguay.'},\n",
       " {'score': 0.12959074974060059,\n",
       "  'token': 816,\n",
       "  'token_str': ' todos',\n",
       "  'sequence': 'Montevideo es la capital de todos.'},\n",
       " {'score': 0.06332617253065109,\n",
       "  'token': 7411,\n",
       "  'token_str': ' brasil',\n",
       "  'sequence': 'Montevideo es la capital de brasil.'},\n",
       " {'score': 0.056691426783800125,\n",
       "  'token': 2976,\n",
       "  'token_str': ' argentina',\n",
       "  'sequence': 'Montevideo es la capital de argentina.'},\n",
       " {'score': 0.03640419989824295,\n",
       "  'token': 2585,\n",
       "  'token_str': ' nadie',\n",
       "  'sequence': 'Montevideo es la capital de nadie.'}]"
      ]
     },
     "execution_count": 6,
     "metadata": {},
     "output_type": "execute_result"
    }
   ],
   "source": [
    "fill_mask(\"Montevideo es la capital de <mask>.\")"
   ]
  },
  {
   "cell_type": "code",
   "execution_count": 7,
   "metadata": {},
   "outputs": [
    {
     "data": {
      "text/plain": [
       "[{'score': 0.3411928713321686,\n",
       "  'token': 817,\n",
       "  'token_str': ' uruguay',\n",
       "  'sequence': 'El presidente de uruguay.'},\n",
       " {'score': 0.11813563108444214,\n",
       "  'token': 12727,\n",
       "  'token_str': ' inac',\n",
       "  'sequence': 'El presidente de inac.'},\n",
       " {'score': 0.04712843522429466,\n",
       "  'token': 12164,\n",
       "  'token_str': ' primaria',\n",
       "  'sequence': 'El presidente de primaria.'},\n",
       " {'score': 0.04596423730254173,\n",
       "  'token': 7411,\n",
       "  'token_str': ' brasil',\n",
       "  'sequence': 'El presidente de brasil.'},\n",
       " {'score': 0.04233119636774063,\n",
       "  'token': 7421,\n",
       "  'token_str': ' paraguay',\n",
       "  'sequence': 'El presidente de paraguay.'}]"
      ]
     },
     "execution_count": 7,
     "metadata": {},
     "output_type": "execute_result"
    }
   ],
   "source": [
    "fill_mask(\"El presidente de <mask>.\")\n"
   ]
  },
  {
   "cell_type": "code",
   "execution_count": 8,
   "metadata": {},
   "outputs": [
    {
     "data": {
      "text/plain": [
       "[{'score': 0.4219602346420288,\n",
       "  'token': 10641,\n",
       "  'token_str': ' salto',\n",
       "  'sequence': 'El intendente de salto.'},\n",
       " {'score': 0.37898293137550354,\n",
       "  'token': 18575,\n",
       "  'token_str': ' colonia',\n",
       "  'sequence': 'El intendente de colonia.'},\n",
       " {'score': 0.06471852213144302,\n",
       "  'token': 14507,\n",
       "  'token_str': ' flores',\n",
       "  'sequence': 'El intendente de flores.'},\n",
       " {'score': 0.017764393240213394,\n",
       "  'token': 25015,\n",
       "  'token_str': ' minas',\n",
       "  'sequence': 'El intendente de minas.'},\n",
       " {'score': 0.009217108599841595,\n",
       "  'token': 1638,\n",
       "  'token_str': ' mal',\n",
       "  'sequence': 'El intendente de mal.'}]"
      ]
     },
     "execution_count": 8,
     "metadata": {},
     "output_type": "execute_result"
    }
   ],
   "source": [
    "fill_mask(\"El intendente de <mask>.\")\n"
   ]
  },
  {
   "cell_type": "code",
   "execution_count": 9,
   "metadata": {},
   "outputs": [
    {
     "data": {
      "text/plain": [
       "[{'score': 0.02289547212421894,\n",
       "  'token': 610,\n",
       "  'token_str': ' años',\n",
       "  'sequence': 'José Pepe años.'},\n",
       " {'score': 0.010873154737055302,\n",
       "  'token': 605,\n",
       "  'token_str': 'ana',\n",
       "  'sequence': 'José Pepeana.'},\n",
       " {'score': 0.009029041975736618,\n",
       "  'token': 69,\n",
       "  'token_str': 'a',\n",
       "  'sequence': 'José Pepea.'},\n",
       " {'score': 0.008045103400945663,\n",
       "  'token': 473,\n",
       "  'token_str': 'ia',\n",
       "  'sequence': 'José Pepeia.'},\n",
       " {'score': 0.00656122388318181,\n",
       "  'token': 441,\n",
       "  'token_str': 'án',\n",
       "  'sequence': 'José Pepeán.'}]"
      ]
     },
     "execution_count": 9,
     "metadata": {},
     "output_type": "execute_result"
    }
   ],
   "source": [
    "fill_mask(\"José Pepe <mask>.\")\n"
   ]
  },
  {
   "cell_type": "code",
   "execution_count": 10,
   "metadata": {},
   "outputs": [
    {
     "data": {
      "text/plain": [
       "[{'score': 0.2499372512102127,\n",
       "  'token': 1738,\n",
       "  'token_str': 'jica',\n",
       "  'sequence': 'El presidente José Pepejica.'},\n",
       " {'score': 0.1689668744802475,\n",
       "  'token': 21467,\n",
       "  'token_str': ' república',\n",
       "  'sequence': 'El presidente José Pepe república.'},\n",
       " {'score': 0.04437324032187462,\n",
       "  'token': 1832,\n",
       "  'token_str': 'ázquez',\n",
       "  'sequence': 'El presidente José Pepeázquez.'},\n",
       " {'score': 0.04300857335329056,\n",
       "  'token': 781,\n",
       "  'token_str': ' presidente',\n",
       "  'sequence': 'El presidente José Pepe presidente.'},\n",
       " {'score': 0.02729828655719757,\n",
       "  'token': 2675,\n",
       "  'token_str': 'ezuela',\n",
       "  'sequence': 'El presidente José Pepeezuela.'}]"
      ]
     },
     "execution_count": 10,
     "metadata": {},
     "output_type": "execute_result"
    }
   ],
   "source": [
    "fill_mask(\"El presidente José Pepe <mask>.\")\n"
   ]
  },
  {
   "cell_type": "code",
   "execution_count": 11,
   "metadata": {},
   "outputs": [
    {
     "data": {
      "text/plain": [
       "[{'score': 0.039261344820261,\n",
       "  'token': 9859,\n",
       "  'token_str': ' enrique',\n",
       "  'sequence': 'La ministra del Interior, enrique Tourné.'},\n",
       " {'score': 0.03414328023791313,\n",
       "  'token': 285,\n",
       "  'token_str': ' m',\n",
       "  'sequence': 'La ministra del Interior, m Tourné.'},\n",
       " {'score': 0.032766375690698624,\n",
       "  'token': 12603,\n",
       "  'token_str': ' ana',\n",
       "  'sequence': 'La ministra del Interior, ana Tourné.'},\n",
       " {'score': 0.03169970586895943,\n",
       "  'token': 263,\n",
       "  'token_str': ' de',\n",
       "  'sequence': 'La ministra del Interior, de Tourné.'},\n",
       " {'score': 0.026034830138087273,\n",
       "  'token': 274,\n",
       "  'token_str': ' s',\n",
       "  'sequence': 'La ministra del Interior, s Tourné.'}]"
      ]
     },
     "execution_count": 11,
     "metadata": {},
     "output_type": "execute_result"
    }
   ],
   "source": [
    "\n",
    "\n",
    "fill_mask(f\"La ministra del Interior, {MASK} Tourné.\")\n",
    "\n"
   ]
  },
  {
   "cell_type": "code",
   "execution_count": 12,
   "metadata": {},
   "outputs": [
    {
     "data": {
      "text/plain": [
       "[{'score': 0.9534674882888794,\n",
       "  'token': 18,\n",
       "  'token_str': '.',\n",
       "  'sequence': 'Peñarol vs.'},\n",
       " {'score': 0.008349229581654072,\n",
       "  'token': 679,\n",
       "  'token_str': '..',\n",
       "  'sequence': 'Peñarol vs..'},\n",
       " {'score': 0.00523805059492588,\n",
       "  'token': 35,\n",
       "  'token_str': '?',\n",
       "  'sequence': 'Peñarol vs?'},\n",
       " {'score': 0.004734671674668789,\n",
       "  'token': 2144,\n",
       "  'token_str': '.',\n",
       "  'sequence': 'Peñarol vs.'},\n",
       " {'score': 0.004640704486519098,\n",
       "  'token': 15797,\n",
       "  'token_str': '....',\n",
       "  'sequence': 'Peñarol vs....'}]"
      ]
     },
     "execution_count": 12,
     "metadata": {},
     "output_type": "execute_result"
    }
   ],
   "source": [
    "# Peñarol vs (otro equipo)\n",
    "\n",
    "fill_mask(f\"Peñarol vs {MASK}\")\n",
    "\n"
   ]
  },
  {
   "cell_type": "code",
   "execution_count": 13,
   "metadata": {},
   "outputs": [
    {
     "data": {
      "text/plain": [
       "[{'score': 0.2552206218242645,\n",
       "  'token': 1109,\n",
       "  'token_str': '...',\n",
       "  'sequence': 'El manya se enfrenta a...'},\n",
       " {'score': 0.17214812338352203,\n",
       "  'token': 3647,\n",
       "  'token_str': '..',\n",
       "  'sequence': 'El manya se enfrenta a..'},\n",
       " {'score': 0.10434920340776443,\n",
       "  'token': 2144,\n",
       "  'token_str': '.',\n",
       "  'sequence': 'El manya se enfrenta a.'},\n",
       " {'score': 0.08612451702356339,\n",
       "  'token': 8495,\n",
       "  'token_str': ' [...',\n",
       "  'sequence': 'El manya se enfrenta a [...'},\n",
       " {'score': 0.08569357544183731,\n",
       "  'token': 4858,\n",
       "  'token_str': '...',\n",
       "  'sequence': 'El manya se enfrenta a...'}]"
      ]
     },
     "execution_count": 13,
     "metadata": {},
     "output_type": "execute_result"
    }
   ],
   "source": [
    "\n",
    "fill_mask(f\"El manya se enfrenta a {MASK}\")\n"
   ]
  },
  {
   "cell_type": "code",
   "execution_count": 20,
   "metadata": {},
   "outputs": [
    {
     "data": {
      "text/plain": [
       "[{'score': 0.08082804828882217,\n",
       "  'token': 263,\n",
       "  'token_str': ' de',\n",
       "  'sequence': 'El abogado de la decisión del tribunal civil.'},\n",
       " {'score': 0.041496094316244125,\n",
       "  'token': 281,\n",
       "  'token_str': ' la',\n",
       "  'sequence': 'El abogado la la decisión del tribunal civil.'},\n",
       " {'score': 0.03283762186765671,\n",
       "  'token': 469,\n",
       "  'token_str': 'La',\n",
       "  'sequence': 'El abogadoLa la decisión del tribunal civil.'},\n",
       " {'score': 0.02195911854505539,\n",
       "  'token': 16,\n",
       "  'token_str': ',',\n",
       "  'sequence': 'El abogado, la decisión del tribunal civil.'},\n",
       " {'score': 0.020040756091475487,\n",
       "  'token': 409,\n",
       "  'token_str': 'El',\n",
       "  'sequence': 'El abogadoEl la decisión del tribunal civil.'}]"
      ]
     },
     "execution_count": 20,
     "metadata": {},
     "output_type": "execute_result"
    }
   ],
   "source": [
    "# <apelará> la decisión del tribunal civil\n",
    "fill_mask(f\"El abogado {MASK} la decisión del tribunal civil.\")\n"
   ]
  },
  {
   "cell_type": "code",
   "execution_count": null,
   "metadata": {},
   "outputs": [],
   "source": []
  }
 ],
 "metadata": {
  "kernelspec": {
   "display_name": "Python 3.10.6 64-bit",
   "language": "python",
   "name": "python3"
  },
  "language_info": {
   "codemirror_mode": {
    "name": "ipython",
    "version": 3
   },
   "file_extension": ".py",
   "mimetype": "text/x-python",
   "name": "python",
   "nbconvert_exporter": "python",
   "pygments_lexer": "ipython3",
   "version": "3.10.6"
  },
  "orig_nbformat": 4,
  "vscode": {
   "interpreter": {
    "hash": "916dbcbb3f70747c44a77c7bcd40155683ae19c65e1c03b4aa3499c5328201f1"
   }
  }
 },
 "nbformat": 4,
 "nbformat_minor": 2
}

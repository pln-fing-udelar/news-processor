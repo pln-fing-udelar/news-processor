{
 "cells": [
  {
   "attachments": {},
   "cell_type": "markdown",
   "metadata": {},
   "source": [
    "# Analisis del modelo NotiBert para la tarea de fill mask\n",
    "\n",
    "La idea es plantearle distintas frases a completar, buscando expresiones o conceptos nacionales, ya sea comunes a la actualidad, o extractos del corpus de noticias de entrada."
   ]
  },
  {
   "cell_type": "code",
   "execution_count": 2,
   "metadata": {},
   "outputs": [],
   "source": [
    "MODEL_PATH = '/home/mago/Documents/Fing/Pasantia/modelos_entrenados/20221127_out_backup_600k_steps'"
   ]
  },
  {
   "cell_type": "code",
   "execution_count": 3,
   "metadata": {},
   "outputs": [],
   "source": [
    "from transformers import pipeline\n",
    "\n",
    "fill_mask = pipeline(\n",
    "    \"fill-mask\",\n",
    "    model=MODEL_PATH,\n",
    "    tokenizer=MODEL_PATH\n",
    "    \n",
    ")"
   ]
  },
  {
   "cell_type": "code",
   "execution_count": 4,
   "metadata": {},
   "outputs": [],
   "source": [
    "MASK = '<mask>'"
   ]
  },
  {
   "attachments": {},
   "cell_type": "markdown",
   "metadata": {},
   "source": [
    "## Ejemplos iniciales\n"
   ]
  },
  {
   "attachments": {},
   "cell_type": "markdown",
   "metadata": {},
   "source": [
    "Frase: \"Q.E.P.D. Falleció en la Paz del Señor.\""
   ]
  },
  {
   "cell_type": "code",
   "execution_count": 5,
   "metadata": {},
   "outputs": [
    {
     "data": {
      "text/plain": [
       "[{'score': 0.06768152862787247,\n",
       "  'token': 2540,\n",
       "  'token_str': ' juego',\n",
       "  'sequence': 'Q.E.P.D. Falleció en la Paz del juego.'},\n",
       " {'score': 0.0659201517701149,\n",
       "  'token': 2200,\n",
       "  'token_str': ' domingo',\n",
       "  'sequence': 'Q.E.P.D. Falleció en la Paz del domingo.'},\n",
       " {'score': 0.05884166061878204,\n",
       "  'token': 1292,\n",
       "  'token_str': ' partido',\n",
       "  'sequence': 'Q.E.P.D. Falleció en la Paz del partido.'},\n",
       " {'score': 0.04733465611934662,\n",
       "  'token': 15225,\n",
       "  'token_str': ' cerro',\n",
       "  'sequence': 'Q.E.P.D. Falleció en la Paz del cerro.'},\n",
       " {'score': 0.02996649220585823,\n",
       "  'token': 7776,\n",
       "  'token_str': ' parque',\n",
       "  'sequence': 'Q.E.P.D. Falleció en la Paz del parque.'}]"
      ]
     },
     "execution_count": 5,
     "metadata": {},
     "output_type": "execute_result"
    }
   ],
   "source": [
    "fill_mask(f\"Q.E.P.D. Falleció en la Paz del {MASK}.\")"
   ]
  },
  {
   "cell_type": "code",
   "execution_count": 6,
   "metadata": {},
   "outputs": [
    {
     "data": {
      "text/plain": [
       "[{'score': 0.6342306137084961,\n",
       "  'token': 7435,\n",
       "  'token_str': ' señor',\n",
       "  'sequence': 'q.e.p.d. falleció en la paz del señor.'},\n",
       " {'score': 0.2420421540737152,\n",
       "  'token': 1196,\n",
       "  'token_str': ' sen',\n",
       "  'sequence': 'q.e.p.d. falleció en la paz del sen.'},\n",
       " {'score': 0.1024177297949791,\n",
       "  'token': 277,\n",
       "  'token_str': 'or',\n",
       "  'sequence': 'q.e.p.d. falleció en la paz delor.'},\n",
       " {'score': 0.0014844811521470547,\n",
       "  'token': 5111,\n",
       "  'token_str': ' confortado',\n",
       "  'sequence': 'q.e.p.d. falleció en la paz del confortado.'},\n",
       " {'score': 0.0014435653574764729,\n",
       "  'token': 578,\n",
       "  'token_str': 'ores',\n",
       "  'sequence': 'q.e.p.d. falleció en la paz delores.'}]"
      ]
     },
     "execution_count": 6,
     "metadata": {},
     "output_type": "execute_result"
    }
   ],
   "source": [
    "fill_mask(f\"q.e.p.d. falleció en la paz del {MASK}.\")\n"
   ]
  },
  {
   "attachments": {},
   "cell_type": "markdown",
   "metadata": {},
   "source": [
    "Se puede ver como performa distinto cuando la entrada esta previamente en minusculas. Ademas, en ese caso logra retornar la palabra buscada.\n",
    "Probablemente no este manejando correctamente el lower_case\n",
    "\n",
    "Alguna referencia para solucionarlo: \n",
    "https://huggingface.co/transformers/v3.5.1/_modules/transformers/pipelines.html"
   ]
  },
  {
   "attachments": {},
   "cell_type": "markdown",
   "metadata": {},
   "source": [
    "## Otros ejemplos"
   ]
  },
  {
   "cell_type": "code",
   "execution_count": 7,
   "metadata": {},
   "outputs": [
    {
     "data": {
      "text/plain": [
       "[{'score': 0.49971869587898254,\n",
       "  'token': 10038,\n",
       "  'token_str': ' robar',\n",
       "  'sequence': 'El quiere robar rapidamente.'},\n",
       " {'score': 0.06070375069975853,\n",
       "  'token': 1351,\n",
       "  'token_str': ' ir',\n",
       "  'sequence': 'El quiere ir rapidamente.'},\n",
       " {'score': 0.03820455074310303,\n",
       "  'token': 5300,\n",
       "  'token_str': ' rapi',\n",
       "  'sequence': 'El quiere rapi rapidamente.'},\n",
       " {'score': 0.023355798795819283,\n",
       "  'token': 3082,\n",
       "  'token_str': ' salir',\n",
       "  'sequence': 'El quiere salir rapidamente.'},\n",
       " {'score': 0.02096451446413994,\n",
       "  'token': 1890,\n",
       "  'token_str': ' seguir',\n",
       "  'sequence': 'El quiere seguir rapidamente.'}]"
      ]
     },
     "execution_count": 7,
     "metadata": {},
     "output_type": "execute_result"
    }
   ],
   "source": [
    "fill_mask(\"El quiere <mask> rapidamente.\")"
   ]
  },
  {
   "cell_type": "code",
   "execution_count": 8,
   "metadata": {},
   "outputs": [
    {
     "data": {
      "text/plain": [
       "[{'score': 0.35000747442245483,\n",
       "  'token': 817,\n",
       "  'token_str': ' uruguay',\n",
       "  'sequence': 'Montevideo es la capital de uruguay.'},\n",
       " {'score': 0.12959074974060059,\n",
       "  'token': 816,\n",
       "  'token_str': ' todos',\n",
       "  'sequence': 'Montevideo es la capital de todos.'},\n",
       " {'score': 0.06332617253065109,\n",
       "  'token': 7411,\n",
       "  'token_str': ' brasil',\n",
       "  'sequence': 'Montevideo es la capital de brasil.'},\n",
       " {'score': 0.056691426783800125,\n",
       "  'token': 2976,\n",
       "  'token_str': ' argentina',\n",
       "  'sequence': 'Montevideo es la capital de argentina.'},\n",
       " {'score': 0.03640419989824295,\n",
       "  'token': 2585,\n",
       "  'token_str': ' nadie',\n",
       "  'sequence': 'Montevideo es la capital de nadie.'}]"
      ]
     },
     "execution_count": 8,
     "metadata": {},
     "output_type": "execute_result"
    }
   ],
   "source": [
    "# Encuentra uruguay sin necesidad de pasar a minuscula\n",
    "fill_mask(\"Montevideo es la capital de <mask>.\")"
   ]
  },
  {
   "cell_type": "code",
   "execution_count": 9,
   "metadata": {},
   "outputs": [
    {
     "data": {
      "text/plain": [
       "[{'score': 0.3411928713321686,\n",
       "  'token': 817,\n",
       "  'token_str': ' uruguay',\n",
       "  'sequence': 'El presidente de uruguay.'},\n",
       " {'score': 0.11813563108444214,\n",
       "  'token': 12727,\n",
       "  'token_str': ' inac',\n",
       "  'sequence': 'El presidente de inac.'},\n",
       " {'score': 0.04712843522429466,\n",
       "  'token': 12164,\n",
       "  'token_str': ' primaria',\n",
       "  'sequence': 'El presidente de primaria.'},\n",
       " {'score': 0.04596423730254173,\n",
       "  'token': 7411,\n",
       "  'token_str': ' brasil',\n",
       "  'sequence': 'El presidente de brasil.'},\n",
       " {'score': 0.04233119636774063,\n",
       "  'token': 7421,\n",
       "  'token_str': ' paraguay',\n",
       "  'sequence': 'El presidente de paraguay.'}]"
      ]
     },
     "execution_count": 9,
     "metadata": {},
     "output_type": "execute_result"
    }
   ],
   "source": [
    "fill_mask(\"El presidente de <mask>.\")\n"
   ]
  },
  {
   "cell_type": "code",
   "execution_count": 10,
   "metadata": {},
   "outputs": [
    {
     "data": {
      "text/plain": [
       "[{'score': 0.4219602346420288,\n",
       "  'token': 10641,\n",
       "  'token_str': ' salto',\n",
       "  'sequence': 'El intendente de salto.'},\n",
       " {'score': 0.37898293137550354,\n",
       "  'token': 18575,\n",
       "  'token_str': ' colonia',\n",
       "  'sequence': 'El intendente de colonia.'},\n",
       " {'score': 0.06471852213144302,\n",
       "  'token': 14507,\n",
       "  'token_str': ' flores',\n",
       "  'sequence': 'El intendente de flores.'},\n",
       " {'score': 0.017764393240213394,\n",
       "  'token': 25015,\n",
       "  'token_str': ' minas',\n",
       "  'sequence': 'El intendente de minas.'},\n",
       " {'score': 0.009217108599841595,\n",
       "  'token': 1638,\n",
       "  'token_str': ' mal',\n",
       "  'sequence': 'El intendente de mal.'}]"
      ]
     },
     "execution_count": 10,
     "metadata": {},
     "output_type": "execute_result"
    }
   ],
   "source": [
    "fill_mask(\"El intendente de <mask>.\")\n"
   ]
  },
  {
   "cell_type": "code",
   "execution_count": 11,
   "metadata": {},
   "outputs": [
    {
     "data": {
      "text/plain": [
       "[{'score': 0.02289547212421894,\n",
       "  'token': 610,\n",
       "  'token_str': ' años',\n",
       "  'sequence': 'José Pepe años.'},\n",
       " {'score': 0.010873154737055302,\n",
       "  'token': 605,\n",
       "  'token_str': 'ana',\n",
       "  'sequence': 'José Pepeana.'},\n",
       " {'score': 0.009029041975736618,\n",
       "  'token': 69,\n",
       "  'token_str': 'a',\n",
       "  'sequence': 'José Pepea.'},\n",
       " {'score': 0.008045103400945663,\n",
       "  'token': 473,\n",
       "  'token_str': 'ia',\n",
       "  'sequence': 'José Pepeia.'},\n",
       " {'score': 0.00656122388318181,\n",
       "  'token': 441,\n",
       "  'token_str': 'án',\n",
       "  'sequence': 'José Pepeán.'}]"
      ]
     },
     "execution_count": 11,
     "metadata": {},
     "output_type": "execute_result"
    }
   ],
   "source": [
    "fill_mask(\"José Pepe <mask>.\")\n"
   ]
  },
  {
   "cell_type": "code",
   "execution_count": 12,
   "metadata": {},
   "outputs": [
    {
     "data": {
      "text/plain": [
       "[{'score': 0.2499372512102127,\n",
       "  'token': 1738,\n",
       "  'token_str': 'jica',\n",
       "  'sequence': 'El presidente José Pepejica.'},\n",
       " {'score': 0.1689668744802475,\n",
       "  'token': 21467,\n",
       "  'token_str': ' república',\n",
       "  'sequence': 'El presidente José Pepe república.'},\n",
       " {'score': 0.04437324032187462,\n",
       "  'token': 1832,\n",
       "  'token_str': 'ázquez',\n",
       "  'sequence': 'El presidente José Pepeázquez.'},\n",
       " {'score': 0.04300857335329056,\n",
       "  'token': 781,\n",
       "  'token_str': ' presidente',\n",
       "  'sequence': 'El presidente José Pepe presidente.'},\n",
       " {'score': 0.02729828655719757,\n",
       "  'token': 2675,\n",
       "  'token_str': 'ezuela',\n",
       "  'sequence': 'El presidente José Pepeezuela.'}]"
      ]
     },
     "execution_count": 12,
     "metadata": {},
     "output_type": "execute_result"
    }
   ],
   "source": [
    "fill_mask(\"El presidente José Pepe <mask>.\")\n"
   ]
  },
  {
   "cell_type": "code",
   "execution_count": 13,
   "metadata": {},
   "outputs": [
    {
     "data": {
      "text/plain": [
       "[{'score': 0.3676699995994568,\n",
       "  'token': 540,\n",
       "  'token_str': ' ma',\n",
       "  'sequence': 'el presidente josé pepe ma.'},\n",
       " {'score': 0.1198408380150795,\n",
       "  'token': 2821,\n",
       "  'token_str': ' guerra',\n",
       "  'sequence': 'el presidente josé pepe guerra.'},\n",
       " {'score': 0.07766241580247879,\n",
       "  'token': 781,\n",
       "  'token_str': ' presidente',\n",
       "  'sequence': 'el presidente josé pepe presidente.'},\n",
       " {'score': 0.052577994763851166,\n",
       "  'token': 314,\n",
       "  'token_str': ' v',\n",
       "  'sequence': 'el presidente josé pepe v.'},\n",
       " {'score': 0.017193883657455444,\n",
       "  'token': 6813,\n",
       "  'token_str': ' batalla',\n",
       "  'sequence': 'el presidente josé pepe batalla.'}]"
      ]
     },
     "execution_count": 13,
     "metadata": {},
     "output_type": "execute_result"
    }
   ],
   "source": [
    "fill_mask(\"el presidente josé pepe <mask>.\")\n"
   ]
  },
  {
   "cell_type": "code",
   "execution_count": 14,
   "metadata": {},
   "outputs": [
    {
     "data": {
      "text/plain": [
       "[{'score': 0.039261344820261,\n",
       "  'token': 9859,\n",
       "  'token_str': ' enrique',\n",
       "  'sequence': 'La ministra del Interior, enrique Tourné.'},\n",
       " {'score': 0.03414328023791313,\n",
       "  'token': 285,\n",
       "  'token_str': ' m',\n",
       "  'sequence': 'La ministra del Interior, m Tourné.'},\n",
       " {'score': 0.032766375690698624,\n",
       "  'token': 12603,\n",
       "  'token_str': ' ana',\n",
       "  'sequence': 'La ministra del Interior, ana Tourné.'},\n",
       " {'score': 0.03169970586895943,\n",
       "  'token': 263,\n",
       "  'token_str': ' de',\n",
       "  'sequence': 'La ministra del Interior, de Tourné.'},\n",
       " {'score': 0.026034830138087273,\n",
       "  'token': 274,\n",
       "  'token_str': ' s',\n",
       "  'sequence': 'La ministra del Interior, s Tourné.'}]"
      ]
     },
     "execution_count": 14,
     "metadata": {},
     "output_type": "execute_result"
    }
   ],
   "source": [
    "fill_mask(f\"La ministra del Interior, {MASK} Tourné.\")\n"
   ]
  },
  {
   "cell_type": "code",
   "execution_count": 15,
   "metadata": {},
   "outputs": [
    {
     "data": {
      "text/plain": [
       "[{'score': 0.9534674882888794,\n",
       "  'token': 18,\n",
       "  'token_str': '.',\n",
       "  'sequence': 'Peñarol vs.'},\n",
       " {'score': 0.008349229581654072,\n",
       "  'token': 679,\n",
       "  'token_str': '..',\n",
       "  'sequence': 'Peñarol vs..'},\n",
       " {'score': 0.00523805059492588,\n",
       "  'token': 35,\n",
       "  'token_str': '?',\n",
       "  'sequence': 'Peñarol vs?'},\n",
       " {'score': 0.004734671674668789,\n",
       "  'token': 2144,\n",
       "  'token_str': '.',\n",
       "  'sequence': 'Peñarol vs.'},\n",
       " {'score': 0.004640704486519098,\n",
       "  'token': 15797,\n",
       "  'token_str': '....',\n",
       "  'sequence': 'Peñarol vs....'}]"
      ]
     },
     "execution_count": 15,
     "metadata": {},
     "output_type": "execute_result"
    }
   ],
   "source": [
    "# Peñarol vs (otro equipo)\n",
    "\n",
    "fill_mask(f\"Peñarol vs {MASK}\")\n",
    "\n"
   ]
  },
  {
   "cell_type": "code",
   "execution_count": 16,
   "metadata": {},
   "outputs": [
    {
     "data": {
      "text/plain": [
       "[{'score': 0.2552206218242645,\n",
       "  'token': 1109,\n",
       "  'token_str': '...',\n",
       "  'sequence': 'El manya se enfrenta a...'},\n",
       " {'score': 0.17214812338352203,\n",
       "  'token': 3647,\n",
       "  'token_str': '..',\n",
       "  'sequence': 'El manya se enfrenta a..'},\n",
       " {'score': 0.10434920340776443,\n",
       "  'token': 2144,\n",
       "  'token_str': '.',\n",
       "  'sequence': 'El manya se enfrenta a.'},\n",
       " {'score': 0.08612451702356339,\n",
       "  'token': 8495,\n",
       "  'token_str': ' [...',\n",
       "  'sequence': 'El manya se enfrenta a [...'},\n",
       " {'score': 0.08569357544183731,\n",
       "  'token': 4858,\n",
       "  'token_str': '...',\n",
       "  'sequence': 'El manya se enfrenta a...'}]"
      ]
     },
     "execution_count": 16,
     "metadata": {},
     "output_type": "execute_result"
    }
   ],
   "source": [
    "\n",
    "fill_mask(f\"El manya se enfrenta a {MASK}\")\n"
   ]
  },
  {
   "cell_type": "code",
   "execution_count": 17,
   "metadata": {},
   "outputs": [
    {
     "data": {
      "text/plain": [
       "[{'score': 0.17088158428668976,\n",
       "  'token': 12190,\n",
       "  'token_str': ' cuestionó',\n",
       "  'sequence': 'El abogado cuestionó la decisión del tribunal civil.'},\n",
       " {'score': 0.10701249539852142,\n",
       "  'token': 25744,\n",
       "  'token_str': ' apeló',\n",
       "  'sequence': 'El abogado apeló la decisión del tribunal civil.'},\n",
       " {'score': 0.06694263964891434,\n",
       "  'token': 10726,\n",
       "  'token_str': ' defendió',\n",
       "  'sequence': 'El abogado defendió la decisión del tribunal civil.'},\n",
       " {'score': 0.044523123651742935,\n",
       "  'token': 2532,\n",
       "  'token_str': ' espera',\n",
       "  'sequence': 'El abogado espera la decisión del tribunal civil.'},\n",
       " {'score': 0.038682252168655396,\n",
       "  'token': 16720,\n",
       "  'token_str': ' apoyó',\n",
       "  'sequence': 'El abogado apoyó la decisión del tribunal civil.'}]"
      ]
     },
     "execution_count": 17,
     "metadata": {},
     "output_type": "execute_result"
    }
   ],
   "source": [
    "# <apelará> la decisión del tribunal civil\n",
    "fill_mask(f\"El abogado {MASK} la decisión del tribunal civil.\")\n"
   ]
  },
  {
   "cell_type": "code",
   "execution_count": 18,
   "metadata": {},
   "outputs": [
    {
     "data": {
      "text/plain": [
       "[{'score': 0.02914307825267315,\n",
       "  'token': 4419,\n",
       "  'token_str': ' verano',\n",
       "  'sequence': 'El Cuarteto de verano.'},\n",
       " {'score': 0.0219331793487072,\n",
       "  'token': 2177,\n",
       "  'token_str': ' marzo',\n",
       "  'sequence': 'El Cuarteto de marzo.'},\n",
       " {'score': 0.021070796996355057,\n",
       "  'token': 2274,\n",
       "  'token_str': ' julio',\n",
       "  'sequence': 'El Cuarteto de julio.'},\n",
       " {'score': 0.01522979885339737,\n",
       "  'token': 2524,\n",
       "  'token_str': ' abril',\n",
       "  'sequence': 'El Cuarteto de abril.'},\n",
       " {'score': 0.013056039810180664,\n",
       "  'token': 2499,\n",
       "  'token_str': ' agosto',\n",
       "  'sequence': 'El Cuarteto de agosto.'}]"
      ]
     },
     "execution_count": 18,
     "metadata": {},
     "output_type": "execute_result"
    }
   ],
   "source": [
    "fill_mask(\"El Cuarteto de <mask>.\")\n"
   ]
  },
  {
   "cell_type": "code",
   "execution_count": 19,
   "metadata": {},
   "outputs": [
    {
     "data": {
      "text/plain": [
       "[{'score': 0.9472731947898865,\n",
       "  'token': 841,\n",
       "  'token_str': ' nos',\n",
       "  'sequence': 'el cuarteto de nos.'},\n",
       " {'score': 0.01856902427971363,\n",
       "  'token': 19635,\n",
       "  'token_str': ' cuerdas',\n",
       "  'sequence': 'el cuarteto de cuerdas.'},\n",
       " {'score': 0.004681785590946674,\n",
       "  'token': 2276,\n",
       "  'token_str': ' nosotros',\n",
       "  'sequence': 'el cuarteto de nosotros.'},\n",
       " {'score': 0.004651558585464954,\n",
       "  'token': 1117,\n",
       "  'token_str': 'nos',\n",
       "  'sequence': 'el cuarteto denos.'},\n",
       " {'score': 0.002497454872354865,\n",
       "  'token': 383,\n",
       "  'token_str': ' lo',\n",
       "  'sequence': 'el cuarteto de lo.'}]"
      ]
     },
     "execution_count": 19,
     "metadata": {},
     "output_type": "execute_result"
    }
   ],
   "source": [
    "fill_mask(\"el cuarteto de <mask>.\")\n"
   ]
  },
  {
   "cell_type": "code",
   "execution_count": 20,
   "metadata": {},
   "outputs": [
    {
     "data": {
      "text/plain": [
       "[{'score': 0.15953755378723145,\n",
       "  'token': 1021,\n",
       "  'token_str': ' mundo',\n",
       "  'sequence': 'Uruguay es un país de América del mundo.'},\n",
       " {'score': 0.08855382353067398,\n",
       "  'token': 584,\n",
       "  'token_str': ' este',\n",
       "  'sequence': 'Uruguay es un país de América del este.'},\n",
       " {'score': 0.07544764876365662,\n",
       "  'token': 1862,\n",
       "  'token_str': ' sur',\n",
       "  'sequence': 'Uruguay es un país de América del sur.'},\n",
       " {'score': 0.063747838139534,\n",
       "  'token': 817,\n",
       "  'token_str': ' uruguay',\n",
       "  'sequence': 'Uruguay es un país de América del uruguay.'},\n",
       " {'score': 0.04038039967417717,\n",
       "  'token': 4359,\n",
       "  'token_str': ' plata',\n",
       "  'sequence': 'Uruguay es un país de América del plata.'}]"
      ]
     },
     "execution_count": 20,
     "metadata": {},
     "output_type": "execute_result"
    }
   ],
   "source": [
    "fill_mask(f\"Uruguay es un país de América del {MASK}.\")\n",
    "\n"
   ]
  },
  {
   "cell_type": "code",
   "execution_count": 51,
   "metadata": {},
   "outputs": [
    {
     "data": {
      "text/plain": [
       "[{'score': 0.15014663338661194,\n",
       "  'token': 817,\n",
       "  'token_str': ' uruguay',\n",
       "  'sequence': 'covid uruguay.'},\n",
       " {'score': 0.10058732330799103,\n",
       "  'token': 2316,\n",
       "  'token_str': '19',\n",
       "  'sequence': 'covid19.'},\n",
       " {'score': 0.06734122335910797,\n",
       "  'token': 639,\n",
       "  'token_str': ' co',\n",
       "  'sequence': 'covid co.'},\n",
       " {'score': 0.03892923519015312,\n",
       "  'token': 5540,\n",
       "  'token_str': ' 33',\n",
       "  'sequence': 'covid 33.'},\n",
       " {'score': 0.03467831015586853,\n",
       "  'token': 2115,\n",
       "  'token_str': ' pan',\n",
       "  'sequence': 'covid pan.'}]"
      ]
     },
     "execution_count": 51,
     "metadata": {},
     "output_type": "execute_result"
    }
   ],
   "source": [
    "fill_mask(f\"covid {MASK}.\")\n"
   ]
  },
  {
   "attachments": {},
   "cell_type": "markdown",
   "metadata": {},
   "source": [
    "## Deportes"
   ]
  },
  {
   "cell_type": "code",
   "execution_count": 21,
   "metadata": {},
   "outputs": [
    {
     "data": {
      "text/plain": [
       "[{'score': 0.859032154083252,\n",
       "  'token': 272,\n",
       "  'token_str': 'es',\n",
       "  'sequence': 'Clubes de Fútbol.'},\n",
       " {'score': 0.010575398802757263,\n",
       "  'token': 30,\n",
       "  'token_str': ':',\n",
       "  'sequence': 'Club: de Fútbol.'},\n",
       " {'score': 0.007055808324366808,\n",
       "  'token': 270,\n",
       "  'token_str': 'er',\n",
       "  'sequence': 'Cluber de Fútbol.'},\n",
       " {'score': 0.00618938822299242,\n",
       "  'token': 5498,\n",
       "  'token_str': ' municipal',\n",
       "  'sequence': 'Club municipal de Fútbol.'},\n",
       " {'score': 0.004500124137848616,\n",
       "  'token': 534,\n",
       "  'token_str': 'ario',\n",
       "  'sequence': 'Clubario de Fútbol.'}]"
      ]
     },
     "execution_count": 21,
     "metadata": {},
     "output_type": "execute_result"
    }
   ],
   "source": [
    "fill_mask(f\"Club Nacional de {MASK}.\")\n",
    "\n",
    "fill_mask(f\"Club {MASK} de Fútbol.\")\n",
    "\n",
    "\n"
   ]
  },
  {
   "cell_type": "code",
   "execution_count": 22,
   "metadata": {},
   "outputs": [
    {
     "data": {
      "text/plain": [
       "[{'score': 0.02422321029007435,\n",
       "  'token': 2177,\n",
       "  'token_str': ' marzo',\n",
       "  'sequence': 'La Comisión Directiva del Club Nacional de marzo.'},\n",
       " {'score': 0.022504638880491257,\n",
       "  'token': 2398,\n",
       "  'token_str': ' mayo',\n",
       "  'sequence': 'La Comisión Directiva del Club Nacional de mayo.'},\n",
       " {'score': 0.020135778933763504,\n",
       "  'token': 2274,\n",
       "  'token_str': ' julio',\n",
       "  'sequence': 'La Comisión Directiva del Club Nacional de julio.'},\n",
       " {'score': 0.01849212683737278,\n",
       "  'token': 2159,\n",
       "  'token_str': ' enero',\n",
       "  'sequence': 'La Comisión Directiva del Club Nacional de enero.'},\n",
       " {'score': 0.018367277458310127,\n",
       "  'token': 817,\n",
       "  'token_str': ' uruguay',\n",
       "  'sequence': 'La Comisión Directiva del Club Nacional de uruguay.'}]"
      ]
     },
     "execution_count": 22,
     "metadata": {},
     "output_type": "execute_result"
    }
   ],
   "source": [
    "fill_mask(f\"La Comisión Directiva del Club Nacional de {MASK}.\")"
   ]
  },
  {
   "cell_type": "code",
   "execution_count": 23,
   "metadata": {},
   "outputs": [
    {
     "data": {
      "text/plain": [
       "[{'score': 0.04573670029640198,\n",
       "  'token': 1471,\n",
       "  'token_str': ' nacional',\n",
       "  'sequence': 'La Comisión Directiva del Club nacional de Fútbol.'},\n",
       " {'score': 0.02395808883011341,\n",
       "  'token': 16,\n",
       "  'token_str': ',',\n",
       "  'sequence': 'La Comisión Directiva del Club, de Fútbol.'},\n",
       " {'score': 0.017258504405617714,\n",
       "  'token': 295,\n",
       "  'token_str': ' y',\n",
       "  'sequence': 'La Comisión Directiva del Club y de Fútbol.'},\n",
       " {'score': 0.01094343326985836,\n",
       "  'token': 83,\n",
       "  'token_str': 'o',\n",
       "  'sequence': 'La Comisión Directiva del Clubo de Fútbol.'},\n",
       " {'score': 0.010942655615508556,\n",
       "  'token': 3174,\n",
       "  'token_str': 'deg',\n",
       "  'sequence': 'La Comisión Directiva del Clubdeg de Fútbol.'}]"
      ]
     },
     "execution_count": 23,
     "metadata": {},
     "output_type": "execute_result"
    }
   ],
   "source": [
    "fill_mask(f\"La Comisión Directiva del Club {MASK} de Fútbol.\")\n"
   ]
  },
  {
   "cell_type": "code",
   "execution_count": 24,
   "metadata": {},
   "outputs": [
    {
     "data": {
      "text/plain": [
       "[{'score': 0.8414248824119568,\n",
       "  'token': 1471,\n",
       "  'token_str': ' nacional',\n",
       "  'sequence': 'la comisión directiva del club nacional de fútbol.'},\n",
       " {'score': 0.04318899288773537,\n",
       "  'token': 2533,\n",
       "  'token_str': ' libertad',\n",
       "  'sequence': 'la comisión directiva del club libertad de fútbol.'},\n",
       " {'score': 0.03182853385806084,\n",
       "  'token': 1610,\n",
       "  'token_str': ' uruguayo',\n",
       "  'sequence': 'la comisión directiva del club uruguayo de fútbol.'},\n",
       " {'score': 0.006074506789445877,\n",
       "  'token': 817,\n",
       "  'token_str': ' uruguay',\n",
       "  'sequence': 'la comisión directiva del club uruguay de fútbol.'},\n",
       " {'score': 0.004729874432086945,\n",
       "  'token': 2972,\n",
       "  'token_str': ' español',\n",
       "  'sequence': 'la comisión directiva del club español de fútbol.'}]"
      ]
     },
     "execution_count": 24,
     "metadata": {},
     "output_type": "execute_result"
    }
   ],
   "source": [
    "fill_mask(f\"la comisión directiva del club {MASK} de fútbol.\")\n"
   ]
  },
  {
   "cell_type": "code",
   "execution_count": 25,
   "metadata": {},
   "outputs": [
    {
     "data": {
      "text/plain": [
       "[{'score': 0.4573685824871063,\n",
       "  'token': 2694,\n",
       "  'token_str': ' club',\n",
       "  'sequence': 'la comisión directiva del club nacional de fútbol.'},\n",
       " {'score': 0.24198177456855774,\n",
       "  'token': 7094,\n",
       "  'token_str': ' campeonato',\n",
       "  'sequence': 'la comisión directiva del campeonato nacional de fútbol.'},\n",
       " {'score': 0.1013631820678711,\n",
       "  'token': 9769,\n",
       "  'token_str': ' instituto',\n",
       "  'sequence': 'la comisión directiva del instituto nacional de fútbol.'},\n",
       " {'score': 0.05187537893652916,\n",
       "  'token': 9273,\n",
       "  'token_str': ' consejo',\n",
       "  'sequence': 'la comisión directiva del consejo nacional de fútbol.'},\n",
       " {'score': 0.030349649488925934,\n",
       "  'token': 9685,\n",
       "  'token_str': ' museo',\n",
       "  'sequence': 'la comisión directiva del museo nacional de fútbol.'}]"
      ]
     },
     "execution_count": 25,
     "metadata": {},
     "output_type": "execute_result"
    }
   ],
   "source": [
    "fill_mask(f\"la comisión directiva del {MASK} nacional de fútbol.\")\n",
    "\n"
   ]
  },
  {
   "attachments": {},
   "cell_type": "markdown",
   "metadata": {},
   "source": [
    "## politica"
   ]
  },
  {
   "cell_type": "code",
   "execution_count": 26,
   "metadata": {},
   "outputs": [
    {
     "data": {
      "text/plain": [
       "[{'score': 0.010162991471588612,\n",
       "  'token': 381,\n",
       "  'token_str': 'ma',\n",
       "  'sequence': 'Tabaréma.'},\n",
       " {'score': 0.009122013114392757,\n",
       "  'token': 766,\n",
       "  'token_str': 'deo',\n",
       "  'sequence': 'Tabarédeo.'},\n",
       " {'score': 0.007962544448673725,\n",
       "  'token': 80,\n",
       "  'token_str': 'l',\n",
       "  'sequence': 'Tabarél.'},\n",
       " {'score': 0.006838815752416849,\n",
       "  'token': 958,\n",
       "  'token_str': 'gentina',\n",
       "  'sequence': 'Tabarégentina.'},\n",
       " {'score': 0.005785936955362558,\n",
       "  'token': 84,\n",
       "  'token_str': 'p',\n",
       "  'sequence': 'Tabarép.'}]"
      ]
     },
     "execution_count": 26,
     "metadata": {},
     "output_type": "execute_result"
    }
   ],
   "source": [
    "fill_mask(f\"Tabaré {MASK}.\")\n"
   ]
  },
  {
   "cell_type": "code",
   "execution_count": 32,
   "metadata": {},
   "outputs": [
    {
     "data": {
      "text/plain": [
       "[{'score': 0.816245436668396,\n",
       "  'token': 314,\n",
       "  'token_str': ' v',\n",
       "  'sequence': 'tabaré v.'},\n",
       " {'score': 0.053812477737665176,\n",
       "  'token': 781,\n",
       "  'token_str': ' presidente',\n",
       "  'sequence': 'tabaré presidente.'},\n",
       " {'score': 0.02117532677948475,\n",
       "  'token': 540,\n",
       "  'token_str': ' ma',\n",
       "  'sequence': 'tabaré ma.'},\n",
       " {'score': 0.011023953557014465,\n",
       "  'token': 29192,\n",
       "  'token_str': ' viera',\n",
       "  'sequence': 'tabaré viera.'},\n",
       " {'score': 0.0073117539286613464,\n",
       "  'token': 3386,\n",
       "  'token_str': ' debate',\n",
       "  'sequence': 'tabaré debate.'}]"
      ]
     },
     "execution_count": 32,
     "metadata": {},
     "output_type": "execute_result"
    }
   ],
   "source": [
    "fill_mask(f\"tabaré {MASK}.\")\n"
   ]
  },
  {
   "cell_type": "code",
   "execution_count": 27,
   "metadata": {},
   "outputs": [
    {
     "data": {
      "text/plain": [
       "[{'score': 0.028081264346837997,\n",
       "  'token': 384,\n",
       "  'token_str': 'la',\n",
       "  'sequence': 'la Vázquez.'},\n",
       " {'score': 0.02675873599946499,\n",
       "  'token': 81,\n",
       "  'token_str': 'm',\n",
       "  'sequence': 'm Vázquez.'},\n",
       " {'score': 0.02651345357298851,\n",
       "  'token': 357,\n",
       "  'token_str': 'el',\n",
       "  'sequence': 'el Vázquez.'},\n",
       " {'score': 0.026080753654241562,\n",
       "  'token': 272,\n",
       "  'token_str': 'es',\n",
       "  'sequence': 'es Vázquez.'},\n",
       " {'score': 0.023149562999606133,\n",
       "  'token': 708,\n",
       "  'token_str': 'no',\n",
       "  'sequence': 'no Vázquez.'}]"
      ]
     },
     "execution_count": 27,
     "metadata": {},
     "output_type": "execute_result"
    }
   ],
   "source": [
    "fill_mask(f\"{MASK} Vázquez.\")\n"
   ]
  },
  {
   "cell_type": "code",
   "execution_count": 31,
   "metadata": {},
   "outputs": [
    {
     "data": {
      "text/plain": [
       "[{'score': 0.11761802434921265,\n",
       "  'token': 16169,\n",
       "  'token_str': 'presidente',\n",
       "  'sequence': 'presidente vázquez.'},\n",
       " {'score': 0.11649376899003983,\n",
       "  'token': 69,\n",
       "  'token_str': 'a',\n",
       "  'sequence': 'a vázquez.'},\n",
       " {'score': 0.054175928235054016,\n",
       "  'token': 93,\n",
       "  'token_str': 'y',\n",
       "  'sequence': 'y vázquez.'},\n",
       " {'score': 0.04222280532121658,\n",
       "  'token': 261,\n",
       "  'token_str': 'de',\n",
       "  'sequence': 'de vázquez.'},\n",
       " {'score': 0.038170527666807175,\n",
       "  'token': 17,\n",
       "  'token_str': '-',\n",
       "  'sequence': '- vázquez.'}]"
      ]
     },
     "execution_count": 31,
     "metadata": {},
     "output_type": "execute_result"
    }
   ],
   "source": [
    "fill_mask(f\"{MASK} vázquez.\")\n"
   ]
  },
  {
   "cell_type": "code",
   "execution_count": 28,
   "metadata": {},
   "outputs": [
    {
     "data": {
      "text/plain": [
       "[{'score': 0.4417261779308319,\n",
       "  'token': 1738,\n",
       "  'token_str': 'jica',\n",
       "  'sequence': 'El presidente Tabaréjica.'},\n",
       " {'score': 0.14354254305362701,\n",
       "  'token': 1832,\n",
       "  'token_str': 'ázquez',\n",
       "  'sequence': 'El presidente Tabaréázquez.'},\n",
       " {'score': 0.06402482092380524,\n",
       "  'token': 781,\n",
       "  'token_str': ' presidente',\n",
       "  'sequence': 'El presidente Tabaré presidente.'},\n",
       " {'score': 0.012666781432926655,\n",
       "  'token': 3878,\n",
       "  'token_str': ' vicepresidente',\n",
       "  'sequence': 'El presidente Tabaré vicepresidente.'},\n",
       " {'score': 0.009455079212784767,\n",
       "  'token': 3760,\n",
       "  'token_str': 'ávez',\n",
       "  'sequence': 'El presidente Tabaréávez.'}]"
      ]
     },
     "execution_count": 28,
     "metadata": {},
     "output_type": "execute_result"
    }
   ],
   "source": [
    "fill_mask(f\"El presidente Tabaré {MASK}.\")\n"
   ]
  },
  {
   "cell_type": "code",
   "execution_count": 20,
   "metadata": {},
   "outputs": [
    {
     "data": {
      "text/plain": [
       "[{'score': 0.0531645230948925,\n",
       "  'token': 348,\n",
       "  'token_str': ' no',\n",
       "  'sequence': 'El presidente no.'},\n",
       " {'score': 0.04062402993440628,\n",
       "  'token': 7568,\n",
       "  'token_str': ' electo',\n",
       "  'sequence': 'El presidente electo.'},\n",
       " {'score': 0.039278339594602585,\n",
       "  'token': 1610,\n",
       "  'token_str': ' uruguayo',\n",
       "  'sequence': 'El presidente uruguayo.'},\n",
       " {'score': 0.03856964409351349,\n",
       "  'token': 1933,\n",
       "  'token_str': ' argentino',\n",
       "  'sequence': 'El presidente argentino.'},\n",
       " {'score': 0.029962539672851562,\n",
       "  'token': 15182,\n",
       "  'token_str': ' kirchner',\n",
       "  'sequence': 'El presidente kirchner.'}]"
      ]
     },
     "execution_count": 20,
     "metadata": {},
     "output_type": "execute_result"
    }
   ],
   "source": [
    "fill_mask(f\"El presidente {MASK}.\")\n",
    "\n"
   ]
  },
  {
   "attachments": {},
   "cell_type": "markdown",
   "metadata": {},
   "source": [
    "## Extraidos directamente del corpus"
   ]
  },
  {
   "attachments": {},
   "cell_type": "markdown",
   "metadata": {},
   "source": [
    "### Banco Hipotecario del Uruguay."
   ]
  },
  {
   "cell_type": "code",
   "execution_count": 21,
   "metadata": {},
   "outputs": [
    {
     "data": {
      "text/plain": [
       "[{'score': 0.10911053419113159,\n",
       "  'token': 674,\n",
       "  'token_str': ' mar',\n",
       "  'sequence': 'Banco Hipotecario del mar.'},\n",
       " {'score': 0.07154776901006699,\n",
       "  'token': 4359,\n",
       "  'token_str': ' plata',\n",
       "  'sequence': 'Banco Hipotecario del plata.'},\n",
       " {'score': 0.06946150958538055,\n",
       "  'token': 1280,\n",
       "  'token_str': 'gado',\n",
       "  'sequence': 'Banco Hipotecario delgado.'},\n",
       " {'score': 0.06917203217744827,\n",
       "  'token': 4076,\n",
       "  'token_str': ' puerto',\n",
       "  'sequence': 'Banco Hipotecario del puerto.'},\n",
       " {'score': 0.04871169850230217,\n",
       "  'token': 1862,\n",
       "  'token_str': ' sur',\n",
       "  'sequence': 'Banco Hipotecario del sur.'}]"
      ]
     },
     "execution_count": 21,
     "metadata": {},
     "output_type": "execute_result"
    }
   ],
   "source": [
    "\n",
    "fill_mask(f\"Banco Hipotecario del {MASK}.\")\n",
    "\n"
   ]
  },
  {
   "cell_type": "code",
   "execution_count": 22,
   "metadata": {},
   "outputs": [
    {
     "data": {
      "text/plain": [
       "[{'score': 0.999427318572998,\n",
       "  'token': 817,\n",
       "  'token_str': ' uruguay',\n",
       "  'sequence': 'banco hipotecario del uruguay.'},\n",
       " {'score': 0.00019457150483503938,\n",
       "  'token': 1133,\n",
       "  'token_str': ' estado',\n",
       "  'sequence': 'banco hipotecario del estado.'},\n",
       " {'score': 4.0571623685536906e-05,\n",
       "  'token': 2417,\n",
       "  'token_str': ' norte',\n",
       "  'sequence': 'banco hipotecario del norte.'},\n",
       " {'score': 2.563835005275905e-05,\n",
       "  'token': 632,\n",
       "  'token_str': ' país',\n",
       "  'sequence': 'banco hipotecario del país.'},\n",
       " {'score': 2.2818556317361072e-05,\n",
       "  'token': 1862,\n",
       "  'token_str': ' sur',\n",
       "  'sequence': 'banco hipotecario del sur.'}]"
      ]
     },
     "execution_count": 22,
     "metadata": {},
     "output_type": "execute_result"
    }
   ],
   "source": [
    "fill_mask(f\"banco hipotecario del {MASK}.\")\n"
   ]
  },
  {
   "cell_type": "code",
   "execution_count": 24,
   "metadata": {},
   "outputs": [
    {
     "data": {
      "text/plain": [
       "[{'score': 0.898857057094574,\n",
       "  'token': 3147,\n",
       "  'token_str': ' central',\n",
       "  'sequence': 'banco central del uruguay.'},\n",
       " {'score': 0.020878273993730545,\n",
       "  'token': 12850,\n",
       "  'token_str': ' oriental',\n",
       "  'sequence': 'banco oriental del uruguay.'},\n",
       " {'score': 0.015145656652748585,\n",
       "  'token': 3942,\n",
       "  'token_str': ' banco',\n",
       "  'sequence': 'banco banco del uruguay.'},\n",
       " {'score': 0.0053482563234865665,\n",
       "  'token': 3731,\n",
       "  'token_str': ' policial',\n",
       "  'sequence': 'banco policial del uruguay.'},\n",
       " {'score': 0.005144079215824604,\n",
       "  'token': 5745,\n",
       "  'token_str': ' financiero',\n",
       "  'sequence': 'banco financiero del uruguay.'}]"
      ]
     },
     "execution_count": 24,
     "metadata": {},
     "output_type": "execute_result"
    }
   ],
   "source": [
    "fill_mask(f\"banco {MASK} del uruguay.\")\n"
   ]
  },
  {
   "cell_type": "code",
   "execution_count": 34,
   "metadata": {},
   "outputs": [
    {
     "data": {
      "text/plain": [
       "[{'score': 0.2333955615758896,\n",
       "  'token': 1426,\n",
       "  'token_str': ' situación',\n",
       "  'sequence': 'Tras el encuentro con las autoridades municipales, los clasificadores se retiraron defraudados y molestos de la situación.'},\n",
       " {'score': 0.146650493144989,\n",
       "  'token': 2223,\n",
       "  'token_str': ' reunión',\n",
       "  'sequence': 'Tras el encuentro con las autoridades municipales, los clasificadores se retiraron defraudados y molestos de la reunión.'},\n",
       " {'score': 0.13628053665161133,\n",
       "  'token': 1983,\n",
       "  'token_str': ' medida',\n",
       "  'sequence': 'Tras el encuentro con las autoridades municipales, los clasificadores se retiraron defraudados y molestos de la medida.'},\n",
       " {'score': 0.03875192999839783,\n",
       "  'token': 9352,\n",
       "  'token_str': ' intendencia',\n",
       "  'sequence': 'Tras el encuentro con las autoridades municipales, los clasificadores se retiraron defraudados y molestos de la intendencia.'},\n",
       " {'score': 0.03294295445084572,\n",
       "  'token': 5258,\n",
       "  'token_str': ' comuna',\n",
       "  'sequence': 'Tras el encuentro con las autoridades municipales, los clasificadores se retiraron defraudados y molestos de la comuna.'}]"
      ]
     },
     "execution_count": 34,
     "metadata": {},
     "output_type": "execute_result"
    }
   ],
   "source": [
    "\n",
    "# Tras el encuentro con las autoridades municipales, los clasificadores se retiraron defraudados y molestos de la Intendencia.\n",
    "# \n",
    "fill_mask(f\"Tras el encuentro con las autoridades municipales, los clasificadores se retiraron defraudados y molestos de la {MASK}.\")\n",
    " "
   ]
  },
  {
   "cell_type": "code",
   "execution_count": 35,
   "metadata": {},
   "outputs": [
    {
     "data": {
      "text/plain": [
       "[{'score': 0.3841257691383362,\n",
       "  'token': 21460,\n",
       "  'token_str': ' centenario',\n",
       "  'sequence': 'El próximo 20 de Mayo en el Estadio centenario se enfrentan los grandes del Uruguay.'},\n",
       " {'score': 0.028525566682219505,\n",
       "  'token': 620,\n",
       "  'token_str': ' 20',\n",
       "  'sequence': 'El próximo 20 de Mayo en el Estadio 20 se enfrentan los grandes del Uruguay.'},\n",
       " {'score': 0.02689414471387863,\n",
       "  'token': 3147,\n",
       "  'token_str': ' central',\n",
       "  'sequence': 'El próximo 20 de Mayo en el Estadio central se enfrentan los grandes del Uruguay.'},\n",
       " {'score': 0.020793840289115906,\n",
       "  'token': 23709,\n",
       "  'token_str': ' olímpico',\n",
       "  'sequence': 'El próximo 20 de Mayo en el Estadio olímpico se enfrentan los grandes del Uruguay.'},\n",
       " {'score': 0.020662877708673477,\n",
       "  'token': 728,\n",
       "  'token_str': ' también',\n",
       "  'sequence': 'El próximo 20 de Mayo en el Estadio también se enfrentan los grandes del Uruguay.'}]"
      ]
     },
     "execution_count": 35,
     "metadata": {},
     "output_type": "execute_result"
    }
   ],
   "source": [
    "\n",
    "# El próximo 20 de Mayo en el Estadio Centenario se enfrentan los grandes del Uruguay.\n",
    "# \n",
    "\n",
    "fill_mask(f\"El próximo 20 de Mayo en el Estadio {MASK} se enfrentan los grandes del Uruguay.\")\n",
    "\n"
   ]
  },
  {
   "cell_type": "code",
   "execution_count": 38,
   "metadata": {},
   "outputs": [
    {
     "data": {
      "text/plain": [
       "[{'score': 0.6007252335548401,\n",
       "  'token': 2090,\n",
       "  'token_str': ' digital',\n",
       "  'sequence': 'El país digital.'},\n",
       " {'score': 0.10243312269449234,\n",
       "  'token': 5336,\n",
       "  'token_str': ' cultural',\n",
       "  'sequence': 'El país cultural.'},\n",
       " {'score': 0.09098920226097107,\n",
       "  'token': 8826,\n",
       "  'token_str': ' productivo',\n",
       "  'sequence': 'El país productivo.'},\n",
       " {'score': 0.014211255125701427,\n",
       "  'token': 9959,\n",
       "  'token_str': ' entero',\n",
       "  'sequence': 'El país entero.'},\n",
       " {'score': 0.009007277898490429,\n",
       "  'token': 21278,\n",
       "  'token_str': ' vasco',\n",
       "  'sequence': 'El país vasco.'}]"
      ]
     },
     "execution_count": 38,
     "metadata": {},
     "output_type": "execute_result"
    }
   ],
   "source": [
    "# El País Digital\n",
    "# \n",
    "\n",
    "fill_mask(f\"El país {MASK}.\")\n"
   ]
  },
  {
   "cell_type": "code",
   "execution_count": 43,
   "metadata": {},
   "outputs": [
    {
     "data": {
      "text/plain": [
       "[{'score': 0.9373108744621277,\n",
       "  'token': 3157,\n",
       "  'token_str': ' grande',\n",
       "  'sequence': 'Un joven se ahogó en santa teresa en playa grande; era montevideano y tenía 22 años, sobre las 12.30 horas del miércoles una joven llegó corriendo hasta el marinero que cumple funciones en playa grande de santa teresa pidiendo ayuda para sus compañeros de estudio que eran arrastrados por las aguas.'},\n",
       " {'score': 0.007660204544663429,\n",
       "  'token': 8097,\n",
       "  'token_str': ' chico',\n",
       "  'sequence': 'Un joven se ahogó en santa teresa en playa chico; era montevideano y tenía 22 años, sobre las 12.30 horas del miércoles una joven llegó corriendo hasta el marinero que cumple funciones en playa grande de santa teresa pidiendo ayuda para sus compañeros de estudio que eran arrastrados por las aguas.'},\n",
       " {'score': 0.00531561067327857,\n",
       "  'token': 7637,\n",
       "  'token_str': ' verde',\n",
       "  'sequence': 'Un joven se ahogó en santa teresa en playa verde; era montevideano y tenía 22 años, sobre las 12.30 horas del miércoles una joven llegó corriendo hasta el marinero que cumple funciones en playa grande de santa teresa pidiendo ayuda para sus compañeros de estudio que eran arrastrados por las aguas.'},\n",
       " {'score': 0.005217303521931171,\n",
       "  'token': 17607,\n",
       "  'token_str': ' hermosa',\n",
       "  'sequence': 'Un joven se ahogó en santa teresa en playa hermosa; era montevideano y tenía 22 años, sobre las 12.30 horas del miércoles una joven llegó corriendo hasta el marinero que cumple funciones en playa grande de santa teresa pidiendo ayuda para sus compañeros de estudio que eran arrastrados por las aguas.'},\n",
       " {'score': 0.004861874505877495,\n",
       "  'token': 7372,\n",
       "  'token_str': ' chica',\n",
       "  'sequence': 'Un joven se ahogó en santa teresa en playa chica; era montevideano y tenía 22 años, sobre las 12.30 horas del miércoles una joven llegó corriendo hasta el marinero que cumple funciones en playa grande de santa teresa pidiendo ayuda para sus compañeros de estudio que eran arrastrados por las aguas.'}]"
      ]
     },
     "execution_count": 43,
     "metadata": {},
     "output_type": "execute_result"
    }
   ],
   "source": [
    "# Un joven se ahogó en Santa Teresa En Playa Grande; era montevideano y tenía 22 años Sobre las 12.30 horas del miércoles una joven llegó corriendo hasta el marinero que cumple funciones en Playa Grande de Santa Teresa pidiendo ayuda para sus compañeros de estudio que eran arrastrados por las aguas.\n",
    "# notar que minimice las palabras\n",
    "fill_mask(f\"Un joven se ahogó en santa teresa en playa {MASK}; era montevideano y tenía 22 años, sobre las 12.30 horas del miércoles una joven llegó corriendo hasta el marinero que cumple funciones en playa grande de santa teresa pidiendo ayuda para sus compañeros de estudio que eran arrastrados por las aguas.\")\n"
   ]
  },
  {
   "cell_type": "code",
   "execution_count": 46,
   "metadata": {},
   "outputs": [
    {
     "data": {
      "text/plain": [
       "[{'score': 0.17522819340229034,\n",
       "  'token': 7199,\n",
       "  'token_str': ' rey',\n",
       "  'sequence': 'El rey Juan rey.'},\n",
       " {'score': 0.015559529885649681,\n",
       "  'token': 9085,\n",
       "  'token_str': ' reina',\n",
       "  'sequence': 'El rey Juan reina.'},\n",
       " {'score': 0.013618598692119122,\n",
       "  'token': 21295,\n",
       "  'token_str': ' trono',\n",
       "  'sequence': 'El rey Juan trono.'},\n",
       " {'score': 0.013378352858126163,\n",
       "  'token': 332,\n",
       "  'token_str': 'ta',\n",
       "  'sequence': 'El rey Juanta.'},\n",
       " {'score': 0.012087678536772728,\n",
       "  'token': 816,\n",
       "  'token_str': ' todos',\n",
       "  'sequence': 'El rey Juan todos.'}]"
      ]
     },
     "execution_count": 46,
     "metadata": {},
     "output_type": "execute_result"
    }
   ],
   "source": [
    "# El rey Juan Carlos\n",
    "fill_mask(f\"El rey juan {MASK}.\")\n"
   ]
  },
  {
   "cell_type": "code",
   "execution_count": 48,
   "metadata": {},
   "outputs": [
    {
     "data": {
      "text/plain": [
       "[{'score': 0.6880353689193726,\n",
       "  'token': 348,\n",
       "  'token_str': ' no',\n",
       "  'sequence': 'El enviado del rey juan no demora su informe a la espera de que baje la tensión argentina y uruguay no le están facilitando las cosas al rey juan carlos.'},\n",
       " {'score': 0.05766483396291733,\n",
       "  'token': 586,\n",
       "  'token_str': ' car',\n",
       "  'sequence': 'El enviado del rey juan car demora su informe a la espera de que baje la tensión argentina y uruguay no le están facilitando las cosas al rey juan carlos.'},\n",
       " {'score': 0.05248264968395233,\n",
       "  'token': 9859,\n",
       "  'token_str': ' enrique',\n",
       "  'sequence': 'El enviado del rey juan enrique demora su informe a la espera de que baje la tensión argentina y uruguay no le están facilitando las cosas al rey juan carlos.'},\n",
       " {'score': 0.037260305136442184,\n",
       "  'token': 404,\n",
       "  'token_str': ' i',\n",
       "  'sequence': 'El enviado del rey juan i demora su informe a la espera de que baje la tensión argentina y uruguay no le están facilitando las cosas al rey juan carlos.'},\n",
       " {'score': 0.01939685456454754,\n",
       "  'token': 27944,\n",
       "  'token_str': ' santos',\n",
       "  'sequence': 'El enviado del rey juan santos demora su informe a la espera de que baje la tensión argentina y uruguay no le están facilitando las cosas al rey juan carlos.'}]"
      ]
     },
     "execution_count": 48,
     "metadata": {},
     "output_type": "execute_result"
    }
   ],
   "source": [
    "# El enviado del rey Juan Carlos demora su informe a la espera de que baje la tensión Argentina y Uruguay no le están facilitando las cosas al rey Juan Carlos.\n",
    "# \n",
    "\n",
    "fill_mask(f\"El enviado del rey juan {MASK} demora su informe a la espera de que baje la tensión argentina y uruguay no le están facilitando las cosas al rey juan carlos.\")\n",
    "\n",
    "# tokenizer_notibert.tokenize(\"carlos\") == ['car', 'los']\n"
   ]
  },
  {
   "cell_type": "code",
   "execution_count": 49,
   "metadata": {},
   "outputs": [
    {
     "data": {
      "text/plain": [
       "[{'score': 0.3526601195335388,\n",
       "  'token': 5167,\n",
       "  'token_str': ' civil',\n",
       "  'sequence': 'Así salvó a Sudáfrica de la guerra civil.'},\n",
       " {'score': 0.32175084948539734,\n",
       "  'token': 14193,\n",
       "  'token_str': ' fría',\n",
       "  'sequence': 'Así salvó a Sudáfrica de la guerra fría.'},\n",
       " {'score': 0.06144570931792259,\n",
       "  'token': 21964,\n",
       "  'token_str': ' santa',\n",
       "  'sequence': 'Así salvó a Sudáfrica de la guerra santa.'},\n",
       " {'score': 0.0381748229265213,\n",
       "  'token': 3157,\n",
       "  'token_str': ' grande',\n",
       "  'sequence': 'Así salvó a Sudáfrica de la guerra grande.'},\n",
       " {'score': 0.033372268080711365,\n",
       "  'token': 16355,\n",
       "  'token_str': ' sucia',\n",
       "  'sequence': 'Así salvó a Sudáfrica de la guerra sucia.'}]"
      ]
     },
     "execution_count": 49,
     "metadata": {},
     "output_type": "execute_result"
    }
   ],
   "source": [
    "\n",
    "# Así salvó a Sudáfrica de la guerra civil.\n",
    "# \n",
    "\n",
    "fill_mask(f\"Así salvó a Sudáfrica de la guerra {MASK}.\")\n",
    " "
   ]
  },
  {
   "cell_type": "code",
   "execution_count": null,
   "metadata": {},
   "outputs": [],
   "source": []
  }
 ],
 "metadata": {
  "kernelspec": {
   "display_name": "Python 3.10.6 64-bit",
   "language": "python",
   "name": "python3"
  },
  "language_info": {
   "codemirror_mode": {
    "name": "ipython",
    "version": 3
   },
   "file_extension": ".py",
   "mimetype": "text/x-python",
   "name": "python",
   "nbconvert_exporter": "python",
   "pygments_lexer": "ipython3",
   "version": "3.10.6 (main, Nov 14 2022, 16:10:14) [GCC 11.3.0]"
  },
  "orig_nbformat": 4,
  "vscode": {
   "interpreter": {
    "hash": "916dbcbb3f70747c44a77c7bcd40155683ae19c65e1c03b4aa3499c5328201f1"
   }
  }
 },
 "nbformat": 4,
 "nbformat_minor": 2
}

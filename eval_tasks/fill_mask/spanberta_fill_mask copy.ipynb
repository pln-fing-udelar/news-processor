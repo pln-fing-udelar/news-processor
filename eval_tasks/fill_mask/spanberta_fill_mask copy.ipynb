{
 "cells": [
  {
   "cell_type": "code",
   "execution_count": 1,
   "metadata": {},
   "outputs": [],
   "source": [
    "MODEL_PATH = '/home/mago/Documents/Fing/Pasantia/modelos_entrenados/20221127_out_backup_600k_steps'"
   ]
  },
  {
   "cell_type": "code",
   "execution_count": 2,
   "metadata": {},
   "outputs": [],
   "source": [
    "from transformers import pipeline\n",
    "\n",
    "fill_mask = pipeline(\n",
    "    \"fill-mask\",\n",
    "    model=MODEL_PATH,\n",
    "    tokenizer=MODEL_PATH\n",
    "    \n",
    ")"
   ]
  },
  {
   "cell_type": "code",
   "execution_count": 3,
   "metadata": {},
   "outputs": [],
   "source": [
    "MASK = '<mask>'"
   ]
  },
  {
   "cell_type": "code",
   "execution_count": 4,
   "metadata": {},
   "outputs": [
    {
     "data": {
      "text/plain": [
       "[{'score': 0.0002126716572092846,\n",
       "  'token': 9390,\n",
       "  'token_str': 'risto',\n",
       "  'sequence': 'Q.E.P.D. Falleció en la Paz delristo.'},\n",
       " {'score': 0.00020859757205471396,\n",
       "  'token': 21601,\n",
       "  'token_str': 'tróp',\n",
       "  'sequence': 'Q.E.P.D. Falleció en la Paz deltróp.'},\n",
       " {'score': 0.00020320086332503706,\n",
       "  'token': 16419,\n",
       "  'token_str': 'bitro',\n",
       "  'sequence': 'Q.E.P.D. Falleció en la Paz delbitro.'},\n",
       " {'score': 0.0001920201029861346,\n",
       "  'token': 33549,\n",
       "  'token_str': ' resfri',\n",
       "  'sequence': 'Q.E.P.D. Falleció en la Paz del resfri.'},\n",
       " {'score': 0.00018651400750968605,\n",
       "  'token': 28972,\n",
       "  'token_str': 'gamonedas',\n",
       "  'sequence': 'Q.E.P.D. Falleció en la Paz delgamonedas.'}]"
      ]
     },
     "execution_count": 4,
     "metadata": {},
     "output_type": "execute_result"
    }
   ],
   "source": [
    "fill_mask(\"Q.E.P.D. Falleció en la Paz del <mask>.\")"
   ]
  },
  {
   "cell_type": "code",
   "execution_count": 5,
   "metadata": {},
   "outputs": [
    {
     "data": {
      "text/plain": [
       "[{'score': 0.00029992623603902757,\n",
       "  'token': 20469,\n",
       "  'token_str': ' veinti',\n",
       "  'sequence': 'El quiere veinti rapidamente.'},\n",
       " {'score': 0.0002042382548097521,\n",
       "  'token': 14759,\n",
       "  'token_str': 'uters',\n",
       "  'sequence': 'El quiereuters rapidamente.'},\n",
       " {'score': 0.00019331392832100391,\n",
       "  'token': 7477,\n",
       "  'token_str': 'domin',\n",
       "  'sequence': 'El quieredomin rapidamente.'},\n",
       " {'score': 0.00018624626682139933,\n",
       "  'token': 45324,\n",
       "  'token_str': ' DH',\n",
       "  'sequence': 'El quiere DH rapidamente.'},\n",
       " {'score': 0.00016303436132147908,\n",
       "  'token': 20099,\n",
       "  'token_str': 'yy',\n",
       "  'sequence': 'El quiereyy rapidamente.'}]"
      ]
     },
     "execution_count": 5,
     "metadata": {},
     "output_type": "execute_result"
    }
   ],
   "source": [
    "fill_mask(\"El quiere <mask> rapidamente.\")"
   ]
  },
  {
   "cell_type": "code",
   "execution_count": 6,
   "metadata": {},
   "outputs": [
    {
     "data": {
      "text/plain": [
       "[{'score': 0.00025537729379720986,\n",
       "  'token': 471,\n",
       "  'token_str': 'orm',\n",
       "  'sequence': 'Montevideo es la capital deorm.'},\n",
       " {'score': 0.0002354531898163259,\n",
       "  'token': 49314,\n",
       "  'token_str': 'ejemplo',\n",
       "  'sequence': 'Montevideo es la capital deejemplo.'},\n",
       " {'score': 0.00021847228344995528,\n",
       "  'token': 13288,\n",
       "  'token_str': ' pav',\n",
       "  'sequence': 'Montevideo es la capital de pav.'},\n",
       " {'score': 0.00019021375919692218,\n",
       "  'token': 506,\n",
       "  'token_str': ' ar',\n",
       "  'sequence': 'Montevideo es la capital de ar.'},\n",
       " {'score': 0.00018700068176258355,\n",
       "  'token': 5019,\n",
       "  'token_str': 'vel',\n",
       "  'sequence': 'Montevideo es la capital devel.'}]"
      ]
     },
     "execution_count": 6,
     "metadata": {},
     "output_type": "execute_result"
    }
   ],
   "source": [
    "fill_mask(\"Montevideo es la capital de <mask>.\")"
   ]
  },
  {
   "cell_type": "code",
   "execution_count": 7,
   "metadata": {},
   "outputs": [
    {
     "data": {
      "text/plain": [
       "[{'score': 0.0003406583273317665,\n",
       "  'token': 1939,\n",
       "  'token_str': ' público',\n",
       "  'sequence': 'El presidente de público.'},\n",
       " {'score': 0.00024140019377227873,\n",
       "  'token': 1100,\n",
       "  'token_str': ' Car',\n",
       "  'sequence': 'El presidente de Car.'},\n",
       " {'score': 0.00021765772544313222,\n",
       "  'token': 8462,\n",
       "  'token_str': 'cando',\n",
       "  'sequence': 'El presidente decando.'},\n",
       " {'score': 0.0001934366300702095,\n",
       "  'token': 285,\n",
       "  'token_str': ' en',\n",
       "  'sequence': 'El presidente de en.'},\n",
       " {'score': 0.00018946235650219023,\n",
       "  'token': 15400,\n",
       "  'token_str': ' publico',\n",
       "  'sequence': 'El presidente de publico.'}]"
      ]
     },
     "execution_count": 7,
     "metadata": {},
     "output_type": "execute_result"
    }
   ],
   "source": [
    "fill_mask(\"El presidente de <mask>.\")\n"
   ]
  },
  {
   "cell_type": "code",
   "execution_count": 8,
   "metadata": {},
   "outputs": [
    {
     "data": {
      "text/plain": [
       "[{'score': 0.0010889414697885513,\n",
       "  'token': 285,\n",
       "  'token_str': ' en',\n",
       "  'sequence': 'El intendente de en.'},\n",
       " {'score': 0.000847356510348618,\n",
       "  'token': 967,\n",
       "  'token_str': ' tanto',\n",
       "  'sequence': 'El intendente de tanto.'},\n",
       " {'score': 0.0007382911280728877,\n",
       "  'token': 770,\n",
       "  'token_str': ' parte',\n",
       "  'sequence': 'El intendente de parte.'},\n",
       " {'score': 0.0007050672429613769,\n",
       "  'token': 1006,\n",
       "  'token_str': ' les',\n",
       "  'sequence': 'El intendente de les.'},\n",
       " {'score': 0.0006241041701287031,\n",
       "  'token': 338,\n",
       "  'token_str': ' al',\n",
       "  'sequence': 'El intendente de al.'}]"
      ]
     },
     "execution_count": 8,
     "metadata": {},
     "output_type": "execute_result"
    }
   ],
   "source": [
    "fill_mask(\"El intendente de <mask>.\")\n"
   ]
  },
  {
   "cell_type": "code",
   "execution_count": 9,
   "metadata": {},
   "outputs": [
    {
     "data": {
      "text/plain": [
       "[{'score': 0.00023960042744874954,\n",
       "  'token': 512,\n",
       "  'token_str': 'mente',\n",
       "  'sequence': 'José Pepemente.'},\n",
       " {'score': 0.000231706362683326,\n",
       "  'token': 3076,\n",
       "  'token_str': ' lista',\n",
       "  'sequence': 'José Pepe lista.'},\n",
       " {'score': 0.0002313321310793981,\n",
       "  'token': 338,\n",
       "  'token_str': ' al',\n",
       "  'sequence': 'José Pepe al.'},\n",
       " {'score': 0.00022188523143995553,\n",
       "  'token': 505,\n",
       "  'token_str': ' este',\n",
       "  'sequence': 'José Pepe este.'},\n",
       " {'score': 0.00021353542979341,\n",
       "  'token': 6335,\n",
       "  'token_str': ' pleno',\n",
       "  'sequence': 'José Pepe pleno.'}]"
      ]
     },
     "execution_count": 9,
     "metadata": {},
     "output_type": "execute_result"
    }
   ],
   "source": [
    "fill_mask(\"José Pepe <mask>.\")\n"
   ]
  },
  {
   "cell_type": "code",
   "execution_count": 10,
   "metadata": {},
   "outputs": [
    {
     "data": {
      "text/plain": [
       "[{'score': 0.000298863451462239,\n",
       "  'token': 47569,\n",
       "  'token_str': ' lux',\n",
       "  'sequence': 'El presidente José Pepe lux.'},\n",
       " {'score': 0.00028112062136642635,\n",
       "  'token': 36775,\n",
       "  'token_str': ' gn',\n",
       "  'sequence': 'El presidente José Pepe gn.'},\n",
       " {'score': 0.0002734975714702159,\n",
       "  'token': 18216,\n",
       "  'token_str': 'TML',\n",
       "  'sequence': 'El presidente José PepeTML.'},\n",
       " {'score': 0.000260187778621912,\n",
       "  'token': 46052,\n",
       "  'token_str': 'itza',\n",
       "  'sequence': 'El presidente José Pepeitza.'},\n",
       " {'score': 0.00024604241480119526,\n",
       "  'token': 45697,\n",
       "  'token_str': ' toall',\n",
       "  'sequence': 'El presidente José Pepe toall.'}]"
      ]
     },
     "execution_count": 10,
     "metadata": {},
     "output_type": "execute_result"
    }
   ],
   "source": [
    "fill_mask(\"El presidente José Pepe <mask>.\")\n"
   ]
  },
  {
   "cell_type": "code",
   "execution_count": 11,
   "metadata": {},
   "outputs": [
    {
     "data": {
      "text/plain": [
       "[{'score': 0.00032920061494223773,\n",
       "  'token': 4494,\n",
       "  'token_str': 'ity',\n",
       "  'sequence': 'La ministra del Interior,ity Tourné.'},\n",
       " {'score': 0.0002957045508082956,\n",
       "  'token': 11251,\n",
       "  'token_str': ' gerente',\n",
       "  'sequence': 'La ministra del Interior, gerente Tourné.'},\n",
       " {'score': 0.0002393945469520986,\n",
       "  'token': 5462,\n",
       "  'token_str': 'www',\n",
       "  'sequence': 'La ministra del Interior,www Tourné.'},\n",
       " {'score': 0.00020792508439626545,\n",
       "  'token': 5734,\n",
       "  'token_str': ' promedio',\n",
       "  'sequence': 'La ministra del Interior, promedio Tourné.'},\n",
       " {'score': 0.00019072576833423227,\n",
       "  'token': 38318,\n",
       "  'token_str': ' «¡',\n",
       "  'sequence': 'La ministra del Interior, «¡ Tourné.'}]"
      ]
     },
     "execution_count": 11,
     "metadata": {},
     "output_type": "execute_result"
    }
   ],
   "source": [
    "\n",
    "\n",
    "fill_mask(f\"La ministra del Interior, {MASK} Tourné.\")\n",
    "\n"
   ]
  },
  {
   "cell_type": "code",
   "execution_count": 12,
   "metadata": {},
   "outputs": [
    {
     "data": {
      "text/plain": [
       "[{'score': 0.00027907107141800225,\n",
       "  'token': 49920,\n",
       "  'token_str': 'TED',\n",
       "  'sequence': 'Peñarol vsTED'},\n",
       " {'score': 0.000224137183977291,\n",
       "  'token': 46585,\n",
       "  'token_str': 'mace',\n",
       "  'sequence': 'Peñarol vsmace'},\n",
       " {'score': 0.00019464435172267258,\n",
       "  'token': 33046,\n",
       "  'token_str': 'iya',\n",
       "  'sequence': 'Peñarol vsiya'},\n",
       " {'score': 0.0001827668893383816,\n",
       "  'token': 12248,\n",
       "  'token_str': 'cela',\n",
       "  'sequence': 'Peñarol vscela'},\n",
       " {'score': 0.00017912829935085028,\n",
       "  'token': 25905,\n",
       "  'token_str': 'inflama',\n",
       "  'sequence': 'Peñarol vsinflama'}]"
      ]
     },
     "execution_count": 12,
     "metadata": {},
     "output_type": "execute_result"
    }
   ],
   "source": [
    "# Peñarol vs (otro equipo)\n",
    "\n",
    "fill_mask(f\"Peñarol vs {MASK}\")\n",
    "\n"
   ]
  },
  {
   "cell_type": "code",
   "execution_count": 13,
   "metadata": {},
   "outputs": [
    {
     "data": {
      "text/plain": [
       "[{'score': 0.00029465719126164913,\n",
       "  'token': 967,\n",
       "  'token_str': ' tanto',\n",
       "  'sequence': 'El manya se enfrenta a tanto'},\n",
       " {'score': 0.000279809843050316,\n",
       "  'token': 266,\n",
       "  'token_str': ' p',\n",
       "  'sequence': 'El manya se enfrenta a p'},\n",
       " {'score': 0.00027925852918997407,\n",
       "  'token': 1939,\n",
       "  'token_str': ' público',\n",
       "  'sequence': 'El manya se enfrenta a público'},\n",
       " {'score': 0.0002746515383478254,\n",
       "  'token': 13031,\n",
       "  'token_str': 'leos',\n",
       "  'sequence': 'El manya se enfrenta aleos'},\n",
       " {'score': 0.00027034408412873745,\n",
       "  'token': 2056,\n",
       "  'token_str': ' puntos',\n",
       "  'sequence': 'El manya se enfrenta a puntos'}]"
      ]
     },
     "execution_count": 13,
     "metadata": {},
     "output_type": "execute_result"
    }
   ],
   "source": [
    "\n",
    "fill_mask(f\"El manya se enfrenta a {MASK}\")\n"
   ]
  },
  {
   "cell_type": "code",
   "execution_count": 14,
   "metadata": {},
   "outputs": [
    {
     "data": {
      "text/plain": [
       "[{'score': 0.0003124368085991591,\n",
       "  'token': 2,\n",
       "  'token_str': '</s>',\n",
       "  'sequence': 'El abogado la decisión del tribunal civil.'},\n",
       " {'score': 0.0002612841781228781,\n",
       "  'token': 5673,\n",
       "  'token_str': ' tera',\n",
       "  'sequence': 'El abogado tera la decisión del tribunal civil.'},\n",
       " {'score': 0.00022955540043767542,\n",
       "  'token': 0,\n",
       "  'token_str': '<s>',\n",
       "  'sequence': 'El abogado la decisión del tribunal civil.'},\n",
       " {'score': 0.00019752344815060496,\n",
       "  'token': 42701,\n",
       "  'token_str': ' Zh',\n",
       "  'sequence': 'El abogado Zh la decisión del tribunal civil.'},\n",
       " {'score': 0.00018188223475590348,\n",
       "  'token': 20725,\n",
       "  'token_str': 'escol',\n",
       "  'sequence': 'El abogadoescol la decisión del tribunal civil.'}]"
      ]
     },
     "execution_count": 14,
     "metadata": {},
     "output_type": "execute_result"
    }
   ],
   "source": [
    "# <apelará> la decisión del tribunal civil\n",
    "fill_mask(f\"El abogado {MASK} la decisión del tribunal civil.\")\n"
   ]
  },
  {
   "cell_type": "code",
   "execution_count": null,
   "metadata": {},
   "outputs": [],
   "source": []
  }
 ],
 "metadata": {
  "kernelspec": {
   "display_name": "Python 3.10.6 64-bit",
   "language": "python",
   "name": "python3"
  },
  "language_info": {
   "codemirror_mode": {
    "name": "ipython",
    "version": 3
   },
   "file_extension": ".py",
   "mimetype": "text/x-python",
   "name": "python",
   "nbconvert_exporter": "python",
   "pygments_lexer": "ipython3",
   "version": "3.10.6"
  },
  "orig_nbformat": 4,
  "vscode": {
   "interpreter": {
    "hash": "916dbcbb3f70747c44a77c7bcd40155683ae19c65e1c03b4aa3499c5328201f1"
   }
  }
 },
 "nbformat": 4,
 "nbformat_minor": 2
}
